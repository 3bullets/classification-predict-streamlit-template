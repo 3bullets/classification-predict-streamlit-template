{
 "cells": [
  {
   "cell_type": "markdown",
   "id": "b25e9d45",
   "metadata": {},
   "source": [
    "# Overview"
   ]
  },
  {
   "cell_type": "markdown",
   "id": "f221c188",
   "metadata": {},
   "source": [
    "This notebook illustrates the process taken to find a model that can predict user sentiment with relative accuracy. Machine learning models are used to predict an individual's belief in climate change based on historical tweet data and the F1 score is the measure used to evaluate the accuracy of these models."
   ]
  },
  {
   "cell_type": "markdown",
   "id": "52a145ba",
   "metadata": {},
   "source": [
    "# Outline\n",
    "\n",
    "- [Introduction](#Introduction)\n",
    "- [Import necessary libraries](#Import)\n",
    "- [Loading Datasets](#Load)\n",
    "- [Data Preprocessing](#section-four)\n",
    "- [Exploratory Data Analysis](#EDA)\n",
    "   * [Target variable analysis](#Target)\n",
    "   * [Hashtags analysis](#Hashtags)\n",
    "   * [Sentiment Analysis](#Sentiment)\n",
    "   * [Word Frequency per class](#Frequency)\n",
    "   * [Mentions for sentiment class](#Mentions)\n",
    "  \n",
    "- [Classification Models](#models)  \n",
    "- [Feature Egineering](#feature_engineering)\n",
    "  * [TF-IDF](#tfidf)\n",
    "  * [CountVectorizer](#count) \n",
    "- [Pipelines](#Pipelines)\n",
    "  * [Building Classification Pipelines](#classifiers)\n",
    "  * [Building Models](#build)\n",
    "  * [Training Models](#training)\n",
    "- [Modelling and Evaluation](#model_eval)\n",
    "- [Model Comparison](#compare)\n",
    "- [Ensemble Method](#ensemble)\n",
    "- [Hyperparameter tunning](#tunning)\n",
    "- [Final model selection](#final)\n",
    "- [Predictions](#predictions)\n",
    "- [Submission](#submission)  \n",
    "- [Conclusion](#conclusion)\n",
    "- [Appendix](#appendix)\n",
    "- [References](#references)\n",
    "    "
   ]
  },
  {
   "cell_type": "markdown",
   "id": "db8e3fcb",
   "metadata": {},
   "source": [
    "# Introduction"
   ]
  },
  {
   "cell_type": "markdown",
   "id": "0aa18644",
   "metadata": {},
   "source": [
    "### <center> Challenge: Climate Change Belief Analysis"
   ]
  },
  {
   "cell_type": "markdown",
   "id": "68fd265e",
   "metadata": {},
   "source": [
    "#  2201FT_GM2 Classification"
   ]
  },
  {
   "cell_type": "markdown",
   "id": "f242adf8",
   "metadata": {},
   "source": [
    "**Team GM2** was challenged by EDSA(Explore Data Science Academy), with the task of creating a Machine Learning model that is able to classify whether or not a person believes in climate change, based solely on their novel tweet data. Supervised machine learning models, as we'll encounter inside this notebook, refer to models that improve automatically through experience. They are called \"supervised\", because they depend on some input to be able to produce a prediction.  "
   ]
  },
  {
   "cell_type": "markdown",
   "id": "884b5064",
   "metadata": {},
   "source": [
    "#### Background  \n",
    "\n",
    "In a [research article](https://www.barrons.com/articles/two-thirds-of-north-americans-prefer-eco-friendly-brands-study-finds-51578661728) conducted, 19,000 customers from 28 countries where given a poll to find out how individual shopping decisions are changing. Nearly 70% of consumers in the U.S. and Canada find that it is important for a company or brand to be sustainable or eco-friendly. More than a third (40%) of the respondents globally said that they are purpose-driven consumers, who select brands based on how well they align with their personal beliefs.\n",
    "\n",
    "Many companies are built around lessening their environmental impact or carbon footprint. They offer products and services that are environmentally friendly and sustainable, in line with their values and ideals. They would like to determine how people perceive climate change and whether or not they believe it is a real threat. This would add to their market research efforts in gauging how their product/service may be received.  \n",
    "\n",
    "\n",
    "#### Problem statement  \n",
    "\n",
    "Build a machine learning model that is able to classify whether or not an individual believes in man-made climate change based on historical tweet data to increase insights about customers and inform future marketing strategies.\n",
    "\n",
    "You can find the project overview [here](https://www.kaggle.com/competitions/edsa-climate-change-belief-analysis-2022/overview)."
   ]
  },
  {
   "cell_type": "markdown",
   "id": "5025b8bd",
   "metadata": {},
   "source": [
    "## 1. Importing packages \n",
    "<a id='imp_pac'></a>\n",
    "[Back to table of contents](#toc)"
   ]
  },
  {
   "cell_type": "markdown",
   "id": "2e0555c5",
   "metadata": {},
   "source": [
    "This notebook requires some packages that may not be installed on your local machine. Below we provide a list of packages to be installed (if they are not yet installed) as well as the code to install them.  \n",
    "\n",
    "Run the following commands within Git bash (Windows), terminal (Mac/Linux):  \n",
    "\n",
    "- Comet_ml - `pip install comet_ml==3.1.9`    \n",
    "- Wordcloud - `pip install wordcloud==1.7.0`  \n",
    "- Emoji - `pip install emoji==0.5.4`  \n",
    "- Pyspellchecker - `pip install pyspellchecker==0.5.4`  \n",
    "- Ftfy - `pip install ftfy==5.7`  "
   ]
  },
  {
   "cell_type": "markdown",
   "id": "521b5dcd",
   "metadata": {},
   "source": [
    "<a id=\"comet\"></a>\n",
    "# Starting a Comet experiment\n",
    "<img src=\"https://www.comet.ml/images/logo_comet_light.png\" width=\"350\" alt=\"Drawing\" style=\"width: 350px;\"/>\n",
    "We will be using Comet as a form of version control throughout the development of our model"
   ]
  },
  {
   "cell_type": "markdown",
   "id": "f8971714",
   "metadata": {},
   "source": [
    "<a id='Import'></a>\n",
    "# Import necessary libraries"
   ]
  },
  {
   "cell_type": "code",
   "execution_count": 1,
   "id": "f1c31925",
   "metadata": {},
   "outputs": [
    {
     "name": "stdout",
     "output_type": "stream",
     "text": [
      "Requirement already satisfied: scikit-plot in c:\\users\\tebel\\anaconda3\\lib\\site-packages (0.3.7)\n",
      "Requirement already satisfied: scipy>=0.9 in c:\\users\\tebel\\anaconda3\\lib\\site-packages (from scikit-plot) (1.6.2)\n",
      "Requirement already satisfied: matplotlib>=1.4.0 in c:\\users\\tebel\\anaconda3\\lib\\site-packages (from scikit-plot) (3.3.4)\n",
      "Requirement already satisfied: joblib>=0.10 in c:\\users\\tebel\\anaconda3\\lib\\site-packages (from scikit-plot) (1.0.1)\n",
      "Requirement already satisfied: scikit-learn>=0.18 in c:\\users\\tebel\\anaconda3\\lib\\site-packages (from scikit-plot) (1.1.1)\n",
      "Requirement already satisfied: python-dateutil>=2.1 in c:\\users\\tebel\\anaconda3\\lib\\site-packages (from matplotlib>=1.4.0->scikit-plot) (2.8.1)\n",
      "Requirement already satisfied: cycler>=0.10 in c:\\users\\tebel\\anaconda3\\lib\\site-packages (from matplotlib>=1.4.0->scikit-plot) (0.10.0)\n",
      "Requirement already satisfied: kiwisolver>=1.0.1 in c:\\users\\tebel\\anaconda3\\lib\\site-packages (from matplotlib>=1.4.0->scikit-plot) (1.3.1)\n",
      "Requirement already satisfied: numpy>=1.15 in c:\\users\\tebel\\anaconda3\\lib\\site-packages (from matplotlib>=1.4.0->scikit-plot) (1.22.4)\n",
      "Requirement already satisfied: pyparsing!=2.0.4,!=2.1.2,!=2.1.6,>=2.0.3 in c:\\users\\tebel\\anaconda3\\lib\\site-packages (from matplotlib>=1.4.0->scikit-plot) (2.4.7)\n",
      "Requirement already satisfied: pillow>=6.2.0 in c:\\users\\tebel\\anaconda3\\lib\\site-packages (from matplotlib>=1.4.0->scikit-plot) (8.2.0)\n",
      "Requirement already satisfied: six in c:\\users\\tebel\\anaconda3\\lib\\site-packages (from cycler>=0.10->matplotlib>=1.4.0->scikit-plot) (1.15.0)\n",
      "Requirement already satisfied: threadpoolctl>=2.0.0 in c:\\users\\tebel\\anaconda3\\lib\\site-packages (from scikit-learn>=0.18->scikit-plot) (2.1.0)\n"
     ]
    }
   ],
   "source": [
    "# downloads\n",
    "#!pip install parfit\n",
    "!pip install scikit-plot\n",
    "#!pip install contractions\n",
    "\n",
    "\n",
    "# imports for Natural Language  Processing\n",
    "import pandas as pd\n",
    "import numpy as np\n",
    "import nltk\n",
    "import string\n",
    "import re\n",
    "from sklearn.pipeline import Pipeline\n",
    "import pickle\n",
    "\n",
    "\n",
    "# feature extractioin\n",
    "from sklearn.feature_extraction.text import CountVectorizer\n",
    "from sklearn.feature_extraction.text import TfidfVectorizer\n",
    "\n",
    "# Preprocessing\n",
    "#import contractions\n",
    "from collections import Counter\n",
    "from nltk.corpus import wordnet\n",
    "from nltk.corpus import stopwords\n",
    "from nltk.stem import WordNetLemmatizer\n",
    "from nltk.tokenize import word_tokenize\n",
    "from nltk.tokenize import TweetTokenizer\n",
    "from sklearn.preprocessing import label_binarize\n",
    "from sklearn.model_selection import train_test_split\n",
    "\n",
    "# classification models\n",
    "from sklearn.svm import SVC\n",
    "from sklearn.svm import LinearSVC\n",
    "from sklearn.ensemble import VotingClassifier\n",
    "from sklearn.linear_model import SGDClassifier\n",
    "from sklearn.tree import DecisionTreeClassifier\n",
    "from sklearn.linear_model import RidgeClassifier\n",
    "from sklearn.multiclass import OneVsRestClassifier\n",
    "from sklearn.linear_model import LogisticRegression\n",
    "from sklearn.ensemble import RandomForestClassifier\n",
    "\n",
    "\n",
    "# Hyperparameter tunning methods\n",
    "#import parfit.parfit as pf\n",
    "from sklearn.model_selection import GridSearchCV\n",
    "from sklearn.model_selection import ParameterGrid\n",
    "\n",
    "# metrics\n",
    "\n",
    "from sklearn.metrics import f1_score\n",
    "from sklearn.metrics import roc_auc_score\n",
    "from sklearn.metrics import accuracy_score\n",
    "from sklearn.metrics import confusion_matrix\n",
    "from sklearn.metrics import classification_report\n",
    "\n",
    "# imports for data visualisation\n",
    "import seaborn as sns\n",
    "from PIL import Image\n",
    "from scipy import stats\n",
    "import matplotlib.pyplot as plt\n",
    "from nltk.probability import FreqDist\n",
    "from sklearn.metrics import plot_roc_curve\n",
    "#from wordcloud import WordCloud,STOPWORDS, ImageColorGenerator\n",
    "from scikitplot.metrics import plot_roc, plot_confusion_matrix\n",
    "%matplotlib inline"
   ]
  },
  {
   "cell_type": "markdown",
   "id": "a9d51762",
   "metadata": {},
   "source": [
    "<a id='Load'></a>\n",
    "# Load and view the data"
   ]
  },
  {
   "cell_type": "code",
   "execution_count": 3,
   "id": "37d58534",
   "metadata": {},
   "outputs": [],
   "source": [
    "#Import data\n",
    "test = pd.read_csv(\"test_with_no_labels.csv\")\n",
    "train = pd.read_csv(\"train.csv\")\n",
    "sample = pd.read_csv(\"sample_submission.csv\")"
   ]
  },
  {
   "cell_type": "code",
   "execution_count": 25,
   "id": "73817658",
   "metadata": {},
   "outputs": [
    {
     "data": {
      "text/html": [
       "<div>\n",
       "<style scoped>\n",
       "    .dataframe tbody tr th:only-of-type {\n",
       "        vertical-align: middle;\n",
       "    }\n",
       "\n",
       "    .dataframe tbody tr th {\n",
       "        vertical-align: top;\n",
       "    }\n",
       "\n",
       "    .dataframe thead th {\n",
       "        text-align: right;\n",
       "    }\n",
       "</style>\n",
       "<table border=\"1\" class=\"dataframe\">\n",
       "  <thead>\n",
       "    <tr style=\"text-align: right;\">\n",
       "      <th></th>\n",
       "      <th>sentiment</th>\n",
       "      <th>message</th>\n",
       "      <th>tweetid</th>\n",
       "    </tr>\n",
       "  </thead>\n",
       "  <tbody>\n",
       "    <tr>\n",
       "      <th>0</th>\n",
       "      <td>1</td>\n",
       "      <td>PolySciMajor EPA chief doesn't think carbon di...</td>\n",
       "      <td>625221</td>\n",
       "    </tr>\n",
       "    <tr>\n",
       "      <th>1</th>\n",
       "      <td>1</td>\n",
       "      <td>It's not like we lack evidence of anthropogeni...</td>\n",
       "      <td>126103</td>\n",
       "    </tr>\n",
       "    <tr>\n",
       "      <th>2</th>\n",
       "      <td>2</td>\n",
       "      <td>RT @RawStory: Researchers say we have three ye...</td>\n",
       "      <td>698562</td>\n",
       "    </tr>\n",
       "    <tr>\n",
       "      <th>3</th>\n",
       "      <td>1</td>\n",
       "      <td>#TodayinMaker# WIRED : 2016 was a pivotal year...</td>\n",
       "      <td>573736</td>\n",
       "    </tr>\n",
       "    <tr>\n",
       "      <th>4</th>\n",
       "      <td>1</td>\n",
       "      <td>RT @SoyNovioDeTodas: It's 2016, and a racist, ...</td>\n",
       "      <td>466954</td>\n",
       "    </tr>\n",
       "  </tbody>\n",
       "</table>\n",
       "</div>"
      ],
      "text/plain": [
       "   sentiment                                            message  tweetid\n",
       "0          1  PolySciMajor EPA chief doesn't think carbon di...   625221\n",
       "1          1  It's not like we lack evidence of anthropogeni...   126103\n",
       "2          2  RT @RawStory: Researchers say we have three ye...   698562\n",
       "3          1  #TodayinMaker# WIRED : 2016 was a pivotal year...   573736\n",
       "4          1  RT @SoyNovioDeTodas: It's 2016, and a racist, ...   466954"
      ]
     },
     "execution_count": 25,
     "metadata": {},
     "output_type": "execute_result"
    }
   ],
   "source": [
    "train.head()"
   ]
  },
  {
   "cell_type": "code",
   "execution_count": 6,
   "id": "44e33a6f",
   "metadata": {},
   "outputs": [
    {
     "data": {
      "text/html": [
       "<div>\n",
       "<style scoped>\n",
       "    .dataframe tbody tr th:only-of-type {\n",
       "        vertical-align: middle;\n",
       "    }\n",
       "\n",
       "    .dataframe tbody tr th {\n",
       "        vertical-align: top;\n",
       "    }\n",
       "\n",
       "    .dataframe thead th {\n",
       "        text-align: right;\n",
       "    }\n",
       "</style>\n",
       "<table border=\"1\" class=\"dataframe\">\n",
       "  <thead>\n",
       "    <tr style=\"text-align: right;\">\n",
       "      <th></th>\n",
       "      <th>message</th>\n",
       "      <th>tweetid</th>\n",
       "    </tr>\n",
       "  </thead>\n",
       "  <tbody>\n",
       "    <tr>\n",
       "      <th>0</th>\n",
       "      <td>Europe will now be looking to China to make su...</td>\n",
       "      <td>169760</td>\n",
       "    </tr>\n",
       "    <tr>\n",
       "      <th>1</th>\n",
       "      <td>Combine this with the polling of staffers re c...</td>\n",
       "      <td>35326</td>\n",
       "    </tr>\n",
       "    <tr>\n",
       "      <th>2</th>\n",
       "      <td>The scary, unimpeachable evidence that climate...</td>\n",
       "      <td>224985</td>\n",
       "    </tr>\n",
       "    <tr>\n",
       "      <th>3</th>\n",
       "      <td>@Karoli @morgfair @OsborneInk @dailykos \\r\\nPu...</td>\n",
       "      <td>476263</td>\n",
       "    </tr>\n",
       "    <tr>\n",
       "      <th>4</th>\n",
       "      <td>RT @FakeWillMoore: 'Female orgasms cause globa...</td>\n",
       "      <td>872928</td>\n",
       "    </tr>\n",
       "  </tbody>\n",
       "</table>\n",
       "</div>"
      ],
      "text/plain": [
       "                                             message  tweetid\n",
       "0  Europe will now be looking to China to make su...   169760\n",
       "1  Combine this with the polling of staffers re c...    35326\n",
       "2  The scary, unimpeachable evidence that climate...   224985\n",
       "3  @Karoli @morgfair @OsborneInk @dailykos \\r\\nPu...   476263\n",
       "4  RT @FakeWillMoore: 'Female orgasms cause globa...   872928"
      ]
     },
     "execution_count": 6,
     "metadata": {},
     "output_type": "execute_result"
    }
   ],
   "source": [
    "test.head()"
   ]
  },
  {
   "cell_type": "code",
   "execution_count": 7,
   "id": "1d8ff01f",
   "metadata": {},
   "outputs": [
    {
     "data": {
      "text/html": [
       "<div>\n",
       "<style scoped>\n",
       "    .dataframe tbody tr th:only-of-type {\n",
       "        vertical-align: middle;\n",
       "    }\n",
       "\n",
       "    .dataframe tbody tr th {\n",
       "        vertical-align: top;\n",
       "    }\n",
       "\n",
       "    .dataframe thead th {\n",
       "        text-align: right;\n",
       "    }\n",
       "</style>\n",
       "<table border=\"1\" class=\"dataframe\">\n",
       "  <thead>\n",
       "    <tr style=\"text-align: right;\">\n",
       "      <th></th>\n",
       "      <th>tweetid</th>\n",
       "      <th>sentiment</th>\n",
       "    </tr>\n",
       "  </thead>\n",
       "  <tbody>\n",
       "    <tr>\n",
       "      <th>0</th>\n",
       "      <td>169760</td>\n",
       "      <td>1</td>\n",
       "    </tr>\n",
       "    <tr>\n",
       "      <th>1</th>\n",
       "      <td>35326</td>\n",
       "      <td>1</td>\n",
       "    </tr>\n",
       "    <tr>\n",
       "      <th>2</th>\n",
       "      <td>224985</td>\n",
       "      <td>1</td>\n",
       "    </tr>\n",
       "    <tr>\n",
       "      <th>3</th>\n",
       "      <td>476263</td>\n",
       "      <td>1</td>\n",
       "    </tr>\n",
       "    <tr>\n",
       "      <th>4</th>\n",
       "      <td>872928</td>\n",
       "      <td>1</td>\n",
       "    </tr>\n",
       "  </tbody>\n",
       "</table>\n",
       "</div>"
      ],
      "text/plain": [
       "   tweetid  sentiment\n",
       "0   169760          1\n",
       "1    35326          1\n",
       "2   224985          1\n",
       "3   476263          1\n",
       "4   872928          1"
      ]
     },
     "execution_count": 7,
     "metadata": {},
     "output_type": "execute_result"
    }
   ],
   "source": [
    "sample.head()"
   ]
  },
  {
   "cell_type": "markdown",
   "id": "b7e04ad2",
   "metadata": {},
   "source": [
    "## 3. Data description\n",
    "<a id='ddescribe'></a>\n",
    "[Back to table of contents](#toc)"
   ]
  },
  {
   "cell_type": "markdown",
   "id": "a7711e54",
   "metadata": {},
   "source": [
    "The datasets that will be used in this classification project aggregates tweets pertaining to climate change, collected between Apr 27, 2015 and Feb 21, 2018. The train dataset consists of 3 columns; \"tweetid\", \"sentiment\" and \"message\", where we set \"tweetid\" to be the index of the dataset. A description of each variable in the dataset is given below.  \n",
    "### Training set\n",
    "**Variable definitions:**  \n",
    "\n",
    "- **tweetid** - Unique Twitter ID .\n",
    "- **message** - Tweet body.       \n",
    "- **sentiment** - Sentiment of tweet.  \n",
    "\n",
    "**Each tweet is then labeled as one of the following classes:**  \n",
    " \n",
    "    \n",
    "| **Class** | **Tag** | **Description** |\n",
    "|:---------:|:----------------:|:----------------|\n",
    "|   **2**   | **News** |The tweet links to factual news about climate change |\n",
    "|   **1**   | **Pro** |The tweet supports the belief of man-made climate change |\n",
    "|   **0**   | **Neutral** |The tweet neither supports nor refutes the belief of man-made climate change |\n",
    "|  **-1**   | **Anti** |The tweet does not believe in man-made climate change |  \n",
    "\n",
    "### Testing set  \n",
    "During testing we do not have access to the **tweetid** variable, but the testing dataset remains the same as the training dataset otherwise.  "
   ]
  },
  {
   "cell_type": "markdown",
   "id": "10da28fe",
   "metadata": {},
   "source": [
    "### Data types \n",
    "\n",
    "Let's get quick overview of the datasets we will be working with throughout the notebook. The output below contains the shape of the dataset, a list of all columns with their data types and the number of non-null values present in each column.  \n",
    "\n",
    "**Train data**  "
   ]
  },
  {
   "cell_type": "code",
   "execution_count": 8,
   "id": "57c0ffca",
   "metadata": {},
   "outputs": [
    {
     "name": "stdout",
     "output_type": "stream",
     "text": [
      "<class 'pandas.core.frame.DataFrame'>\n",
      "RangeIndex: 15819 entries, 0 to 15818\n",
      "Data columns (total 3 columns):\n",
      " #   Column     Non-Null Count  Dtype \n",
      "---  ------     --------------  ----- \n",
      " 0   sentiment  15819 non-null  int64 \n",
      " 1   message    15819 non-null  object\n",
      " 2   tweetid    15819 non-null  int64 \n",
      "dtypes: int64(2), object(1)\n",
      "memory usage: 370.9+ KB\n"
     ]
    }
   ],
   "source": [
    "train.info()"
   ]
  },
  {
   "cell_type": "markdown",
   "id": "bc228826",
   "metadata": {},
   "source": [
    "The train dataset has 15819 entries, contains no null entries, and the data types for \"sentiment\" and \"message\" are integer and object respectively."
   ]
  },
  {
   "cell_type": "markdown",
   "id": "e0a7c0d8",
   "metadata": {},
   "source": [
    "**Test data**"
   ]
  },
  {
   "cell_type": "code",
   "execution_count": 9,
   "id": "0295b877",
   "metadata": {},
   "outputs": [
    {
     "name": "stdout",
     "output_type": "stream",
     "text": [
      "<class 'pandas.core.frame.DataFrame'>\n",
      "RangeIndex: 10546 entries, 0 to 10545\n",
      "Data columns (total 2 columns):\n",
      " #   Column   Non-Null Count  Dtype \n",
      "---  ------   --------------  ----- \n",
      " 0   message  10546 non-null  object\n",
      " 1   tweetid  10546 non-null  int64 \n",
      "dtypes: int64(1), object(1)\n",
      "memory usage: 164.9+ KB\n"
     ]
    }
   ],
   "source": [
    "test.info()"
   ]
  },
  {
   "cell_type": "markdown",
   "id": "612e3497",
   "metadata": {},
   "source": [
    "The test dataset has 10546 entries, contains no null entries, and the variable \"message\" has the object data type."
   ]
  },
  {
   "cell_type": "markdown",
   "id": "1573d24c",
   "metadata": {},
   "source": [
    "# Data Preprocessing"
   ]
  },
  {
   "cell_type": "code",
   "execution_count": 10,
   "id": "972b60ca",
   "metadata": {},
   "outputs": [
    {
     "name": "stdout",
     "output_type": "stream",
     "text": [
      "<class 'pandas.core.frame.DataFrame'>\n",
      "RangeIndex: 15819 entries, 0 to 15818\n",
      "Data columns (total 3 columns):\n",
      " #   Column     Non-Null Count  Dtype\n",
      "---  ------     --------------  -----\n",
      " 0   sentiment  15819 non-null  bool \n",
      " 1   message    15819 non-null  bool \n",
      " 2   tweetid    15819 non-null  bool \n",
      "dtypes: bool(3)\n",
      "memory usage: 46.5 KB\n"
     ]
    }
   ],
   "source": [
    "#Data Preprocessing\n",
    "#Identifying missing values and data types\n",
    "train.isna().info()"
   ]
  },
  {
   "cell_type": "code",
   "execution_count": 11,
   "id": "4d929626",
   "metadata": {},
   "outputs": [
    {
     "name": "stdout",
     "output_type": "stream",
     "text": [
      "<class 'pandas.core.frame.DataFrame'>\n",
      "RangeIndex: 10546 entries, 0 to 10545\n",
      "Data columns (total 2 columns):\n",
      " #   Column   Non-Null Count  Dtype\n",
      "---  ------   --------------  -----\n",
      " 0   message  10546 non-null  bool \n",
      " 1   tweetid  10546 non-null  bool \n",
      "dtypes: bool(2)\n",
      "memory usage: 20.7 KB\n"
     ]
    }
   ],
   "source": [
    "test.isna().info()"
   ]
  },
  {
   "cell_type": "code",
   "execution_count": 4,
   "id": "6c026ab5",
   "metadata": {},
   "outputs": [],
   "source": [
    "# Part of Speech for modeling\n",
    "def POS(word):\n",
    "    pos_counts = Counter()\n",
    "    probable_part_of_speech = wordnet.synsets(word)\n",
    "    pos_counts[\"n\"] = len([i for i in probable_part_of_speech if i.pos()==\"n\"])\n",
    "    pos_counts[\"v\"] = len([i for i in probable_part_of_speech if i.pos()==\"v\"])\n",
    "    pos_counts[\"a\"] = len([i for i in probable_part_of_speech if i.pos()==\"a\"])\n",
    "    pos_counts[\"r\"] = len([i for i in probable_part_of_speech if i.pos()==\"r\"])\n",
    "    part_of_speech = pos_counts.most_common(1)[0][0]\n",
    "    return part_of_speech"
   ]
  },
  {
   "cell_type": "markdown",
   "id": "0cb4e5ad",
   "metadata": {},
   "source": [
    "**Extract Useful Data**"
   ]
  },
  {
   "cell_type": "code",
   "execution_count": 5,
   "id": "10786705",
   "metadata": {},
   "outputs": [],
   "source": [
    "def extractor(df):\n",
    "    # Extract hashtags\n",
    "    tweets = df['message']\n",
    "    df['hashtags'] = df.message. str.lower().str.findall(r'#.*?(?=\\s|$)')\n",
    "    htags = df['hashtags']\n",
    "    df['hashtags'] = htags.apply(lambda x: np.nan if len(x) == 0 else x)\n",
    "    \n",
    "    # Extract mentions\n",
    "    df['mentions'] = df.message. str.lower().str.findall(r'@\\w*')\n",
    "    mtags = df['mentions']\n",
    "    df['mentions'] = mtags.apply(lambda x: np.nan if len(x) == 0 else x)\n",
    "    \n",
    "    # Extract url\n",
    "    df['url'] = df.message. str.lower().str.findall(r'http\\S+|www.\\S+')\n",
    "    urltags = df['url']\n",
    "    df['url'] = urltags.apply(lambda x: np.nan if len(x) == 0 else x)\n",
    "    \n",
    "    return df"
   ]
  },
  {
   "cell_type": "code",
   "execution_count": 6,
   "id": "37e16a54",
   "metadata": {},
   "outputs": [
    {
     "data": {
      "text/html": [
       "<div>\n",
       "<style scoped>\n",
       "    .dataframe tbody tr th:only-of-type {\n",
       "        vertical-align: middle;\n",
       "    }\n",
       "\n",
       "    .dataframe tbody tr th {\n",
       "        vertical-align: top;\n",
       "    }\n",
       "\n",
       "    .dataframe thead th {\n",
       "        text-align: right;\n",
       "    }\n",
       "</style>\n",
       "<table border=\"1\" class=\"dataframe\">\n",
       "  <thead>\n",
       "    <tr style=\"text-align: right;\">\n",
       "      <th></th>\n",
       "      <th>sentiment</th>\n",
       "      <th>message</th>\n",
       "      <th>tweetid</th>\n",
       "      <th>hashtags</th>\n",
       "      <th>mentions</th>\n",
       "      <th>url</th>\n",
       "    </tr>\n",
       "  </thead>\n",
       "  <tbody>\n",
       "    <tr>\n",
       "      <th>0</th>\n",
       "      <td>1</td>\n",
       "      <td>PolySciMajor EPA chief doesn't think carbon di...</td>\n",
       "      <td>625221</td>\n",
       "      <td>NaN</td>\n",
       "      <td>[@mashable]</td>\n",
       "      <td>[https://t.co/yelvcefxkc]</td>\n",
       "    </tr>\n",
       "    <tr>\n",
       "      <th>1</th>\n",
       "      <td>1</td>\n",
       "      <td>It's not like we lack evidence of anthropogeni...</td>\n",
       "      <td>126103</td>\n",
       "      <td>NaN</td>\n",
       "      <td>NaN</td>\n",
       "      <td>NaN</td>\n",
       "    </tr>\n",
       "    <tr>\n",
       "      <th>2</th>\n",
       "      <td>2</td>\n",
       "      <td>RT @RawStory: Researchers say we have three ye...</td>\n",
       "      <td>698562</td>\n",
       "      <td>NaN</td>\n",
       "      <td>[@rawstory]</td>\n",
       "      <td>[https://t.co/wdt0kdur2f, https://t.co/z0anpt…]</td>\n",
       "    </tr>\n",
       "    <tr>\n",
       "      <th>3</th>\n",
       "      <td>1</td>\n",
       "      <td>#TodayinMaker# WIRED : 2016 was a pivotal year...</td>\n",
       "      <td>573736</td>\n",
       "      <td>[#todayinmaker#]</td>\n",
       "      <td>NaN</td>\n",
       "      <td>[https://t.co/44wotxtlcd]</td>\n",
       "    </tr>\n",
       "    <tr>\n",
       "      <th>4</th>\n",
       "      <td>1</td>\n",
       "      <td>RT @SoyNovioDeTodas: It's 2016, and a racist, ...</td>\n",
       "      <td>466954</td>\n",
       "      <td>[#electionnight]</td>\n",
       "      <td>[@soynoviodetodas]</td>\n",
       "      <td>NaN</td>\n",
       "    </tr>\n",
       "    <tr>\n",
       "      <th>...</th>\n",
       "      <td>...</td>\n",
       "      <td>...</td>\n",
       "      <td>...</td>\n",
       "      <td>...</td>\n",
       "      <td>...</td>\n",
       "      <td>...</td>\n",
       "    </tr>\n",
       "    <tr>\n",
       "      <th>15814</th>\n",
       "      <td>1</td>\n",
       "      <td>RT @ezlusztig: They took down the material on ...</td>\n",
       "      <td>22001</td>\n",
       "      <td>NaN</td>\n",
       "      <td>[@ezlusztig]</td>\n",
       "      <td>[https://…]</td>\n",
       "    </tr>\n",
       "    <tr>\n",
       "      <th>15815</th>\n",
       "      <td>2</td>\n",
       "      <td>RT @washingtonpost: How climate change could b...</td>\n",
       "      <td>17856</td>\n",
       "      <td>NaN</td>\n",
       "      <td>[@washingtonpost]</td>\n",
       "      <td>[https://t.co/rpfgvb2plq]</td>\n",
       "    </tr>\n",
       "    <tr>\n",
       "      <th>15816</th>\n",
       "      <td>0</td>\n",
       "      <td>notiven: RT: nytimesworld :What does Trump act...</td>\n",
       "      <td>384248</td>\n",
       "      <td>NaN</td>\n",
       "      <td>NaN</td>\n",
       "      <td>[https://t.co/0mp2]</td>\n",
       "    </tr>\n",
       "    <tr>\n",
       "      <th>15817</th>\n",
       "      <td>-1</td>\n",
       "      <td>RT @sara8smiles: Hey liberals the climate chan...</td>\n",
       "      <td>819732</td>\n",
       "      <td>[#agenda2030.]</td>\n",
       "      <td>[@sara8smiles]</td>\n",
       "      <td>NaN</td>\n",
       "    </tr>\n",
       "    <tr>\n",
       "      <th>15818</th>\n",
       "      <td>0</td>\n",
       "      <td>RT @Chet_Cannon: .@kurteichenwald's 'climate c...</td>\n",
       "      <td>806319</td>\n",
       "      <td>NaN</td>\n",
       "      <td>[@chet_cannon, @kurteichenwald]</td>\n",
       "      <td>[https://t.co/lp7uufcxdq]</td>\n",
       "    </tr>\n",
       "  </tbody>\n",
       "</table>\n",
       "<p>15819 rows × 6 columns</p>\n",
       "</div>"
      ],
      "text/plain": [
       "       sentiment                                            message  tweetid  \\\n",
       "0              1  PolySciMajor EPA chief doesn't think carbon di...   625221   \n",
       "1              1  It's not like we lack evidence of anthropogeni...   126103   \n",
       "2              2  RT @RawStory: Researchers say we have three ye...   698562   \n",
       "3              1  #TodayinMaker# WIRED : 2016 was a pivotal year...   573736   \n",
       "4              1  RT @SoyNovioDeTodas: It's 2016, and a racist, ...   466954   \n",
       "...          ...                                                ...      ...   \n",
       "15814          1  RT @ezlusztig: They took down the material on ...    22001   \n",
       "15815          2  RT @washingtonpost: How climate change could b...    17856   \n",
       "15816          0  notiven: RT: nytimesworld :What does Trump act...   384248   \n",
       "15817         -1  RT @sara8smiles: Hey liberals the climate chan...   819732   \n",
       "15818          0  RT @Chet_Cannon: .@kurteichenwald's 'climate c...   806319   \n",
       "\n",
       "               hashtags                         mentions  \\\n",
       "0                   NaN                      [@mashable]   \n",
       "1                   NaN                              NaN   \n",
       "2                   NaN                      [@rawstory]   \n",
       "3      [#todayinmaker#]                              NaN   \n",
       "4      [#electionnight]               [@soynoviodetodas]   \n",
       "...                 ...                              ...   \n",
       "15814               NaN                     [@ezlusztig]   \n",
       "15815               NaN                [@washingtonpost]   \n",
       "15816               NaN                              NaN   \n",
       "15817    [#agenda2030.]                   [@sara8smiles]   \n",
       "15818               NaN  [@chet_cannon, @kurteichenwald]   \n",
       "\n",
       "                                                   url  \n",
       "0                            [https://t.co/yelvcefxkc]  \n",
       "1                                                  NaN  \n",
       "2      [https://t.co/wdt0kdur2f, https://t.co/z0anpt…]  \n",
       "3                            [https://t.co/44wotxtlcd]  \n",
       "4                                                  NaN  \n",
       "...                                                ...  \n",
       "15814                                      [https://…]  \n",
       "15815                        [https://t.co/rpfgvb2plq]  \n",
       "15816                              [https://t.co/0mp2]  \n",
       "15817                                              NaN  \n",
       "15818                        [https://t.co/lp7uufcxdq]  \n",
       "\n",
       "[15819 rows x 6 columns]"
      ]
     },
     "execution_count": 6,
     "metadata": {},
     "output_type": "execute_result"
    }
   ],
   "source": [
    "extractor(train)"
   ]
  },
  {
   "cell_type": "markdown",
   "id": "8d4338f9",
   "metadata": {},
   "source": [
    "**Remove Unnecessary Information on Message**"
   ]
  },
  {
   "cell_type": "code",
   "execution_count": 7,
   "id": "9cef3163",
   "metadata": {},
   "outputs": [
    {
     "data": {
      "text/html": [
       "<div>\n",
       "<style scoped>\n",
       "    .dataframe tbody tr th:only-of-type {\n",
       "        vertical-align: middle;\n",
       "    }\n",
       "\n",
       "    .dataframe tbody tr th {\n",
       "        vertical-align: top;\n",
       "    }\n",
       "\n",
       "    .dataframe thead th {\n",
       "        text-align: right;\n",
       "    }\n",
       "</style>\n",
       "<table border=\"1\" class=\"dataframe\">\n",
       "  <thead>\n",
       "    <tr style=\"text-align: right;\">\n",
       "      <th></th>\n",
       "      <th>sentiment</th>\n",
       "      <th>message</th>\n",
       "      <th>tweetid</th>\n",
       "      <th>hashtags</th>\n",
       "      <th>mentions</th>\n",
       "      <th>url</th>\n",
       "    </tr>\n",
       "  </thead>\n",
       "  <tbody>\n",
       "    <tr>\n",
       "      <th>0</th>\n",
       "      <td>1</td>\n",
       "      <td>PolySciMajor EPA chief doesn't think carbon di...</td>\n",
       "      <td>625221</td>\n",
       "      <td>NaN</td>\n",
       "      <td>[@mashable]</td>\n",
       "      <td>[https://t.co/yelvcefxkc]</td>\n",
       "    </tr>\n",
       "    <tr>\n",
       "      <th>1</th>\n",
       "      <td>1</td>\n",
       "      <td>It's not like we lack evidence of anthropogeni...</td>\n",
       "      <td>126103</td>\n",
       "      <td>NaN</td>\n",
       "      <td>NaN</td>\n",
       "      <td>NaN</td>\n",
       "    </tr>\n",
       "    <tr>\n",
       "      <th>2</th>\n",
       "      <td>2</td>\n",
       "      <td>: Researchers say we have three years to act ...</td>\n",
       "      <td>698562</td>\n",
       "      <td>NaN</td>\n",
       "      <td>[@rawstory]</td>\n",
       "      <td>[https://t.co/wdt0kdur2f, https://t.co/z0anpt…]</td>\n",
       "    </tr>\n",
       "    <tr>\n",
       "      <th>3</th>\n",
       "      <td>1</td>\n",
       "      <td>WIRED : 2016 was a pivotal year in the war on...</td>\n",
       "      <td>573736</td>\n",
       "      <td>[#todayinmaker#]</td>\n",
       "      <td>NaN</td>\n",
       "      <td>[https://t.co/44wotxtlcd]</td>\n",
       "    </tr>\n",
       "    <tr>\n",
       "      <th>4</th>\n",
       "      <td>1</td>\n",
       "      <td>: It's 2016, and a racist, sexist, climate ch...</td>\n",
       "      <td>466954</td>\n",
       "      <td>[#electionnight]</td>\n",
       "      <td>[@soynoviodetodas]</td>\n",
       "      <td>NaN</td>\n",
       "    </tr>\n",
       "  </tbody>\n",
       "</table>\n",
       "</div>"
      ],
      "text/plain": [
       "   sentiment                                            message  tweetid  \\\n",
       "0          1  PolySciMajor EPA chief doesn't think carbon di...   625221   \n",
       "1          1  It's not like we lack evidence of anthropogeni...   126103   \n",
       "2          2   : Researchers say we have three years to act ...   698562   \n",
       "3          1   WIRED : 2016 was a pivotal year in the war on...   573736   \n",
       "4          1   : It's 2016, and a racist, sexist, climate ch...   466954   \n",
       "\n",
       "           hashtags            mentions  \\\n",
       "0               NaN         [@mashable]   \n",
       "1               NaN                 NaN   \n",
       "2               NaN         [@rawstory]   \n",
       "3  [#todayinmaker#]                 NaN   \n",
       "4  [#electionnight]  [@soynoviodetodas]   \n",
       "\n",
       "                                               url  \n",
       "0                        [https://t.co/yelvcefxkc]  \n",
       "1                                              NaN  \n",
       "2  [https://t.co/wdt0kdur2f, https://t.co/z0anpt…]  \n",
       "3                        [https://t.co/44wotxtlcd]  \n",
       "4                                              NaN  "
      ]
     },
     "execution_count": 7,
     "metadata": {},
     "output_type": "execute_result"
    }
   ],
   "source": [
    "# Remove URLs\n",
    "train['message'] = train['message'].str.replace('http\\S+|www.\\S+', '', regex=True)\n",
    "\n",
    "# Remove mentions\n",
    "train['message'] = train['message'].str.replace('@\\w*', '', regex=True)\n",
    "\n",
    "# Removal hashtags\n",
    "train['message'] = train['message'].str.replace('#.*?(?=\\s|$)', '', regex=True)\n",
    "\n",
    "# Remove 'RT'\n",
    "train['message'] = train['message'].str.replace('RT', '', regex=True)\n",
    "\n",
    "# Remove stopwords\n",
    "train.head()"
   ]
  },
  {
   "cell_type": "code",
   "execution_count": 8,
   "id": "57fcacba",
   "metadata": {},
   "outputs": [],
   "source": [
    "# Clean tweets\n",
    "def clean_tweets(df):\n",
    "    # tokenizing the tweets\n",
    "    clean_tweets = df['message'].apply(TweetTokenizer().tokenize)\n",
    "\n",
    "    # remove punctuation\n",
    "    clean_tweets = clean_tweets.apply(lambda x : [token for token in x if token not in string.punctuation])\n",
    "\n",
    "    # removing digits from the tweets\n",
    "    clean_tweets = clean_tweets.apply(lambda x: [token for token in x if token not in list(string.digits)])\n",
    "\n",
    "    # lastly we remove all one character tokens\n",
    "    clean_tweets = clean_tweets.apply(lambda x: [token for token in x if len(token) > 1])\n",
    "    \n",
    "    df['cleaned_tweets'] = clean_tweets\n",
    "    \n",
    "    return df['cleaned_tweets']"
   ]
  },
  {
   "cell_type": "code",
   "execution_count": 9,
   "id": "b9e879b5",
   "metadata": {},
   "outputs": [
    {
     "data": {
      "text/plain": [
       "0        [PolySciMajor, EPA, chief, doesn't, think, car...\n",
       "1        [It's, not, like, we, lack, evidence, of, anth...\n",
       "2        [Researchers, say, we, have, three, years, to,...\n",
       "3        [WIRED, 2016, was, pivotal, year, in, the, war...\n",
       "4        [It's, 2016, and, racist, sexist, climate, cha...\n",
       "                               ...                        \n",
       "15814    [They, took, down, the, material, on, global, ...\n",
       "15815    [How, climate, change, could, be, breaking, up...\n",
       "15816    [notiven, nytimesworld, What, does, Trump, act...\n",
       "15817    [Hey, liberals, the, climate, change, crap, is...\n",
       "15818         [climate, change, equation, in, screenshots]\n",
       "Name: cleaned_tweets, Length: 15819, dtype: object"
      ]
     },
     "execution_count": 9,
     "metadata": {},
     "output_type": "execute_result"
    }
   ],
   "source": [
    "clean_tweets(train)"
   ]
  },
  {
   "cell_type": "code",
   "execution_count": 10,
   "id": "041e4636",
   "metadata": {},
   "outputs": [
    {
     "name": "stderr",
     "output_type": "stream",
     "text": [
      "[nltk_data] Downloading package stopwords to\n",
      "[nltk_data]     C:\\Users\\tebel\\AppData\\Roaming\\nltk_data...\n",
      "[nltk_data]   Package stopwords is already up-to-date!\n"
     ]
    },
    {
     "data": {
      "text/html": [
       "<div>\n",
       "<style scoped>\n",
       "    .dataframe tbody tr th:only-of-type {\n",
       "        vertical-align: middle;\n",
       "    }\n",
       "\n",
       "    .dataframe tbody tr th {\n",
       "        vertical-align: top;\n",
       "    }\n",
       "\n",
       "    .dataframe thead th {\n",
       "        text-align: right;\n",
       "    }\n",
       "</style>\n",
       "<table border=\"1\" class=\"dataframe\">\n",
       "  <thead>\n",
       "    <tr style=\"text-align: right;\">\n",
       "      <th></th>\n",
       "      <th>sentiment</th>\n",
       "      <th>message</th>\n",
       "      <th>tweetid</th>\n",
       "      <th>hashtags</th>\n",
       "      <th>mentions</th>\n",
       "      <th>url</th>\n",
       "      <th>cleaned_tweets</th>\n",
       "      <th>no_stopwords</th>\n",
       "    </tr>\n",
       "  </thead>\n",
       "  <tbody>\n",
       "    <tr>\n",
       "      <th>0</th>\n",
       "      <td>1</td>\n",
       "      <td>PolySciMajor EPA chief doesn't think carbon di...</td>\n",
       "      <td>625221</td>\n",
       "      <td>NaN</td>\n",
       "      <td>[@mashable]</td>\n",
       "      <td>[https://t.co/yelvcefxkc]</td>\n",
       "      <td>[polyscimajor, epa, chief, doesn't, think, car...</td>\n",
       "      <td>[polyscimajor, epa, chief, think, carbon, diox...</td>\n",
       "    </tr>\n",
       "    <tr>\n",
       "      <th>1</th>\n",
       "      <td>1</td>\n",
       "      <td>It's not like we lack evidence of anthropogeni...</td>\n",
       "      <td>126103</td>\n",
       "      <td>NaN</td>\n",
       "      <td>NaN</td>\n",
       "      <td>NaN</td>\n",
       "      <td>[it's, not, like, we, lack, evidence, of, anth...</td>\n",
       "      <td>[like, lack, evidence, anthropogenic, global, ...</td>\n",
       "    </tr>\n",
       "    <tr>\n",
       "      <th>2</th>\n",
       "      <td>2</td>\n",
       "      <td>: Researchers say we have three years to act ...</td>\n",
       "      <td>698562</td>\n",
       "      <td>NaN</td>\n",
       "      <td>[@rawstory]</td>\n",
       "      <td>[https://t.co/wdt0kdur2f, https://t.co/z0anpt…]</td>\n",
       "      <td>[researchers, say, we, have, three, years, to,...</td>\n",
       "      <td>[researchers, say, three, years, act, climate,...</td>\n",
       "    </tr>\n",
       "    <tr>\n",
       "      <th>3</th>\n",
       "      <td>1</td>\n",
       "      <td>WIRED : 2016 was a pivotal year in the war on...</td>\n",
       "      <td>573736</td>\n",
       "      <td>[#todayinmaker#]</td>\n",
       "      <td>NaN</td>\n",
       "      <td>[https://t.co/44wotxtlcd]</td>\n",
       "      <td>[wired, 2016, was, pivotal, year, in, the, war...</td>\n",
       "      <td>[wired, 2016, pivotal, year, war, climate, cha...</td>\n",
       "    </tr>\n",
       "    <tr>\n",
       "      <th>4</th>\n",
       "      <td>1</td>\n",
       "      <td>: It's 2016, and a racist, sexist, climate ch...</td>\n",
       "      <td>466954</td>\n",
       "      <td>[#electionnight]</td>\n",
       "      <td>[@soynoviodetodas]</td>\n",
       "      <td>NaN</td>\n",
       "      <td>[it's, 2016, and, racist, sexist, climate, cha...</td>\n",
       "      <td>[2016, racist, sexist, climate, change, denyin...</td>\n",
       "    </tr>\n",
       "  </tbody>\n",
       "</table>\n",
       "</div>"
      ],
      "text/plain": [
       "   sentiment                                            message  tweetid  \\\n",
       "0          1  PolySciMajor EPA chief doesn't think carbon di...   625221   \n",
       "1          1  It's not like we lack evidence of anthropogeni...   126103   \n",
       "2          2   : Researchers say we have three years to act ...   698562   \n",
       "3          1   WIRED : 2016 was a pivotal year in the war on...   573736   \n",
       "4          1   : It's 2016, and a racist, sexist, climate ch...   466954   \n",
       "\n",
       "           hashtags            mentions  \\\n",
       "0               NaN         [@mashable]   \n",
       "1               NaN                 NaN   \n",
       "2               NaN         [@rawstory]   \n",
       "3  [#todayinmaker#]                 NaN   \n",
       "4  [#electionnight]  [@soynoviodetodas]   \n",
       "\n",
       "                                               url  \\\n",
       "0                        [https://t.co/yelvcefxkc]   \n",
       "1                                              NaN   \n",
       "2  [https://t.co/wdt0kdur2f, https://t.co/z0anpt…]   \n",
       "3                        [https://t.co/44wotxtlcd]   \n",
       "4                                              NaN   \n",
       "\n",
       "                                      cleaned_tweets  \\\n",
       "0  [polyscimajor, epa, chief, doesn't, think, car...   \n",
       "1  [it's, not, like, we, lack, evidence, of, anth...   \n",
       "2  [researchers, say, we, have, three, years, to,...   \n",
       "3  [wired, 2016, was, pivotal, year, in, the, war...   \n",
       "4  [it's, 2016, and, racist, sexist, climate, cha...   \n",
       "\n",
       "                                        no_stopwords  \n",
       "0  [polyscimajor, epa, chief, think, carbon, diox...  \n",
       "1  [like, lack, evidence, anthropogenic, global, ...  \n",
       "2  [researchers, say, three, years, act, climate,...  \n",
       "3  [wired, 2016, pivotal, year, war, climate, cha...  \n",
       "4  [2016, racist, sexist, climate, change, denyin...  "
      ]
     },
     "execution_count": 10,
     "metadata": {},
     "output_type": "execute_result"
    }
   ],
   "source": [
    "#Removing Stopwords\n",
    "from nltk.corpus import stopwords\n",
    "nltk.download('stopwords')\n",
    "\n",
    "stop = stopwords.words('english')\n",
    "\n",
    "# Convert to lower case\n",
    "train['cleaned_tweets'] = train['cleaned_tweets'].apply(lambda x: [word.lower() for word in x])\n",
    "\n",
    "# Remove stopwords\n",
    "train['no_stopwords'] = train['cleaned_tweets'].apply(lambda x: [item for item in x if item not in stop])\n",
    "\n",
    "train.head()"
   ]
  },
  {
   "cell_type": "code",
   "execution_count": 11,
   "id": "3e56587b",
   "metadata": {},
   "outputs": [],
   "source": [
    "#Most Frequent Words\n",
    "from collections import Counter\n",
    "cnt = Counter()\n",
    "for message in train['no_stopwords'].values:\n",
    "    for word in message:\n",
    "        cnt[word] += 1\n",
    "        "
   ]
  },
  {
   "cell_type": "code",
   "execution_count": 12,
   "id": "b7a3efbd",
   "metadata": {},
   "outputs": [],
   "source": [
    "#Map the sentiment class by name\n",
    "train['sent_labels']  = train['sentiment'].map({-1: 'Anti',0:'Neutral', 1:'Pro', 2:'News'})"
   ]
  },
  {
   "cell_type": "code",
   "execution_count": 14,
   "id": "3f172711",
   "metadata": {},
   "outputs": [],
   "source": [
    "#The length of each raw tweet\n",
    "train['text_length'] = train['message'].apply(lambda x: len(x))"
   ]
  },
  {
   "cell_type": "markdown",
   "id": "544fa9e4",
   "metadata": {},
   "source": [
    "**Separate Datframes of Tweets for each Sentiment**"
   ]
  },
  {
   "cell_type": "code",
   "execution_count": 15,
   "id": "66187db2",
   "metadata": {},
   "outputs": [
    {
     "data": {
      "text/html": [
       "<div>\n",
       "<style scoped>\n",
       "    .dataframe tbody tr th:only-of-type {\n",
       "        vertical-align: middle;\n",
       "    }\n",
       "\n",
       "    .dataframe tbody tr th {\n",
       "        vertical-align: top;\n",
       "    }\n",
       "\n",
       "    .dataframe thead th {\n",
       "        text-align: right;\n",
       "    }\n",
       "</style>\n",
       "<table border=\"1\" class=\"dataframe\">\n",
       "  <thead>\n",
       "    <tr style=\"text-align: right;\">\n",
       "      <th></th>\n",
       "      <th>sentiment</th>\n",
       "      <th>message</th>\n",
       "      <th>tweetid</th>\n",
       "      <th>hashtags</th>\n",
       "      <th>mentions</th>\n",
       "      <th>url</th>\n",
       "      <th>cleaned_tweets</th>\n",
       "      <th>no_stopwords</th>\n",
       "      <th>sent_labels</th>\n",
       "      <th>text_length</th>\n",
       "    </tr>\n",
       "  </thead>\n",
       "  <tbody>\n",
       "    <tr>\n",
       "      <th>19</th>\n",
       "      <td>0</td>\n",
       "      <td>Calum: *tweets abt reunitingish w the cast*\\r\\...</td>\n",
       "      <td>547924</td>\n",
       "      <td>NaN</td>\n",
       "      <td>NaN</td>\n",
       "      <td>NaN</td>\n",
       "      <td>[calum, tweets, abt, reunitingish, the, cast, ...</td>\n",
       "      <td>[calum, tweets, abt, reunitingish, cast, sees,...</td>\n",
       "      <td>Neutral</td>\n",
       "      <td>142</td>\n",
       "    </tr>\n",
       "    <tr>\n",
       "      <th>22</th>\n",
       "      <td>0</td>\n",
       "      <td>we also met this guy, he let us in on some tru...</td>\n",
       "      <td>67545</td>\n",
       "      <td>NaN</td>\n",
       "      <td>NaN</td>\n",
       "      <td>[https://t.co/q7yomcmzaj]</td>\n",
       "      <td>[we, also, met, this, guy, he, let, us, in, on...</td>\n",
       "      <td>[also, met, guy, let, us, truth, climate, chan...</td>\n",
       "      <td>Neutral</td>\n",
       "      <td>98</td>\n",
       "    </tr>\n",
       "    <tr>\n",
       "      <th>30</th>\n",
       "      <td>0</td>\n",
       "      <td>are these the same scientists that denounce c...</td>\n",
       "      <td>365051</td>\n",
       "      <td>NaN</td>\n",
       "      <td>[@jnp_ftw]</td>\n",
       "      <td>NaN</td>\n",
       "      <td>[are, these, the, same, scientists, that, deno...</td>\n",
       "      <td>[scientists, denounce, climate, change, choice]</td>\n",
       "      <td>Neutral</td>\n",
       "      <td>78</td>\n",
       "    </tr>\n",
       "    <tr>\n",
       "      <th>39</th>\n",
       "      <td>0</td>\n",
       "      <td>We’ ve dealt with simple issues like climate c...</td>\n",
       "      <td>403368</td>\n",
       "      <td>[#qanda]</td>\n",
       "      <td>NaN</td>\n",
       "      <td>NaN</td>\n",
       "      <td>[we, ve, dealt, with, simple, issues, like, cl...</td>\n",
       "      <td>[dealt, simple, issues, like, climate, change,...</td>\n",
       "      <td>Neutral</td>\n",
       "      <td>109</td>\n",
       "    </tr>\n",
       "    <tr>\n",
       "      <th>43</th>\n",
       "      <td>0</td>\n",
       "      <td>: Win probability is bullshit man. I saw the ...</td>\n",
       "      <td>326916</td>\n",
       "      <td>NaN</td>\n",
       "      <td>[@andrewsharp]</td>\n",
       "      <td>NaN</td>\n",
       "      <td>[win, probability, is, bullshit, man, saw, the...</td>\n",
       "      <td>[win, probability, bullshit, man, saw, nba, fi...</td>\n",
       "      <td>Neutral</td>\n",
       "      <td>106</td>\n",
       "    </tr>\n",
       "  </tbody>\n",
       "</table>\n",
       "</div>"
      ],
      "text/plain": [
       "    sentiment                                            message  tweetid  \\\n",
       "19          0  Calum: *tweets abt reunitingish w the cast*\\r\\...   547924   \n",
       "22          0  we also met this guy, he let us in on some tru...    67545   \n",
       "30          0   are these the same scientists that denounce c...   365051   \n",
       "39          0  We’ ve dealt with simple issues like climate c...   403368   \n",
       "43          0   : Win probability is bullshit man. I saw the ...   326916   \n",
       "\n",
       "    hashtags        mentions                        url  \\\n",
       "19       NaN             NaN                        NaN   \n",
       "22       NaN             NaN  [https://t.co/q7yomcmzaj]   \n",
       "30       NaN      [@jnp_ftw]                        NaN   \n",
       "39  [#qanda]             NaN                        NaN   \n",
       "43       NaN  [@andrewsharp]                        NaN   \n",
       "\n",
       "                                       cleaned_tweets  \\\n",
       "19  [calum, tweets, abt, reunitingish, the, cast, ...   \n",
       "22  [we, also, met, this, guy, he, let, us, in, on...   \n",
       "30  [are, these, the, same, scientists, that, deno...   \n",
       "39  [we, ve, dealt, with, simple, issues, like, cl...   \n",
       "43  [win, probability, is, bullshit, man, saw, the...   \n",
       "\n",
       "                                         no_stopwords sent_labels  text_length  \n",
       "19  [calum, tweets, abt, reunitingish, cast, sees,...     Neutral          142  \n",
       "22  [also, met, guy, let, us, truth, climate, chan...     Neutral           98  \n",
       "30    [scientists, denounce, climate, change, choice]     Neutral           78  \n",
       "39  [dealt, simple, issues, like, climate, change,...     Neutral          109  \n",
       "43  [win, probability, bullshit, man, saw, nba, fi...     Neutral          106  "
      ]
     },
     "execution_count": 15,
     "metadata": {},
     "output_type": "execute_result"
    }
   ],
   "source": [
    "# Dataframe for neutral tweets\n",
    "neutral_df = train[train['sentiment'] == 0]\n",
    "neutral_df.head()"
   ]
  },
  {
   "cell_type": "code",
   "execution_count": 16,
   "id": "47adbef8",
   "metadata": {},
   "outputs": [
    {
     "data": {
      "text/html": [
       "<div>\n",
       "<style scoped>\n",
       "    .dataframe tbody tr th:only-of-type {\n",
       "        vertical-align: middle;\n",
       "    }\n",
       "\n",
       "    .dataframe tbody tr th {\n",
       "        vertical-align: top;\n",
       "    }\n",
       "\n",
       "    .dataframe thead th {\n",
       "        text-align: right;\n",
       "    }\n",
       "</style>\n",
       "<table border=\"1\" class=\"dataframe\">\n",
       "  <thead>\n",
       "    <tr style=\"text-align: right;\">\n",
       "      <th></th>\n",
       "      <th>sentiment</th>\n",
       "      <th>message</th>\n",
       "      <th>tweetid</th>\n",
       "      <th>hashtags</th>\n",
       "      <th>mentions</th>\n",
       "      <th>url</th>\n",
       "      <th>cleaned_tweets</th>\n",
       "      <th>no_stopwords</th>\n",
       "      <th>sent_labels</th>\n",
       "      <th>text_length</th>\n",
       "    </tr>\n",
       "  </thead>\n",
       "  <tbody>\n",
       "    <tr>\n",
       "      <th>0</th>\n",
       "      <td>1</td>\n",
       "      <td>PolySciMajor EPA chief doesn't think carbon di...</td>\n",
       "      <td>625221</td>\n",
       "      <td>NaN</td>\n",
       "      <td>[@mashable]</td>\n",
       "      <td>[https://t.co/yelvcefxkc]</td>\n",
       "      <td>[polyscimajor, epa, chief, doesn't, think, car...</td>\n",
       "      <td>[polyscimajor, epa, chief, think, carbon, diox...</td>\n",
       "      <td>Pro</td>\n",
       "      <td>108</td>\n",
       "    </tr>\n",
       "    <tr>\n",
       "      <th>1</th>\n",
       "      <td>1</td>\n",
       "      <td>It's not like we lack evidence of anthropogeni...</td>\n",
       "      <td>126103</td>\n",
       "      <td>NaN</td>\n",
       "      <td>NaN</td>\n",
       "      <td>NaN</td>\n",
       "      <td>[it's, not, like, we, lack, evidence, of, anth...</td>\n",
       "      <td>[like, lack, evidence, anthropogenic, global, ...</td>\n",
       "      <td>Pro</td>\n",
       "      <td>62</td>\n",
       "    </tr>\n",
       "    <tr>\n",
       "      <th>3</th>\n",
       "      <td>1</td>\n",
       "      <td>WIRED : 2016 was a pivotal year in the war on...</td>\n",
       "      <td>573736</td>\n",
       "      <td>[#todayinmaker#]</td>\n",
       "      <td>NaN</td>\n",
       "      <td>[https://t.co/44wotxtlcd]</td>\n",
       "      <td>[wired, 2016, was, pivotal, year, in, the, war...</td>\n",
       "      <td>[wired, 2016, pivotal, year, war, climate, cha...</td>\n",
       "      <td>Pro</td>\n",
       "      <td>62</td>\n",
       "    </tr>\n",
       "    <tr>\n",
       "      <th>4</th>\n",
       "      <td>1</td>\n",
       "      <td>: It's 2016, and a racist, sexist, climate ch...</td>\n",
       "      <td>466954</td>\n",
       "      <td>[#electionnight]</td>\n",
       "      <td>[@soynoviodetodas]</td>\n",
       "      <td>NaN</td>\n",
       "      <td>[it's, 2016, and, racist, sexist, climate, cha...</td>\n",
       "      <td>[2016, racist, sexist, climate, change, denyin...</td>\n",
       "      <td>Pro</td>\n",
       "      <td>90</td>\n",
       "    </tr>\n",
       "    <tr>\n",
       "      <th>5</th>\n",
       "      <td>1</td>\n",
       "      <td>Worth a read whether you do or don't believe i...</td>\n",
       "      <td>425577</td>\n",
       "      <td>NaN</td>\n",
       "      <td>NaN</td>\n",
       "      <td>[https://t.co/gglzvnyjun, https://t.co/7afe2ma...</td>\n",
       "      <td>[worth, read, whether, you, do, or, don't, bel...</td>\n",
       "      <td>[worth, read, whether, believe, climate, change]</td>\n",
       "      <td>Pro</td>\n",
       "      <td>64</td>\n",
       "    </tr>\n",
       "  </tbody>\n",
       "</table>\n",
       "</div>"
      ],
      "text/plain": [
       "   sentiment                                            message  tweetid  \\\n",
       "0          1  PolySciMajor EPA chief doesn't think carbon di...   625221   \n",
       "1          1  It's not like we lack evidence of anthropogeni...   126103   \n",
       "3          1   WIRED : 2016 was a pivotal year in the war on...   573736   \n",
       "4          1   : It's 2016, and a racist, sexist, climate ch...   466954   \n",
       "5          1  Worth a read whether you do or don't believe i...   425577   \n",
       "\n",
       "           hashtags            mentions  \\\n",
       "0               NaN         [@mashable]   \n",
       "1               NaN                 NaN   \n",
       "3  [#todayinmaker#]                 NaN   \n",
       "4  [#electionnight]  [@soynoviodetodas]   \n",
       "5               NaN                 NaN   \n",
       "\n",
       "                                                 url  \\\n",
       "0                          [https://t.co/yelvcefxkc]   \n",
       "1                                                NaN   \n",
       "3                          [https://t.co/44wotxtlcd]   \n",
       "4                                                NaN   \n",
       "5  [https://t.co/gglzvnyjun, https://t.co/7afe2ma...   \n",
       "\n",
       "                                      cleaned_tweets  \\\n",
       "0  [polyscimajor, epa, chief, doesn't, think, car...   \n",
       "1  [it's, not, like, we, lack, evidence, of, anth...   \n",
       "3  [wired, 2016, was, pivotal, year, in, the, war...   \n",
       "4  [it's, 2016, and, racist, sexist, climate, cha...   \n",
       "5  [worth, read, whether, you, do, or, don't, bel...   \n",
       "\n",
       "                                        no_stopwords sent_labels  text_length  \n",
       "0  [polyscimajor, epa, chief, think, carbon, diox...         Pro          108  \n",
       "1  [like, lack, evidence, anthropogenic, global, ...         Pro           62  \n",
       "3  [wired, 2016, pivotal, year, war, climate, cha...         Pro           62  \n",
       "4  [2016, racist, sexist, climate, change, denyin...         Pro           90  \n",
       "5   [worth, read, whether, believe, climate, change]         Pro           64  "
      ]
     },
     "execution_count": 16,
     "metadata": {},
     "output_type": "execute_result"
    }
   ],
   "source": [
    "# Dataframe for pro tweets\n",
    "pro_df = train[train['sentiment'] == 1]\n",
    "pro_df.head()"
   ]
  },
  {
   "cell_type": "code",
   "execution_count": 17,
   "id": "e998c353",
   "metadata": {},
   "outputs": [
    {
     "data": {
      "text/html": [
       "<div>\n",
       "<style scoped>\n",
       "    .dataframe tbody tr th:only-of-type {\n",
       "        vertical-align: middle;\n",
       "    }\n",
       "\n",
       "    .dataframe tbody tr th {\n",
       "        vertical-align: top;\n",
       "    }\n",
       "\n",
       "    .dataframe thead th {\n",
       "        text-align: right;\n",
       "    }\n",
       "</style>\n",
       "<table border=\"1\" class=\"dataframe\">\n",
       "  <thead>\n",
       "    <tr style=\"text-align: right;\">\n",
       "      <th></th>\n",
       "      <th>sentiment</th>\n",
       "      <th>message</th>\n",
       "      <th>tweetid</th>\n",
       "      <th>hashtags</th>\n",
       "      <th>mentions</th>\n",
       "      <th>url</th>\n",
       "      <th>cleaned_tweets</th>\n",
       "      <th>no_stopwords</th>\n",
       "      <th>sent_labels</th>\n",
       "      <th>text_length</th>\n",
       "    </tr>\n",
       "  </thead>\n",
       "  <tbody>\n",
       "    <tr>\n",
       "      <th>28</th>\n",
       "      <td>-1</td>\n",
       "      <td>Sally Kohn’s latest evidence of climate change...</td>\n",
       "      <td>355491</td>\n",
       "      <td>NaN</td>\n",
       "      <td>[@twitchyteam]</td>\n",
       "      <td>[https://t.co/mhkzogl9vt]</td>\n",
       "      <td>[sally, kohn, latest, evidence, of, climate, c...</td>\n",
       "      <td>[sally, kohn, latest, evidence, climate, chang...</td>\n",
       "      <td>Anti</td>\n",
       "      <td>104</td>\n",
       "    </tr>\n",
       "    <tr>\n",
       "      <th>46</th>\n",
       "      <td>-1</td>\n",
       "      <td>Carbon Tax is a Globalist idea to enslave the...</td>\n",
       "      <td>61141</td>\n",
       "      <td>NaN</td>\n",
       "      <td>[@realdonaldtrump]</td>\n",
       "      <td>NaN</td>\n",
       "      <td>[carbon, tax, is, globalist, idea, to, enslave...</td>\n",
       "      <td>[carbon, tax, globalist, idea, enslave, world'...</td>\n",
       "      <td>Anti</td>\n",
       "      <td>121</td>\n",
       "    </tr>\n",
       "    <tr>\n",
       "      <th>48</th>\n",
       "      <td>-1</td>\n",
       "      <td>: We had winds close to 100 MPH in the area t...</td>\n",
       "      <td>719523</td>\n",
       "      <td>NaN</td>\n",
       "      <td>[@stevesgoddard]</td>\n",
       "      <td>NaN</td>\n",
       "      <td>[we, had, winds, close, to, 100, mph, in, the,...</td>\n",
       "      <td>[winds, close, 100, mph, area, afternoon, woul...</td>\n",
       "      <td>Anti</td>\n",
       "      <td>120</td>\n",
       "    </tr>\n",
       "    <tr>\n",
       "      <th>56</th>\n",
       "      <td>-1</td>\n",
       "      <td>lmao 😂 snowflakes ❄️ complaining about snowfl...</td>\n",
       "      <td>911385</td>\n",
       "      <td>NaN</td>\n",
       "      <td>[@misslizzynj]</td>\n",
       "      <td>NaN</td>\n",
       "      <td>[lmao, snowflakes, complaining, about, snowfla...</td>\n",
       "      <td>[lmao, snowflakes, complaining, snowflakes, wi...</td>\n",
       "      <td>Anti</td>\n",
       "      <td>84</td>\n",
       "    </tr>\n",
       "    <tr>\n",
       "      <th>57</th>\n",
       "      <td>-1</td>\n",
       "      <td>: This is ONE of Arnold Schwarzenegger's vehi...</td>\n",
       "      <td>768263</td>\n",
       "      <td>NaN</td>\n",
       "      <td>[@dawn2334dawn]</td>\n",
       "      <td>[http…]</td>\n",
       "      <td>[this, is, one, of, arnold, schwarzenegger's, ...</td>\n",
       "      <td>[one, arnold, schwarzenegger's, vehicles, whin...</td>\n",
       "      <td>Anti</td>\n",
       "      <td>122</td>\n",
       "    </tr>\n",
       "  </tbody>\n",
       "</table>\n",
       "</div>"
      ],
      "text/plain": [
       "    sentiment                                            message  tweetid  \\\n",
       "28         -1  Sally Kohn’s latest evidence of climate change...   355491   \n",
       "46         -1   Carbon Tax is a Globalist idea to enslave the...    61141   \n",
       "48         -1   : We had winds close to 100 MPH in the area t...   719523   \n",
       "56         -1   lmao 😂 snowflakes ❄️ complaining about snowfl...   911385   \n",
       "57         -1   : This is ONE of Arnold Schwarzenegger's vehi...   768263   \n",
       "\n",
       "   hashtags            mentions                        url  \\\n",
       "28      NaN      [@twitchyteam]  [https://t.co/mhkzogl9vt]   \n",
       "46      NaN  [@realdonaldtrump]                        NaN   \n",
       "48      NaN    [@stevesgoddard]                        NaN   \n",
       "56      NaN      [@misslizzynj]                        NaN   \n",
       "57      NaN     [@dawn2334dawn]                    [http…]   \n",
       "\n",
       "                                       cleaned_tweets  \\\n",
       "28  [sally, kohn, latest, evidence, of, climate, c...   \n",
       "46  [carbon, tax, is, globalist, idea, to, enslave...   \n",
       "48  [we, had, winds, close, to, 100, mph, in, the,...   \n",
       "56  [lmao, snowflakes, complaining, about, snowfla...   \n",
       "57  [this, is, one, of, arnold, schwarzenegger's, ...   \n",
       "\n",
       "                                         no_stopwords sent_labels  text_length  \n",
       "28  [sally, kohn, latest, evidence, climate, chang...        Anti          104  \n",
       "46  [carbon, tax, globalist, idea, enslave, world'...        Anti          121  \n",
       "48  [winds, close, 100, mph, area, afternoon, woul...        Anti          120  \n",
       "56  [lmao, snowflakes, complaining, snowflakes, wi...        Anti           84  \n",
       "57  [one, arnold, schwarzenegger's, vehicles, whin...        Anti          122  "
      ]
     },
     "execution_count": 17,
     "metadata": {},
     "output_type": "execute_result"
    }
   ],
   "source": [
    "# Dataframe for anti tweets\n",
    "anti_df = train[train['sentiment'] == -1]\n",
    "anti_df.head()"
   ]
  },
  {
   "cell_type": "code",
   "execution_count": 19,
   "id": "1007f970",
   "metadata": {},
   "outputs": [
    {
     "data": {
      "text/html": [
       "<div>\n",
       "<style scoped>\n",
       "    .dataframe tbody tr th:only-of-type {\n",
       "        vertical-align: middle;\n",
       "    }\n",
       "\n",
       "    .dataframe tbody tr th {\n",
       "        vertical-align: top;\n",
       "    }\n",
       "\n",
       "    .dataframe thead th {\n",
       "        text-align: right;\n",
       "    }\n",
       "</style>\n",
       "<table border=\"1\" class=\"dataframe\">\n",
       "  <thead>\n",
       "    <tr style=\"text-align: right;\">\n",
       "      <th></th>\n",
       "      <th>sentiment</th>\n",
       "      <th>message</th>\n",
       "      <th>tweetid</th>\n",
       "      <th>hashtags</th>\n",
       "      <th>mentions</th>\n",
       "      <th>url</th>\n",
       "      <th>cleaned_tweets</th>\n",
       "      <th>no_stopwords</th>\n",
       "      <th>sent_labels</th>\n",
       "      <th>text_length</th>\n",
       "    </tr>\n",
       "  </thead>\n",
       "  <tbody>\n",
       "    <tr>\n",
       "      <th>2</th>\n",
       "      <td>2</td>\n",
       "      <td>: Researchers say we have three years to act ...</td>\n",
       "      <td>698562</td>\n",
       "      <td>NaN</td>\n",
       "      <td>[@rawstory]</td>\n",
       "      <td>[https://t.co/wdt0kdur2f, https://t.co/z0anpt…]</td>\n",
       "      <td>[researchers, say, we, have, three, years, to,...</td>\n",
       "      <td>[researchers, say, three, years, act, climate,...</td>\n",
       "      <td>News</td>\n",
       "      <td>86</td>\n",
       "    </tr>\n",
       "    <tr>\n",
       "      <th>12</th>\n",
       "      <td>2</td>\n",
       "      <td>: We only have a 5 percent chance of avoiding...</td>\n",
       "      <td>454673</td>\n",
       "      <td>NaN</td>\n",
       "      <td>[@tveitdal]</td>\n",
       "      <td>[https://t.co/xubtqnxhkk, https://t.co/of…]</td>\n",
       "      <td>[we, only, have, percent, chance, of, avoiding...</td>\n",
       "      <td>[percent, chance, avoiding, dangerous, global,...</td>\n",
       "      <td>News</td>\n",
       "      <td>90</td>\n",
       "    </tr>\n",
       "    <tr>\n",
       "      <th>14</th>\n",
       "      <td>2</td>\n",
       "      <td>Fossil fuel giant ExxonMobil ‘misled’ the publ...</td>\n",
       "      <td>658092</td>\n",
       "      <td>NaN</td>\n",
       "      <td>NaN</td>\n",
       "      <td>[https://t.co/ofc2wsu4ex]</td>\n",
       "      <td>[fossil, fuel, giant, exxonmobil, misled, the,...</td>\n",
       "      <td>[fossil, fuel, giant, exxonmobil, misled, publ...</td>\n",
       "      <td>News</td>\n",
       "      <td>98</td>\n",
       "    </tr>\n",
       "    <tr>\n",
       "      <th>26</th>\n",
       "      <td>2</td>\n",
       "      <td>Bangladesh confronting climate change head on</td>\n",
       "      <td>365291</td>\n",
       "      <td>NaN</td>\n",
       "      <td>NaN</td>\n",
       "      <td>[https://t.co/mtqenbqdut, https://t.co/itgkuxg...</td>\n",
       "      <td>[bangladesh, confronting, climate, change, hea...</td>\n",
       "      <td>[bangladesh, confronting, climate, change, head]</td>\n",
       "      <td>News</td>\n",
       "      <td>47</td>\n",
       "    </tr>\n",
       "    <tr>\n",
       "      <th>32</th>\n",
       "      <td>2</td>\n",
       "      <td>: Atmospheric rivers fueled by climate change...</td>\n",
       "      <td>143471</td>\n",
       "      <td>NaN</td>\n",
       "      <td>[@latimes]</td>\n",
       "      <td>[https://t.co/p0lzbhlu5k, https://t…]</td>\n",
       "      <td>[atmospheric, rivers, fueled, by, climate, cha...</td>\n",
       "      <td>[atmospheric, rivers, fueled, climate, change,...</td>\n",
       "      <td>News</td>\n",
       "      <td>97</td>\n",
       "    </tr>\n",
       "  </tbody>\n",
       "</table>\n",
       "</div>"
      ],
      "text/plain": [
       "    sentiment                                            message  tweetid  \\\n",
       "2           2   : Researchers say we have three years to act ...   698562   \n",
       "12          2   : We only have a 5 percent chance of avoiding...   454673   \n",
       "14          2  Fossil fuel giant ExxonMobil ‘misled’ the publ...   658092   \n",
       "26          2    Bangladesh confronting climate change head on     365291   \n",
       "32          2   : Atmospheric rivers fueled by climate change...   143471   \n",
       "\n",
       "   hashtags     mentions                                                url  \\\n",
       "2       NaN  [@rawstory]    [https://t.co/wdt0kdur2f, https://t.co/z0anpt…]   \n",
       "12      NaN  [@tveitdal]        [https://t.co/xubtqnxhkk, https://t.co/of…]   \n",
       "14      NaN          NaN                          [https://t.co/ofc2wsu4ex]   \n",
       "26      NaN          NaN  [https://t.co/mtqenbqdut, https://t.co/itgkuxg...   \n",
       "32      NaN   [@latimes]              [https://t.co/p0lzbhlu5k, https://t…]   \n",
       "\n",
       "                                       cleaned_tweets  \\\n",
       "2   [researchers, say, we, have, three, years, to,...   \n",
       "12  [we, only, have, percent, chance, of, avoiding...   \n",
       "14  [fossil, fuel, giant, exxonmobil, misled, the,...   \n",
       "26  [bangladesh, confronting, climate, change, hea...   \n",
       "32  [atmospheric, rivers, fueled, by, climate, cha...   \n",
       "\n",
       "                                         no_stopwords sent_labels  text_length  \n",
       "2   [researchers, say, three, years, act, climate,...        News           86  \n",
       "12  [percent, chance, avoiding, dangerous, global,...        News           90  \n",
       "14  [fossil, fuel, giant, exxonmobil, misled, publ...        News           98  \n",
       "26   [bangladesh, confronting, climate, change, head]        News           47  \n",
       "32  [atmospheric, rivers, fueled, climate, change,...        News           97  "
      ]
     },
     "execution_count": 19,
     "metadata": {},
     "output_type": "execute_result"
    }
   ],
   "source": [
    "# Dataframe for news tweets\n",
    "news_df = train[train['sentiment'] == 2]\n",
    "news_df.head()"
   ]
  },
  {
   "cell_type": "markdown",
   "id": "fbe6f37a",
   "metadata": {},
   "source": [
    "<a id='EDA'></a>\n",
    "# Exploratory Data Analysis \n",
    "\n",
    "In this section we want to apply a variety of techniques to maximize specific insights into a dataset, reveal underlying structure, extract significant variables, detect outliers and anomalies, test assumptions, develop models, and determine best parameters for estimations. In essence, we want to dig deeper into our dataset to more insights about its behaviour!"
   ]
  },
  {
   "cell_type": "markdown",
   "id": "3963cd20",
   "metadata": {},
   "source": [
    "<a id='Target'></a>\n",
    "### Explore the target variable\n",
    "\n",
    "We want to understand the behaviour of our target variable for our respective categories...let's dig in ⛏!"
   ]
  },
  {
   "cell_type": "code",
   "execution_count": 40,
   "id": "11ec63f5",
   "metadata": {},
   "outputs": [
    {
     "name": "stdout",
     "output_type": "stream",
     "text": [
      "Percentage contribution:\n",
      " Pro        53.922498\n",
      "News       23.010304\n",
      "Neutral    14.874518\n",
      "Anti        8.192680\n",
      "Name: sent_labels, dtype: float64\n"
     ]
    },
    {
     "data": {
      "text/plain": [
       "None"
      ]
     },
     "metadata": {},
     "output_type": "display_data"
    },
    {
     "name": "stderr",
     "output_type": "stream",
     "text": [
      "C:\\Users\\tebel\\anaconda3\\lib\\site-packages\\seaborn\\_decorators.py:36: FutureWarning: Pass the following variable as a keyword arg: x. From version 0.12, the only valid positional argument will be `data`, and passing other arguments without an explicit keyword will result in an error or misinterpretation.\n",
      "  warnings.warn(\n"
     ]
    },
    {
     "data": {
      "image/png": "[encoded data removed]",
      "text/plain": [
       "<Figure size 2000x1000 with 2 Axes>"
      ]
     },
     "metadata": {
      "needs_background": "light"
     },
     "output_type": "display_data"
    }
   ],
   "source": [
    "# Display target distribution\n",
    "\n",
    "display(print(\"Percentage contribution:\\n\",train.sent_labels.value_counts(normalize=True)*100))\n",
    "\n",
    "fig, axes = plt.subplots(ncols=2, \n",
    "                         nrows=1, \n",
    "                         figsize=(20, 10), \n",
    "                         dpi=100)\n",
    "\n",
    "sns.countplot(train['sent_labels'], ax=axes[0])\n",
    "\n",
    "code_labels=['Pro', 'News', 'Neutral', 'Anti']\n",
    "axes[1].pie(train['sent_labels'].value_counts(),\n",
    "            labels= code_labels,\n",
    "            autopct='%1.0f%%',\n",
    "            startangle=90,\n",
    "            explode = (0.1, 0.1, 0.1, 0.1))\n",
    "\n",
    "fig.suptitle('Count for each sentiment class', fontsize=20)\n",
    "plt.show()"
   ]
  },
  {
   "cell_type": "code",
   "execution_count": 41,
   "id": "d0affb83",
   "metadata": {},
   "outputs": [
    {
     "data": {
      "image/png": "[encoded data removed]",
      "text/plain": [
       "<Figure size 864x360 with 1 Axes>"
      ]
     },
     "metadata": {
      "needs_background": "light"
     },
     "output_type": "display_data"
    }
   ],
   "source": [
    "from pylab import rcParams\n",
    "rcParams['figure.figsize'] = 12, 5\n",
    "\n",
    "sns.boxplot(x=train['sent_labels'], y=train['text_length'], \n",
    "            data=train, width = 0.9, color = 'red')\n",
    "plt.ylabel('Lenght of the message')\n",
    "plt.xlabel('Sentiment class')\n",
    "plt.title('Message length for each sentiment class')\n",
    "plt.show()"
   ]
  },
  {
   "cell_type": "markdown",
   "id": "e5aaff77",
   "metadata": {},
   "source": [
    "#### Quick observations:\n",
    "* There is a strong imbalance for our sentiment classes\n",
    "* Sentiment class '1' (Pro) dominates the chart with over 50% contribution, while class '-1' (Anti) lags behind with 8%.\n",
    "* The text length is dependent on the character limit of each tweet on Twitter. Character limit used to be 140, but it increased to 280 characters in late 2017.\n",
    "* There are evident outliers in all classes, except for 'neutral' sentiment where all the data is taken in.\n",
    "* It is evident that the 'pro' class had a lot to say to express their opinion, as shown by more lenghty message in the outliers. "
   ]
  },
  {
   "cell_type": "code",
   "execution_count": 42,
   "id": "7cd5afc5",
   "metadata": {},
   "outputs": [
    {
     "name": "stdout",
     "output_type": "stream",
     "text": [
      " : It's 2016, and a racist, sexist, climate change denying bigot is leading in the polls. \n"
     ]
    }
   ],
   "source": [
    "# Print a Sample tweet\n",
    "tweet = train.iloc[4,1]\n",
    "print(tweet)"
   ]
  },
  {
   "cell_type": "code",
   "execution_count": 43,
   "id": "2f1ae0cf",
   "metadata": {},
   "outputs": [
    {
     "name": "stdout",
     "output_type": "stream",
     "text": [
      "15819\n",
      "0\n"
     ]
    }
   ],
   "source": [
    "# Checking whether a character is white-space character or not\n",
    "print(len(train['message']))\n",
    "print(sum(train['message'].apply(lambda x: x.isspace())))"
   ]
  },
  {
   "cell_type": "code",
   "execution_count": 22,
   "id": "a500e7d5",
   "metadata": {},
   "outputs": [
    {
     "name": "stdout",
     "output_type": "stream",
     "text": [
      "Requirement already satisfied: langdetect in c:\\users\\tebel\\anaconda3\\lib\\site-packages (1.0.9)\n",
      "Requirement already satisfied: six in c:\\users\\tebel\\anaconda3\\lib\\site-packages (from langdetect) (1.15.0)\n"
     ]
    }
   ],
   "source": [
    "!pip install langdetect"
   ]
  },
  {
   "cell_type": "code",
   "execution_count": 44,
   "id": "130eb608",
   "metadata": {},
   "outputs": [
    {
     "data": {
      "image/png": "[encoded data removed]",
      "text/plain": [
       "<Figure size 864x360 with 1 Axes>"
      ]
     },
     "metadata": {
      "needs_background": "light"
     },
     "output_type": "display_data"
    }
   ],
   "source": [
    "train.sentiment.value_counts().plot(kind='bar')\n",
    "plt.title('Number of observations in a train dataset')\n",
    "plt.show()"
   ]
  },
  {
   "cell_type": "markdown",
   "id": "ee654418",
   "metadata": {},
   "source": [
    "The graph above shows an imbalance of texts"
   ]
  },
  {
   "cell_type": "code",
   "execution_count": 33,
   "id": "08845a97",
   "metadata": {},
   "outputs": [
    {
     "data": {
      "image/png": "[encoded data removed]",
      "text/plain": [
       "<Figure size 432x288 with 1 Axes>"
      ]
     },
     "metadata": {
      "needs_background": "light"
     },
     "output_type": "display_data"
    }
   ],
   "source": [
    "sns.countplot(x='sentiment',data=train,palette='rocket')\n",
    "plt.show()"
   ]
  },
  {
   "cell_type": "markdown",
   "id": "2ec1e5fd",
   "metadata": {},
   "source": [
    "Check the distribution of data"
   ]
  },
  {
   "cell_type": "markdown",
   "id": "93554534",
   "metadata": {},
   "source": [
    "Plot list of common words"
   ]
  },
  {
   "cell_type": "code",
   "execution_count": 45,
   "id": "073537b5",
   "metadata": {},
   "outputs": [
    {
     "ename": "NameError",
     "evalue": "name 'train_df' is not defined",
     "output_type": "error",
     "traceback": [
      "\u001b[1;31m---------------------------------------------------------------------------\u001b[0m",
      "\u001b[1;31mNameError\u001b[0m                                 Traceback (most recent call last)",
      "\u001b[1;32m<ipython-input-45-d5179970c83a>\u001b[0m in \u001b[0;36m<module>\u001b[1;34m\u001b[0m\n\u001b[0;32m      2\u001b[0m \u001b[1;32mfrom\u001b[0m \u001b[0msklearn\u001b[0m\u001b[1;33m.\u001b[0m\u001b[0mfeature_extraction\u001b[0m\u001b[1;33m.\u001b[0m\u001b[0mtext\u001b[0m \u001b[1;32mimport\u001b[0m \u001b[0mCountVectorizer\u001b[0m\u001b[1;33m\u001b[0m\u001b[1;33m\u001b[0m\u001b[0m\n\u001b[0;32m      3\u001b[0m \u001b[0mcv\u001b[0m \u001b[1;33m=\u001b[0m \u001b[0mCountVectorizer\u001b[0m\u001b[1;33m(\u001b[0m\u001b[0mstop_words\u001b[0m \u001b[1;33m=\u001b[0m \u001b[1;34m'english'\u001b[0m\u001b[1;33m)\u001b[0m\u001b[1;33m\u001b[0m\u001b[1;33m\u001b[0m\u001b[0m\n\u001b[1;32m----> 4\u001b[1;33m \u001b[0mwords\u001b[0m \u001b[1;33m=\u001b[0m \u001b[0mcv\u001b[0m\u001b[1;33m.\u001b[0m\u001b[0mfit_transform\u001b[0m\u001b[1;33m(\u001b[0m\u001b[0mtrain_df\u001b[0m\u001b[1;33m.\u001b[0m\u001b[0mmessage\u001b[0m\u001b[1;33m)\u001b[0m\u001b[1;33m\u001b[0m\u001b[1;33m\u001b[0m\u001b[0m\n\u001b[0m\u001b[0;32m      5\u001b[0m \u001b[1;33m\u001b[0m\u001b[0m\n\u001b[0;32m      6\u001b[0m \u001b[0msum_words\u001b[0m \u001b[1;33m=\u001b[0m \u001b[0mwords\u001b[0m\u001b[1;33m.\u001b[0m\u001b[0msum\u001b[0m\u001b[1;33m(\u001b[0m\u001b[0maxis\u001b[0m\u001b[1;33m=\u001b[0m\u001b[1;36m0\u001b[0m\u001b[1;33m)\u001b[0m\u001b[1;33m\u001b[0m\u001b[1;33m\u001b[0m\u001b[0m\n",
      "\u001b[1;31mNameError\u001b[0m: name 'train_df' is not defined"
     ]
    }
   ],
   "source": [
    "#convert the test to numerical values \n",
    "from sklearn.feature_extraction.text import CountVectorizer\n",
    "cv = CountVectorizer(stop_words = 'english')\n",
    "words = cv.fit_transform(train_df.message)\n",
    "\n",
    "sum_words = words.sum(axis=0)\n",
    "#create a frequency of most occuring words\n",
    "words_freq = [(word, sum_words[0, i]) for word, i in cv.vocabulary_.items()]\n",
    "words_freq = sorted(words_freq, key = lambda x: x[1], reverse = True)\n",
    "#create a dataframe of the words and frequency \n",
    "frequency = pd.DataFrame(words_freq, columns=['word', 'freq'])\n",
    "\n",
    "frequency.head(30).plot(x='word', y='freq', kind='bar', figsize=(15, 7), color = '#440154')\n",
    "plt.title(\"Train data : Most Common Occuring Words - Top 30\",size=15)\n",
    "plt.show()"
   ]
  },
  {
   "cell_type": "markdown",
   "id": "e7f487f5",
   "metadata": {},
   "source": [
    "We can see we used \"climate\" and \"change\" more than twice other words, followed by \"global\" and \"warning\", then \"trump\" while others are almost the same."
   ]
  },
  {
   "cell_type": "markdown",
   "id": "bf80476e",
   "metadata": {},
   "source": [
    "<a id='Hashtags'></a>\n",
    "### Hashtags for sentiment classes\n",
    "`Hashtags` are the best way used on twitter to link the conversions of similar content. Hashtags encourage social media users to explore content that catches their eye. Companies can use hashtags to reach their target audience and to help members filter information. It is for this reason that we will then collect most sed hashtags for each sentiment class. "
   ]
  },
  {
   "cell_type": "code",
   "execution_count": 20,
   "id": "d3712e1c",
   "metadata": {},
   "outputs": [],
   "source": [
    "# Create hashtag df and remove nulls \n",
    "def hashtags(df):\n",
    "    '''\n",
    "    This function takes in a dataframe as input.\n",
    "    It returns dataframe with no null values.\n",
    "    '''\n",
    "    df = df[['hashtags', 'sent_labels']]\n",
    "    df = df[df['hashtags'].notnull()]\n",
    "    return df"
   ]
  },
  {
   "cell_type": "code",
   "execution_count": 47,
   "id": "7928d9a2",
   "metadata": {},
   "outputs": [
    {
     "data": {
      "text/html": [
       "<div>\n",
       "<style scoped>\n",
       "    .dataframe tbody tr th:only-of-type {\n",
       "        vertical-align: middle;\n",
       "    }\n",
       "\n",
       "    .dataframe tbody tr th {\n",
       "        vertical-align: top;\n",
       "    }\n",
       "\n",
       "    .dataframe thead th {\n",
       "        text-align: right;\n",
       "    }\n",
       "</style>\n",
       "<table border=\"1\" class=\"dataframe\">\n",
       "  <thead>\n",
       "    <tr style=\"text-align: right;\">\n",
       "      <th></th>\n",
       "      <th>hashtags</th>\n",
       "      <th>sent_labels</th>\n",
       "    </tr>\n",
       "  </thead>\n",
       "  <tbody>\n",
       "    <tr>\n",
       "      <th>49</th>\n",
       "      <td>[#climate]</td>\n",
       "      <td>News</td>\n",
       "    </tr>\n",
       "    <tr>\n",
       "      <th>133</th>\n",
       "      <td>[#climatechange]</td>\n",
       "      <td>News</td>\n",
       "    </tr>\n",
       "    <tr>\n",
       "      <th>190</th>\n",
       "      <td>[#climatechange, #p2]</td>\n",
       "      <td>News</td>\n",
       "    </tr>\n",
       "    <tr>\n",
       "      <th>191</th>\n",
       "      <td>[#climate]</td>\n",
       "      <td>News</td>\n",
       "    </tr>\n",
       "    <tr>\n",
       "      <th>208</th>\n",
       "      <td>[#skpol…]</td>\n",
       "      <td>News</td>\n",
       "    </tr>\n",
       "  </tbody>\n",
       "</table>\n",
       "</div>"
      ],
      "text/plain": [
       "                  hashtags sent_labels\n",
       "49              [#climate]        News\n",
       "133       [#climatechange]        News\n",
       "190  [#climatechange, #p2]        News\n",
       "191             [#climate]        News\n",
       "208              [#skpol…]        News"
      ]
     },
     "execution_count": 47,
     "metadata": {},
     "output_type": "execute_result"
    }
   ],
   "source": [
    "hashtags(news_df).head()"
   ]
  },
  {
   "cell_type": "code",
   "execution_count": 21,
   "id": "2d7342a0",
   "metadata": {},
   "outputs": [],
   "source": [
    "def hashtag_count(df):\n",
    "    '''\n",
    "    This function takes a dataframe as input.\n",
    "    It returns a dataframe with count for hashtags.\n",
    "    '''\n",
    "    hashtag = sum(df['hashtags'], [])\n",
    "    count = nltk.FreqDist(hashtag)  \n",
    "    hashtag = pd.DataFrame({'hashtags': list(count.keys()),\n",
    "                           'count': list(count.values())})\n",
    "    hashtag = hashtag.nlargest(20, columns=\"count\")\n",
    "\n",
    "    return hashtag"
   ]
  },
  {
   "cell_type": "code",
   "execution_count": 49,
   "id": "c0a95298",
   "metadata": {},
   "outputs": [
    {
     "data": {
      "text/html": [
       "<div>\n",
       "<style scoped>\n",
       "    .dataframe tbody tr th:only-of-type {\n",
       "        vertical-align: middle;\n",
       "    }\n",
       "\n",
       "    .dataframe tbody tr th {\n",
       "        vertical-align: top;\n",
       "    }\n",
       "\n",
       "    .dataframe thead th {\n",
       "        text-align: right;\n",
       "    }\n",
       "</style>\n",
       "<table border=\"1\" class=\"dataframe\">\n",
       "  <thead>\n",
       "    <tr style=\"text-align: right;\">\n",
       "      <th></th>\n",
       "      <th>hashtags</th>\n",
       "      <th>count</th>\n",
       "    </tr>\n",
       "  </thead>\n",
       "  <tbody>\n",
       "    <tr>\n",
       "      <th>0</th>\n",
       "      <td>#climate</td>\n",
       "      <td>132</td>\n",
       "    </tr>\n",
       "    <tr>\n",
       "      <th>1</th>\n",
       "      <td>#climatechange</td>\n",
       "      <td>61</td>\n",
       "    </tr>\n",
       "    <tr>\n",
       "      <th>5</th>\n",
       "      <td>#environment</td>\n",
       "      <td>45</td>\n",
       "    </tr>\n",
       "    <tr>\n",
       "      <th>22</th>\n",
       "      <td>#news</td>\n",
       "      <td>31</td>\n",
       "    </tr>\n",
       "    <tr>\n",
       "      <th>56</th>\n",
       "      <td>#trump</td>\n",
       "      <td>19</td>\n",
       "    </tr>\n",
       "  </tbody>\n",
       "</table>\n",
       "</div>"
      ],
      "text/plain": [
       "          hashtags  count\n",
       "0         #climate    132\n",
       "1   #climatechange     61\n",
       "5     #environment     45\n",
       "22           #news     31\n",
       "56          #trump     19"
      ]
     },
     "execution_count": 49,
     "metadata": {},
     "output_type": "execute_result"
    }
   ],
   "source": [
    "hashtag_count(hashtags(news_df)).head()"
   ]
  },
  {
   "cell_type": "code",
   "execution_count": 50,
   "id": "dc246ca8",
   "metadata": {},
   "outputs": [],
   "source": [
    "# Visualize the count for each class\n",
    "def hastag_plot(df, x):\n",
    "    '''\n",
    "    This function plots a barplot for an iput dataframe, \n",
    "    given x as the title of the plot.\n",
    "    '''\n",
    "    plt.figure(figsize=(12, 6))\n",
    "    ax = sns.barplot(data=df, y =df['hashtags'], x =df['count'], orient='h', color = 'orange')\n",
    "    plt.title(x,fontsize=14)\n",
    "    plt.xlabel('Hashtag Count')\n",
    "    plt.ylabel('Hashtags Used')\n",
    "    return plt.show()"
   ]
  },
  {
   "cell_type": "code",
   "execution_count": 51,
   "id": "ea635df3",
   "metadata": {},
   "outputs": [
    {
     "data": {
      "image/png": "[encoded data removed]",
      "text/plain": [
       "<Figure size 864x432 with 1 Axes>"
      ]
     },
     "metadata": {
      "needs_background": "light"
     },
     "output_type": "display_data"
    }
   ],
   "source": [
    "hastag_plot(hashtag_count(hashtags(train)), x = 'Top 20 hashtags from the whole data')"
   ]
  },
  {
   "cell_type": "code",
   "execution_count": 52,
   "id": "dfc48342",
   "metadata": {},
   "outputs": [
    {
     "data": {
      "image/png": "[encoded data removed]",
      "text/plain": [
       "<Figure size 864x432 with 1 Axes>"
      ]
     },
     "metadata": {
      "needs_background": "light"
     },
     "output_type": "display_data"
    }
   ],
   "source": [
    "hastag_plot(hashtag_count(hashtags(news_df)), x = 'Top 20 hashtags for News Sentiment')"
   ]
  },
  {
   "cell_type": "code",
   "execution_count": 45,
   "id": "b34e987e",
   "metadata": {},
   "outputs": [
    {
     "data": {
      "image/png": "[encoded data removed]",
      "text/plain": [
       "<Figure size 864x432 with 1 Axes>"
      ]
     },
     "metadata": {
      "needs_background": "light"
     },
     "output_type": "display_data"
    }
   ],
   "source": [
    "hastag_plot(hashtag_count(hashtags(pro_df)), x = 'Top 20 hashtags for Pro Sentiment')"
   ]
  },
  {
   "cell_type": "code",
   "execution_count": 46,
   "id": "d976729a",
   "metadata": {},
   "outputs": [
    {
     "data": {
      "image/png": "[encoded data removed]",
      "text/plain": [
       "<Figure size 864x432 with 1 Axes>"
      ]
     },
     "metadata": {
      "needs_background": "light"
     },
     "output_type": "display_data"
    }
   ],
   "source": [
    "hastag_plot(hashtag_count(hashtags(neutral_df)), x = 'Top 20 hashtags for neutral Sentiment')"
   ]
  },
  {
   "cell_type": "code",
   "execution_count": 47,
   "id": "e6f57144",
   "metadata": {},
   "outputs": [
    {
     "data": {
      "image/png": "[encoded data removed]",
      "text/plain": [
       "<Figure size 864x432 with 1 Axes>"
      ]
     },
     "metadata": {
      "needs_background": "light"
     },
     "output_type": "display_data"
    }
   ],
   "source": [
    "hastag_plot(hashtag_count(hashtags(anti_df)), x = 'Top 20 hashtags for anti Sentiment')"
   ]
  },
  {
   "cell_type": "markdown",
   "id": "f036bcea",
   "metadata": {},
   "source": [
    "##### Quick Insights:\n",
    "`Top 5 Hashtags Summary:`"
   ]
  },
  {
   "cell_type": "markdown",
   "id": "4d6a7416",
   "metadata": {},
   "source": [
    "|Overall |News|Pro|Neutral|Anti|\n",
    "|:-----|:----:|----:|----:|----:|\n",
    "|#climate |#climate |#climate |#climate |#maga |\n",
    "|#climatechange |#climatechange |#beforetheflood |#climatechange |#climate |\n",
    "|#beforetheflood |#environment |#climatechange |#trump |#trump |\n",
    "|#environment |#news |#imvotingbecause |#beforetheflood |#climatechange |\n",
    "|#trump |#trump |#cop22 |#amreading |#globalwarming |\n"
   ]
  },
  {
   "cell_type": "markdown",
   "id": "a5bcaa96",
   "metadata": {},
   "source": [
    "* Overall, #climatechange and #climate are at the top of the charts as expected, they are the words used to identify tweets that identify climate change content.\n",
    "* #BeforeTheFlood was trending in the year 2016 following the documentray by Actor Leonardo DiCaprio with scientists, activists and world leaders to discuss the dangers of climate change and possible solutions.\n",
    "* In the same year; 2016, the outgoing president of U.S.A was canvassing for presidency and he had made his stand clear on Climate Change clear to the public describing it as a \"hoax\". That accounts for his name appearing across all sentiment classes.\n",
    "* In his campaign, he used the slogan #MAGA which stands for \"Make America Great Again\". This appears to have attracted more tweets for tweets in the 'anti' class, making it to the top spot.\n",
    "* It is for this reason that #iamvotingbecause was at the top for 'pro' class as it was election year in the United States of America.\n",
    "* We can notice that #cop22 also made it to top 5 in the 'pro' class. COP22 (Conference of the Parties) represents the United Nations Climate Change Conference in 2016."
   ]
  },
  {
   "cell_type": "markdown",
   "id": "902af272",
   "metadata": {},
   "source": [
    "<a id='models'></a>\n",
    "# Classification Models\n",
    "We're going to look at the following models:"
   ]
  },
  {
   "cell_type": "markdown",
   "id": "a76fb16d",
   "metadata": {},
   "source": [
    "*  Decision Tree Classifier\n",
    "*  RandomForest Classifier\n",
    "*  LinearSVC(Support Vector Classifier)\n",
    "*  Support Vector Classifier\n",
    "*  Logistic Regression\n",
    "*  Stochastic Gradient Descent (SGD)\n",
    "*  Ridge Classiffier\n"
   ]
  },
  {
   "cell_type": "markdown",
   "id": "ca28a519",
   "metadata": {},
   "source": [
    "<a id='DC'></a>\n",
    "### Decision Tree Classifier\n",
    "A decision tree is a decision support tool that uses a tree-like graph or model of decisions and their possible consequences. It is one way to display an algorithm that only contains conditional control statements.\n",
    "\n",
    "Decision trees are extremely intuitive ways to classify objects or predict continuous values: you simply ask a series of questions designed to zero-in on the classification/prediction.Overfitting turns out to be a general property of decision trees: it is very easy to go too deep in the tree, and thus to fit details of the particular data rather than the overall properties of the distributions they are drawn from. This issue can be addressed by using random forests.\n",
    "![1*bcLAJfWN2GpVQNTVOCrrvw.png](https://miro.medium.com/max/688/1*bcLAJfWN2GpVQNTVOCrrvw.png)\n"
   ]
  },
  {
   "cell_type": "markdown",
   "id": "f635913b",
   "metadata": {},
   "source": [
    "<a id='random'></a>\n",
    "### Random Forest Classifier\n",
    "A random forest is a powerful non-parametric algorithm that is an example of an ensemble method built on decision trees, meaning that it relies on aggregating the results of an ensemble of decision trees. The ensemble of trees are randomized and the output is the mode of the classes (classification) or mean prediction (regression) of the individual trees.\n",
    "![voting_dnjweq.jpg](https://res.cloudinary.com/dyd911kmh/image/upload/f_auto,q_auto:best/v1526467744/voting_dnjweq.jpg)\n",
    "\n"
   ]
  },
  {
   "cell_type": "markdown",
   "id": "b843a91e",
   "metadata": {},
   "source": [
    "## Support Vector Classification(LinearSVC)\n",
    "SVM or Support Vector Machine is a linear model for classification and regression problems. It can solve linear and non-linear problems and work well for many practical problems. The idea of SVM is simple: The algorithm creates a line or a hyperplane which separates the data into classes as seen in the diagram below\n",
    "\n",
    "![1*dh0lzq0QNCOyRlX1Ot4Vow.jpeg](https://miro.medium.com/max/963/1*dh0lzq0QNCOyRlX1Ot4Vow.jpeg)\n",
    "\n",
    "To better explain the concept of `SVM` we will look at a case of two classes.\n",
    "\n",
    "**To find the best line seperating the classes**\n",
    "\n",
    "The `SVM` algorithm finds the points closest to the line from both the classes.These points are called support vectors, then it compute the distance between the line and the support vectors, This distance is called the margin. Our goal is to maximize the margin.\n",
    "\n",
    "In a case for more than two classes the goal is to find the the best hyperplane that seperates the classes.\n",
    "The hyperplane for which the margin is maximum is the optimal hyperplane."
   ]
  },
  {
   "cell_type": "markdown",
   "id": "612a8f0d",
   "metadata": {},
   "source": [
    "We wil be looking at two Support Vector Classifer models namely SVC and LinearSVC, the main differences between these two are as follows\n",
    "- By default scaling, LinearSVC minimizes the squared hinge loss while SVC minimizes the regular hinge loss.\n",
    "- LinearSVC uses the One-vs-All (also known as One-vs-Rest) multiclass reduction while SVCuses the One-vs-One multiclass reduction."
   ]
  },
  {
   "cell_type": "markdown",
   "id": "7ee00ff9",
   "metadata": {},
   "source": [
    "## Logistic Regression"
   ]
  },
  {
   "cell_type": "markdown",
   "id": "fcb59a63",
   "metadata": {},
   "source": [
    "**Logistic regression** is a statistical method for predicting binary classes. The outcome or target variable is dichotomous in nature. Dichotomous means there are only two possible classes. For example, it can be used for cancer detection problems. It computes the probability of an event occurrence.\n",
    "\n",
    "Logistic Regression uses the probability of a data point to belonging to a certain class to classify each datapoint to it's best estimated class\n",
    "\n",
    "Logistic regression has been rated as the best performing model for linearly separable data especially if it's predicting binary data(Yes & NO or 1 & 0), and performs better when there's no class imbalance.\n",
    "\n",
    "The figure below is the sigmoid function logistic regression models use to make predictions:\n",
    "![1*QY3CSyA4BzAU6sEPFwp9ZQ.png](http://miro.medium.com/max/725/1*QY3CSyA4BzAU6sEPFwp9ZQ.png)\n",
    "\n",
    "\n",
    "\n",
    "Advantages\n",
    "* Convenient probability scores for observations (probability of each outcome is transformed into a classification);\n",
    "* Not a major issue if there is collinearity among features (much worse with linear regression).\n",
    "\n",
    "Disadvantages\n",
    "* Can overfit when data is unbalanced (i.e.: we have far more observations in one class than the other).\n",
    "* Doesn't handle large number of categorical variables well."
   ]
  },
  {
   "cell_type": "markdown",
   "id": "4a685e2f",
   "metadata": {},
   "source": [
    "## Stochastic Gradient Descent"
   ]
  },
  {
   "cell_type": "markdown",
   "id": "c5b98c54",
   "metadata": {},
   "source": [
    "**Stochastic Gradient Descent (SGD)** is a simple yet very efficient approach to fitting linear classifiers and regressors under convex loss functions such as (linear) Support Vector Machines and Logistic Regression. Even though SGD has been around in the machine learning community for a long time, it has received a considerable amount of attention just recently in the context of large-scale learning.\n",
    "\n",
    "in Stochastic Gradient Descent, a few samples are selected randomly instead of the whole data set for each iteration.\n",
    "\n",
    "The advantages of Stochastic Gradient Descent are:\n",
    "* Efficiency.\n",
    "* Ease of implementation (lots of opportunities for code tuning).\n",
    "\n",
    "\n",
    "The disadvantages of Stochastic Gradient Descent include:\n",
    "* SGD requires a number of hyperparameters such as the regularization parameter and the number of iterations.\n",
    "* SGD is sensitive to feature scaling."
   ]
  },
  {
   "cell_type": "markdown",
   "id": "8d2ef33e",
   "metadata": {},
   "source": [
    "## Ridge Classifier"
   ]
  },
  {
   "cell_type": "markdown",
   "id": "63d318ca",
   "metadata": {},
   "source": [
    "This Ridge classifier first converts the target values into {-1, 1} and then treats the problem as a regression task (multi-output regression in the multiclass case) \n",
    "\n",
    "Ridge Regression is a technique for analyzing multiple regression data that suffer from multicollinearity. When\n",
    "multicollinearity occurs, least squares estimates are unbiased, but their variances are large so they may be far from\n",
    "the true value. By adding a degree of bias to the regression estimates, ridge regression reduces the standard errors.\n",
    "It is hoped that the net effect will be to give estimates that are more reliable. Another biased regression technique,\n",
    "principal components regression, is also available in NCSS. Ridge regression is the more popular of the two\n",
    "methods."
   ]
  },
  {
   "cell_type": "markdown",
   "id": "250c6143",
   "metadata": {},
   "source": [
    "<a id='feature_engineering'></a>\n",
    "# Feature Engineering\n",
    "We will be looking at two methods of generating features namely, `tfidfVectorizer` and `CountVectorizer`\n"
   ]
  },
  {
   "cell_type": "markdown",
   "id": "68c81ee1",
   "metadata": {},
   "source": [
    "<a id='tfidf'></a>\n",
    "### TFIDF"
   ]
  },
  {
   "cell_type": "markdown",
   "id": "b41a54ca",
   "metadata": {},
   "source": [
    "`TF-IDF` stands for Term Frequency — Inverse Document Frequency and is a statistic that aims to better define how important a word is for a document, while also taking into account the relation to other documents from the same corpus.\n",
    "This is performed by looking at how many times a word appears into a document while also paying attention to how many times the same word appears in other documents in the corpus.\n",
    "`vocabulary_` Is a dictionary that converts each word in the text to feature index in the matrix, each unique token gets a feature index.\n",
    " "
   ]
  },
  {
   "cell_type": "markdown",
   "id": "a7a67595",
   "metadata": {},
   "source": [
    "<a id='count'></a>\n",
    "### CountVectorizer\n",
    "\n",
    "The `CountVectorizer` provides a simple way to both tokenize a collection of text documents and build a vocabulary of known words, but also to encode new documents using that vocabulary by creating a matrix in which each unique word is represented by a column of the matrix, and each text sample from the document is a row in the matrix."
   ]
  },
  {
   "cell_type": "code",
   "execution_count": 22,
   "id": "51a07cdb",
   "metadata": {},
   "outputs": [
    {
     "name": "stderr",
     "output_type": "stream",
     "text": [
      "[nltk_data] Downloading package wordnet to\n",
      "[nltk_data]     C:\\Users\\tebel\\AppData\\Roaming\\nltk_data...\n",
      "[nltk_data]   Package wordnet is already up-to-date!\n"
     ]
    }
   ],
   "source": [
    "# Data preprocessing for model building\n",
    "\n",
    "train = train.copy()\n",
    "test = test.copy()\n",
    "normalizer = WordNetLemmatizer()\n",
    "nltk.download('wordnet')\n",
    "\n",
    "def replace_sentiments(df):\n",
    "    df['message'] = df['message'].apply(lambda x: x.replace('global', 'neutral'))\n",
    "    df['message'] = df['message'].apply(lambda x: x.replace('climate', 'positive'))\n",
    "    df['message'] = df['message'].apply(lambda x: x.replace('MAGA', 'negative')) \n",
    "\n",
    "    return df['message']\n",
    "\n",
    "train['message'] = replace_sentiments(train)\n",
    "test['message'] = replace_sentiments(test)\n",
    "\n",
    "# cleaning tweets\n",
    "train['clean_tweets'] = clean_tweets(train)\n",
    "test['clean_tweets'] = clean_tweets(test)\n",
    "\n",
    "\n",
    "# lemmatize\n",
    "train['clean_tweets'] = train['clean_tweets'].apply(lambda x: [normalizer.lemmatize(token, POS(token)) for token in x])\n",
    "test['clean_tweets'] = test['clean_tweets'].apply(lambda x: [normalizer.lemmatize(token, POS(token)) for token in x])"
   ]
  },
  {
   "cell_type": "markdown",
   "id": "6f349268",
   "metadata": {},
   "source": [
    "### Creating our X and y Metrics"
   ]
  },
  {
   "cell_type": "code",
   "execution_count": 23,
   "id": "c9cf4cbc",
   "metadata": {},
   "outputs": [],
   "source": [
    "X = train['clean_tweets']\n",
    "y = train['sentiment']\n",
    "X_test = test['clean_tweets']"
   ]
  },
  {
   "cell_type": "markdown",
   "id": "6836f162",
   "metadata": {},
   "source": [
    "### Splitting data\n",
    "\n",
    "Separating data into training and validation sets is an important part of evaluating our models. \n",
    "In our case we will randomly split the train data into 90% train and 10% validation. \n",
    "After our model is trained with the train data we then use it to make predictions for the target using the validation set,Because the data in the validation set already contains known values for the target variable this will make it easy  for us to asses our model's accuracy."
   ]
  },
  {
   "cell_type": "code",
   "execution_count": 24,
   "id": "b3e37866",
   "metadata": {},
   "outputs": [],
   "source": [
    "# Splitting the data into 80% train and 20% validation set\n",
    "X_train, X_val, y_train, y_val = train_test_split(X, y, test_size=0.2, random_state = 42)"
   ]
  },
  {
   "cell_type": "code",
   "execution_count": 25,
   "id": "51c4dcf1",
   "metadata": {
    "scrolled": true
   },
   "outputs": [],
   "source": [
    "X_train = list(X_train.apply(' '.join))\n",
    "X_val = list(X_val.apply(' '.join))\n",
    "X_test = list(X_test.apply(' '.join))"
   ]
  },
  {
   "cell_type": "markdown",
   "id": "0489bd51",
   "metadata": {},
   "source": [
    "<a id='Pipelines'></a>\n",
    "# Pipelines\n",
    "\n",
    "`Pipeline`  by definition is a tool that sequentially applies a list of transforms and a final estimator. Intermediate steps of pipeline implement fit and transform methods and the final estimator only needs to implement fit. In our case pipelines will help us tranform the train, validation and test data as well as train our models.\n",
    "\n",
    "Since our models can only process numerical data our first step is to build a pipeline that converts text data into numeric data, In this notebook we will be focusing on two methods of feature engineering, which we will use to convert text data to numeric data, namely `TfidfVectorizer` and the `CountVectorizer`, then we will train our models within these pipelines\n",
    "\n",
    "We will be building pipelines with features generated using both `tfidfVectorizer` and the `CountVectorizer`"
   ]
  },
  {
   "cell_type": "markdown",
   "id": "b650d1a0",
   "metadata": {},
   "source": [
    "**CREATING PIPELINES**"
   ]
  },
  {
   "cell_type": "code",
   "execution_count": 26,
   "id": "581ef96f",
   "metadata": {},
   "outputs": [],
   "source": [
    "# DecisionTreeClassifier Pipeline\n",
    "tree_tfidf = Pipeline([('tfidf', TfidfVectorizer()),('tree', DecisionTreeClassifier()),])\n",
    "tree_count = Pipeline([('CountVec',  CountVectorizer(analyzer = 'word', \n",
    "                             tokenizer = None, \n",
    "                             preprocessor = None, \n",
    "                             stop_words = None, \n",
    "                             max_features = 180000,\n",
    "                             min_df = 1,\n",
    "                             ngram_range = (1,2)\n",
    "                            )),('tree', DecisionTreeClassifier()),])\n",
    "\n",
    "\n",
    "# RandomForestClassifier Pipeline\n",
    "rfc_tfidf = Pipeline([('tfidf', TfidfVectorizer()), ('rfc', RandomForestClassifier())])\n",
    "rfc_count = Pipeline([('CountVec',  CountVectorizer(analyzer = 'word', \n",
    "                             tokenizer = None, \n",
    "                             preprocessor = None, \n",
    "                             stop_words = None, \n",
    "                             max_features = 180000,\n",
    "                             min_df = 1,\n",
    "                             ngram_range = (1,2)\n",
    "                            )),('rfc', RandomForestClassifier()),])\n",
    "\n",
    "\n",
    "# LinearSVC Pipeline\n",
    "Lsvc_tfidf = Pipeline([('tfidf', TfidfVectorizer()),\n",
    "                     ('scv', LinearSVC()),])\n",
    "Lsvc_count = Pipeline([('CountVec',  CountVectorizer(analyzer = 'word', \n",
    "                             tokenizer = None, \n",
    "                             preprocessor = None, \n",
    "                             stop_words = None, \n",
    "                             max_features = 180000,\n",
    "                             min_df = 1,\n",
    "                             ngram_range = (1,2)\n",
    "                            )),('svc', LinearSVC()),])\n",
    "\n",
    "\n",
    "\n",
    "# Logistic Regression pipeline\n",
    "logreg_tfidf = Pipeline([('tfidf', TfidfVectorizer()),('logistic', LogisticRegression()),])\n",
    "logreg_count = Pipeline([('CountVec',  CountVectorizer(analyzer = 'word', \n",
    "                             tokenizer = None, \n",
    "                             preprocessor = None, \n",
    "                             stop_words = None, \n",
    "                             max_features = 180000,\n",
    "                             min_df = 1,\n",
    "                             ngram_range = (1,2)\n",
    "                            )),('logistic', LogisticRegression()),])\n",
    "\n",
    "\n",
    "\n",
    "# SGD Classifier pipeline\n",
    "SGD_tfidf = Pipeline([('tfidf', TfidfVectorizer()), ('SGD', SGDClassifier())])\n",
    "SGD_count = Pipeline([('CountVec',  CountVectorizer(analyzer = 'word', \n",
    "                             tokenizer = None, \n",
    "                             preprocessor = None, \n",
    "                             stop_words = None, \n",
    "                             max_features = 180000,\n",
    "                             min_df = 1,\n",
    "                             ngram_range = (1,2)\n",
    "                            )),('SGD', SGDClassifier()),])\n",
    "\n",
    "\n",
    "\n",
    "\n",
    "# Support Vector Classifier Pipeline\n",
    "svc_tfidf = Pipeline([('tfidf', TfidfVectorizer()), ('SVC', SVC())])\n",
    "svc_count = Pipeline([('CountVec',  CountVectorizer(analyzer = 'word', \n",
    "                             tokenizer = None, \n",
    "                             preprocessor = None, \n",
    "                             stop_words = None, \n",
    "                             max_features = 180000,\n",
    "                             min_df = 1,\n",
    "                             ngram_range = (1,2)\n",
    "                            )),('SVC', SVC()),])\n",
    "\n",
    "\n",
    "ridge_tfidf = Pipeline([('tfidf', TfidfVectorizer()), ('Ridge', RidgeClassifier())])\n",
    "ridge_count = Pipeline([('CountVec',  CountVectorizer(analyzer = 'word', \n",
    "                             tokenizer = None, \n",
    "                             preprocessor = None, \n",
    "                             stop_words = None, \n",
    "                             max_features = 180000,\n",
    "                             min_df = 1,\n",
    "                             ngram_range = (1,2)\n",
    "                            )),('Ridge', RidgeClassifier()),])"
   ]
  },
  {
   "cell_type": "markdown",
   "id": "a3850f8c",
   "metadata": {},
   "source": [
    "<a id='train'></a>\n",
    "## Training models\n",
    "Each model is trained using it's custom pipeline which will take raw text data turn it into numeric data and initial the classifier with default parameters"
   ]
  },
  {
   "cell_type": "code",
   "execution_count": 27,
   "id": "b126bc42",
   "metadata": {},
   "outputs": [
    {
     "name": "stderr",
     "output_type": "stream",
     "text": [
      "C:\\Users\\tebel\\anaconda3\\lib\\site-packages\\sklearn\\svm\\_base.py:1225: ConvergenceWarning: Liblinear failed to converge, increase the number of iterations.\n",
      "  warnings.warn(\n",
      "C:\\Users\\tebel\\anaconda3\\lib\\site-packages\\sklearn\\linear_model\\_logistic.py:444: ConvergenceWarning: lbfgs failed to converge (status=1):\n",
      "STOP: TOTAL NO. of ITERATIONS REACHED LIMIT.\n",
      "\n",
      "Increase the number of iterations (max_iter) or scale the data as shown in:\n",
      "    https://scikit-learn.org/stable/modules/preprocessing.html\n",
      "Please also refer to the documentation for alternative solver options:\n",
      "    https://scikit-learn.org/stable/modules/linear_model.html#logistic-regression\n",
      "  n_iter_i = _check_optimize_result(\n",
      "C:\\Users\\tebel\\anaconda3\\lib\\site-packages\\sklearn\\linear_model\\_logistic.py:444: ConvergenceWarning: lbfgs failed to converge (status=1):\n",
      "STOP: TOTAL NO. of ITERATIONS REACHED LIMIT.\n",
      "\n",
      "Increase the number of iterations (max_iter) or scale the data as shown in:\n",
      "    https://scikit-learn.org/stable/modules/preprocessing.html\n",
      "Please also refer to the documentation for alternative solver options:\n",
      "    https://scikit-learn.org/stable/modules/linear_model.html#logistic-regression\n",
      "  n_iter_i = _check_optimize_result(\n"
     ]
    },
    {
     "data": {
      "text/html": [
       "<style>#sk-container-id-1 {color: black;background-color: white;}#sk-container-id-1 pre{padding: 0;}#sk-container-id-1 div.sk-toggleable {background-color: white;}#sk-container-id-1 label.sk-toggleable__label {cursor: pointer;display: block;width: 100%;margin-bottom: 0;padding: 0.3em;box-sizing: border-box;text-align: center;}#sk-container-id-1 label.sk-toggleable__label-arrow:before {content: \"▸\";float: left;margin-right: 0.25em;color: #696969;}#sk-container-id-1 label.sk-toggleable__label-arrow:hover:before {color: black;}#sk-container-id-1 div.sk-estimator:hover label.sk-toggleable__label-arrow:before {color: black;}#sk-container-id-1 div.sk-toggleable__content {max-height: 0;max-width: 0;overflow: hidden;text-align: left;background-color: #f0f8ff;}#sk-container-id-1 div.sk-toggleable__content pre {margin: 0.2em;color: black;border-radius: 0.25em;background-color: #f0f8ff;}#sk-container-id-1 input.sk-toggleable__control:checked~div.sk-toggleable__content {max-height: 200px;max-width: 100%;overflow: auto;}#sk-container-id-1 input.sk-toggleable__control:checked~label.sk-toggleable__label-arrow:before {content: \"▾\";}#sk-container-id-1 div.sk-estimator input.sk-toggleable__control:checked~label.sk-toggleable__label {background-color: #d4ebff;}#sk-container-id-1 div.sk-label input.sk-toggleable__control:checked~label.sk-toggleable__label {background-color: #d4ebff;}#sk-container-id-1 input.sk-hidden--visually {border: 0;clip: rect(1px 1px 1px 1px);clip: rect(1px, 1px, 1px, 1px);height: 1px;margin: -1px;overflow: hidden;padding: 0;position: absolute;width: 1px;}#sk-container-id-1 div.sk-estimator {font-family: monospace;background-color: #f0f8ff;border: 1px dotted black;border-radius: 0.25em;box-sizing: border-box;margin-bottom: 0.5em;}#sk-container-id-1 div.sk-estimator:hover {background-color: #d4ebff;}#sk-container-id-1 div.sk-parallel-item::after {content: \"\";width: 100%;border-bottom: 1px solid gray;flex-grow: 1;}#sk-container-id-1 div.sk-label:hover label.sk-toggleable__label {background-color: #d4ebff;}#sk-container-id-1 div.sk-serial::before {content: \"\";position: absolute;border-left: 1px solid gray;box-sizing: border-box;top: 0;bottom: 0;left: 50%;z-index: 0;}#sk-container-id-1 div.sk-serial {display: flex;flex-direction: column;align-items: center;background-color: white;padding-right: 0.2em;padding-left: 0.2em;position: relative;}#sk-container-id-1 div.sk-item {position: relative;z-index: 1;}#sk-container-id-1 div.sk-parallel {display: flex;align-items: stretch;justify-content: center;background-color: white;position: relative;}#sk-container-id-1 div.sk-item::before, #sk-container-id-1 div.sk-parallel-item::before {content: \"\";position: absolute;border-left: 1px solid gray;box-sizing: border-box;top: 0;bottom: 0;left: 50%;z-index: -1;}#sk-container-id-1 div.sk-parallel-item {display: flex;flex-direction: column;z-index: 1;position: relative;background-color: white;}#sk-container-id-1 div.sk-parallel-item:first-child::after {align-self: flex-end;width: 50%;}#sk-container-id-1 div.sk-parallel-item:last-child::after {align-self: flex-start;width: 50%;}#sk-container-id-1 div.sk-parallel-item:only-child::after {width: 0;}#sk-container-id-1 div.sk-dashed-wrapped {border: 1px dashed gray;margin: 0 0.4em 0.5em 0.4em;box-sizing: border-box;padding-bottom: 0.4em;background-color: white;}#sk-container-id-1 div.sk-label label {font-family: monospace;font-weight: bold;display: inline-block;line-height: 1.2em;}#sk-container-id-1 div.sk-label-container {text-align: center;}#sk-container-id-1 div.sk-container {/* jupyter's `normalize.less` sets `[hidden] { display: none; }` but bootstrap.min.css set `[hidden] { display: none !important; }` so we also need the `!important` here to be able to override the default hidden behavior on the sphinx rendered scikit-learn.org. See: https://github.com/scikit-learn/scikit-learn/issues/21755 */display: inline-block !important;position: relative;}#sk-container-id-1 div.sk-text-repr-fallback {display: none;}</style><div id=\"sk-container-id-1\" class=\"sk-top-container\"><div class=\"sk-text-repr-fallback\"><pre>Pipeline(steps=[(&#x27;CountVec&#x27;,\n",
       "                 CountVectorizer(max_features=180000, ngram_range=(1, 2))),\n",
       "                (&#x27;Ridge&#x27;, RidgeClassifier())])</pre><b>In a Jupyter environment, please rerun this cell to show the HTML representation or trust the notebook. <br />On GitHub, the HTML representation is unable to render, please try loading this page with nbviewer.org.</b></div><div class=\"sk-container\" hidden><div class=\"sk-item sk-dashed-wrapped\"><div class=\"sk-label-container\"><div class=\"sk-label sk-toggleable\"><input class=\"sk-toggleable__control sk-hidden--visually\" id=\"sk-estimator-id-1\" type=\"checkbox\" ><label for=\"sk-estimator-id-1\" class=\"sk-toggleable__label sk-toggleable__label-arrow\">Pipeline</label><div class=\"sk-toggleable__content\"><pre>Pipeline(steps=[(&#x27;CountVec&#x27;,\n",
       "                 CountVectorizer(max_features=180000, ngram_range=(1, 2))),\n",
       "                (&#x27;Ridge&#x27;, RidgeClassifier())])</pre></div></div></div><div class=\"sk-serial\"><div class=\"sk-item\"><div class=\"sk-estimator sk-toggleable\"><input class=\"sk-toggleable__control sk-hidden--visually\" id=\"sk-estimator-id-2\" type=\"checkbox\" ><label for=\"sk-estimator-id-2\" class=\"sk-toggleable__label sk-toggleable__label-arrow\">CountVectorizer</label><div class=\"sk-toggleable__content\"><pre>CountVectorizer(max_features=180000, ngram_range=(1, 2))</pre></div></div></div><div class=\"sk-item\"><div class=\"sk-estimator sk-toggleable\"><input class=\"sk-toggleable__control sk-hidden--visually\" id=\"sk-estimator-id-3\" type=\"checkbox\" ><label for=\"sk-estimator-id-3\" class=\"sk-toggleable__label sk-toggleable__label-arrow\">RidgeClassifier</label><div class=\"sk-toggleable__content\"><pre>RidgeClassifier()</pre></div></div></div></div></div></div></div>"
      ],
      "text/plain": [
       "Pipeline(steps=[('CountVec',\n",
       "                 CountVectorizer(max_features=180000, ngram_range=(1, 2))),\n",
       "                ('Ridge', RidgeClassifier())])"
      ]
     },
     "execution_count": 27,
     "metadata": {},
     "output_type": "execute_result"
    }
   ],
   "source": [
    "# training the decision tree pipeline\n",
    "tree_tfidf.fit(X_train, y_train)\n",
    "tree_count.fit(X_train, y_train)\n",
    "\n",
    "# training the RandomForest pipleline\n",
    "rfc_tfidf.fit(X_train, y_train)\n",
    "rfc_count.fit(X_train, y_train)\n",
    "\n",
    "# training the LinearSVC pipeline\n",
    "Lsvc_tfidf.fit(X_train, y_train)\n",
    "Lsvc_count.fit(X_train, y_train)\n",
    "\n",
    "# training the logistic regression pipeline\n",
    "logreg_tfidf.fit(X_train, y_train)\n",
    "logreg_count.fit(X_train, y_train)\n",
    "\n",
    "# training the SGD Classifier\n",
    "SGD_tfidf.fit(X_train, y_train)\n",
    "SGD_count.fit(X_train, y_train)\n",
    "\n",
    "# training the support vector classifier\n",
    "svc_tfidf.fit(X_train, y_train)\n",
    "svc_count.fit(X_train, y_train)\n",
    "\n",
    "# training the Ridge classifier\n",
    "ridge_tfidf.fit(X_train, y_train)\n",
    "ridge_count.fit(X_train, y_train)"
   ]
  },
  {
   "cell_type": "code",
   "execution_count": 28,
   "id": "e745a2c3",
   "metadata": {},
   "outputs": [],
   "source": [
    "# calculating average scores for the TFIDF\n",
    "tree_acc =  accuracy_score(y_val,tree_tfidf.predict(X_val))\n",
    "rfc_acc = accuracy_score(y_val,rfc_tfidf.predict(X_val))\n",
    "lsvc_acc = accuracy_score(y_val,Lsvc_tfidf.predict(X_val))\n",
    "log_acc = accuracy_score(y_val, logreg_tfidf.predict(X_val))\n",
    "sgd_acc = accuracy_score(y_val, SGD_tfidf.predict(X_val))\n",
    "svc_acc = accuracy_score(y_val, svc_tfidf.predict(X_val))\n",
    "ridge_acc = accuracy_score(y_val, ridge_tfidf.predict(X_val))\n",
    "\n",
    "tfidf_avg_accuracy = round(np.mean([tree_acc,rfc_acc,lsvc_acc,log_acc,sgd_acc,svc_acc,ridge_acc]),4)"
   ]
  },
  {
   "cell_type": "code",
   "execution_count": 29,
   "id": "80388abc",
   "metadata": {},
   "outputs": [],
   "source": [
    "tree_acc =  accuracy_score(y_val,tree_count.predict(X_val))\n",
    "rfc_acc = accuracy_score(y_val,rfc_count.predict(X_val))\n",
    "lsvc_acc = accuracy_score(y_val,Lsvc_count.predict(X_val))\n",
    "log_acc = accuracy_score(y_val, logreg_count.predict(X_val))\n",
    "sgd_acc = accuracy_score(y_val, SGD_count.predict(X_val))\n",
    "svc_acc = accuracy_score(y_val, svc_count.predict(X_val))\n",
    "ridge_acc = accuracy_score(y_val, ridge_count.predict(X_val))\n",
    "\n",
    "CountVec = round(np.mean([tree_acc,rfc_acc,lsvc_acc,log_acc,sgd_acc,svc_acc, ridge_acc]),4)"
   ]
  },
  {
   "cell_type": "code",
   "execution_count": 32,
   "id": "51f1486c",
   "metadata": {},
   "outputs": [
    {
     "data": {
      "image/png": "[encoded data removed]",
      "text/plain": [
       "<Figure size 576x576 with 1 Axes>"
      ]
     },
     "metadata": {
      "needs_background": "light"
     },
     "output_type": "display_data"
    }
   ],
   "source": [
    "accuracy_dict = {'TFIDF':[tfidf_avg_accuracy], 'CountVec':[CountVec]}\n",
    "accuracy_df = pd.DataFrame(accuracy_dict)\n",
    "accuracy_df.T.plot(kind='barh', figsize = (8,8),legend = True)\n",
    "plt.xlabel('Avg Accuracy Score')\n",
    "plt.ylabel('Feature Engineering Method')\n",
    "plt.yticks(rotation = 40)\n",
    "plt.title('Avg accuracy score per method')\n",
    "plt.show()"
   ]
  },
  {
   "cell_type": "markdown",
   "id": "b9b6ddab",
   "metadata": {},
   "source": [
    "We see that on average  the models build using the `CountVectorizer` performed the best and for the remainder of this notebook we will generate our features using the `CountVectorizer`"
   ]
  },
  {
   "cell_type": "markdown",
   "id": "19ee4a38",
   "metadata": {},
   "source": [
    "<a id='model_eval'></a>\n",
    "# Model Evaluation"
   ]
  },
  {
   "cell_type": "markdown",
   "id": "ad42acdc",
   "metadata": {},
   "source": [
    "### Performance Metrics for model evaluation\n",
    "\n",
    "We will evaluate our models using the the F1 Score which is the number of true instances for each label.\n",
    "\n",
    "#### Precision\n",
    "\n",
    "Precision is the ratio of correctly predicted positive observations to the total predicted positive observations\n",
    "\n",
    "$$ Precision = \\frac{TP}{TP \\space + FP} = \\frac{TP}{Total \\space Predicted \\space Positive} $$\n",
    "\n",
    "#### Recall\n",
    "\n",
    "The recall is intuitively the ability of the classifier to find all the positive samples\n",
    "\n",
    "$$ Recall = \\frac{TP}{TP \\space + FN} = \\frac{TP}{Total \\space Actual \\space Positive}$$\n",
    "\n",
    "#### F1 Score\n",
    "\n",
    "Weighted average of precision and recall. \n",
    "\n",
    "$$F_1 = 2 \\times \\frac {Precision \\space \\times \\space Recall }{Precision \\space + \\space Recall }$$"
   ]
  },
  {
   "cell_type": "markdown",
   "id": "71cd6797",
   "metadata": {},
   "source": [
    "To evaluate the base models we first start with making predictions for the validation set"
   ]
  },
  {
   "cell_type": "code",
   "execution_count": 30,
   "id": "147a6153",
   "metadata": {},
   "outputs": [],
   "source": [
    "# Making validations set predicions\n",
    "\n",
    "tree_prediction = tree_count.predict(X_val) # DecisionTreeClassifier predictions\n",
    "rfc_prediction = rfc_count.predict(X_val) # RandomForestClassifier predictions\n",
    "Lsvc_prediction = Lsvc_count.predict(X_val) # LinearSVClassifier Predictions\n",
    "logreg_prediction = logreg_count.predict(X_val) # Logistic regression predictions\n",
    "SGD_prediction = SGD_count.predict(X_val) # SGD Classifier predictions\n",
    "SVC_prediction = svc_count.predict(X_val) # Support vector machine predictions\n",
    "ridge_prediction = ridge_count.predict(X_val) # Ridge predictions"
   ]
  },
  {
   "cell_type": "markdown",
   "id": "6d3f0ae6",
   "metadata": {},
   "source": [
    "### Evalution of DecisionTreeClassifier"
   ]
  },
  {
   "cell_type": "code",
   "execution_count": 83,
   "id": "e4d98720",
   "metadata": {},
   "outputs": [
    {
     "name": "stdout",
     "output_type": "stream",
     "text": [
      "[[  78   59  120   21]\n",
      " [  23  141  220   41]\n",
      " [  65  134 1368  188]\n",
      " [  12   39  186  469]]\n"
     ]
    }
   ],
   "source": [
    "print(confusion_matrix(y_val, tree_prediction))"
   ]
  },
  {
   "cell_type": "markdown",
   "id": "eaac7392",
   "metadata": {},
   "source": [
    "**Key Observations**"
   ]
  },
  {
   "cell_type": "code",
   "execution_count": 85,
   "id": "dd233ad7",
   "metadata": {},
   "outputs": [
    {
     "name": "stdout",
     "output_type": "stream",
     "text": [
      "\n",
      "Decision Tree\n",
      "               precision    recall  f1-score   support\n",
      "\n",
      "          -1       0.44      0.28      0.34       278\n",
      "           0       0.38      0.33      0.35       425\n",
      "           1       0.72      0.78      0.75      1755\n",
      "           2       0.65      0.66      0.66       706\n",
      "\n",
      "    accuracy                           0.65      3164\n",
      "   macro avg       0.55      0.51      0.53      3164\n",
      "weighted avg       0.64      0.65      0.64      3164\n",
      "\n"
     ]
    },
    {
     "data": {
      "image/png": "[encoded data removed]",
      "text/plain": [
       "<Figure size 576x576 with 2 Axes>"
      ]
     },
     "metadata": {
      "needs_background": "light"
     },
     "output_type": "display_data"
    }
   ],
   "source": [
    "print('\\nDecision Tree\\n', classification_report(y_val, tree_prediction))\n",
    "plot_confusion_matrix(y_val, tree_prediction, normalize=True,figsize=(8,8),cmap='Reds')\n",
    "plt.title('Decision Tree Confusion Matrix')\n",
    "plt.show()"
   ]
  },
  {
   "cell_type": "markdown",
   "id": "0cf5016c",
   "metadata": {},
   "source": [
    "**Key Observations**\n",
    "\n",
    "A Classification report is used to measure the quality of predictions from a classification algorithm.\n",
    "\n",
    "The confusion matrix heatmap shows the model's  ability to classify positive samples, each class achieving a recall score of:\n",
    "\n",
    "+ Anti Climate Change : 0.28\n",
    "+ Neutral : 0.33\n",
    "+ Pro : 0.78\n",
    "+ News : 0.66\n",
    "We see that  most of the tweets are incorrectly classified as `pro` sentiment classes, with 44% and 48% of `anti` and `neutral` sentiment classes respectively incorrectly classified to belong to `Pro` sentiment class"
   ]
  },
  {
   "cell_type": "code",
   "execution_count": 29,
   "id": "bcdf438a",
   "metadata": {},
   "outputs": [
    {
     "name": "stdout",
     "output_type": "stream",
     "text": [
      "\n",
      "Overall accuracy score for Decision Tree : 0.6482\n",
      "\n",
      "Weighted avg f1 score Decision Tree 0.6386\n"
     ]
    }
   ],
   "source": [
    "# Print the overall accuracy\n",
    "decison_tree_acc = round(accuracy_score(y_val, tree_prediction),4)\n",
    "print(f'\\nOverall accuracy score for Decision Tree : {decison_tree_acc}')\n",
    "decision_tree_f1 = round(f1_score(y_val, tree_prediction, average=\"weighted\"),4)\n",
    "print(f'\\nWeighted avg f1 score Decision Tree {decision_tree_f1}' )\n"
   ]
  },
  {
   "cell_type": "markdown",
   "id": "490620d9",
   "metadata": {},
   "source": [
    "Overal the Decision Tree classifier did a poor job at classifying the sentiments, achieving the accuracy score of 0.6498 and a weighted F1 score of 0.6403"
   ]
  },
  {
   "cell_type": "markdown",
   "id": "d06424dc",
   "metadata": {},
   "source": [
    "### Evalution of RandomForestClassifier"
   ]
  },
  {
   "cell_type": "code",
   "execution_count": 87,
   "id": "559435ee",
   "metadata": {},
   "outputs": [
    {
     "name": "stdout",
     "output_type": "stream",
     "text": [
      "\n",
      "RandomForestClassifier\n",
      " [[  54   29  191    4]\n",
      " [   2  133  283    7]\n",
      " [   8   50 1618   79]\n",
      " [   2   24  240  440]]\n"
     ]
    }
   ],
   "source": [
    "print('\\nRandomForestClassifier\\n', confusion_matrix(y_val, rfc_prediction))\n"
   ]
  },
  {
   "cell_type": "code",
   "execution_count": 89,
   "id": "dc8cb4de",
   "metadata": {},
   "outputs": [
    {
     "name": "stdout",
     "output_type": "stream",
     "text": [
      "\n",
      "RandomForestClassifier\n",
      "               precision    recall  f1-score   support\n",
      "\n",
      "          -1       0.82      0.19      0.31       278\n",
      "           0       0.56      0.31      0.40       425\n",
      "           1       0.69      0.92      0.79      1755\n",
      "           2       0.83      0.62      0.71       706\n",
      "\n",
      "    accuracy                           0.71      3164\n",
      "   macro avg       0.73      0.51      0.56      3164\n",
      "weighted avg       0.72      0.71      0.68      3164\n",
      "\n"
     ]
    },
    {
     "data": {
      "image/png": "[encoded data removed]",
      "text/plain": [
       "<Figure size 576x576 with 2 Axes>"
      ]
     },
     "metadata": {
      "needs_background": "light"
     },
     "output_type": "display_data"
    }
   ],
   "source": [
    "print('\\nRandomForestClassifier\\n', classification_report(y_val, rfc_prediction))\n",
    "plot_confusion_matrix(y_val, rfc_prediction, normalize=True,figsize=(8,8),cmap='Reds')\n",
    "plt.title('Random Forest Classification')\n",
    "plt.show()"
   ]
  },
  {
   "cell_type": "markdown",
   "id": "d6441d03",
   "metadata": {},
   "source": [
    "**Key Observations**\n",
    "\n",
    "A Classification report is used to measure the quality of predictions from a classification algorithm.\n",
    "\n",
    "The confusion matrix heatmap shows the model's  ability to classify positive samples, each class achieving a recall score of:\n",
    "\n",
    "+ Anti Climate Change : 0.19\n",
    "+ Neutral : 0.31\n",
    "+ Pro : 0.92\n",
    "+ News : 0.62\n",
    "\n",
    "Random Forest classifier did a bad job at correctly classifying sentiment class `anti` and `neutral` incorrectly classifying them as `pro` sentiment class 66% and 68% of the time respectively.\n",
    "\n"
   ]
  },
  {
   "cell_type": "code",
   "execution_count": 91,
   "id": "5d612acd",
   "metadata": {},
   "outputs": [
    {
     "name": "stdout",
     "output_type": "stream",
     "text": [
      "\n",
      "Overal accuracy score for RandomForestClassifier :0.7095\n",
      "\n",
      "Weighted f1 score for RandomForestClassifier : 0.6797\n"
     ]
    }
   ],
   "source": [
    "random_forest_acc = round(accuracy_score(y_val, rfc_prediction),4)\n",
    "print(f'\\nOveral accuracy score for RandomForestClassifier :{random_forest_acc}')\n",
    "random_forest_f1 = round(f1_score(y_val, rfc_prediction, average=\"weighted\"),4)\n",
    "print(f'\\nWeighted f1 score for RandomForestClassifier : {random_forest_f1}')"
   ]
  },
  {
   "cell_type": "markdown",
   "id": "878f0de7",
   "metadata": {},
   "source": [
    "The overall accuracy and weighted f1 score for the Random Forest Classifier is better compared to that of the Decision Tree classifier, making the Random Forest classifier the best model this far"
   ]
  },
  {
   "cell_type": "markdown",
   "id": "a57df9e4",
   "metadata": {},
   "source": [
    "### Evaluation of LinearSVClassifier"
   ]
  },
  {
   "cell_type": "code",
   "execution_count": 92,
   "id": "df48e34a",
   "metadata": {},
   "outputs": [
    {
     "name": "stdout",
     "output_type": "stream",
     "text": [
      "\n",
      "LinearSVC Model\n",
      " [[ 121   58   87   12]\n",
      " [  26  207  168   24]\n",
      " [  37  116 1439  163]\n",
      " [   3   25  129  549]]\n"
     ]
    }
   ],
   "source": [
    "print('\\nLinearSVC Model\\n', confusion_matrix(y_val, Lsvc_prediction))"
   ]
  },
  {
   "cell_type": "code",
   "execution_count": 93,
   "id": "9e09af6e",
   "metadata": {},
   "outputs": [
    {
     "name": "stdout",
     "output_type": "stream",
     "text": [
      "\n",
      "LinearSVC Model\n",
      "               precision    recall  f1-score   support\n",
      "\n",
      "          -1       0.65      0.44      0.52       278\n",
      "           0       0.51      0.49      0.50       425\n",
      "           1       0.79      0.82      0.80      1755\n",
      "           2       0.73      0.78      0.76       706\n",
      "\n",
      "    accuracy                           0.73      3164\n",
      "   macro avg       0.67      0.63      0.64      3164\n",
      "weighted avg       0.73      0.73      0.73      3164\n",
      "\n"
     ]
    },
    {
     "data": {
      "image/png": "[encoded data removed]",
      "text/plain": [
       "<Figure size 576x576 with 2 Axes>"
      ]
     },
     "metadata": {
      "needs_background": "light"
     },
     "output_type": "display_data"
    }
   ],
   "source": [
    "print('\\nLinearSVC Model\\n', classification_report(y_val, Lsvc_prediction))\n",
    "plot_confusion_matrix(y_val, Lsvc_prediction, normalize=True,figsize=(8,8),cmap='Reds')\n",
    "plt.title('LinearSCV Classification')\n",
    "plt.show()"
   ]
  },
  {
   "cell_type": "markdown",
   "id": "39e02f46",
   "metadata": {},
   "source": [
    "**Key Observations**\n",
    "\n",
    "A Classification report is used to measure the quality of predictions from a classification algorithm.\n",
    "\n",
    "The confusion matrix heatmap shows the model's  ability to classify positive samples, each class achieving a recall score of:\n",
    "\n",
    "+ Anti Climate Change : 0.44\n",
    "+ Neutral : 0.49\n",
    "+ Pro : 0.82\n",
    "+ News : 0.78\n",
    "\n",
    "We see that that the LinearSVC did a very job at classifying positive samples, the biggest concern here is that 32% and 39% of `anti` and `neutral` sentiment classes respectively were incorrectly classified as `Pro` sentiment class"
   ]
  },
  {
   "cell_type": "markdown",
   "id": "77dc6411",
   "metadata": {},
   "source": [
    "- We see that the LinearSVC model did a far better job at classifiying `Pro` and `News` sentiment classes compared to `Decision Tree` and `RandomForest` models  with both classes achieving an f1 score of 0.85 and 0.81 respectively\n",
    "- The LinearSVC model also did a far better job at classifying `Anti` sentiment class comapred to both the Decision tree and the Randrom Forest.\n",
    "- There was a slight improvement in the classification of `neutral` tweets with the LinearSVC, which is by far overshadowed by the improvements we see in other sentiments classes\n",
    "- The LinearSVC has done a better job overall in classifying the sentiments, we see that `Anti` and `Neutral` sentiments have almost the same score, same applies with `Pro` and `News` sentiments which is consistent with the distribution of the data between the sentiment classes"
   ]
  },
  {
   "cell_type": "code",
   "execution_count": 94,
   "id": "39bba752",
   "metadata": {},
   "outputs": [
    {
     "name": "stdout",
     "output_type": "stream",
     "text": [
      "\n",
      "Overall accuracy score for LinearSVC Model : 0.732\n",
      "\n",
      "Weighted avg f1 score for LinearSVC Model : 0.7273\n"
     ]
    }
   ],
   "source": [
    "linearSVC_acc = round(accuracy_score(y_val, Lsvc_prediction),4)\n",
    "print(f'\\nOverall accuracy score for LinearSVC Model : {linearSVC_acc}')\n",
    "linearSVC_f1 = round(f1_score(y_val, Lsvc_prediction, average=\"weighted\"),4)\n",
    "print(f'\\nWeighted avg f1 score for LinearSVC Model : {linearSVC_f1}')"
   ]
  },
  {
   "cell_type": "markdown",
   "id": "2572cf85",
   "metadata": {},
   "source": [
    "The LinearSVC  is the best we've seen this far achieving an accuracy score of 0.732  and a weighted F1 score of 0.7273"
   ]
  },
  {
   "cell_type": "markdown",
   "id": "9c7b94cc",
   "metadata": {},
   "source": [
    "### Evaluation of  Logistic Regression "
   ]
  },
  {
   "cell_type": "code",
   "execution_count": 95,
   "id": "58f17c9f",
   "metadata": {},
   "outputs": [
    {
     "name": "stdout",
     "output_type": "stream",
     "text": [
      "\n",
      "Logistic Regression\n",
      " [[ 122   44  103    9]\n",
      " [  18  201  174   32]\n",
      " [  20   86 1515  134]\n",
      " [   2   16  141  547]]\n"
     ]
    }
   ],
   "source": [
    "# Report the confusion matrix\n",
    "print('\\nLogistic Regression\\n', confusion_matrix(y_val, logreg_prediction))"
   ]
  },
  {
   "cell_type": "code",
   "execution_count": 96,
   "id": "875269d0",
   "metadata": {},
   "outputs": [
    {
     "name": "stdout",
     "output_type": "stream",
     "text": [
      "\n",
      "Logistic Regression\n",
      "               precision    recall  f1-score   support\n",
      "\n",
      "          -1       0.75      0.44      0.55       278\n",
      "           0       0.58      0.47      0.52       425\n",
      "           1       0.78      0.86      0.82      1755\n",
      "           2       0.76      0.77      0.77       706\n",
      "\n",
      "    accuracy                           0.75      3164\n",
      "   macro avg       0.72      0.64      0.67      3164\n",
      "weighted avg       0.75      0.75      0.75      3164\n",
      "\n"
     ]
    },
    {
     "data": {
      "image/png": "[encoded data removed]",
      "text/plain": [
       "<Figure size 576x576 with 2 Axes>"
      ]
     },
     "metadata": {
      "needs_background": "light"
     },
     "output_type": "display_data"
    }
   ],
   "source": [
    "# Print a classification report\n",
    "\n",
    "print('\\nLogistic Regression\\n', classification_report(y_val, logreg_prediction))\n",
    "plot_confusion_matrix(y_val, logreg_prediction, normalize=True,figsize=(8,8),cmap='Reds')\n",
    "plt.title('Logistic Regression Classification')\n",
    "plt.show()\n"
   ]
  },
  {
   "cell_type": "markdown",
   "id": "6c87a50e",
   "metadata": {},
   "source": [
    "**Key Observations**\n",
    "\n",
    "A Classification report is used to measure the quality of predictions from a classification algorithm.\n",
    "\n",
    "The confusion matrix heatmap shows the model's  ability to classify positive samples, each class achieving a recall score of:\n",
    "\n",
    "+ Anti Climate Change : 0.44\n",
    "+ Neutral : 0.47\n",
    "+ Pro : 0.86\n",
    "+ News : 0.77\n",
    "\n",
    "Just like the LinearSVC we see that Logistic Regression does a very good job at classifying positive classes\n"
   ]
  },
  {
   "cell_type": "code",
   "execution_count": 98,
   "id": "e4755588",
   "metadata": {},
   "outputs": [
    {
     "name": "stdout",
     "output_type": "stream",
     "text": [
      "\n",
      "Logistic Regression accuracy Score\n",
      " 0.7538\n",
      "\n",
      "Logistic Regression weighted f1 score\n",
      " 0.7453\n"
     ]
    }
   ],
   "source": [
    "# Print the overall accuracy\n",
    "logistic_reg_acc = round(accuracy_score(y_val, logreg_prediction),4)\n",
    "print('\\nLogistic Regression accuracy Score\\n', logistic_reg_acc)\n",
    "logistic_reg_f1 = round(f1_score(y_val, logreg_prediction, average=\"weighted\"),4)\n",
    "print('\\nLogistic Regression weighted f1 score\\n', logistic_reg_f1)\n"
   ]
  },
  {
   "cell_type": "markdown",
   "id": "a662a9b4",
   "metadata": {},
   "source": [
    "### Evaluation of SGD Classifier"
   ]
  },
  {
   "cell_type": "code",
   "execution_count": 99,
   "id": "ab9264ff",
   "metadata": {},
   "outputs": [
    {
     "name": "stdout",
     "output_type": "stream",
     "text": [
      "\n",
      "SGD Classifier\n",
      " [[ 130   44   91   13]\n",
      " [  32  170  177   46]\n",
      " [  37   84 1448  186]\n",
      " [   4   19  116  567]]\n"
     ]
    }
   ],
   "source": [
    "# Confusion matrix\n",
    "print('\\nSGD Classifier\\n', confusion_matrix(y_val, SGD_prediction))"
   ]
  },
  {
   "cell_type": "code",
   "execution_count": 100,
   "id": "68e65501",
   "metadata": {},
   "outputs": [
    {
     "name": "stdout",
     "output_type": "stream",
     "text": [
      "\n",
      "SGD Classifier  Classification report :\n",
      "               precision    recall  f1-score   support\n",
      "\n",
      "          -1       0.64      0.47      0.54       278\n",
      "           0       0.54      0.40      0.46       425\n",
      "           1       0.79      0.83      0.81      1755\n",
      "           2       0.70      0.80      0.75       706\n",
      "\n",
      "    accuracy                           0.73      3164\n",
      "   macro avg       0.67      0.62      0.64      3164\n",
      "weighted avg       0.72      0.73      0.72      3164\n",
      "\n"
     ]
    },
    {
     "data": {
      "image/png": "[encoded data removed]",
      "text/plain": [
       "<Figure size 576x576 with 2 Axes>"
      ]
     },
     "metadata": {
      "needs_background": "light"
     },
     "output_type": "display_data"
    }
   ],
   "source": [
    "# The classification report \n",
    "print('\\nSGD Classifier  Classification report :\\n', classification_report(y_val, SGD_prediction))\n",
    "plot_confusion_matrix(y_val, SGD_prediction, normalize=True,figsize=(8,8),cmap='Reds')\n",
    "plt.title('Logistic Regression Classification')\n",
    "plt.show()\n"
   ]
  },
  {
   "cell_type": "markdown",
   "id": "2e2401dc",
   "metadata": {},
   "source": [
    "**Key Observations**\n",
    "\n",
    "A Classification report is used to measure the quality of predictions from a classification algorithm.\n",
    "\n",
    "The confusion matrix heatmap shows the model's  ability to classify positive samples, each class achieving a recall score of:\n",
    "\n",
    "+ Anti Climate Change : 0.47\n",
    "+ Neutral : 0.40\n",
    "+ Pro : 0.83\n",
    "+ News : 0.80\n",
    "\n",
    "SGD classifier scored the highest in classification of positive classes for `anti` and `neutral` sentiment classes despite incorretly classsifying `anti` and `neutral` sentiment classes as `Pro` sentiment class 35% and 42% of the time respectively\n"
   ]
  },
  {
   "cell_type": "markdown",
   "id": "a5bccf85",
   "metadata": {},
   "source": [
    "- The SGD classifier is just as good at classifying `Pro` sentiment classs as the LinearSVC both achieving an f1 score of 0.84 however falls short in classifying the rest of the sentiment classes"
   ]
  },
  {
   "cell_type": "code",
   "execution_count": 101,
   "id": "8428c782",
   "metadata": {},
   "outputs": [
    {
     "name": "stdout",
     "output_type": "stream",
     "text": [
      "\n",
      "SGD Classifier accuracy Score :\n",
      " 0.7317\n",
      "\n",
      "SGD weighted avg f1_score :\n",
      " 0.7236\n"
     ]
    }
   ],
   "source": [
    "# Checking the accuracy score\n",
    "sgd_acc = round(accuracy_score(y_val, SGD_prediction),4)\n",
    "print('\\nSGD Classifier accuracy Score :\\n', sgd_acc)\n",
    "\n",
    "# Checking the f1_score report for the decison tree model\n",
    "sgd_f1 = round(f1_score(y_val, SGD_prediction, average=\"weighted\"),4)\n",
    "print('\\nSGD weighted avg f1_score :\\n', sgd_f1)"
   ]
  },
  {
   "cell_type": "markdown",
   "id": "fbb53b4d",
   "metadata": {},
   "source": [
    "The overall accuracy score of the SGD classifier is 0.7317  and the wighted f1 score of 0.7236"
   ]
  },
  {
   "cell_type": "markdown",
   "id": "cdf95c27",
   "metadata": {},
   "source": [
    "### Support Vector Classfifier"
   ]
  },
  {
   "cell_type": "code",
   "execution_count": 103,
   "id": "c11cb1ca",
   "metadata": {},
   "outputs": [
    {
     "name": "stdout",
     "output_type": "stream",
     "text": [
      "\n",
      "Support Vector Classifier\n",
      " [[  62   32  175    9]\n",
      " [   5  141  232   47]\n",
      " [   3   38 1540  174]\n",
      " [   1   15  123  567]]\n"
     ]
    }
   ],
   "source": [
    "# Confusion matrix \n",
    "print('\\nSupport Vector Classifier\\n', confusion_matrix(y_val, SVC_prediction))"
   ]
  },
  {
   "cell_type": "code",
   "execution_count": 104,
   "id": "3dfa6c3d",
   "metadata": {},
   "outputs": [
    {
     "name": "stdout",
     "output_type": "stream",
     "text": [
      "\n",
      "Support Vector Classifier  Classification report :\n",
      "               precision    recall  f1-score   support\n",
      "\n",
      "          -1       0.87      0.22      0.36       278\n",
      "           0       0.62      0.33      0.43       425\n",
      "           1       0.74      0.88      0.81      1755\n",
      "           2       0.71      0.80      0.75       706\n",
      "\n",
      "    accuracy                           0.73      3164\n",
      "   macro avg       0.74      0.56      0.59      3164\n",
      "weighted avg       0.73      0.73      0.70      3164\n",
      "\n"
     ]
    },
    {
     "data": {
      "image/png": "[encoded data removed]",
      "text/plain": [
       "<Figure size 576x576 with 2 Axes>"
      ]
     },
     "metadata": {
      "needs_background": "light"
     },
     "output_type": "display_data"
    }
   ],
   "source": [
    "# The classification report \n",
    "print('\\nSupport Vector Classifier  Classification report :\\n', classification_report(y_val, SVC_prediction))\n",
    "plot_confusion_matrix(y_val, SVC_prediction, normalize=True,figsize=(8,8),cmap='Reds')\n",
    "plt.title('Support Vector Classification')\n",
    "plt.show()\n"
   ]
  },
  {
   "cell_type": "markdown",
   "id": "07d9818d",
   "metadata": {},
   "source": [
    "**Key Observations**\n",
    "\n",
    "A Classification report is used to measure the quality of predictions from a classification algorithm.\n",
    "\n",
    "The confusion matrix heatmap shows the model's  ability to classify positive samples, each class achieving a recall score of:\n",
    "\n",
    "+ Anti Climate Change : 0.22\n",
    "+ Neutral : 0.33\n",
    "+ Pro : 0.88\n",
    "+ News : 0.80\n",
    "\n",
    "The Support Vector Classifier incorrectly classfied over 50% of `neutral` tweets as `Pro` climate change tweets and 49% of `anti` sentiment class tweets as `Pro` sentiment class tweets"
   ]
  },
  {
   "cell_type": "markdown",
   "id": "6fbec055",
   "metadata": {},
   "source": [
    "- Much like the `LinearSVC` we see that the  the `SVC` does a really good job at classifying `Pro` sentiment class with a score of 0.88, followed by the `News` sentiment class with an f1 score of over 0.20.\n",
    "- Unlike most of the models we've build this far, the Support Vector Classifier struggle more with classifying the `Anti`sentiment class"
   ]
  },
  {
   "cell_type": "code",
   "execution_count": 105,
   "id": "6a4416e5",
   "metadata": {},
   "outputs": [
    {
     "name": "stdout",
     "output_type": "stream",
     "text": [
      "\n",
      "Support Vector Classifier accuracy Score : 0.7301\n",
      "\n",
      "Support Vector Classifier weighted avg f1 score : 0.7044\n"
     ]
    }
   ],
   "source": [
    "# Checking the accuracy score\n",
    "svc_acc = round(accuracy_score(y_val, SVC_prediction),4)\n",
    "print(f'\\nSupport Vector Classifier accuracy Score : {svc_acc}')\n",
    "svc_f1 = round(f1_score(y_val, SVC_prediction, average=\"weighted\"),4)\n",
    "print(f'\\nSupport Vector Classifier weighted avg f1 score : {svc_f1}')"
   ]
  },
  {
   "cell_type": "markdown",
   "id": "0317d621",
   "metadata": {},
   "source": [
    "### Ridge Classifier"
   ]
  },
  {
   "cell_type": "code",
   "execution_count": 106,
   "id": "31503781",
   "metadata": {},
   "outputs": [
    {
     "name": "stdout",
     "output_type": "stream",
     "text": [
      "\n",
      "Ridge Classifier\n",
      " [[ 118   57   82   21]\n",
      " [  21  202  170   32]\n",
      " [  22   99 1466  168]\n",
      " [   4   29  139  534]]\n"
     ]
    }
   ],
   "source": [
    "# Confusion matrix for the Ridge Classifier\n",
    "print('\\nRidge Classifier\\n', confusion_matrix(y_val, ridge_prediction))"
   ]
  },
  {
   "cell_type": "code",
   "execution_count": 107,
   "id": "d676bdc6",
   "metadata": {},
   "outputs": [
    {
     "name": "stdout",
     "output_type": "stream",
     "text": [
      "\n",
      "Ridge Classifier  Classification report :\n",
      "               precision    recall  f1-score   support\n",
      "\n",
      "          -1       0.72      0.42      0.53       278\n",
      "           0       0.52      0.48      0.50       425\n",
      "           1       0.79      0.84      0.81      1755\n",
      "           2       0.71      0.76      0.73       706\n",
      "\n",
      "    accuracy                           0.73      3164\n",
      "   macro avg       0.68      0.62      0.64      3164\n",
      "weighted avg       0.73      0.73      0.73      3164\n",
      "\n"
     ]
    },
    {
     "data": {
      "image/png": "[encoded data removed]",
      "text/plain": [
       "<Figure size 576x576 with 2 Axes>"
      ]
     },
     "metadata": {
      "needs_background": "light"
     },
     "output_type": "display_data"
    }
   ],
   "source": [
    "# The classification report \n",
    "print('\\nRidge Classifier  Classification report :\\n', classification_report(y_val, ridge_prediction))\n",
    "plot_confusion_matrix(y_val, ridge_prediction, normalize=True,figsize=(8,8),cmap='Reds')\n",
    "plt.title('Ridge Classification')\n",
    "plt.show()"
   ]
  },
  {
   "cell_type": "markdown",
   "id": "3925116b",
   "metadata": {},
   "source": [
    "**Key Observations**\n",
    "\n",
    "A Classification report is used to measure the quality of predictions from a classification algorithm.\n",
    "\n",
    "The confusion matrix heatmap shows the model's  ability to classify positive samples, each class achieving a recall score of:\n",
    "\n",
    "+ Anti Climate Change : 0.42\n",
    "+ Neutral : 0.48\n",
    "+ Pro : 0.84\n",
    "+ News : 0.76\n",
    "\n",
    "The major concern here is that the Ridge classification classified 40% of of `neutral` tweets as `Pro` climate change tweets\n"
   ]
  },
  {
   "cell_type": "markdown",
   "id": "a38a7444",
   "metadata": {},
   "source": [
    "\n",
    "- Much like the `LinearSVC` we see that the  the `Ridge classifier` does a really good job at classifying `Pro` sentiment class with a score of 0.84, followed by the `News` sentiment class with an f1 score of over 0.76.\n",
    "- Just like the support Vector Classifier, we see that Ridge Classifier does very good job at classifying the `anti` and `neutral` sentiment class"
   ]
  },
  {
   "cell_type": "code",
   "execution_count": 108,
   "id": "1d4a839f",
   "metadata": {},
   "outputs": [
    {
     "name": "stdout",
     "output_type": "stream",
     "text": [
      "\n",
      "Ridge Classifier accuracy Score : 0.7332\n",
      "\n",
      "Ridge Classifier weighted avg f1 score : 0.727\n"
     ]
    }
   ],
   "source": [
    "# Checking the accuracy score\n",
    "ridge_acc = round(accuracy_score(y_val, ridge_prediction),4)\n",
    "print(f'\\nRidge Classifier accuracy Score : {ridge_acc}')\n",
    "ridge_f1 = round(f1_score(y_val, ridge_prediction, average=\"weighted\"),4)\n",
    "print(f'\\nRidge Classifier weighted avg f1 score : {ridge_f1}')"
   ]
  },
  {
   "cell_type": "markdown",
   "id": "e2249f96",
   "metadata": {},
   "source": [
    "<a id='compare'></a>\n",
    "## Model Comparision"
   ]
  },
  {
   "cell_type": "markdown",
   "id": "0205020b",
   "metadata": {},
   "source": [
    "Model comparison by accuracy and macro f1_score"
   ]
  },
  {
   "cell_type": "code",
   "execution_count": 109,
   "id": "c3dfe575",
   "metadata": {},
   "outputs": [
    {
     "data": {
      "text/html": [
       "<div>\n",
       "<style scoped>\n",
       "    .dataframe tbody tr th:only-of-type {\n",
       "        vertical-align: middle;\n",
       "    }\n",
       "\n",
       "    .dataframe tbody tr th {\n",
       "        vertical-align: top;\n",
       "    }\n",
       "\n",
       "    .dataframe thead th {\n",
       "        text-align: right;\n",
       "    }\n",
       "</style>\n",
       "<table border=\"1\" class=\"dataframe\">\n",
       "  <thead>\n",
       "    <tr style=\"text-align: right;\">\n",
       "      <th></th>\n",
       "      <th>Classifiers</th>\n",
       "      <th>Accuracy</th>\n",
       "      <th>Weighted avg f1 Score</th>\n",
       "    </tr>\n",
       "  </thead>\n",
       "  <tbody>\n",
       "    <tr>\n",
       "      <th>0</th>\n",
       "      <td>Decision Tree</td>\n",
       "      <td>0.6498</td>\n",
       "      <td>0.6403</td>\n",
       "    </tr>\n",
       "    <tr>\n",
       "      <th>5</th>\n",
       "      <td>Support Vector Classifier</td>\n",
       "      <td>0.7044</td>\n",
       "      <td>0.7044</td>\n",
       "    </tr>\n",
       "    <tr>\n",
       "      <th>1</th>\n",
       "      <td>Random Forest</td>\n",
       "      <td>0.7095</td>\n",
       "      <td>0.6797</td>\n",
       "    </tr>\n",
       "    <tr>\n",
       "      <th>4</th>\n",
       "      <td>Stochastic Gradient Descent</td>\n",
       "      <td>0.7317</td>\n",
       "      <td>0.7236</td>\n",
       "    </tr>\n",
       "    <tr>\n",
       "      <th>2</th>\n",
       "      <td>LinearSVC</td>\n",
       "      <td>0.7320</td>\n",
       "      <td>0.7273</td>\n",
       "    </tr>\n",
       "    <tr>\n",
       "      <th>6</th>\n",
       "      <td>Ridge Classifier</td>\n",
       "      <td>0.7332</td>\n",
       "      <td>0.7270</td>\n",
       "    </tr>\n",
       "    <tr>\n",
       "      <th>3</th>\n",
       "      <td>Logistic Regression</td>\n",
       "      <td>0.7538</td>\n",
       "      <td>0.7453</td>\n",
       "    </tr>\n",
       "  </tbody>\n",
       "</table>\n",
       "</div>"
      ],
      "text/plain": [
       "                   Classifiers  Accuracy  Weighted avg f1 Score\n",
       "0                Decision Tree    0.6498                 0.6403\n",
       "5    Support Vector Classifier    0.7044                 0.7044\n",
       "1                Random Forest    0.7095                 0.6797\n",
       "4  Stochastic Gradient Descent    0.7317                 0.7236\n",
       "2                    LinearSVC    0.7320                 0.7273\n",
       "6             Ridge Classifier    0.7332                 0.7270\n",
       "3          Logistic Regression    0.7538                 0.7453"
      ]
     },
     "execution_count": 109,
     "metadata": {},
     "output_type": "execute_result"
    }
   ],
   "source": [
    "# Creating a dataframe with our models and their performances metrics\n",
    "classifier_scores = {'Classifiers':['Decision Tree', 'Random Forest','LinearSVC',\n",
    "                                    'Logistic Regression','Stochastic Gradient Descent',\n",
    "                                    'Support Vector Classifier','Ridge Classifier'],\n",
    "                    'Accuracy':[decison_tree_acc,random_forest_acc,\n",
    "                                linearSVC_acc,logistic_reg_acc, sgd_acc, svc_f1, ridge_acc],\n",
    "                     'Weighted avg f1 Score':[decision_tree_f1,random_forest_f1,\n",
    "                                       linearSVC_f1,logistic_reg_f1, sgd_f1, svc_f1, ridge_f1]}\n",
    "df= pd.DataFrame(classifier_scores)\n",
    "df.sort_values(by=['Accuracy'],ascending=True, inplace = True)\n",
    "df"
   ]
  },
  {
   "cell_type": "code",
   "execution_count": 114,
   "id": "0628a584",
   "metadata": {},
   "outputs": [
    {
     "data": {
      "image/png": "[encoded data removed]",
      "text/plain": [
       "<Figure size 576x576 with 1 Axes>"
      ]
     },
     "metadata": {
      "needs_background": "light"
     },
     "output_type": "display_data"
    }
   ],
   "source": [
    "df.set_index(df['Classifiers'], inplace = True)\n",
    "df.drop(['Classifiers'],axis = 1)\n",
    "df.plot(kind='barh', figsize = (8,8),colormap='autumn')\n",
    "plt.xlabel('Score')\n",
    "plt.yticks(rotation = 45)\n",
    "plt.title('Classifier Perfomance')\n",
    "plt.legend(bbox_to_anchor=(1.05, 1.0), loc='upper left')\n",
    "plt.show()"
   ]
  },
  {
   "cell_type": "markdown",
   "id": "7aef38cf",
   "metadata": {},
   "source": [
    "**Key observations**\n",
    "From the above bar graph we see comparison of all the 7 models we've attempted thus far based on their `accuracy score` and associated `wighted f1 score`\n",
    "\n",
    "- We see that our top 3 best performing models are `LinearSVC`,`Logistic Regression` and `Ridge Classification` respectively, theres are the models will use in ensemble methods to try and improve our results\n",
    "- The `Decision Tree` classifer is the worst  at classifying the tweets with the lowest accuracy and wighted f1 scores of 0.64 and 0.61 respectivey\n",
    "\n",
    "**LinearSVC is the best performing model out of all 7 models that we've tried thus far with an accuracy score of 0.7538 and a weighted f1 score of 0.7453**"
   ]
  },
  {
   "cell_type": "markdown",
   "id": "1194c0a2",
   "metadata": {},
   "source": [
    "<a id='ensemble'></a>\n",
    "# Ensemble Methods\n",
    "\n",
    "Ensemble learning in machine learning is the practice of combining multiple models to try and achieve higher overall model performance. In general, ensembles consist of multiple **heterogeneous or homogeneous** models trained on the same dataset. Each of these models is used to make predictions on the same input, then these predictions are aggregated across all models in some way (e.g. by taking the mean) to produce the final output."
   ]
  },
  {
   "cell_type": "markdown",
   "id": "1fc7f9c8",
   "metadata": {},
   "source": [
    "<a id='ensemble'></a>\n",
    "## Heterogeneous Ensembel Method\n",
    "This type of ensemble consists of different types of models, so it can add pretty much any classification model we want, however in our case we're only going to add our top 3 best perfoming models which are, `LinearSVC, Stochastic Gradient Descent, Logistic Regression, `.\n",
    "\n",
    "The Heterogeneous ensemble method we're going to look at is the `Voting classifier`\n"
   ]
  },
  {
   "cell_type": "markdown",
   "id": "2f8b20bd",
   "metadata": {},
   "source": [
    "### Voting classifer \n",
    "Voting involves combining individual model outputs through a kind of \"[majority rule](https://en.wikipedia.org/wiki/Majority_rule)\" paradigm.\n",
    "The diagram below shows how the `Voting Classifier` works\n",
    "![ud382N9.png](https://iq.opengenus.org/content/images/2020/01/ud382N9.png)"
   ]
  },
  {
   "cell_type": "code",
   "execution_count": 31,
   "id": "37707ae5",
   "metadata": {},
   "outputs": [],
   "source": [
    "# Define the models which we'll include in our ensemble.  \n",
    "models = [(\"LinearSVC\",Lsvc_count),(\"Logistic Regression\",logreg_count),(\"Ridge Classified\",ridge_count)]\n",
    "\n",
    "# Specify weights for weighted model averaging\n",
    "model_weightings = np.array([0.1,0.3,0.6])\n",
    "\n",
    "# building the voting classifier\n",
    "Voting_classifier = VotingClassifier(estimators=models,weights=model_weightings)\n"
   ]
  },
  {
   "cell_type": "code",
   "execution_count": 32,
   "id": "b59d4e87",
   "metadata": {},
   "outputs": [
    {
     "name": "stderr",
     "output_type": "stream",
     "text": [
      "C:\\Users\\tebel\\anaconda3\\lib\\site-packages\\sklearn\\linear_model\\_logistic.py:444: ConvergenceWarning: lbfgs failed to converge (status=1):\n",
      "STOP: TOTAL NO. of ITERATIONS REACHED LIMIT.\n",
      "\n",
      "Increase the number of iterations (max_iter) or scale the data as shown in:\n",
      "    https://scikit-learn.org/stable/modules/preprocessing.html\n",
      "Please also refer to the documentation for alternative solver options:\n",
      "    https://scikit-learn.org/stable/modules/linear_model.html#logistic-regression\n",
      "  n_iter_i = _check_optimize_result(\n"
     ]
    },
    {
     "data": {
      "text/html": [
       "<style>#sk-container-id-2 {color: black;background-color: white;}#sk-container-id-2 pre{padding: 0;}#sk-container-id-2 div.sk-toggleable {background-color: white;}#sk-container-id-2 label.sk-toggleable__label {cursor: pointer;display: block;width: 100%;margin-bottom: 0;padding: 0.3em;box-sizing: border-box;text-align: center;}#sk-container-id-2 label.sk-toggleable__label-arrow:before {content: \"▸\";float: left;margin-right: 0.25em;color: #696969;}#sk-container-id-2 label.sk-toggleable__label-arrow:hover:before {color: black;}#sk-container-id-2 div.sk-estimator:hover label.sk-toggleable__label-arrow:before {color: black;}#sk-container-id-2 div.sk-toggleable__content {max-height: 0;max-width: 0;overflow: hidden;text-align: left;background-color: #f0f8ff;}#sk-container-id-2 div.sk-toggleable__content pre {margin: 0.2em;color: black;border-radius: 0.25em;background-color: #f0f8ff;}#sk-container-id-2 input.sk-toggleable__control:checked~div.sk-toggleable__content {max-height: 200px;max-width: 100%;overflow: auto;}#sk-container-id-2 input.sk-toggleable__control:checked~label.sk-toggleable__label-arrow:before {content: \"▾\";}#sk-container-id-2 div.sk-estimator input.sk-toggleable__control:checked~label.sk-toggleable__label {background-color: #d4ebff;}#sk-container-id-2 div.sk-label input.sk-toggleable__control:checked~label.sk-toggleable__label {background-color: #d4ebff;}#sk-container-id-2 input.sk-hidden--visually {border: 0;clip: rect(1px 1px 1px 1px);clip: rect(1px, 1px, 1px, 1px);height: 1px;margin: -1px;overflow: hidden;padding: 0;position: absolute;width: 1px;}#sk-container-id-2 div.sk-estimator {font-family: monospace;background-color: #f0f8ff;border: 1px dotted black;border-radius: 0.25em;box-sizing: border-box;margin-bottom: 0.5em;}#sk-container-id-2 div.sk-estimator:hover {background-color: #d4ebff;}#sk-container-id-2 div.sk-parallel-item::after {content: \"\";width: 100%;border-bottom: 1px solid gray;flex-grow: 1;}#sk-container-id-2 div.sk-label:hover label.sk-toggleable__label {background-color: #d4ebff;}#sk-container-id-2 div.sk-serial::before {content: \"\";position: absolute;border-left: 1px solid gray;box-sizing: border-box;top: 0;bottom: 0;left: 50%;z-index: 0;}#sk-container-id-2 div.sk-serial {display: flex;flex-direction: column;align-items: center;background-color: white;padding-right: 0.2em;padding-left: 0.2em;position: relative;}#sk-container-id-2 div.sk-item {position: relative;z-index: 1;}#sk-container-id-2 div.sk-parallel {display: flex;align-items: stretch;justify-content: center;background-color: white;position: relative;}#sk-container-id-2 div.sk-item::before, #sk-container-id-2 div.sk-parallel-item::before {content: \"\";position: absolute;border-left: 1px solid gray;box-sizing: border-box;top: 0;bottom: 0;left: 50%;z-index: -1;}#sk-container-id-2 div.sk-parallel-item {display: flex;flex-direction: column;z-index: 1;position: relative;background-color: white;}#sk-container-id-2 div.sk-parallel-item:first-child::after {align-self: flex-end;width: 50%;}#sk-container-id-2 div.sk-parallel-item:last-child::after {align-self: flex-start;width: 50%;}#sk-container-id-2 div.sk-parallel-item:only-child::after {width: 0;}#sk-container-id-2 div.sk-dashed-wrapped {border: 1px dashed gray;margin: 0 0.4em 0.5em 0.4em;box-sizing: border-box;padding-bottom: 0.4em;background-color: white;}#sk-container-id-2 div.sk-label label {font-family: monospace;font-weight: bold;display: inline-block;line-height: 1.2em;}#sk-container-id-2 div.sk-label-container {text-align: center;}#sk-container-id-2 div.sk-container {/* jupyter's `normalize.less` sets `[hidden] { display: none; }` but bootstrap.min.css set `[hidden] { display: none !important; }` so we also need the `!important` here to be able to override the default hidden behavior on the sphinx rendered scikit-learn.org. See: https://github.com/scikit-learn/scikit-learn/issues/21755 */display: inline-block !important;position: relative;}#sk-container-id-2 div.sk-text-repr-fallback {display: none;}</style><div id=\"sk-container-id-2\" class=\"sk-top-container\"><div class=\"sk-text-repr-fallback\"><pre>VotingClassifier(estimators=[(&#x27;LinearSVC&#x27;,\n",
       "                              Pipeline(steps=[(&#x27;CountVec&#x27;,\n",
       "                                               CountVectorizer(max_features=180000,\n",
       "                                                               ngram_range=(1,\n",
       "                                                                            2))),\n",
       "                                              (&#x27;svc&#x27;, LinearSVC())])),\n",
       "                             (&#x27;Logistic Regression&#x27;,\n",
       "                              Pipeline(steps=[(&#x27;CountVec&#x27;,\n",
       "                                               CountVectorizer(max_features=180000,\n",
       "                                                               ngram_range=(1,\n",
       "                                                                            2))),\n",
       "                                              (&#x27;logistic&#x27;,\n",
       "                                               LogisticRegression())])),\n",
       "                             (&#x27;Ridge Classified&#x27;,\n",
       "                              Pipeline(steps=[(&#x27;CountVec&#x27;,\n",
       "                                               CountVectorizer(max_features=180000,\n",
       "                                                               ngram_range=(1,\n",
       "                                                                            2))),\n",
       "                                              (&#x27;Ridge&#x27;, RidgeClassifier())]))],\n",
       "                 weights=array([0.1, 0.3, 0.6]))</pre><b>In a Jupyter environment, please rerun this cell to show the HTML representation or trust the notebook. <br />On GitHub, the HTML representation is unable to render, please try loading this page with nbviewer.org.</b></div><div class=\"sk-container\" hidden><div class=\"sk-item sk-dashed-wrapped\"><div class=\"sk-label-container\"><div class=\"sk-label sk-toggleable\"><input class=\"sk-toggleable__control sk-hidden--visually\" id=\"sk-estimator-id-4\" type=\"checkbox\" ><label for=\"sk-estimator-id-4\" class=\"sk-toggleable__label sk-toggleable__label-arrow\">VotingClassifier</label><div class=\"sk-toggleable__content\"><pre>VotingClassifier(estimators=[(&#x27;LinearSVC&#x27;,\n",
       "                              Pipeline(steps=[(&#x27;CountVec&#x27;,\n",
       "                                               CountVectorizer(max_features=180000,\n",
       "                                                               ngram_range=(1,\n",
       "                                                                            2))),\n",
       "                                              (&#x27;svc&#x27;, LinearSVC())])),\n",
       "                             (&#x27;Logistic Regression&#x27;,\n",
       "                              Pipeline(steps=[(&#x27;CountVec&#x27;,\n",
       "                                               CountVectorizer(max_features=180000,\n",
       "                                                               ngram_range=(1,\n",
       "                                                                            2))),\n",
       "                                              (&#x27;logistic&#x27;,\n",
       "                                               LogisticRegression())])),\n",
       "                             (&#x27;Ridge Classified&#x27;,\n",
       "                              Pipeline(steps=[(&#x27;CountVec&#x27;,\n",
       "                                               CountVectorizer(max_features=180000,\n",
       "                                                               ngram_range=(1,\n",
       "                                                                            2))),\n",
       "                                              (&#x27;Ridge&#x27;, RidgeClassifier())]))],\n",
       "                 weights=array([0.1, 0.3, 0.6]))</pre></div></div></div><div class=\"sk-parallel\"><div class=\"sk-parallel-item\"><div class=\"sk-item\"><div class=\"sk-label-container\"><div class=\"sk-label sk-toggleable\"><label>LinearSVC</label></div></div><div class=\"sk-serial\"><div class=\"sk-item\"><div class=\"sk-serial\"><div class=\"sk-item\"><div class=\"sk-estimator sk-toggleable\"><input class=\"sk-toggleable__control sk-hidden--visually\" id=\"sk-estimator-id-5\" type=\"checkbox\" ><label for=\"sk-estimator-id-5\" class=\"sk-toggleable__label sk-toggleable__label-arrow\">CountVectorizer</label><div class=\"sk-toggleable__content\"><pre>CountVectorizer(max_features=180000, ngram_range=(1, 2))</pre></div></div></div><div class=\"sk-item\"><div class=\"sk-estimator sk-toggleable\"><input class=\"sk-toggleable__control sk-hidden--visually\" id=\"sk-estimator-id-6\" type=\"checkbox\" ><label for=\"sk-estimator-id-6\" class=\"sk-toggleable__label sk-toggleable__label-arrow\">LinearSVC</label><div class=\"sk-toggleable__content\"><pre>LinearSVC()</pre></div></div></div></div></div></div></div></div><div class=\"sk-parallel-item\"><div class=\"sk-item\"><div class=\"sk-label-container\"><div class=\"sk-label sk-toggleable\"><label>Logistic Regression</label></div></div><div class=\"sk-serial\"><div class=\"sk-item\"><div class=\"sk-serial\"><div class=\"sk-item\"><div class=\"sk-estimator sk-toggleable\"><input class=\"sk-toggleable__control sk-hidden--visually\" id=\"sk-estimator-id-7\" type=\"checkbox\" ><label for=\"sk-estimator-id-7\" class=\"sk-toggleable__label sk-toggleable__label-arrow\">CountVectorizer</label><div class=\"sk-toggleable__content\"><pre>CountVectorizer(max_features=180000, ngram_range=(1, 2))</pre></div></div></div><div class=\"sk-item\"><div class=\"sk-estimator sk-toggleable\"><input class=\"sk-toggleable__control sk-hidden--visually\" id=\"sk-estimator-id-8\" type=\"checkbox\" ><label for=\"sk-estimator-id-8\" class=\"sk-toggleable__label sk-toggleable__label-arrow\">LogisticRegression</label><div class=\"sk-toggleable__content\"><pre>LogisticRegression()</pre></div></div></div></div></div></div></div></div><div class=\"sk-parallel-item\"><div class=\"sk-item\"><div class=\"sk-label-container\"><div class=\"sk-label sk-toggleable\"><label>Ridge Classified</label></div></div><div class=\"sk-serial\"><div class=\"sk-item\"><div class=\"sk-serial\"><div class=\"sk-item\"><div class=\"sk-estimator sk-toggleable\"><input class=\"sk-toggleable__control sk-hidden--visually\" id=\"sk-estimator-id-9\" type=\"checkbox\" ><label for=\"sk-estimator-id-9\" class=\"sk-toggleable__label sk-toggleable__label-arrow\">CountVectorizer</label><div class=\"sk-toggleable__content\"><pre>CountVectorizer(max_features=180000, ngram_range=(1, 2))</pre></div></div></div><div class=\"sk-item\"><div class=\"sk-estimator sk-toggleable\"><input class=\"sk-toggleable__control sk-hidden--visually\" id=\"sk-estimator-id-10\" type=\"checkbox\" ><label for=\"sk-estimator-id-10\" class=\"sk-toggleable__label sk-toggleable__label-arrow\">RidgeClassifier</label><div class=\"sk-toggleable__content\"><pre>RidgeClassifier()</pre></div></div></div></div></div></div></div></div></div></div></div></div>"
      ],
      "text/plain": [
       "VotingClassifier(estimators=[('LinearSVC',\n",
       "                              Pipeline(steps=[('CountVec',\n",
       "                                               CountVectorizer(max_features=180000,\n",
       "                                                               ngram_range=(1,\n",
       "                                                                            2))),\n",
       "                                              ('svc', LinearSVC())])),\n",
       "                             ('Logistic Regression',\n",
       "                              Pipeline(steps=[('CountVec',\n",
       "                                               CountVectorizer(max_features=180000,\n",
       "                                                               ngram_range=(1,\n",
       "                                                                            2))),\n",
       "                                              ('logistic',\n",
       "                                               LogisticRegression())])),\n",
       "                             ('Ridge Classified',\n",
       "                              Pipeline(steps=[('CountVec',\n",
       "                                               CountVectorizer(max_features=180000,\n",
       "                                                               ngram_range=(1,\n",
       "                                                                            2))),\n",
       "                                              ('Ridge', RidgeClassifier())]))],\n",
       "                 weights=array([0.1, 0.3, 0.6]))"
      ]
     },
     "execution_count": 32,
     "metadata": {},
     "output_type": "execute_result"
    }
   ],
   "source": [
    "# training the voting classifier\n",
    "Voting_classifier.fit(X_train, y_train)"
   ]
  },
  {
   "cell_type": "code",
   "execution_count": 33,
   "id": "0be7f4a4",
   "metadata": {},
   "outputs": [],
   "source": [
    "# Voting Classifier predictions\n",
    "voting_prediction = Voting_classifier.predict(X_val)"
   ]
  },
  {
   "cell_type": "code",
   "execution_count": 37,
   "id": "13ffe774",
   "metadata": {},
   "outputs": [
    {
     "name": "stdout",
     "output_type": "stream",
     "text": [
      "\n",
      "Voting Classifier  Classification report :\n",
      "               precision    recall  f1-score   support\n",
      "\n",
      "          -1       0.72      0.42      0.53       278\n",
      "           0       0.52      0.48      0.50       425\n",
      "           1       0.79      0.84      0.81      1755\n",
      "           2       0.71      0.76      0.73       706\n",
      "\n",
      "    accuracy                           0.73      3164\n",
      "   macro avg       0.68      0.62      0.64      3164\n",
      "weighted avg       0.73      0.73      0.73      3164\n",
      "\n"
     ]
    }
   ],
   "source": [
    "print('\\nVoting Classifier  Classification report :\\n', classification_report(y_val, voting_prediction))"
   ]
  },
  {
   "cell_type": "markdown",
   "id": "6084b7d2",
   "metadata": {},
   "source": [
    "The voting  classifer did a good job at classifying the sentiment classes which 'Neutral' sentiment class being the poorly classified one\n",
    "- achieving the f1 score of\n",
    "- `Pro` sentiment class : 0.81\n",
    "- `News` sentiment class : 0.73\n",
    "- `Anti` sentiment class: 0.53\n",
    "- `Neutral` sentiment class : 0.50"
   ]
  },
  {
   "cell_type": "code",
   "execution_count": 38,
   "id": "f4f26f74",
   "metadata": {},
   "outputs": [
    {
     "name": "stdout",
     "output_type": "stream",
     "text": [
      "\n",
      "Overall accuracy for the Voting Classifier : 0.7332\n",
      "\n",
      "Weighted avg f1 score for the Voting Classifier : 0.727\n"
     ]
    }
   ],
   "source": [
    "# Checking the accuracy score\n",
    "voting_acc = round(accuracy_score(y_val, voting_prediction),4)\n",
    "print(f'\\nOverall accuracy for the Voting Classifier : {voting_acc}')\n",
    "voting_f1 = round(f1_score(y_val, voting_prediction, average=\"weighted\"),4)\n",
    "print(f'\\nWeighted avg f1 score for the Voting Classifier : {voting_f1}')"
   ]
  },
  {
   "cell_type": "markdown",
   "id": "3df90f3c",
   "metadata": {},
   "source": [
    "The Voting Classifier achieved the accuracy and weighted f1 score of 0.7332 and 0.727 respectively, which is not much of an improvement from our best performing model that achieved the accuracy of 0.75 and 0.74"
   ]
  },
  {
   "cell_type": "markdown",
   "id": "41bf6b23",
   "metadata": {},
   "source": [
    "<a id='tunning'></a>\n",
    "# Hyperparameter Tunning\n",
    "We will look at two methods of hyperparameter tunning, namely `GridSearchCV` and `Parfit`\n",
    "\n",
    "* Models we will perform hyperparameter tunning on\n",
    "  * LinearSVC\n",
    "  * Logistic Regression\n",
    "  * Ridge Classifier\n",
    " "
   ]
  },
  {
   "cell_type": "markdown",
   "id": "4434b567",
   "metadata": {},
   "source": [
    "The caveat of using pipelines to build our models is that we can't easily get the parameters for our models as such to perfom hyperparameter tunning and obtain the best parameters for our models we wont be using the pipelines, this means we will convert raw text data to numeric data independently from building the models."
   ]
  },
  {
   "cell_type": "code",
   "execution_count": 34,
   "id": "4a285fe7",
   "metadata": {},
   "outputs": [],
   "source": [
    "# We have to to prepare our data again since we wont be using the pipelines\n",
    "\n",
    "train = train.copy()\n",
    "test = test.copy()\n",
    "\n",
    "train['message'] = replace_sentiments(train)\n",
    "test['message'] = replace_sentiments(test)\n",
    "train['clean_tweets'] = clean_tweets(train)\n",
    "test['clean_tweets'] = clean_tweets(test)\n",
    "\n",
    "normalizer = WordNetLemmatizer()\n",
    "train['clean_tweets'] = train['clean_tweets'].apply(lambda x: [normalizer.lemmatize(token, POS(token)) for token in x])\n",
    "test['clean_tweets'] = test['clean_tweets'].apply(lambda x: [normalizer.lemmatize(token, POS(token)) for token in x])\n",
    "\n",
    "\n",
    "\n",
    "X = train['clean_tweets']\n",
    "y = train['sentiment']\n",
    "X_test = test['clean_tweets']\n",
    "\n",
    "\n",
    "X_train, X_val, y_train, y_val = train_test_split(X, y, test_size=0.1, random_state = 42)\n",
    "\n",
    "X_train = list(X_train.apply(' '.join))\n",
    "X_val = list(X_val.apply(' '.join))\n",
    "X_test = list(X_test.apply(' '.join))"
   ]
  },
  {
   "cell_type": "code",
   "execution_count": 35,
   "id": "ea84c12e",
   "metadata": {},
   "outputs": [],
   "source": [
    "vectorizer = CountVectorizer(analyzer = 'word', \n",
    "                             tokenizer = None, \n",
    "                             preprocessor = None, \n",
    "                             stop_words = None, \n",
    "                             max_features = 180000,\n",
    "                             min_df = 1,\n",
    "                             ngram_range = (1,2)\n",
    "                            )\n",
    "vectorizer.fit(X_train)\n",
    "X_train = vectorizer.transform(X_train)\n",
    "X_val = vectorizer.transform(X_val)\n",
    "X_test = vectorizer.transform(X_test)"
   ]
  },
  {
   "cell_type": "markdown",
   "id": "779a1ab4",
   "metadata": {},
   "source": [
    "### Tuning LinearSVC"
   ]
  },
  {
   "cell_type": "code",
   "execution_count": 36,
   "id": "713d6713",
   "metadata": {},
   "outputs": [
    {
     "name": "stderr",
     "output_type": "stream",
     "text": [
      "C:\\Users\\tebel\\anaconda3\\lib\\site-packages\\sklearn\\svm\\_base.py:1225: ConvergenceWarning: Liblinear failed to converge, increase the number of iterations.\n",
      "  warnings.warn(\n"
     ]
    },
    {
     "data": {
      "text/html": [
       "<style>#sk-container-id-3 {color: black;background-color: white;}#sk-container-id-3 pre{padding: 0;}#sk-container-id-3 div.sk-toggleable {background-color: white;}#sk-container-id-3 label.sk-toggleable__label {cursor: pointer;display: block;width: 100%;margin-bottom: 0;padding: 0.3em;box-sizing: border-box;text-align: center;}#sk-container-id-3 label.sk-toggleable__label-arrow:before {content: \"▸\";float: left;margin-right: 0.25em;color: #696969;}#sk-container-id-3 label.sk-toggleable__label-arrow:hover:before {color: black;}#sk-container-id-3 div.sk-estimator:hover label.sk-toggleable__label-arrow:before {color: black;}#sk-container-id-3 div.sk-toggleable__content {max-height: 0;max-width: 0;overflow: hidden;text-align: left;background-color: #f0f8ff;}#sk-container-id-3 div.sk-toggleable__content pre {margin: 0.2em;color: black;border-radius: 0.25em;background-color: #f0f8ff;}#sk-container-id-3 input.sk-toggleable__control:checked~div.sk-toggleable__content {max-height: 200px;max-width: 100%;overflow: auto;}#sk-container-id-3 input.sk-toggleable__control:checked~label.sk-toggleable__label-arrow:before {content: \"▾\";}#sk-container-id-3 div.sk-estimator input.sk-toggleable__control:checked~label.sk-toggleable__label {background-color: #d4ebff;}#sk-container-id-3 div.sk-label input.sk-toggleable__control:checked~label.sk-toggleable__label {background-color: #d4ebff;}#sk-container-id-3 input.sk-hidden--visually {border: 0;clip: rect(1px 1px 1px 1px);clip: rect(1px, 1px, 1px, 1px);height: 1px;margin: -1px;overflow: hidden;padding: 0;position: absolute;width: 1px;}#sk-container-id-3 div.sk-estimator {font-family: monospace;background-color: #f0f8ff;border: 1px dotted black;border-radius: 0.25em;box-sizing: border-box;margin-bottom: 0.5em;}#sk-container-id-3 div.sk-estimator:hover {background-color: #d4ebff;}#sk-container-id-3 div.sk-parallel-item::after {content: \"\";width: 100%;border-bottom: 1px solid gray;flex-grow: 1;}#sk-container-id-3 div.sk-label:hover label.sk-toggleable__label {background-color: #d4ebff;}#sk-container-id-3 div.sk-serial::before {content: \"\";position: absolute;border-left: 1px solid gray;box-sizing: border-box;top: 0;bottom: 0;left: 50%;z-index: 0;}#sk-container-id-3 div.sk-serial {display: flex;flex-direction: column;align-items: center;background-color: white;padding-right: 0.2em;padding-left: 0.2em;position: relative;}#sk-container-id-3 div.sk-item {position: relative;z-index: 1;}#sk-container-id-3 div.sk-parallel {display: flex;align-items: stretch;justify-content: center;background-color: white;position: relative;}#sk-container-id-3 div.sk-item::before, #sk-container-id-3 div.sk-parallel-item::before {content: \"\";position: absolute;border-left: 1px solid gray;box-sizing: border-box;top: 0;bottom: 0;left: 50%;z-index: -1;}#sk-container-id-3 div.sk-parallel-item {display: flex;flex-direction: column;z-index: 1;position: relative;background-color: white;}#sk-container-id-3 div.sk-parallel-item:first-child::after {align-self: flex-end;width: 50%;}#sk-container-id-3 div.sk-parallel-item:last-child::after {align-self: flex-start;width: 50%;}#sk-container-id-3 div.sk-parallel-item:only-child::after {width: 0;}#sk-container-id-3 div.sk-dashed-wrapped {border: 1px dashed gray;margin: 0 0.4em 0.5em 0.4em;box-sizing: border-box;padding-bottom: 0.4em;background-color: white;}#sk-container-id-3 div.sk-label label {font-family: monospace;font-weight: bold;display: inline-block;line-height: 1.2em;}#sk-container-id-3 div.sk-label-container {text-align: center;}#sk-container-id-3 div.sk-container {/* jupyter's `normalize.less` sets `[hidden] { display: none; }` but bootstrap.min.css set `[hidden] { display: none !important; }` so we also need the `!important` here to be able to override the default hidden behavior on the sphinx rendered scikit-learn.org. See: https://github.com/scikit-learn/scikit-learn/issues/21755 */display: inline-block !important;position: relative;}#sk-container-id-3 div.sk-text-repr-fallback {display: none;}</style><div id=\"sk-container-id-3\" class=\"sk-top-container\"><div class=\"sk-text-repr-fallback\"><pre>LinearSVC(C=7.9060432109076855)</pre><b>In a Jupyter environment, please rerun this cell to show the HTML representation or trust the notebook. <br />On GitHub, the HTML representation is unable to render, please try loading this page with nbviewer.org.</b></div><div class=\"sk-container\" hidden><div class=\"sk-item\"><div class=\"sk-estimator sk-toggleable\"><input class=\"sk-toggleable__control sk-hidden--visually\" id=\"sk-estimator-id-11\" type=\"checkbox\" checked><label for=\"sk-estimator-id-11\" class=\"sk-toggleable__label sk-toggleable__label-arrow\">LinearSVC</label><div class=\"sk-toggleable__content\"><pre>LinearSVC(C=7.9060432109076855)</pre></div></div></div></div></div>"
      ],
      "text/plain": [
       "LinearSVC(C=7.9060432109076855)"
      ]
     },
     "execution_count": 36,
     "metadata": {},
     "output_type": "execute_result"
    }
   ],
   "source": [
    "# The GridSearch Best parameter\n",
    "best_param = {'C': 7.9060432109076855}\n",
    "\n",
    "# retrain the model\n",
    "grid_lsvc = LinearSVC(C= 7.9060432109076855)\n",
    "grid_lsvc.fit(X_train, y_train)"
   ]
  },
  {
   "cell_type": "code",
   "execution_count": 37,
   "id": "f790fce1",
   "metadata": {},
   "outputs": [],
   "source": [
    "tuned_lsvc_predictions = grid_lsvc.predict(X_val)"
   ]
  },
  {
   "cell_type": "code",
   "execution_count": 43,
   "id": "0adb3995",
   "metadata": {},
   "outputs": [
    {
     "name": "stdout",
     "output_type": "stream",
     "text": [
      "\n",
      "Overall accuracy score for LinearSVC : 0.732\n"
     ]
    }
   ],
   "source": [
    "# Checking the accuracy score\n",
    "tuned_lsvc_acc = round(accuracy_score(y_val, tuned_lsvc_predictions),4)\n",
    "print(f'\\nOverall accuracy score for LinearSVC : {tuned_lsvc_acc}')"
   ]
  },
  {
   "cell_type": "code",
   "execution_count": 38,
   "id": "459feb3d",
   "metadata": {},
   "outputs": [
    {
     "name": "stdout",
     "output_type": "stream",
     "text": [
      "\n",
      "Overall accuracy score for LinearSVC : 0.7597977243994943\n"
     ]
    }
   ],
   "source": [
    "# We now retrain the LinearSVC with the best parameters we got from the tuning method that performed the best\n",
    "\n",
    "final_lsvc = LinearSVC(C=0.3906939937054613, class_weight=None, dual=True,\n",
    "          fit_intercept=True, intercept_scaling=1, loss='squared_hinge',\n",
    "          max_iter=1000, multi_class='ovr', penalty='l2', random_state=None,\n",
    "          tol=0.0001, verbose=0) \n",
    "final_lsvc.fit(X_train, y_train)\n",
    "LinearSVC_prediction = final_lsvc.predict(X_val)\n",
    "final_svc_acc = accuracy_score(y_val, LinearSVC_prediction)\n",
    "print(f'\\nOverall accuracy score for LinearSVC : {final_svc_acc}')\n",
    "\n"
   ]
  },
  {
   "cell_type": "code",
   "execution_count": 39,
   "id": "37bdfa0c",
   "metadata": {},
   "outputs": [],
   "source": [
    "# Saving the model\n",
    "import pickle\n",
    "model_save_path = 'final_lsvc.pkl'\n",
    "with open(model_save_path, 'wb') as file:\n",
    "  pickle.dump(final_lsvc, file)"
   ]
  },
  {
   "cell_type": "code",
   "execution_count": 40,
   "id": "ba6f296c",
   "metadata": {},
   "outputs": [],
   "source": [
    "Final_lsvc_acc = accuracy_score(y_val, LinearSVC_prediction)\n",
    "Final_lsvc_f1 = f1_score(y_val, LinearSVC_prediction, average = 'weighted')"
   ]
  },
  {
   "cell_type": "code",
   "execution_count": 41,
   "id": "750cbfbf",
   "metadata": {},
   "outputs": [],
   "source": [
    "# Saving the model\n",
    "import pickle\n",
    "model_save_path = 'vector.pkl'\n",
    "with open(model_save_path, 'wb') as file:\n",
    "  pickle.dump(ridge_count, file)"
   ]
  },
  {
   "cell_type": "markdown",
   "id": "9c8aef63",
   "metadata": {},
   "source": [
    "### Tuning Logistic Regression"
   ]
  },
  {
   "cell_type": "code",
   "execution_count": 47,
   "id": "6d8fbc2c",
   "metadata": {},
   "outputs": [
    {
     "name": "stdout",
     "output_type": "stream",
     "text": [
      "The accuracy score score for tuned Logistic Regression Classifier : 0.768\n"
     ]
    },
    {
     "name": "stderr",
     "output_type": "stream",
     "text": [
      "C:\\Users\\tebel\\anaconda3\\lib\\site-packages\\sklearn\\linear_model\\_logistic.py:444: ConvergenceWarning: lbfgs failed to converge (status=1):\n",
      "STOP: TOTAL NO. of ITERATIONS REACHED LIMIT.\n",
      "\n",
      "Increase the number of iterations (max_iter) or scale the data as shown in:\n",
      "    https://scikit-learn.org/stable/modules/preprocessing.html\n",
      "Please also refer to the documentation for alternative solver options:\n",
      "    https://scikit-learn.org/stable/modules/linear_model.html#logistic-regression\n",
      "  n_iter_i = _check_optimize_result(\n"
     ]
    }
   ],
   "source": [
    "# Retraining the Logistic Regresion model with best parameters                     \n",
    "grid_Log_reg = LogisticRegression(C = 3.727593720314938, penalty = 'l2',solver='lbfgs', random_state=42)\n",
    "grid_Log_reg.fit(X_train, y_train)\n",
    "\n",
    "tunned_logreg_acc = round(accuracy_score(y_val, grid_Log_reg.predict(X_val)),4)\n",
    "print(f'The accuracy score score for tuned Logistic Regression Classifier : {tunned_logreg_acc}')"
   ]
  },
  {
   "cell_type": "code",
   "execution_count": 48,
   "id": "ce60a396",
   "metadata": {},
   "outputs": [],
   "source": [
    "# Saving the model\n",
    "import pickle\n",
    "model_save_path = 'Logistic_regression.pkl'\n",
    "with open(model_save_path, 'wb') as file:\n",
    "  pickle.dump(grid_Log_reg, file)"
   ]
  },
  {
   "cell_type": "code",
   "execution_count": 42,
   "id": "3975abcb",
   "metadata": {},
   "outputs": [
    {
     "name": "stderr",
     "output_type": "stream",
     "text": [
      "C:\\Users\\tebel\\anaconda3\\lib\\site-packages\\sklearn\\linear_model\\_logistic.py:444: ConvergenceWarning: lbfgs failed to converge (status=1):\n",
      "STOP: TOTAL NO. of ITERATIONS REACHED LIMIT.\n",
      "\n",
      "Increase the number of iterations (max_iter) or scale the data as shown in:\n",
      "    https://scikit-learn.org/stable/modules/preprocessing.html\n",
      "Please also refer to the documentation for alternative solver options:\n",
      "    https://scikit-learn.org/stable/modules/linear_model.html#logistic-regression\n",
      "  n_iter_i = _check_optimize_result(\n"
     ]
    },
    {
     "data": {
      "text/plain": [
       "0.768"
      ]
     },
     "execution_count": 42,
     "metadata": {},
     "output_type": "execute_result"
    }
   ],
   "source": [
    "# We now retrain Logistic Regression with the best parameters we got from the tuning method that performed the best\n",
    "\n",
    "final_logreg = LogisticRegression(C = 3.727593720314938, class_weight=None, dual=False,\n",
    "                   fit_intercept=True, intercept_scaling=1, l1_ratio=None,\n",
    "                   max_iter=100, multi_class='auto', n_jobs=None, penalty='l2',\n",
    "                   random_state=None, solver='lbfgs', tol=0.0001, verbose=0,\n",
    "                   warm_start=False)\n",
    "final_logreg.fit(X_train, y_train)\n",
    "final_log_reg_prediction= final_logreg.predict(X_val) \n",
    "final_logreg_acc = round(accuracy_score(y_val, final_log_reg_prediction),4)\n",
    "final_logreg_acc"
   ]
  },
  {
   "cell_type": "code",
   "execution_count": 43,
   "id": "c262386b",
   "metadata": {},
   "outputs": [
    {
     "data": {
      "text/plain": [
       "0.7596"
      ]
     },
     "execution_count": 43,
     "metadata": {},
     "output_type": "execute_result"
    }
   ],
   "source": [
    "final_logreg_f1 = round(f1_score(y_val, final_log_reg_prediction, average = 'weighted'),4)\n",
    "final_logreg_f1"
   ]
  },
  {
   "cell_type": "markdown",
   "id": "b0536d92",
   "metadata": {},
   "source": [
    "## Tuning Ridge Classifier"
   ]
  },
  {
   "cell_type": "code",
   "execution_count": 44,
   "id": "4be8cec8",
   "metadata": {},
   "outputs": [
    {
     "data": {
      "text/html": [
       "<style>#sk-container-id-4 {color: black;background-color: white;}#sk-container-id-4 pre{padding: 0;}#sk-container-id-4 div.sk-toggleable {background-color: white;}#sk-container-id-4 label.sk-toggleable__label {cursor: pointer;display: block;width: 100%;margin-bottom: 0;padding: 0.3em;box-sizing: border-box;text-align: center;}#sk-container-id-4 label.sk-toggleable__label-arrow:before {content: \"▸\";float: left;margin-right: 0.25em;color: #696969;}#sk-container-id-4 label.sk-toggleable__label-arrow:hover:before {color: black;}#sk-container-id-4 div.sk-estimator:hover label.sk-toggleable__label-arrow:before {color: black;}#sk-container-id-4 div.sk-toggleable__content {max-height: 0;max-width: 0;overflow: hidden;text-align: left;background-color: #f0f8ff;}#sk-container-id-4 div.sk-toggleable__content pre {margin: 0.2em;color: black;border-radius: 0.25em;background-color: #f0f8ff;}#sk-container-id-4 input.sk-toggleable__control:checked~div.sk-toggleable__content {max-height: 200px;max-width: 100%;overflow: auto;}#sk-container-id-4 input.sk-toggleable__control:checked~label.sk-toggleable__label-arrow:before {content: \"▾\";}#sk-container-id-4 div.sk-estimator input.sk-toggleable__control:checked~label.sk-toggleable__label {background-color: #d4ebff;}#sk-container-id-4 div.sk-label input.sk-toggleable__control:checked~label.sk-toggleable__label {background-color: #d4ebff;}#sk-container-id-4 input.sk-hidden--visually {border: 0;clip: rect(1px 1px 1px 1px);clip: rect(1px, 1px, 1px, 1px);height: 1px;margin: -1px;overflow: hidden;padding: 0;position: absolute;width: 1px;}#sk-container-id-4 div.sk-estimator {font-family: monospace;background-color: #f0f8ff;border: 1px dotted black;border-radius: 0.25em;box-sizing: border-box;margin-bottom: 0.5em;}#sk-container-id-4 div.sk-estimator:hover {background-color: #d4ebff;}#sk-container-id-4 div.sk-parallel-item::after {content: \"\";width: 100%;border-bottom: 1px solid gray;flex-grow: 1;}#sk-container-id-4 div.sk-label:hover label.sk-toggleable__label {background-color: #d4ebff;}#sk-container-id-4 div.sk-serial::before {content: \"\";position: absolute;border-left: 1px solid gray;box-sizing: border-box;top: 0;bottom: 0;left: 50%;z-index: 0;}#sk-container-id-4 div.sk-serial {display: flex;flex-direction: column;align-items: center;background-color: white;padding-right: 0.2em;padding-left: 0.2em;position: relative;}#sk-container-id-4 div.sk-item {position: relative;z-index: 1;}#sk-container-id-4 div.sk-parallel {display: flex;align-items: stretch;justify-content: center;background-color: white;position: relative;}#sk-container-id-4 div.sk-item::before, #sk-container-id-4 div.sk-parallel-item::before {content: \"\";position: absolute;border-left: 1px solid gray;box-sizing: border-box;top: 0;bottom: 0;left: 50%;z-index: -1;}#sk-container-id-4 div.sk-parallel-item {display: flex;flex-direction: column;z-index: 1;position: relative;background-color: white;}#sk-container-id-4 div.sk-parallel-item:first-child::after {align-self: flex-end;width: 50%;}#sk-container-id-4 div.sk-parallel-item:last-child::after {align-self: flex-start;width: 50%;}#sk-container-id-4 div.sk-parallel-item:only-child::after {width: 0;}#sk-container-id-4 div.sk-dashed-wrapped {border: 1px dashed gray;margin: 0 0.4em 0.5em 0.4em;box-sizing: border-box;padding-bottom: 0.4em;background-color: white;}#sk-container-id-4 div.sk-label label {font-family: monospace;font-weight: bold;display: inline-block;line-height: 1.2em;}#sk-container-id-4 div.sk-label-container {text-align: center;}#sk-container-id-4 div.sk-container {/* jupyter's `normalize.less` sets `[hidden] { display: none; }` but bootstrap.min.css set `[hidden] { display: none !important; }` so we also need the `!important` here to be able to override the default hidden behavior on the sphinx rendered scikit-learn.org. See: https://github.com/scikit-learn/scikit-learn/issues/21755 */display: inline-block !important;position: relative;}#sk-container-id-4 div.sk-text-repr-fallback {display: none;}</style><div id=\"sk-container-id-4\" class=\"sk-top-container\"><div class=\"sk-text-repr-fallback\"><pre>RidgeClassifier(alpha=11.513953993264458)</pre><b>In a Jupyter environment, please rerun this cell to show the HTML representation or trust the notebook. <br />On GitHub, the HTML representation is unable to render, please try loading this page with nbviewer.org.</b></div><div class=\"sk-container\" hidden><div class=\"sk-item\"><div class=\"sk-estimator sk-toggleable\"><input class=\"sk-toggleable__control sk-hidden--visually\" id=\"sk-estimator-id-12\" type=\"checkbox\" checked><label for=\"sk-estimator-id-12\" class=\"sk-toggleable__label sk-toggleable__label-arrow\">RidgeClassifier</label><div class=\"sk-toggleable__content\"><pre>RidgeClassifier(alpha=11.513953993264458)</pre></div></div></div></div></div>"
      ],
      "text/plain": [
       "RidgeClassifier(alpha=11.513953993264458)"
      ]
     },
     "execution_count": 44,
     "metadata": {},
     "output_type": "execute_result"
    }
   ],
   "source": [
    "best_params = {'alpha': 11.513953993264458}\n",
    "# retrain the model with best params\n",
    "ridge_grid = RidgeClassifier(alpha=11.513953993264458)\n",
    "ridge_grid.fit(X_train, y_train)"
   ]
  },
  {
   "cell_type": "code",
   "execution_count": 45,
   "id": "f50b8915",
   "metadata": {},
   "outputs": [
    {
     "name": "stdout",
     "output_type": "stream",
     "text": [
      "0.7502744536332743\n"
     ]
    }
   ],
   "source": [
    "# accuracy of the ridge gridsearch model\n",
    "print(f1_score(y_val, ridge_grid.predict(X_val), average = 'weighted'))"
   ]
  },
  {
   "cell_type": "code",
   "execution_count": 46,
   "id": "d8fb05a4",
   "metadata": {},
   "outputs": [
    {
     "name": "stderr",
     "output_type": "stream",
     "text": [
      "C:\\Users\\tebel\\anaconda3\\lib\\site-packages\\sklearn\\linear_model\\_base.py:148: FutureWarning: 'normalize' was deprecated in version 1.0 and will be removed in 1.2. Please leave the normalize parameter to its default value to silence this warning. The default behavior of this estimator is to not do any normalization. If normalization is needed please use sklearn.preprocessing.StandardScaler instead.\n",
      "  warnings.warn(\n"
     ]
    },
    {
     "data": {
      "text/html": [
       "<style>#sk-container-id-5 {color: black;background-color: white;}#sk-container-id-5 pre{padding: 0;}#sk-container-id-5 div.sk-toggleable {background-color: white;}#sk-container-id-5 label.sk-toggleable__label {cursor: pointer;display: block;width: 100%;margin-bottom: 0;padding: 0.3em;box-sizing: border-box;text-align: center;}#sk-container-id-5 label.sk-toggleable__label-arrow:before {content: \"▸\";float: left;margin-right: 0.25em;color: #696969;}#sk-container-id-5 label.sk-toggleable__label-arrow:hover:before {color: black;}#sk-container-id-5 div.sk-estimator:hover label.sk-toggleable__label-arrow:before {color: black;}#sk-container-id-5 div.sk-toggleable__content {max-height: 0;max-width: 0;overflow: hidden;text-align: left;background-color: #f0f8ff;}#sk-container-id-5 div.sk-toggleable__content pre {margin: 0.2em;color: black;border-radius: 0.25em;background-color: #f0f8ff;}#sk-container-id-5 input.sk-toggleable__control:checked~div.sk-toggleable__content {max-height: 200px;max-width: 100%;overflow: auto;}#sk-container-id-5 input.sk-toggleable__control:checked~label.sk-toggleable__label-arrow:before {content: \"▾\";}#sk-container-id-5 div.sk-estimator input.sk-toggleable__control:checked~label.sk-toggleable__label {background-color: #d4ebff;}#sk-container-id-5 div.sk-label input.sk-toggleable__control:checked~label.sk-toggleable__label {background-color: #d4ebff;}#sk-container-id-5 input.sk-hidden--visually {border: 0;clip: rect(1px 1px 1px 1px);clip: rect(1px, 1px, 1px, 1px);height: 1px;margin: -1px;overflow: hidden;padding: 0;position: absolute;width: 1px;}#sk-container-id-5 div.sk-estimator {font-family: monospace;background-color: #f0f8ff;border: 1px dotted black;border-radius: 0.25em;box-sizing: border-box;margin-bottom: 0.5em;}#sk-container-id-5 div.sk-estimator:hover {background-color: #d4ebff;}#sk-container-id-5 div.sk-parallel-item::after {content: \"\";width: 100%;border-bottom: 1px solid gray;flex-grow: 1;}#sk-container-id-5 div.sk-label:hover label.sk-toggleable__label {background-color: #d4ebff;}#sk-container-id-5 div.sk-serial::before {content: \"\";position: absolute;border-left: 1px solid gray;box-sizing: border-box;top: 0;bottom: 0;left: 50%;z-index: 0;}#sk-container-id-5 div.sk-serial {display: flex;flex-direction: column;align-items: center;background-color: white;padding-right: 0.2em;padding-left: 0.2em;position: relative;}#sk-container-id-5 div.sk-item {position: relative;z-index: 1;}#sk-container-id-5 div.sk-parallel {display: flex;align-items: stretch;justify-content: center;background-color: white;position: relative;}#sk-container-id-5 div.sk-item::before, #sk-container-id-5 div.sk-parallel-item::before {content: \"\";position: absolute;border-left: 1px solid gray;box-sizing: border-box;top: 0;bottom: 0;left: 50%;z-index: -1;}#sk-container-id-5 div.sk-parallel-item {display: flex;flex-direction: column;z-index: 1;position: relative;background-color: white;}#sk-container-id-5 div.sk-parallel-item:first-child::after {align-self: flex-end;width: 50%;}#sk-container-id-5 div.sk-parallel-item:last-child::after {align-self: flex-start;width: 50%;}#sk-container-id-5 div.sk-parallel-item:only-child::after {width: 0;}#sk-container-id-5 div.sk-dashed-wrapped {border: 1px dashed gray;margin: 0 0.4em 0.5em 0.4em;box-sizing: border-box;padding-bottom: 0.4em;background-color: white;}#sk-container-id-5 div.sk-label label {font-family: monospace;font-weight: bold;display: inline-block;line-height: 1.2em;}#sk-container-id-5 div.sk-label-container {text-align: center;}#sk-container-id-5 div.sk-container {/* jupyter's `normalize.less` sets `[hidden] { display: none; }` but bootstrap.min.css set `[hidden] { display: none !important; }` so we also need the `!important` here to be able to override the default hidden behavior on the sphinx rendered scikit-learn.org. See: https://github.com/scikit-learn/scikit-learn/issues/21755 */display: inline-block !important;position: relative;}#sk-container-id-5 div.sk-text-repr-fallback {display: none;}</style><div id=\"sk-container-id-5\" class=\"sk-top-container\"><div class=\"sk-text-repr-fallback\"><pre>RidgeClassifier(alpha=5.428675439323859, normalize=False)</pre><b>In a Jupyter environment, please rerun this cell to show the HTML representation or trust the notebook. <br />On GitHub, the HTML representation is unable to render, please try loading this page with nbviewer.org.</b></div><div class=\"sk-container\" hidden><div class=\"sk-item\"><div class=\"sk-estimator sk-toggleable\"><input class=\"sk-toggleable__control sk-hidden--visually\" id=\"sk-estimator-id-13\" type=\"checkbox\" checked><label for=\"sk-estimator-id-13\" class=\"sk-toggleable__label sk-toggleable__label-arrow\">RidgeClassifier</label><div class=\"sk-toggleable__content\"><pre>RidgeClassifier(alpha=5.428675439323859, normalize=False)</pre></div></div></div></div></div>"
      ],
      "text/plain": [
       "RidgeClassifier(alpha=5.428675439323859, normalize=False)"
      ]
     },
     "execution_count": 46,
     "metadata": {},
     "output_type": "execute_result"
    }
   ],
   "source": [
    "# retraining the best Ridge Classifer model we have\n",
    "ridge_tuned = RidgeClassifier(alpha=5.428675439323859, class_weight=None, copy_X=True,\n",
    "                fit_intercept=True, max_iter=None, normalize=False,\n",
    "                random_state=None, solver='auto', tol=0.001) \n",
    "ridge_tuned.fit(X_train, y_train)"
   ]
  },
  {
   "cell_type": "code",
   "execution_count": 47,
   "id": "138c9936",
   "metadata": {},
   "outputs": [
    {
     "name": "stdout",
     "output_type": "stream",
     "text": [
      "\n",
      "Overall accuracy score for Ridge Classifier accuracy Score : 0.7332490518331226\n"
     ]
    },
    {
     "ename": "NameError",
     "evalue": "name 'ridge_f1' is not defined",
     "output_type": "error",
     "traceback": [
      "\u001b[1;31m---------------------------------------------------------------------------\u001b[0m",
      "\u001b[1;31mNameError\u001b[0m                                 Traceback (most recent call last)",
      "\u001b[1;32m<ipython-input-47-ba78d05a3442>\u001b[0m in \u001b[0;36m<module>\u001b[1;34m\u001b[0m\n\u001b[0;32m      5\u001b[0m \u001b[0mprint\u001b[0m\u001b[1;33m(\u001b[0m\u001b[1;34mf'\\nOverall accuracy score for Ridge Classifier accuracy Score : {ridge_acc}'\u001b[0m\u001b[1;33m)\u001b[0m\u001b[1;33m\u001b[0m\u001b[1;33m\u001b[0m\u001b[0m\n\u001b[0;32m      6\u001b[0m \u001b[0mridge_f1_2\u001b[0m \u001b[1;33m=\u001b[0m \u001b[0mround\u001b[0m\u001b[1;33m(\u001b[0m\u001b[0mf1_score\u001b[0m\u001b[1;33m(\u001b[0m\u001b[0my_val\u001b[0m\u001b[1;33m,\u001b[0m \u001b[0mridge_prediction_tuned\u001b[0m\u001b[1;33m,\u001b[0m \u001b[0maverage\u001b[0m\u001b[1;33m=\u001b[0m\u001b[1;34m\"weighted\"\u001b[0m\u001b[1;33m)\u001b[0m\u001b[1;33m,\u001b[0m\u001b[1;36m4\u001b[0m\u001b[1;33m)\u001b[0m\u001b[1;33m\u001b[0m\u001b[1;33m\u001b[0m\u001b[0m\n\u001b[1;32m----> 7\u001b[1;33m \u001b[0mprint\u001b[0m\u001b[1;33m(\u001b[0m\u001b[1;34mf'\\nWeighted avg f1 score for Ridge Classifier : {ridge_f1}'\u001b[0m\u001b[1;33m)\u001b[0m\u001b[1;33m\u001b[0m\u001b[1;33m\u001b[0m\u001b[0m\n\u001b[0m",
      "\u001b[1;31mNameError\u001b[0m: name 'ridge_f1' is not defined"
     ]
    }
   ],
   "source": [
    "# Checking the accuracy score\n",
    "ridge_prediction_tuned =ridge_tuned.predict(X_val)\n",
    "\n",
    "ridge_acc_2 = round(accuracy_score(y_val, ridge_prediction_tuned),4)\n",
    "print(f'\\nOverall accuracy score for Ridge Classifier accuracy Score : {ridge_acc}')\n",
    "ridge_f1_2 = round(f1_score(y_val, ridge_prediction_tuned, average=\"weighted\"),4)\n",
    "print(f'\\nWeighted avg f1 score for Ridge Classifier : {ridge_f1}')"
   ]
  },
  {
   "cell_type": "code",
   "execution_count": 48,
   "id": "b1cace3c",
   "metadata": {},
   "outputs": [],
   "source": [
    "# Saving the model\n",
    "import pickle\n",
    "model_save_path = 'Ridgeclfr.pkl'\n",
    "with open(model_save_path, 'wb') as file:\n",
    "  pickle.dump(ridge_tuned, file)\n",
    "  "
   ]
  },
  {
   "cell_type": "markdown",
   "id": "6c095bfc",
   "metadata": {},
   "source": [
    "<a id='final'></a>\n",
    "# Final model selection"
   ]
  },
  {
   "cell_type": "markdown",
   "id": "b3c3a85c",
   "metadata": {},
   "source": [
    "Comparing all the models we've build so far to choose the best performing one"
   ]
  },
  {
   "cell_type": "code",
   "execution_count": 49,
   "id": "3cc01438",
   "metadata": {},
   "outputs": [
    {
     "ename": "NameError",
     "evalue": "name 'decison_tree_acc' is not defined",
     "output_type": "error",
     "traceback": [
      "\u001b[1;31m---------------------------------------------------------------------------\u001b[0m",
      "\u001b[1;31mNameError\u001b[0m                                 Traceback (most recent call last)",
      "\u001b[1;32m<ipython-input-49-a1f2bf449a53>\u001b[0m in \u001b[0;36m<module>\u001b[1;34m\u001b[0m\n\u001b[0;32m      4\u001b[0m                                     \u001b[1;34m'Support Vector Classifier'\u001b[0m\u001b[1;33m,\u001b[0m \u001b[1;34m'Voting Classifer'\u001b[0m\u001b[1;33m,\u001b[0m\u001b[1;33m\u001b[0m\u001b[1;33m\u001b[0m\u001b[0m\n\u001b[0;32m      5\u001b[0m                                     'Tunned_LinearSVC','Tunned LogisticReg','Ridge Classifier', 'Tuned Ridge Classifier'],\n\u001b[1;32m----> 6\u001b[1;33m                     'Accuracy':[decison_tree_acc,random_forest_acc,\n\u001b[0m\u001b[0;32m      7\u001b[0m                                 \u001b[0mlinearSVC_acc\u001b[0m\u001b[1;33m,\u001b[0m\u001b[0mlogistic_reg_acc\u001b[0m\u001b[1;33m,\u001b[0m \u001b[0msgd_acc\u001b[0m\u001b[1;33m,\u001b[0m \u001b[0msvc_f1\u001b[0m\u001b[1;33m,\u001b[0m \u001b[0mvoting_acc\u001b[0m\u001b[1;33m\u001b[0m\u001b[1;33m\u001b[0m\u001b[0m\n\u001b[0;32m      8\u001b[0m                                 \u001b[1;33m,\u001b[0m\u001b[0mFinal_lsvc_acc\u001b[0m \u001b[1;33m,\u001b[0m\u001b[0mfinal_logreg_acc\u001b[0m\u001b[1;33m,\u001b[0m\u001b[1;33m\u001b[0m\u001b[1;33m\u001b[0m\u001b[0m\n",
      "\u001b[1;31mNameError\u001b[0m: name 'decison_tree_acc' is not defined"
     ]
    }
   ],
   "source": [
    "# Creating a dataframe with our models and their performances metrics\n",
    "classifier_scores = {'Classifiers':['Decision Tree', 'Random Forest','LinearSVC'\n",
    "                                    ,'Logistic Regression','Stochastic Gradient Descent',\n",
    "                                    'Support Vector Classifier', 'Voting Classifer',\n",
    "                                    'Tunned_LinearSVC','Tunned LogisticReg','Ridge Classifier', 'Tuned Ridge Classifier'],\n",
    "                    'Accuracy':[decison_tree_acc,random_forest_acc,\n",
    "                                linearSVC_acc,logistic_reg_acc, sgd_acc, svc_f1, voting_acc\n",
    "                                ,Final_lsvc_acc ,final_logreg_acc,\n",
    "                                 ridge_acc, ridge_acc_2],\n",
    "                     'Weighted avg f1 Score':[decision_tree_f1,random_forest_f1,\n",
    "                                       linearSVC_f1,logistic_reg_f1, sgd_f1, svc_f1,\n",
    "                                              voting_f1, Final_lsvc_f1 ,final_logreg_f1, \n",
    "                                              ridge_f1, ridge_f1_2]}\n",
    "\n",
    "\n",
    "\n",
    "\n",
    "df= pd.DataFrame(classifier_scores)\n",
    "df.sort_values(by=['Accuracy'],ascending=True, inplace = True)\n",
    "df\n",
    "\n",
    "\n",
    "df= pd.DataFrame(classifier_scores)\n",
    "df.sort_values(by=['Accuracy'],ascending=True, inplace = True)\n",
    "df"
   ]
  },
  {
   "cell_type": "code",
   "execution_count": 144,
   "id": "33462e58",
   "metadata": {},
   "outputs": [
    {
     "data": {
      "image/png": "[encoded data removed]",
      "text/plain": [
       "<Figure size 576x576 with 1 Axes>"
      ]
     },
     "metadata": {
      "needs_background": "light"
     },
     "output_type": "display_data"
    }
   ],
   "source": [
    "df.set_index(df['Classifiers'], inplace = True)\n",
    "df.drop(['Classifiers'],axis = 1)\n",
    "df.plot(kind='barh', figsize = (8,8),colormap='autumn')\n",
    "plt.xlabel('Score')\n",
    "plt.yticks(rotation = 45)\n",
    "plt.title('Classifier Perfomance')\n",
    "plt.legend(bbox_to_anchor=(1.05, 1.0), loc='upper left')\n",
    "plt.show()"
   ]
  },
  {
   "cell_type": "markdown",
   "id": "b9b9bbdc",
   "metadata": {},
   "source": [
    "We have build a total of 11 models in this notebook out of all the models we've build, We see that the best performing model is the tunned LogisticReg with the best accuracy score of 0.76 and the best weighted f1 score  of 0.76 based on the validation dataset, however for the unseen/test dataset the Ridge Classifier achieved the best score on Kaggle.\n",
    "\n",
    "We will be using the **Ridge Regression** to make the final prediction."
   ]
  },
  {
   "cell_type": "markdown",
   "id": "03b5f767",
   "metadata": {},
   "source": [
    "## Final evaluation of our best model"
   ]
  },
  {
   "cell_type": "code",
   "execution_count": 145,
   "id": "1c48ffc8",
   "metadata": {},
   "outputs": [
    {
     "name": "stdout",
     "output_type": "stream",
     "text": [
      "classfication report for our best model\n",
      "               precision    recall  f1-score   support\n",
      "\n",
      "          -1       0.79      0.46      0.58       126\n",
      "           0       0.62      0.45      0.52       224\n",
      "           1       0.79      0.88      0.83       895\n",
      "           2       0.75      0.78      0.76       337\n",
      "\n",
      "    accuracy                           0.76      1582\n",
      "   macro avg       0.74      0.64      0.68      1582\n",
      "weighted avg       0.76      0.76      0.75      1582\n",
      "\n"
     ]
    }
   ],
   "source": [
    "print('classfication report for our best model\\n',classification_report(y_val, ridge_tuned.predict(X_val)))"
   ]
  },
  {
   "cell_type": "code",
   "execution_count": 146,
   "id": "42ef7eee",
   "metadata": {},
   "outputs": [
    {
     "data": {
      "image/png": "[encoded data removed]",
      "text/plain": [
       "<Figure size 576x576 with 1 Axes>"
      ]
     },
     "metadata": {
      "needs_background": "light"
     },
     "output_type": "display_data"
    }
   ],
   "source": [
    "# # Visual represetation of of the f1 score for each class\n",
    "report_ridge = classification_report(y_val, ridge_prediction_tuned, output_dict=True)\n",
    "df_ridge = pd.DataFrame(report_ridge).transpose()\n",
    "df_ridge.drop(['accuracy'], inplace = True)\n",
    "df_ridge.sort_values(by=['f1-score'],ascending=True, inplace = True)\n",
    "df_ridge.drop(['weighted avg','macro avg'])['f1-score'].plot(kind='barh', figsize = (8,8))\n",
    "plt.xlabel('f1-score')\n",
    "plt.ylabel('Classes')\n",
    "plt.yticks(rotation = 40)\n",
    "plt.title('f1-score per sentiment class for tunned SVC')\n",
    "plt.show()"
   ]
  },
  {
   "cell_type": "markdown",
   "id": "944912be",
   "metadata": {},
   "source": [
    "The above bar graph shows the f1 score for each sentiment class our best model\n",
    "- The Ridge Classifier is our best performing model, achieving f1 score of 0.83 for `Pro climate change` sentiment class, followed by `News` and `Anti` Climate sentiment classes with f1 scores of 0.76 and 0.58 respectively, which is quite impressive given that all our models perfomed poorly when it comes to classifying `anti climate change` sentiment class\n"
   ]
  },
  {
   "cell_type": "markdown",
   "id": "108b4813",
   "metadata": {},
   "source": [
    "## ROC Curves and AUC"
   ]
  },
  {
   "cell_type": "markdown",
   "id": "d7044d20",
   "metadata": {},
   "source": [
    "ROC curves show the trade-off between sensitivity/recall known as the ability of a model to detect positive samples  and specificity also known as the `True Negative` rate.\n",
    "classifiers that produce curves that are closer to the top left corner, that is closer to the 100% True positive rate are classifiers that are considerd to have better perfomance"
   ]
  },
  {
   "cell_type": "code",
   "execution_count": 148,
   "id": "b16f2d45",
   "metadata": {},
   "outputs": [
    {
     "name": "stderr",
     "output_type": "stream",
     "text": [
      "C:\\Users\\lehut\\anaconda3\\lib\\site-packages\\sklearn\\linear_model\\_base.py:148: FutureWarning: 'normalize' was deprecated in version 1.0 and will be removed in 1.2. Please leave the normalize parameter to its default value to silence this warning. The default behavior of this estimator is to not do any normalization. If normalization is needed please use sklearn.preprocessing.StandardScaler instead.\n",
      "  warnings.warn(\n",
      "C:\\Users\\lehut\\anaconda3\\lib\\site-packages\\sklearn\\linear_model\\_base.py:148: FutureWarning: 'normalize' was deprecated in version 1.0 and will be removed in 1.2. Please leave the normalize parameter to its default value to silence this warning. The default behavior of this estimator is to not do any normalization. If normalization is needed please use sklearn.preprocessing.StandardScaler instead.\n",
      "  warnings.warn(\n",
      "C:\\Users\\lehut\\anaconda3\\lib\\site-packages\\sklearn\\linear_model\\_base.py:148: FutureWarning: 'normalize' was deprecated in version 1.0 and will be removed in 1.2. Please leave the normalize parameter to its default value to silence this warning. The default behavior of this estimator is to not do any normalization. If normalization is needed please use sklearn.preprocessing.StandardScaler instead.\n",
      "  warnings.warn(\n",
      "C:\\Users\\lehut\\anaconda3\\lib\\site-packages\\sklearn\\linear_model\\_base.py:148: FutureWarning: 'normalize' was deprecated in version 1.0 and will be removed in 1.2. Please leave the normalize parameter to its default value to silence this warning. The default behavior of this estimator is to not do any normalization. If normalization is needed please use sklearn.preprocessing.StandardScaler instead.\n",
      "  warnings.warn(\n"
     ]
    },
    {
     "data": {
      "image/png": "[encoded data removed]",
      "text/plain": [
       "<Figure size 720x720 with 1 Axes>"
      ]
     },
     "metadata": {
      "needs_background": "light"
     },
     "output_type": "display_data"
    }
   ],
   "source": [
    "OneVsRest =  OneVsRestClassifier(RidgeClassifier(alpha=5.428675439323859, class_weight=None, copy_X=True,\n",
    "                fit_intercept=True, max_iter=None, normalize=False,\n",
    "                random_state=None, solver='auto', tol=0.001))\n",
    "y_train_binarized = label_binarize(y_train, classes=[-1, 0, 1, 2])\n",
    "y_val_binarized = label_binarize(y_val, classes=[-1, 0, 1, 2])\n",
    "OneVsRest.fit(X_train, y_train_binarized)\n",
    "y_prob = OneVsRest.decision_function(X_val)\n",
    "plot_roc(y_val, y_prob,figsize=(10,10),cmap='hot')\n",
    "plt.legend(bbox_to_anchor=(1.05, 1.0), loc='upper left')\n",
    "plt.show()"
   ]
  },
  {
   "cell_type": "markdown",
   "id": "a633e1f4",
   "metadata": {},
   "source": [
    "<a id='predictions'></a>\n",
    "# Final prediction"
   ]
  },
  {
   "cell_type": "code",
   "execution_count": 149,
   "id": "0b297c87",
   "metadata": {},
   "outputs": [],
   "source": [
    "y_pred = ridge_tuned.predict(X_test)"
   ]
  },
  {
   "cell_type": "code",
   "execution_count": 150,
   "id": "8d7ab76a",
   "metadata": {},
   "outputs": [
    {
     "data": {
      "text/plain": [
       "array([2, 0, 1, ..., 0, 0, 1], dtype=int64)"
      ]
     },
     "execution_count": 150,
     "metadata": {},
     "output_type": "execute_result"
    }
   ],
   "source": [
    "y_pred"
   ]
  },
  {
   "cell_type": "code",
   "execution_count": 152,
   "id": "2ee3334d",
   "metadata": {},
   "outputs": [],
   "source": [
    "test['sentiment'] = y_pred"
   ]
  },
  {
   "cell_type": "code",
   "execution_count": 154,
   "id": "ed6990ab",
   "metadata": {},
   "outputs": [],
   "source": [
    "test[['tweetid','sentiment']].to_csv('Final Ridge Submission.csv', index=False)"
   ]
  },
  {
   "cell_type": "code",
   "execution_count": 156,
   "id": "55f86eae",
   "metadata": {},
   "outputs": [
    {
     "data": {
      "text/html": [
       "<div>\n",
       "<style scoped>\n",
       "    .dataframe tbody tr th:only-of-type {\n",
       "        vertical-align: middle;\n",
       "    }\n",
       "\n",
       "    .dataframe tbody tr th {\n",
       "        vertical-align: top;\n",
       "    }\n",
       "\n",
       "    .dataframe thead th {\n",
       "        text-align: right;\n",
       "    }\n",
       "</style>\n",
       "<table border=\"1\" class=\"dataframe\">\n",
       "  <thead>\n",
       "    <tr style=\"text-align: right;\">\n",
       "      <th></th>\n",
       "      <th>tweetid</th>\n",
       "      <th>sentiment</th>\n",
       "    </tr>\n",
       "  </thead>\n",
       "  <tbody>\n",
       "    <tr>\n",
       "      <th>0</th>\n",
       "      <td>169760</td>\n",
       "      <td>2</td>\n",
       "    </tr>\n",
       "    <tr>\n",
       "      <th>1</th>\n",
       "      <td>35326</td>\n",
       "      <td>0</td>\n",
       "    </tr>\n",
       "    <tr>\n",
       "      <th>2</th>\n",
       "      <td>224985</td>\n",
       "      <td>1</td>\n",
       "    </tr>\n",
       "    <tr>\n",
       "      <th>3</th>\n",
       "      <td>476263</td>\n",
       "      <td>1</td>\n",
       "    </tr>\n",
       "    <tr>\n",
       "      <th>4</th>\n",
       "      <td>872928</td>\n",
       "      <td>0</td>\n",
       "    </tr>\n",
       "    <tr>\n",
       "      <th>...</th>\n",
       "      <td>...</td>\n",
       "      <td>...</td>\n",
       "    </tr>\n",
       "    <tr>\n",
       "      <th>10541</th>\n",
       "      <td>895714</td>\n",
       "      <td>1</td>\n",
       "    </tr>\n",
       "    <tr>\n",
       "      <th>10542</th>\n",
       "      <td>875167</td>\n",
       "      <td>1</td>\n",
       "    </tr>\n",
       "    <tr>\n",
       "      <th>10543</th>\n",
       "      <td>78329</td>\n",
       "      <td>0</td>\n",
       "    </tr>\n",
       "    <tr>\n",
       "      <th>10544</th>\n",
       "      <td>867455</td>\n",
       "      <td>0</td>\n",
       "    </tr>\n",
       "    <tr>\n",
       "      <th>10545</th>\n",
       "      <td>470892</td>\n",
       "      <td>1</td>\n",
       "    </tr>\n",
       "  </tbody>\n",
       "</table>\n",
       "<p>10546 rows × 2 columns</p>\n",
       "</div>"
      ],
      "text/plain": [
       "       tweetid  sentiment\n",
       "0       169760          2\n",
       "1        35326          0\n",
       "2       224985          1\n",
       "3       476263          1\n",
       "4       872928          0\n",
       "...        ...        ...\n",
       "10541   895714          1\n",
       "10542   875167          1\n",
       "10543    78329          0\n",
       "10544   867455          0\n",
       "10545   470892          1\n",
       "\n",
       "[10546 rows x 2 columns]"
      ]
     },
     "execution_count": 156,
     "metadata": {},
     "output_type": "execute_result"
    }
   ],
   "source": [
    "test[['tweetid','sentiment']]"
   ]
  },
  {
   "cell_type": "markdown",
   "id": "5a3dc9bd",
   "metadata": {},
   "source": [
    "<a id='conclusion'></a>\n",
    "# Conclusion"
   ]
  },
  {
   "cell_type": "markdown",
   "id": "b50912fa",
   "metadata": {},
   "source": [
    "In this notebook we have succesfully build 11 machine learning models to classify whether not a person believes in man made climate change based on their novel tweet data, Even though our models struggled with classifying the `anti` man made climate change sentiment class they did a very good job as classifying the `pro` man made climate change sentiment class. Our best model is the Ridge Classification model  achieving an accuracy score and the weighted f1 score of 0.76 and 0.76 respectively based on the validation dataset.\n",
    "\n",
    "The Ridge classifier model achieved an F1 score of 0.76043 on unseen/test data.\n",
    "\n",
    "Text classification problems tend to be quite high dimensionality and high dimensionality problems are likely to be linearly separable, So linear classifiers, whether ridge classification or SVM with a linear kernel, are likely to do well. In both cases, the ridge parameter or C for the SVM control the complexity of the classifier and help to avoid over-fitting by separating the patterns of each class by large margins as we can see in our final model comparision, our best models are linear classifiers"
   ]
  },
  {
   "cell_type": "code",
   "execution_count": 15,
   "id": "ce34bba4",
   "metadata": {},
   "outputs": [],
   "source": [
    "train.to_csv(\"df_train.csv\",index=False)"
   ]
  },
  {
   "cell_type": "code",
   "execution_count": 14,
   "id": "08406b81",
   "metadata": {},
   "outputs": [
    {
     "data": {
      "text/html": [
       "<div>\n",
       "<style scoped>\n",
       "    .dataframe tbody tr th:only-of-type {\n",
       "        vertical-align: middle;\n",
       "    }\n",
       "\n",
       "    .dataframe tbody tr th {\n",
       "        vertical-align: top;\n",
       "    }\n",
       "\n",
       "    .dataframe thead th {\n",
       "        text-align: right;\n",
       "    }\n",
       "</style>\n",
       "<table border=\"1\" class=\"dataframe\">\n",
       "  <thead>\n",
       "    <tr style=\"text-align: right;\">\n",
       "      <th></th>\n",
       "      <th>sentiment</th>\n",
       "      <th>message</th>\n",
       "      <th>tweetid</th>\n",
       "      <th>hashtags</th>\n",
       "      <th>mentions</th>\n",
       "      <th>url</th>\n",
       "      <th>cleaned_tweets</th>\n",
       "      <th>no_stopwords</th>\n",
       "      <th>sent_labels</th>\n",
       "      <th>text_length</th>\n",
       "    </tr>\n",
       "  </thead>\n",
       "  <tbody>\n",
       "    <tr>\n",
       "      <th>0</th>\n",
       "      <td>1</td>\n",
       "      <td>PolySciMajor EPA chief doesn't think carbon di...</td>\n",
       "      <td>625221</td>\n",
       "      <td>NaN</td>\n",
       "      <td>[@mashable]</td>\n",
       "      <td>[https://t.co/yelvcefxkc]</td>\n",
       "      <td>[polyscimajor, epa, chief, doesn't, think, car...</td>\n",
       "      <td>[polyscimajor, epa, chief, think, carbon, diox...</td>\n",
       "      <td>Pro</td>\n",
       "      <td>108</td>\n",
       "    </tr>\n",
       "    <tr>\n",
       "      <th>1</th>\n",
       "      <td>1</td>\n",
       "      <td>It's not like we lack evidence of anthropogeni...</td>\n",
       "      <td>126103</td>\n",
       "      <td>NaN</td>\n",
       "      <td>NaN</td>\n",
       "      <td>NaN</td>\n",
       "      <td>[it's, not, like, we, lack, evidence, of, anth...</td>\n",
       "      <td>[like, lack, evidence, anthropogenic, global, ...</td>\n",
       "      <td>Pro</td>\n",
       "      <td>62</td>\n",
       "    </tr>\n",
       "    <tr>\n",
       "      <th>2</th>\n",
       "      <td>2</td>\n",
       "      <td>: Researchers say we have three years to act ...</td>\n",
       "      <td>698562</td>\n",
       "      <td>NaN</td>\n",
       "      <td>[@rawstory]</td>\n",
       "      <td>[https://t.co/wdt0kdur2f, https://t.co/z0anpt…]</td>\n",
       "      <td>[researchers, say, we, have, three, years, to,...</td>\n",
       "      <td>[researchers, say, three, years, act, climate,...</td>\n",
       "      <td>News</td>\n",
       "      <td>86</td>\n",
       "    </tr>\n",
       "    <tr>\n",
       "      <th>3</th>\n",
       "      <td>1</td>\n",
       "      <td>WIRED : 2016 was a pivotal year in the war on...</td>\n",
       "      <td>573736</td>\n",
       "      <td>[#todayinmaker#]</td>\n",
       "      <td>NaN</td>\n",
       "      <td>[https://t.co/44wotxtlcd]</td>\n",
       "      <td>[wired, 2016, was, pivotal, year, in, the, war...</td>\n",
       "      <td>[wired, 2016, pivotal, year, war, climate, cha...</td>\n",
       "      <td>Pro</td>\n",
       "      <td>62</td>\n",
       "    </tr>\n",
       "    <tr>\n",
       "      <th>4</th>\n",
       "      <td>1</td>\n",
       "      <td>: It's 2016, and a racist, sexist, climate ch...</td>\n",
       "      <td>466954</td>\n",
       "      <td>[#electionnight]</td>\n",
       "      <td>[@soynoviodetodas]</td>\n",
       "      <td>NaN</td>\n",
       "      <td>[it's, 2016, and, racist, sexist, climate, cha...</td>\n",
       "      <td>[2016, racist, sexist, climate, change, denyin...</td>\n",
       "      <td>Pro</td>\n",
       "      <td>90</td>\n",
       "    </tr>\n",
       "  </tbody>\n",
       "</table>\n",
       "</div>"
      ],
      "text/plain": [
       "   sentiment                                            message  tweetid  \\\n",
       "0          1  PolySciMajor EPA chief doesn't think carbon di...   625221   \n",
       "1          1  It's not like we lack evidence of anthropogeni...   126103   \n",
       "2          2   : Researchers say we have three years to act ...   698562   \n",
       "3          1   WIRED : 2016 was a pivotal year in the war on...   573736   \n",
       "4          1   : It's 2016, and a racist, sexist, climate ch...   466954   \n",
       "\n",
       "           hashtags            mentions  \\\n",
       "0               NaN         [@mashable]   \n",
       "1               NaN                 NaN   \n",
       "2               NaN         [@rawstory]   \n",
       "3  [#todayinmaker#]                 NaN   \n",
       "4  [#electionnight]  [@soynoviodetodas]   \n",
       "\n",
       "                                               url  \\\n",
       "0                        [https://t.co/yelvcefxkc]   \n",
       "1                                              NaN   \n",
       "2  [https://t.co/wdt0kdur2f, https://t.co/z0anpt…]   \n",
       "3                        [https://t.co/44wotxtlcd]   \n",
       "4                                              NaN   \n",
       "\n",
       "                                      cleaned_tweets  \\\n",
       "0  [polyscimajor, epa, chief, doesn't, think, car...   \n",
       "1  [it's, not, like, we, lack, evidence, of, anth...   \n",
       "2  [researchers, say, we, have, three, years, to,...   \n",
       "3  [wired, 2016, was, pivotal, year, in, the, war...   \n",
       "4  [it's, 2016, and, racist, sexist, climate, cha...   \n",
       "\n",
       "                                        no_stopwords sent_labels  text_length  \n",
       "0  [polyscimajor, epa, chief, think, carbon, diox...         Pro          108  \n",
       "1  [like, lack, evidence, anthropogenic, global, ...         Pro           62  \n",
       "2  [researchers, say, three, years, act, climate,...        News           86  \n",
       "3  [wired, 2016, pivotal, year, war, climate, cha...         Pro           62  \n",
       "4  [2016, racist, sexist, climate, change, denyin...         Pro           90  "
      ]
     },
     "execution_count": 14,
     "metadata": {},
     "output_type": "execute_result"
    }
   ],
   "source": [
    "train.head()"
   ]
  },
  {
   "cell_type": "code",
   "execution_count": 16,
   "id": "c0782171",
   "metadata": {},
   "outputs": [
    {
     "data": {
      "text/plain": [
       "15819"
      ]
     },
     "execution_count": 16,
     "metadata": {},
     "output_type": "execute_result"
    }
   ],
   "source": [
    "len(train[\"text_length\"])"
   ]
  },
  {
   "cell_type": "code",
   "execution_count": null,
   "id": "4b2d668e",
   "metadata": {},
   "outputs": [],
   "source": [
    "fixed_acidity = train[\"text_length\"]\n",
    "free_sulfur_dioxide = dataframe['free sulfur dioxide']\n",
    "total_sulfur_dioxide = dataframe['total sulfur dioxide']\n",
    "alcohol = dataframe['alcohol']\n",
    "\n",
    "columns = [fixed_acidity, free_sulfur_dioxide, total_sulfur_dioxide, alcohol]\n",
    "\n",
    "fig, ax = plt.subplots()\n",
    "ax.boxplot(columns)\n",
    "plt.show()"
   ]
  },
  {
   "cell_type": "code",
   "execution_count": 21,
   "id": "ebf307fa",
   "metadata": {},
   "outputs": [
    {
     "data": {
      "text/plain": [
       "19    142\n",
       "22     98\n",
       "30     78\n",
       "39    109\n",
       "43    106\n",
       "Name: text_length, dtype: int64"
      ]
     },
     "execution_count": 21,
     "metadata": {},
     "output_type": "execute_result"
    }
   ],
   "source": [
    "f = train[train['sentiment'] == 0]\n",
    "g = f[\"text_length\"]\n",
    "g.head()"
   ]
  },
  {
   "cell_type": "code",
   "execution_count": 89,
   "id": "69d5e0ac",
   "metadata": {},
   "outputs": [],
   "source": [
    "bf_world = hashtag_count(hashtags(train)).head(20)\n",
    "bf_news = hashtag_count(hashtags(news_df))\n",
    "bf_neutral = hashtag_count(hashtags(neutral_df)).head(20)\n",
    "bf_anti = hashtag_count(hashtags(anti_df)).head(20)\n",
    "bf_pro = hashtag_count(hashtags(pro_df)).head(20)"
   ]
  },
  {
   "cell_type": "code",
   "execution_count": 34,
   "id": "85d7a96e",
   "metadata": {
    "scrolled": true
   },
   "outputs": [
    {
     "data": {
      "text/html": [
       "<div>\n",
       "<style scoped>\n",
       "    .dataframe tbody tr th:only-of-type {\n",
       "        vertical-align: middle;\n",
       "    }\n",
       "\n",
       "    .dataframe tbody tr th {\n",
       "        vertical-align: top;\n",
       "    }\n",
       "\n",
       "    .dataframe thead th {\n",
       "        text-align: right;\n",
       "    }\n",
       "</style>\n",
       "<table border=\"1\" class=\"dataframe\">\n",
       "  <thead>\n",
       "    <tr style=\"text-align: right;\">\n",
       "      <th></th>\n",
       "      <th>hashtags</th>\n",
       "      <th>count</th>\n",
       "    </tr>\n",
       "  </thead>\n",
       "  <tbody>\n",
       "    <tr>\n",
       "      <th>18</th>\n",
       "      <td>#climate</td>\n",
       "      <td>344</td>\n",
       "    </tr>\n",
       "    <tr>\n",
       "      <th>23</th>\n",
       "      <td>#climatechange</td>\n",
       "      <td>188</td>\n",
       "    </tr>\n",
       "    <tr>\n",
       "      <th>21</th>\n",
       "      <td>#beforetheflood</td>\n",
       "      <td>154</td>\n",
       "    </tr>\n",
       "    <tr>\n",
       "      <th>51</th>\n",
       "      <td>#environment</td>\n",
       "      <td>73</td>\n",
       "    </tr>\n",
       "    <tr>\n",
       "      <th>143</th>\n",
       "      <td>#trump</td>\n",
       "      <td>70</td>\n",
       "    </tr>\n",
       "    <tr>\n",
       "      <th>4</th>\n",
       "      <td>#cop22</td>\n",
       "      <td>66</td>\n",
       "    </tr>\n",
       "    <tr>\n",
       "      <th>13</th>\n",
       "      <td>#imvotingbecause</td>\n",
       "      <td>62</td>\n",
       "    </tr>\n",
       "    <tr>\n",
       "      <th>70</th>\n",
       "      <td>#parisagreement</td>\n",
       "      <td>57</td>\n",
       "    </tr>\n",
       "    <tr>\n",
       "      <th>149</th>\n",
       "      <td>#globalwarming</td>\n",
       "      <td>43</td>\n",
       "    </tr>\n",
       "    <tr>\n",
       "      <th>87</th>\n",
       "      <td>#ã¢â‚¬â¦</td>\n",
       "      <td>39</td>\n",
       "    </tr>\n",
       "    <tr>\n",
       "      <th>159</th>\n",
       "      <td>#actonclimate</td>\n",
       "      <td>38</td>\n",
       "    </tr>\n",
       "    <tr>\n",
       "      <th>432</th>\n",
       "      <td>#science</td>\n",
       "      <td>36</td>\n",
       "    </tr>\n",
       "    <tr>\n",
       "      <th>86</th>\n",
       "      <td>#ivotedbecause</td>\n",
       "      <td>33</td>\n",
       "    </tr>\n",
       "    <tr>\n",
       "      <th>129</th>\n",
       "      <td>#news</td>\n",
       "      <td>33</td>\n",
       "    </tr>\n",
       "    <tr>\n",
       "      <th>121</th>\n",
       "      <td>#auspol</td>\n",
       "      <td>27</td>\n",
       "    </tr>\n",
       "    <tr>\n",
       "      <th>57</th>\n",
       "      <td>#maga</td>\n",
       "      <td>24</td>\n",
       "    </tr>\n",
       "    <tr>\n",
       "      <th>2</th>\n",
       "      <td>#climatemarch</td>\n",
       "      <td>23</td>\n",
       "    </tr>\n",
       "    <tr>\n",
       "      <th>16</th>\n",
       "      <td>#resist</td>\n",
       "      <td>23</td>\n",
       "    </tr>\n",
       "    <tr>\n",
       "      <th>43</th>\n",
       "      <td>#p2</td>\n",
       "      <td>23</td>\n",
       "    </tr>\n",
       "    <tr>\n",
       "      <th>14</th>\n",
       "      <td>#qanda</td>\n",
       "      <td>19</td>\n",
       "    </tr>\n",
       "  </tbody>\n",
       "</table>\n",
       "</div>"
      ],
      "text/plain": [
       "             hashtags  count\n",
       "18           #climate    344\n",
       "23     #climatechange    188\n",
       "21    #beforetheflood    154\n",
       "51       #environment     73\n",
       "143            #trump     70\n",
       "4              #cop22     66\n",
       "13   #imvotingbecause     62\n",
       "70    #parisagreement     57\n",
       "149    #globalwarming     43\n",
       "87           #ã¢â‚¬â¦     39\n",
       "159     #actonclimate     38\n",
       "432          #science     36\n",
       "86     #ivotedbecause     33\n",
       "129             #news     33\n",
       "121           #auspol     27\n",
       "57              #maga     24\n",
       "2       #climatemarch     23\n",
       "16            #resist     23\n",
       "43                #p2     23\n",
       "14             #qanda     19"
      ]
     },
     "execution_count": 34,
     "metadata": {},
     "output_type": "execute_result"
    }
   ],
   "source": [
    "bf_world"
   ]
  },
  {
   "cell_type": "code",
   "execution_count": 91,
   "id": "3e29fa71",
   "metadata": {},
   "outputs": [],
   "source": [
    "bf_world_list = []\n",
    "for i in bf_world[\"hashtags\"]:\n",
    "    bf_world_list.append(i)\n",
    "\n",
    "bf_news_list = []\n",
    "for i in bf_news[\"hashtags\"]:\n",
    "    bf_news_list.append(i)\n",
    "\n",
    "bf_neutral_list = []\n",
    "for i in bf_neutral[\"hashtags\"]:\n",
    "    bf_neutral_list.append(i)\n",
    "\n",
    "bf_anti_list = []\n",
    "for i in bf_anti[\"hashtags\"]:\n",
    "    bf_anti_list.append(i)\n",
    "    \n",
    "bf_pro_list = []\n",
    "for i in bf_pro[\"hashtags\"]:\n",
    "    bf_pro_list.append(i)"
   ]
  },
  {
   "cell_type": "code",
   "execution_count": 104,
   "id": "0b0c2fc3",
   "metadata": {},
   "outputs": [],
   "source": [
    "bf_world_count_list = []\n",
    "for i in bf_world[\"count\"]:\n",
    "    bf_world_count_list.append(i)\n",
    "\n",
    "bf_news_count_list = []\n",
    "for i in bf_news[\"count\"]:\n",
    "    bf_news_count_list.append(i)\n",
    "\n",
    "bf_neutral_count_list = []\n",
    "for i in bf_neutral[\"count\"]:\n",
    "    bf_neutral_count_list.append(i)\n",
    "\n",
    "bf_anti_count_list = []\n",
    "for i in bf_anti[\"count\"]:\n",
    "    bf_anti_count_list.append(i)\n",
    "    \n",
    "bf_pro_count_list = []\n",
    "for i in bf_pro[\"count\"]:\n",
    "    bf_pro_count_list.append(i)"
   ]
  },
  {
   "cell_type": "code",
   "execution_count": 95,
   "id": "71497163",
   "metadata": {},
   "outputs": [],
   "source": [
    "bf_world_dict = {}\n",
    "for i in range(20):\n",
    "    bf_world_dict[bf_world_list[i]] = bf_world_count_list[i]\n",
    "    "
   ]
  },
  {
   "cell_type": "code",
   "execution_count": 96,
   "id": "342f6480",
   "metadata": {
    "scrolled": true
   },
   "outputs": [
    {
     "data": {
      "text/plain": [
       "{'#climate': 344,\n",
       " '#climatechange': 188,\n",
       " '#beforetheflood': 154,\n",
       " '#environment': 73,\n",
       " '#trump': 70,\n",
       " '#cop22': 66,\n",
       " '#imvotingbecause': 62,\n",
       " '#parisagreement': 57,\n",
       " '#globalwarming': 43,\n",
       " '#ã¢â‚¬â¦': 39,\n",
       " '#actonclimate': 38,\n",
       " '#science': 36,\n",
       " '#ivotedbecause': 33,\n",
       " '#news': 33,\n",
       " '#auspol': 27,\n",
       " '#maga': 24,\n",
       " '#climatemarch': 23,\n",
       " '#resist': 23,\n",
       " '#p2': 23,\n",
       " '#qanda': 19}"
      ]
     },
     "execution_count": 96,
     "metadata": {},
     "output_type": "execute_result"
    }
   ],
   "source": [
    "bf_world_dict"
   ]
  },
  {
   "cell_type": "code",
   "execution_count": 97,
   "id": "a2dabfec",
   "metadata": {},
   "outputs": [
    {
     "data": {
      "text/plain": [
       "20"
      ]
     },
     "execution_count": 97,
     "metadata": {},
     "output_type": "execute_result"
    }
   ],
   "source": [
    "len(bf_world_dict)"
   ]
  },
  {
   "cell_type": "code",
   "execution_count": 105,
   "id": "d6d5894e",
   "metadata": {},
   "outputs": [],
   "source": [
    "bf_pro_dict = {}\n",
    "for i in range(20):\n",
    "    bf_pro_dict[bf_pro_list[i]] = bf_pro_count_list[i]\n",
    "\n",
    "bf_anti_dict = {}\n",
    "for i in range(20):\n",
    "    bf_anti_dict[bf_anti_list[i]] = bf_anti_count_list[i]\n",
    "    \n",
    "bf_news_dict = {}\n",
    "for i in range(20):\n",
    "    bf_news_dict[bf_news_list[i]] = bf_news_count_list[i]\n",
    "    \n",
    "bf_neutral_dict = {}\n",
    "for i in range(20):\n",
    "    bf_neutral_dict[bf_neutral_list[i]] = bf_neutral_count_list[i]\n",
    "    "
   ]
  },
  {
   "cell_type": "code",
   "execution_count": null,
   "id": "1a129528",
   "metadata": {},
   "outputs": [],
   "source": []
  },
  {
   "cell_type": "code",
   "execution_count": 108,
   "id": "44885ac8",
   "metadata": {},
   "outputs": [],
   "source": [
    "bf_world.to_csv(\"bf_world.csv\",index=False)\n",
    "bf_pro.to_csv(\"bf_pro.csv\",index=False)\n",
    "bf_anti.to_csv(\"bf_anti.csv\",index=False)\n",
    "bf_news.to_csv(\"bf_news.csv\",index=False)\n",
    "bf_neutral.to_csv(\"bf_neutral.csv\",index=False)"
   ]
  },
  {
   "cell_type": "code",
   "execution_count": null,
   "id": "6c7aa996",
   "metadata": {},
   "outputs": [],
   "source": [
    "accuracy_dict = {'TFIDF':[tfidf_avg_accuracy], 'CountVec':[CountVec]}\n",
    "accuracy_df = pd.DataFrame(accuracy_dict)"
   ]
  },
  {
   "cell_type": "code",
   "execution_count": 26,
   "id": "d152390d",
   "metadata": {},
   "outputs": [
    {
     "data": {
      "text/plain": [
       "0.7203"
      ]
     },
     "execution_count": 26,
     "metadata": {},
     "output_type": "execute_result"
    }
   ],
   "source": [
    "CountVec"
   ]
  },
  {
   "cell_type": "code",
   "execution_count": 27,
   "id": "72b8888c",
   "metadata": {},
   "outputs": [
    {
     "data": {
      "text/plain": [
       "0.7143"
      ]
     },
     "execution_count": 27,
     "metadata": {},
     "output_type": "execute_result"
    }
   ],
   "source": [
    "tfidf_avg_accuracy"
   ]
  },
  {
   "cell_type": "code",
   "execution_count": 50,
   "id": "084d4b26",
   "metadata": {},
   "outputs": [],
   "source": [
    "vect = CountVectorizer(stop_words='english', \n",
    "                             min_df=2, \n",
    "                             max_df=0.5, \n",
    "                             ngram_range=(1, 1))\n",
    "X = vect.fit_transform(train['message'])"
   ]
  },
  {
   "cell_type": "code",
   "execution_count": 51,
   "id": "9dc1858d",
   "metadata": {},
   "outputs": [],
   "source": [
    "# Saving the model\n",
    "import pickle\n",
    "model_save_path = 'vector2.pkl'\n",
    "with open(model_save_path, 'wb') as file:\n",
    "  pickle.dump(vect, file)"
   ]
  },
  {
   "cell_type": "code",
   "execution_count": null,
   "id": "3c0808a8",
   "metadata": {},
   "outputs": [],
   "source": []
  }
 ],
 "metadata": {
  "kernelspec": {
   "display_name": "Python 3",
   "language": "python",
   "name": "python3"
  },
  "language_info": {
   "codemirror_mode": {
    "name": "ipython",
    "version": 3
   },
   "file_extension": ".py",
   "mimetype": "text/x-python",
   "name": "python",
   "nbconvert_exporter": "python",
   "pygments_lexer": "ipython3",
   "version": "3.8.8"
  }
 },
 "nbformat": 4,
 "nbformat_minor": 5
}

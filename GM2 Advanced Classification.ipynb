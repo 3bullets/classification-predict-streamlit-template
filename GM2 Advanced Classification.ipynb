{
 "cells": [
  {
   "cell_type": "markdown",
   "id": "b25e9d45",
   "metadata": {},
   "source": [
    "# Overview"
   ]
  },
  {
   "cell_type": "markdown",
   "id": "f221c188",
   "metadata": {},
   "source": [
    "This notebook illustrates the process taken to find a model that can predict user sentiment with relative accuracy. Machine learning models are used to predict an individual's belief in climate change based on historical tweet data and the F1 score is the measure used to evaluate the accuracy of these models."
   ]
  },
  {
   "cell_type": "markdown",
   "id": "db8e3fcb",
   "metadata": {},
   "source": [
    "# Problem identification"
   ]
  },
  {
   "cell_type": "markdown",
   "id": "0aa18644",
   "metadata": {},
   "source": [
    "### <center> Challenge: Climate Change Belief Analysis"
   ]
  },
  {
   "cell_type": "markdown",
   "id": "68fd265e",
   "metadata": {},
   "source": [
    "#  2201FT_GM2 Classification"
   ]
  },
  {
   "cell_type": "markdown",
   "id": "f242adf8",
   "metadata": {},
   "source": [
    "**Team GM2** was challenged by EDSA(Explore Data Science Academy), with the task of creating a Machine Learning model that is able to classify whether or not a person believes in climate change, based solely on their novel tweet data. Supervised machine learning models, as we'll encounter inside this notebook, refer to models that improve automatically through experience. They are called \"supervised\", because they depend on some input to be able to produce a prediction.  "
   ]
  },
  {
   "cell_type": "markdown",
   "id": "884b5064",
   "metadata": {},
   "source": [
    "#### Background  \n",
    "\n",
    "In a [research article](https://www.barrons.com/articles/two-thirds-of-north-americans-prefer-eco-friendly-brands-study-finds-51578661728) conducted, 19,000 customers from 28 countries where given a poll to find out how individual shopping decisions are changing. Nearly 70% of consumers in the U.S. and Canada find that it is important for a company or brand to be sustainable or eco-friendly. More than a third (40%) of the respondents globally said that they are purpose-driven consumers, who select brands based on how well they align with their personal beliefs.\n",
    "\n",
    "Many companies are built around lessening their environmental impact or carbon footprint. They offer products and services that are environmentally friendly and sustainable, in line with their values and ideals. They would like to determine how people perceive climate change and whether or not they believe it is a real threat. This would add to their market research efforts in gauging how their product/service may be received.  \n",
    "\n",
    "\n",
    "#### Problem statement  \n",
    "\n",
    "Build a machine learning model that is able to classify whether or not an individual believes in man-made climate change based on historical tweet data to increase insights about customers and inform future marketing strategies.\n",
    "\n",
    "You can find the project overview [here](https://www.kaggle.com/competitions/edsa-climate-change-belief-analysis-2022/overview)."
   ]
  },
  {
   "cell_type": "markdown",
   "id": "1c5095d3",
   "metadata": {},
   "source": [
    "## Table of contents  \n",
    "<a id='toc'></a>\n",
    "1. [Importing packages](#imp_pac)  \n",
    "\n",
    "\n",
    "2. [Importing the data](#imp_dat)  \n",
    "    \n",
    "    \n",
    "3. [Data description](#ddescribe)   \n",
    "     \n",
    "    \n",
    "4. [Preprocessing](#the_prep)    \n",
    "    4.1. Extra feature extraction  \n",
    "    4.2. Data cleaning\n",
    "    \n",
    "    \n",
    "5. [Exploratory data analysis](#eda)  \n",
    "    5.1. General analysis  \n",
    "    5.2. Target variable analysis  \n",
    "    5.3. Analysis of polarity\n",
    "    \n",
    "    \n",
    "6. [Splitting the data](#split)  \n",
    "    6.1. Split into response and predictor  \n",
    "    6.2. Split data into training and testing sets\n",
    "    \n",
    "    \n",
    "7. [Feature extraction](#vect)  \n",
    "    7.1. Stopwords  \n",
    "    7.2. N-grams  \n",
    "    7.3. Build pipelines\n",
    "    \n",
    "    \n",
    "8. [Model training](#train)  \n",
    "    8.1. Logistic Regression  \n",
    "    8.2. Naïve Bayes  \n",
    "    8.3. SVM (Support Vector Machine)  \n",
    "    8.4. Random Forest  \n",
    "    8.5. KNN (K Nearest Neighbors)  \n",
    "    8.6. Neural Networks"
   ]
  },
  {
   "cell_type": "markdown",
   "id": "5025b8bd",
   "metadata": {},
   "source": [
    "## 1. Importing packages \n",
    "<a id='imp_pac'></a>\n",
    "[Back to table of contents](#toc)"
   ]
  },
  {
   "cell_type": "markdown",
   "id": "2e0555c5",
   "metadata": {},
   "source": [
    "This notebook requires some packages that may not be installed on your local machine. Below we provide a list of packages to be installed (if they are not yet installed) as well as the code to install them.  \n",
    "\n",
    "Run the following commands within Git bash (Windows), terminal (Mac/Linux):  \n",
    "\n",
    "- Comet_ml - `pip install comet_ml==3.1.9`    \n",
    "- Wordcloud - `pip install wordcloud==1.7.0`  \n",
    "- Emoji - `pip install emoji==0.5.4`  \n",
    "- Pyspellchecker - `pip install pyspellchecker==0.5.4`  \n",
    "- Ftfy - `pip install ftfy==5.7`  "
   ]
  },
  {
   "cell_type": "code",
   "execution_count": 4,
   "id": "42a072d6",
   "metadata": {},
   "outputs": [
    {
     "name": "stdout",
     "output_type": "stream",
     "text": [
      "Requirement already satisfied: comet_ml in c:\\users\\f5471621\\anaconda3\\lib\\site-packages (3.31.3)\n",
      "Requirement already satisfied: semantic-version>=2.8.0 in c:\\users\\f5471621\\anaconda3\\lib\\site-packages (from comet_ml) (2.10.0)\n",
      "Requirement already satisfied: nvidia-ml-py3>=7.352.0 in c:\\users\\f5471621\\anaconda3\\lib\\site-packages (from comet_ml) (7.352.0)\n",
      "Requirement already satisfied: wurlitzer>=1.0.2 in c:\\users\\f5471621\\anaconda3\\lib\\site-packages (from comet_ml) (3.0.2)\n",
      "Requirement already satisfied: everett[ini]>=1.0.1 in c:\\users\\f5471621\\anaconda3\\lib\\site-packages (from comet_ml) (3.0.0)\n",
      "Requirement already satisfied: requests>=2.18.4 in c:\\users\\f5471621\\anaconda3\\lib\\site-packages (from comet_ml) (2.26.0)\n",
      "Requirement already satisfied: websocket-client>=0.55.0 in c:\\users\\f5471621\\anaconda3\\lib\\site-packages (from comet_ml) (1.3.2)\n",
      "Requirement already satisfied: dulwich!=0.20.33,>=0.20.6 in c:\\users\\f5471621\\anaconda3\\lib\\site-packages (from comet_ml) (0.20.43)\n",
      "Requirement already satisfied: jsonschema!=3.1.0,>=2.6.0 in c:\\users\\f5471621\\anaconda3\\lib\\site-packages (from comet_ml) (3.2.0)\n",
      "Requirement already satisfied: requests-toolbelt>=0.8.0 in c:\\users\\f5471621\\anaconda3\\lib\\site-packages (from comet_ml) (0.9.1)\n",
      "Requirement already satisfied: six in c:\\users\\f5471621\\anaconda3\\lib\\site-packages (from comet_ml) (1.16.0)\n",
      "Requirement already satisfied: wrapt>=1.11.2 in c:\\users\\f5471621\\anaconda3\\lib\\site-packages (from comet_ml) (1.12.1)\n",
      "Requirement already satisfied: certifi in c:\\users\\f5471621\\anaconda3\\lib\\site-packages (from dulwich!=0.20.33,>=0.20.6->comet_ml) (2021.10.8)\n",
      "Requirement already satisfied: urllib3>=1.24.1 in c:\\users\\f5471621\\anaconda3\\lib\\site-packages (from dulwich!=0.20.33,>=0.20.6->comet_ml) (1.26.7)\n",
      "Requirement already satisfied: configobj in c:\\users\\f5471621\\anaconda3\\lib\\site-packages (from everett[ini]>=1.0.1->comet_ml) (5.0.6)\n",
      "Requirement already satisfied: setuptools in c:\\users\\f5471621\\anaconda3\\lib\\site-packages (from jsonschema!=3.1.0,>=2.6.0->comet_ml) (58.0.4)\n",
      "Requirement already satisfied: pyrsistent>=0.14.0 in c:\\users\\f5471621\\anaconda3\\lib\\site-packages (from jsonschema!=3.1.0,>=2.6.0->comet_ml) (0.18.0)\n",
      "Requirement already satisfied: attrs>=17.4.0 in c:\\users\\f5471621\\anaconda3\\lib\\site-packages (from jsonschema!=3.1.0,>=2.6.0->comet_ml) (21.2.0)\n",
      "Requirement already satisfied: charset-normalizer~=2.0.0 in c:\\users\\f5471621\\anaconda3\\lib\\site-packages (from requests>=2.18.4->comet_ml) (2.0.4)\n",
      "Requirement already satisfied: idna<4,>=2.5 in c:\\users\\f5471621\\anaconda3\\lib\\site-packages (from requests>=2.18.4->comet_ml) (3.2)\n",
      "Requirement already satisfied: seaborn in c:\\users\\f5471621\\anaconda3\\lib\\site-packages (0.11.2)\n",
      "Requirement already satisfied: matplotlib>=2.2 in c:\\users\\f5471621\\anaconda3\\lib\\site-packages (from seaborn) (3.4.3)\n",
      "Requirement already satisfied: numpy>=1.15 in c:\\users\\f5471621\\anaconda3\\lib\\site-packages (from seaborn) (1.20.3)\n",
      "Requirement already satisfied: pandas>=0.23 in c:\\users\\f5471621\\anaconda3\\lib\\site-packages (from seaborn) (1.3.4)\n",
      "Requirement already satisfied: scipy>=1.0 in c:\\users\\f5471621\\anaconda3\\lib\\site-packages (from seaborn) (1.7.1)\n",
      "Requirement already satisfied: kiwisolver>=1.0.1 in c:\\users\\f5471621\\anaconda3\\lib\\site-packages (from matplotlib>=2.2->seaborn) (1.3.1)\n",
      "Requirement already satisfied: pyparsing>=2.2.1 in c:\\users\\f5471621\\anaconda3\\lib\\site-packages (from matplotlib>=2.2->seaborn) (3.0.4)\n",
      "Requirement already satisfied: pillow>=6.2.0 in c:\\users\\f5471621\\anaconda3\\lib\\site-packages (from matplotlib>=2.2->seaborn) (8.4.0)\n",
      "Requirement already satisfied: python-dateutil>=2.7 in c:\\users\\f5471621\\anaconda3\\lib\\site-packages (from matplotlib>=2.2->seaborn) (2.8.2)\n",
      "Requirement already satisfied: cycler>=0.10 in c:\\users\\f5471621\\anaconda3\\lib\\site-packages (from matplotlib>=2.2->seaborn) (0.10.0)\n",
      "Requirement already satisfied: six in c:\\users\\f5471621\\anaconda3\\lib\\site-packages (from cycler>=0.10->matplotlib>=2.2->seaborn) (1.16.0)\n",
      "Requirement already satisfied: pytz>=2017.3 in c:\\users\\f5471621\\anaconda3\\lib\\site-packages (from pandas>=0.23->seaborn) (2021.3)\n",
      "Collecting wordcloud"
     ]
    },
    {
     "name": "stderr",
     "output_type": "stream",
     "text": [
      "  ERROR: Command errored out with exit status 1:\n",
      "   command: 'C:\\Users\\F5471621\\Anaconda3\\python.exe' -u -c 'import io, os, sys, setuptools, tokenize; sys.argv[0] = '\"'\"'C:\\\\Users\\\\F5471621\\\\AppData\\\\Local\\\\Temp\\\\pip-install-02j4ejym\\\\wordcloud_d26810de77304e39850757a7284224f0\\\\setup.py'\"'\"'; __file__='\"'\"'C:\\\\Users\\\\F5471621\\\\AppData\\\\Local\\\\Temp\\\\pip-install-02j4ejym\\\\wordcloud_d26810de77304e39850757a7284224f0\\\\setup.py'\"'\"';f = getattr(tokenize, '\"'\"'open'\"'\"', open)(__file__) if os.path.exists(__file__) else io.StringIO('\"'\"'from setuptools import setup; setup()'\"'\"');code = f.read().replace('\"'\"'\\r\\n'\"'\"', '\"'\"'\\n'\"'\"');f.close();exec(compile(code, __file__, '\"'\"'exec'\"'\"'))' bdist_wheel -d 'C:\\Users\\F5471621\\AppData\\Local\\Temp\\pip-wheel-jetbvn15'\n",
      "       cwd: C:\\Users\\F5471621\\AppData\\Local\\Temp\\pip-install-02j4ejym\\wordcloud_d26810de77304e39850757a7284224f0\\\n",
      "  Complete output (20 lines):\n",
      "  running bdist_wheel\n",
      "  running build\n",
      "  running build_py\n",
      "  creating build\n",
      "  creating build\\lib.win-amd64-3.9\n",
      "  creating build\\lib.win-amd64-3.9\\wordcloud\n",
      "  copying wordcloud\\color_from_image.py -> build\\lib.win-amd64-3.9\\wordcloud\n",
      "  copying wordcloud\\tokenization.py -> build\\lib.win-amd64-3.9\\wordcloud\n",
      "  copying wordcloud\\wordcloud.py -> build\\lib.win-amd64-3.9\\wordcloud\n",
      "  copying wordcloud\\wordcloud_cli.py -> build\\lib.win-amd64-3.9\\wordcloud\n",
      "  copying wordcloud\\_version.py -> build\\lib.win-amd64-3.9\\wordcloud\n",
      "  copying wordcloud\\__init__.py -> build\\lib.win-amd64-3.9\\wordcloud\n",
      "  copying wordcloud\\__main__.py -> build\\lib.win-amd64-3.9\\wordcloud\n",
      "  copying wordcloud\\stopwords -> build\\lib.win-amd64-3.9\\wordcloud\n",
      "  copying wordcloud\\DroidSansMono.ttf -> build\\lib.win-amd64-3.9\\wordcloud\n",
      "  UPDATING build\\lib.win-amd64-3.9\\wordcloud/_version.py\n",
      "  set build\\lib.win-amd64-3.9\\wordcloud/_version.py to '1.8.1'\n",
      "  running build_ext\n",
      "  building 'wordcloud.query_integral_image' extension\n",
      "  error: Microsoft Visual C++ 14.0 or greater is required. Get it with \"Microsoft C++ Build Tools\": https://visualstudio.microsoft.com/visual-cpp-build-tools/\n",
      "  ----------------------------------------\n",
      "  ERROR: Failed building wheel for wordcloud\n",
      "    ERROR: Command errored out with exit status 1:\n",
      "     command: 'C:\\Users\\F5471621\\Anaconda3\\python.exe' -u -c 'import io, os, sys, setuptools, tokenize; sys.argv[0] = '\"'\"'C:\\\\Users\\\\F5471621\\\\AppData\\\\Local\\\\Temp\\\\pip-install-02j4ejym\\\\wordcloud_d26810de77304e39850757a7284224f0\\\\setup.py'\"'\"'; __file__='\"'\"'C:\\\\Users\\\\F5471621\\\\AppData\\\\Local\\\\Temp\\\\pip-install-02j4ejym\\\\wordcloud_d26810de77304e39850757a7284224f0\\\\setup.py'\"'\"';f = getattr(tokenize, '\"'\"'open'\"'\"', open)(__file__) if os.path.exists(__file__) else io.StringIO('\"'\"'from setuptools import setup; setup()'\"'\"');code = f.read().replace('\"'\"'\\r\\n'\"'\"', '\"'\"'\\n'\"'\"');f.close();exec(compile(code, __file__, '\"'\"'exec'\"'\"'))' install --record 'C:\\Users\\F5471621\\AppData\\Local\\Temp\\pip-record-2u7anh8a\\install-record.txt' --single-version-externally-managed --compile --install-headers 'C:\\Users\\F5471621\\Anaconda3\\Include\\wordcloud'\n",
      "         cwd: C:\\Users\\F5471621\\AppData\\Local\\Temp\\pip-install-02j4ejym\\wordcloud_d26810de77304e39850757a7284224f0\\\n",
      "    Complete output (20 lines):\n",
      "    running install\n",
      "    running build\n",
      "    running build_py\n",
      "    creating build\n",
      "    creating build\\lib.win-amd64-3.9\n",
      "    creating build\\lib.win-amd64-3.9\\wordcloud\n",
      "    copying wordcloud\\color_from_image.py -> build\\lib.win-amd64-3.9\\wordcloud\n",
      "    copying wordcloud\\tokenization.py -> build\\lib.win-amd64-3.9\\wordcloud\n",
      "    copying wordcloud\\wordcloud.py -> build\\lib.win-amd64-3.9\\wordcloud\n",
      "    copying wordcloud\\wordcloud_cli.py -> build\\lib.win-amd64-3.9\\wordcloud\n",
      "    copying wordcloud\\_version.py -> build\\lib.win-amd64-3.9\\wordcloud\n",
      "    copying wordcloud\\__init__.py -> build\\lib.win-amd64-3.9\\wordcloud\n",
      "    copying wordcloud\\__main__.py -> build\\lib.win-amd64-3.9\\wordcloud\n",
      "    copying wordcloud\\stopwords -> build\\lib.win-amd64-3.9\\wordcloud\n",
      "    copying wordcloud\\DroidSansMono.ttf -> build\\lib.win-amd64-3.9\\wordcloud\n",
      "    UPDATING build\\lib.win-amd64-3.9\\wordcloud/_version.py\n",
      "    set build\\lib.win-amd64-3.9\\wordcloud/_version.py to '1.8.1'\n",
      "    running build_ext\n",
      "    building 'wordcloud.query_integral_image' extension\n",
      "    error: Microsoft Visual C++ 14.0 or greater is required. Get it with \"Microsoft C++ Build Tools\": https://visualstudio.microsoft.com/visual-cpp-build-tools/\n",
      "    ----------------------------------------\n",
      "ERROR: Command errored out with exit status 1: 'C:\\Users\\F5471621\\Anaconda3\\python.exe' -u -c 'import io, os, sys, setuptools, tokenize; sys.argv[0] = '\"'\"'C:\\\\Users\\\\F5471621\\\\AppData\\\\Local\\\\Temp\\\\pip-install-02j4ejym\\\\wordcloud_d26810de77304e39850757a7284224f0\\\\setup.py'\"'\"'; __file__='\"'\"'C:\\\\Users\\\\F5471621\\\\AppData\\\\Local\\\\Temp\\\\pip-install-02j4ejym\\\\wordcloud_d26810de77304e39850757a7284224f0\\\\setup.py'\"'\"';f = getattr(tokenize, '\"'\"'open'\"'\"', open)(__file__) if os.path.exists(__file__) else io.StringIO('\"'\"'from setuptools import setup; setup()'\"'\"');code = f.read().replace('\"'\"'\\r\\n'\"'\"', '\"'\"'\\n'\"'\"');f.close();exec(compile(code, __file__, '\"'\"'exec'\"'\"'))' install --record 'C:\\Users\\F5471621\\AppData\\Local\\Temp\\pip-record-2u7anh8a\\install-record.txt' --single-version-externally-managed --compile --install-headers 'C:\\Users\\F5471621\\Anaconda3\\Include\\wordcloud' Check the logs for full command output.\n"
     ]
    },
    {
     "name": "stdout",
     "output_type": "stream",
     "text": [
      "\n",
      "  Using cached wordcloud-1.8.1.tar.gz (220 kB)\n",
      "Requirement already satisfied: numpy>=1.6.1 in c:\\users\\f5471621\\anaconda3\\lib\\site-packages (from wordcloud) (1.20.3)\n",
      "Requirement already satisfied: pillow in c:\\users\\f5471621\\anaconda3\\lib\\site-packages (from wordcloud) (8.4.0)\n",
      "Requirement already satisfied: matplotlib in c:\\users\\f5471621\\anaconda3\\lib\\site-packages (from wordcloud) (3.4.3)\n",
      "Requirement already satisfied: cycler>=0.10 in c:\\users\\f5471621\\anaconda3\\lib\\site-packages (from matplotlib->wordcloud) (0.10.0)\n",
      "Requirement already satisfied: kiwisolver>=1.0.1 in c:\\users\\f5471621\\anaconda3\\lib\\site-packages (from matplotlib->wordcloud) (1.3.1)\n",
      "Requirement already satisfied: python-dateutil>=2.7 in c:\\users\\f5471621\\anaconda3\\lib\\site-packages (from matplotlib->wordcloud) (2.8.2)\n",
      "Requirement already satisfied: pyparsing>=2.2.1 in c:\\users\\f5471621\\anaconda3\\lib\\site-packages (from matplotlib->wordcloud) (3.0.4)\n",
      "Requirement already satisfied: six in c:\\users\\f5471621\\anaconda3\\lib\\site-packages (from cycler>=0.10->matplotlib->wordcloud) (1.16.0)\n",
      "Building wheels for collected packages: wordcloud\n",
      "  Building wheel for wordcloud (setup.py): started\n",
      "  Building wheel for wordcloud (setup.py): finished with status 'error'\n",
      "  Running setup.py clean for wordcloud\n",
      "Failed to build wordcloud\n",
      "Installing collected packages: wordcloud\n",
      "    Running setup.py install for wordcloud: started\n",
      "    Running setup.py install for wordcloud: finished with status 'error'\n",
      "Requirement already satisfied: emoji in c:\\users\\f5471621\\anaconda3\\lib\\site-packages (1.7.0)\n",
      "Requirement already satisfied: pyspellchecker in c:\\users\\f5471621\\anaconda3\\lib\\site-packages (0.6.3)\n",
      "Requirement already satisfied: ftfy in c:\\users\\f5471621\\anaconda3\\lib\\site-packages (6.1.1)\n",
      "Requirement already satisfied: wcwidth>=0.2.5 in c:\\users\\f5471621\\anaconda3\\lib\\site-packages (from ftfy) (0.2.5)\n"
     ]
    }
   ],
   "source": [
    "!pip install comet_ml\n",
    "!pip install seaborn\n",
    "!pip install wordcloud\n",
    "!pip install emoji\n",
    "!pip install pyspellchecker\n",
    "!pip install ftfy"
   ]
  },
  {
   "cell_type": "code",
   "execution_count": 5,
   "id": "bde62ee5",
   "metadata": {},
   "outputs": [
    {
     "name": "stderr",
     "output_type": "stream",
     "text": [
      "COMET WARNING: As you are running in a Jupyter environment, you will need to call `experiment.end()` when finished to ensure all metrics and code are logged before exiting.\n",
      "COMET INFO: Experiment is live on comet.ml https://www.comet.ml/gm2/climate-change-version-control/35b384c3b0284aa28f54674005ba7bfa\n",
      "\n"
     ]
    }
   ],
   "source": [
    "# import comet_ml at the top of your file\n",
    "from comet_ml import Experiment\n",
    "\n",
    "# Create an experiment with your api key\n",
    "experiment = Experiment(\n",
    "    api_key=\"OVppsmdDB0EjLTt0aOW7piYjY\",\n",
    "    project_name=\"climate-change-version-control\",\n",
    "    workspace=\"gm2\",\n",
    ")\n",
    "\n",
    "# Run your code and go to /"
   ]
  },
  {
   "cell_type": "code",
   "execution_count": 6,
   "id": "f1c31925",
   "metadata": {},
   "outputs": [],
   "source": [
    "# Packages for data analysis\n",
    "import numpy as np\n",
    "import pandas as pd\n",
    "from time import time\n",
    "\n",
    "# Packages for visualisations\n",
    "import matplotlib.pyplot as plt\n",
    "%matplotlib inline\n",
    "import seaborn as sns\n",
    "from PIL import Image\n",
    "\n",
    "\n",
    "# Packages for preprocessing\n",
    "import re\n",
    "import string\n",
    "from nltk.tokenize import word_tokenize\n",
    "from nltk.tokenize import TweetTokenizer\n",
    "from nltk.corpus import stopwords\n",
    "from sklearn.feature_extraction.text import TfidfVectorizer\n",
    "from nltk.probability import FreqDist\n",
    "import nltk\n",
    "import emoji\n",
    "from ftfy import fix_text\n",
    "from spellchecker import SpellChecker \n",
    "from nltk.stem.snowball import SnowballStemmer\n",
    "from nltk.sentiment.vader import SentimentIntensityAnalyzer\n",
    "import itertools\n",
    "from sklearn.model_selection import train_test_split\n",
    "from sklearn.utils import resample\n",
    "\n",
    "# Packages for training models\n",
    "from sklearn.pipeline import Pipeline\n",
    "from sklearn.linear_model import LogisticRegression\n",
    "from sklearn.naive_bayes import MultinomialNB\n",
    "from sklearn.svm import SVC\n",
    "from sklearn.ensemble import RandomForestClassifier\n",
    "from sklearn.neighbors import KNeighborsClassifier\n",
    "from sklearn.neural_network import MLPClassifier\n",
    "\n",
    "# Packages for hyperparameter optimisation\n",
    "from sklearn.model_selection import GridSearchCV\n",
    "\n",
    "# Packages for evaluating model accuracy\n",
    "from sklearn.metrics import f1_score \n",
    "from sklearn.metrics import precision_score\n",
    "from sklearn.metrics import recall_score\n",
    "from sklearn.metrics import confusion_matrix\n",
    "from sklearn.metrics import accuracy_score\n",
    "from sklearn.metrics import classification_report\n",
    "from sklearn.metrics import roc_curve\n",
    "from sklearn.metrics import auc\n",
    "from sklearn.preprocessing import label_binarize\n",
    "\n",
    "# Packages for saving models\n",
    "import pickle"
   ]
  },
  {
   "cell_type": "markdown",
   "id": "a9d51762",
   "metadata": {},
   "source": [
    "## 2. Importing the data\n",
    "<a id='imp_dat'></a>\n",
    "[Back to table of contents](#toc)"
   ]
  },
  {
   "cell_type": "code",
   "execution_count": 7,
   "id": "37d58534",
   "metadata": {},
   "outputs": [],
   "source": [
    "#Import data\n",
    "test = pd.read_csv(\"test_with_no_labels.csv\")\n",
    "train = pd.read_csv(\"train.csv\")\n",
    "sample = pd.read_csv(\"sample_submission.csv\")"
   ]
  },
  {
   "cell_type": "code",
   "execution_count": 8,
   "id": "73817658",
   "metadata": {},
   "outputs": [
    {
     "data": {
      "text/html": [
       "<div>\n",
       "<style scoped>\n",
       "    .dataframe tbody tr th:only-of-type {\n",
       "        vertical-align: middle;\n",
       "    }\n",
       "\n",
       "    .dataframe tbody tr th {\n",
       "        vertical-align: top;\n",
       "    }\n",
       "\n",
       "    .dataframe thead th {\n",
       "        text-align: right;\n",
       "    }\n",
       "</style>\n",
       "<table border=\"1\" class=\"dataframe\">\n",
       "  <thead>\n",
       "    <tr style=\"text-align: right;\">\n",
       "      <th></th>\n",
       "      <th>sentiment</th>\n",
       "      <th>message</th>\n",
       "      <th>tweetid</th>\n",
       "    </tr>\n",
       "  </thead>\n",
       "  <tbody>\n",
       "    <tr>\n",
       "      <th>0</th>\n",
       "      <td>1</td>\n",
       "      <td>PolySciMajor EPA chief doesn't think carbon di...</td>\n",
       "      <td>625221</td>\n",
       "    </tr>\n",
       "    <tr>\n",
       "      <th>1</th>\n",
       "      <td>1</td>\n",
       "      <td>It's not like we lack evidence of anthropogeni...</td>\n",
       "      <td>126103</td>\n",
       "    </tr>\n",
       "    <tr>\n",
       "      <th>2</th>\n",
       "      <td>2</td>\n",
       "      <td>RT @RawStory: Researchers say we have three ye...</td>\n",
       "      <td>698562</td>\n",
       "    </tr>\n",
       "    <tr>\n",
       "      <th>3</th>\n",
       "      <td>1</td>\n",
       "      <td>#TodayinMaker# WIRED : 2016 was a pivotal year...</td>\n",
       "      <td>573736</td>\n",
       "    </tr>\n",
       "    <tr>\n",
       "      <th>4</th>\n",
       "      <td>1</td>\n",
       "      <td>RT @SoyNovioDeTodas: It's 2016, and a racist, ...</td>\n",
       "      <td>466954</td>\n",
       "    </tr>\n",
       "  </tbody>\n",
       "</table>\n",
       "</div>"
      ],
      "text/plain": [
       "   sentiment                                            message  tweetid\n",
       "0          1  PolySciMajor EPA chief doesn't think carbon di...   625221\n",
       "1          1  It's not like we lack evidence of anthropogeni...   126103\n",
       "2          2  RT @RawStory: Researchers say we have three ye...   698562\n",
       "3          1  #TodayinMaker# WIRED : 2016 was a pivotal year...   573736\n",
       "4          1  RT @SoyNovioDeTodas: It's 2016, and a racist, ...   466954"
      ]
     },
     "execution_count": 8,
     "metadata": {},
     "output_type": "execute_result"
    }
   ],
   "source": [
    "train.head()"
   ]
  },
  {
   "cell_type": "code",
   "execution_count": 9,
   "id": "44e33a6f",
   "metadata": {},
   "outputs": [
    {
     "data": {
      "text/html": [
       "<div>\n",
       "<style scoped>\n",
       "    .dataframe tbody tr th:only-of-type {\n",
       "        vertical-align: middle;\n",
       "    }\n",
       "\n",
       "    .dataframe tbody tr th {\n",
       "        vertical-align: top;\n",
       "    }\n",
       "\n",
       "    .dataframe thead th {\n",
       "        text-align: right;\n",
       "    }\n",
       "</style>\n",
       "<table border=\"1\" class=\"dataframe\">\n",
       "  <thead>\n",
       "    <tr style=\"text-align: right;\">\n",
       "      <th></th>\n",
       "      <th>message</th>\n",
       "      <th>tweetid</th>\n",
       "    </tr>\n",
       "  </thead>\n",
       "  <tbody>\n",
       "    <tr>\n",
       "      <th>0</th>\n",
       "      <td>Europe will now be looking to China to make su...</td>\n",
       "      <td>169760</td>\n",
       "    </tr>\n",
       "    <tr>\n",
       "      <th>1</th>\n",
       "      <td>Combine this with the polling of staffers re c...</td>\n",
       "      <td>35326</td>\n",
       "    </tr>\n",
       "    <tr>\n",
       "      <th>2</th>\n",
       "      <td>The scary, unimpeachable evidence that climate...</td>\n",
       "      <td>224985</td>\n",
       "    </tr>\n",
       "    <tr>\n",
       "      <th>3</th>\n",
       "      <td>@Karoli @morgfair @OsborneInk @dailykos \\r\\nPu...</td>\n",
       "      <td>476263</td>\n",
       "    </tr>\n",
       "    <tr>\n",
       "      <th>4</th>\n",
       "      <td>RT @FakeWillMoore: 'Female orgasms cause globa...</td>\n",
       "      <td>872928</td>\n",
       "    </tr>\n",
       "  </tbody>\n",
       "</table>\n",
       "</div>"
      ],
      "text/plain": [
       "                                             message  tweetid\n",
       "0  Europe will now be looking to China to make su...   169760\n",
       "1  Combine this with the polling of staffers re c...    35326\n",
       "2  The scary, unimpeachable evidence that climate...   224985\n",
       "3  @Karoli @morgfair @OsborneInk @dailykos \\r\\nPu...   476263\n",
       "4  RT @FakeWillMoore: 'Female orgasms cause globa...   872928"
      ]
     },
     "execution_count": 9,
     "metadata": {},
     "output_type": "execute_result"
    }
   ],
   "source": [
    "test.head()"
   ]
  },
  {
   "cell_type": "code",
   "execution_count": 10,
   "id": "1d8ff01f",
   "metadata": {},
   "outputs": [
    {
     "data": {
      "text/html": [
       "<div>\n",
       "<style scoped>\n",
       "    .dataframe tbody tr th:only-of-type {\n",
       "        vertical-align: middle;\n",
       "    }\n",
       "\n",
       "    .dataframe tbody tr th {\n",
       "        vertical-align: top;\n",
       "    }\n",
       "\n",
       "    .dataframe thead th {\n",
       "        text-align: right;\n",
       "    }\n",
       "</style>\n",
       "<table border=\"1\" class=\"dataframe\">\n",
       "  <thead>\n",
       "    <tr style=\"text-align: right;\">\n",
       "      <th></th>\n",
       "      <th>tweetid</th>\n",
       "      <th>sentiment</th>\n",
       "    </tr>\n",
       "  </thead>\n",
       "  <tbody>\n",
       "    <tr>\n",
       "      <th>0</th>\n",
       "      <td>169760</td>\n",
       "      <td>1</td>\n",
       "    </tr>\n",
       "    <tr>\n",
       "      <th>1</th>\n",
       "      <td>35326</td>\n",
       "      <td>1</td>\n",
       "    </tr>\n",
       "    <tr>\n",
       "      <th>2</th>\n",
       "      <td>224985</td>\n",
       "      <td>1</td>\n",
       "    </tr>\n",
       "    <tr>\n",
       "      <th>3</th>\n",
       "      <td>476263</td>\n",
       "      <td>1</td>\n",
       "    </tr>\n",
       "    <tr>\n",
       "      <th>4</th>\n",
       "      <td>872928</td>\n",
       "      <td>1</td>\n",
       "    </tr>\n",
       "  </tbody>\n",
       "</table>\n",
       "</div>"
      ],
      "text/plain": [
       "   tweetid  sentiment\n",
       "0   169760          1\n",
       "1    35326          1\n",
       "2   224985          1\n",
       "3   476263          1\n",
       "4   872928          1"
      ]
     },
     "execution_count": 10,
     "metadata": {},
     "output_type": "execute_result"
    }
   ],
   "source": [
    "sample.head()"
   ]
  },
  {
   "cell_type": "markdown",
   "id": "b7e04ad2",
   "metadata": {},
   "source": [
    "## 3. Data description\n",
    "<a id='ddescribe'></a>\n",
    "[Back to table of contents](#toc)"
   ]
  },
  {
   "cell_type": "markdown",
   "id": "a7711e54",
   "metadata": {},
   "source": [
    "The datasets that will be used in this classification project aggregates tweets pertaining to climate change, collected between Apr 27, 2015 and Feb 21, 2018. The train dataset consists of 3 columns; \"tweetid\", \"sentiment\" and \"message\", where we set \"tweetid\" to be the index of the dataset. A description of each variable in the dataset is given below.  \n",
    "### Training set\n",
    "**Variable definitions:**  \n",
    "\n",
    "- **tweetid** - Unique Twitter ID .\n",
    "- **message** - Tweet body.       \n",
    "- **sentiment** - Sentiment of tweet.  \n",
    "\n",
    "**Each tweet is then labeled as one of the following classes:**  \n",
    " \n",
    "    \n",
    "| **Class** | **Tag** | **Description** |\n",
    "|:---------:|:----------------:|:----------------|\n",
    "|   **2**   | **News** |The tweet links to factual news about climate change |\n",
    "|   **1**   | **Pro** |The tweet supports the belief of man-made climate change |\n",
    "|   **0**   | **Neutral** |The tweet neither supports nor refutes the belief of man-made climate change |\n",
    "|  **-1**   | **Anti** |The tweet does not believe in man-made climate change |  \n",
    "\n",
    "### Testing set  \n",
    "During testing we do not have access to the **tweetid** variable, but the testing dataset remains the same as the training dataset otherwise.  "
   ]
  },
  {
   "cell_type": "markdown",
   "id": "10da28fe",
   "metadata": {},
   "source": [
    "### Data types \n",
    "\n",
    "Let's get quick overview of the datasets we will be working with throughout the notebook. The output below contains the shape of the dataset, a list of all columns with their data types and the number of non-null values present in each column.  \n",
    "\n",
    "**Train data**  "
   ]
  },
  {
   "cell_type": "code",
   "execution_count": 11,
   "id": "57c0ffca",
   "metadata": {},
   "outputs": [
    {
     "name": "stdout",
     "output_type": "stream",
     "text": [
      "<class 'pandas.core.frame.DataFrame'>\n",
      "RangeIndex: 15819 entries, 0 to 15818\n",
      "Data columns (total 3 columns):\n",
      " #   Column     Non-Null Count  Dtype \n",
      "---  ------     --------------  ----- \n",
      " 0   sentiment  15819 non-null  int64 \n",
      " 1   message    15819 non-null  object\n",
      " 2   tweetid    15819 non-null  int64 \n",
      "dtypes: int64(2), object(1)\n",
      "memory usage: 370.9+ KB\n"
     ]
    }
   ],
   "source": [
    "train.info()"
   ]
  },
  {
   "cell_type": "markdown",
   "id": "bc228826",
   "metadata": {},
   "source": [
    "The train dataset has 15819 entries, contains no null entries, and the data types for \"sentiment\" and \"message\" are integer and object respectively."
   ]
  },
  {
   "cell_type": "markdown",
   "id": "e0a7c0d8",
   "metadata": {},
   "source": [
    "**Test data**"
   ]
  },
  {
   "cell_type": "code",
   "execution_count": 12,
   "id": "0295b877",
   "metadata": {},
   "outputs": [
    {
     "name": "stdout",
     "output_type": "stream",
     "text": [
      "<class 'pandas.core.frame.DataFrame'>\n",
      "RangeIndex: 10546 entries, 0 to 10545\n",
      "Data columns (total 2 columns):\n",
      " #   Column   Non-Null Count  Dtype \n",
      "---  ------   --------------  ----- \n",
      " 0   message  10546 non-null  object\n",
      " 1   tweetid  10546 non-null  int64 \n",
      "dtypes: int64(1), object(1)\n",
      "memory usage: 164.9+ KB\n"
     ]
    }
   ],
   "source": [
    "test.info()"
   ]
  },
  {
   "cell_type": "markdown",
   "id": "612e3497",
   "metadata": {},
   "source": [
    "The test dataset has 10546 entries, contains no null entries, and the variable \"message\" has the object data type."
   ]
  },
  {
   "cell_type": "markdown",
   "id": "1573d24c",
   "metadata": {},
   "source": [
    "## 4. Preprocessing\n",
    "<a id='the_prep'></a>\n",
    "[Back to table of contents](#toc)"
   ]
  },
  {
   "cell_type": "code",
   "execution_count": 13,
   "id": "972b60ca",
   "metadata": {},
   "outputs": [
    {
     "name": "stdout",
     "output_type": "stream",
     "text": [
      "<class 'pandas.core.frame.DataFrame'>\n",
      "RangeIndex: 15819 entries, 0 to 15818\n",
      "Data columns (total 3 columns):\n",
      " #   Column     Non-Null Count  Dtype\n",
      "---  ------     --------------  -----\n",
      " 0   sentiment  15819 non-null  bool \n",
      " 1   message    15819 non-null  bool \n",
      " 2   tweetid    15819 non-null  bool \n",
      "dtypes: bool(3)\n",
      "memory usage: 46.5 KB\n"
     ]
    }
   ],
   "source": [
    "#Data Preprocessing\n",
    "#Identifying missing values and data types\n",
    "train.isna().info()"
   ]
  },
  {
   "cell_type": "code",
   "execution_count": 14,
   "id": "4d929626",
   "metadata": {},
   "outputs": [
    {
     "name": "stdout",
     "output_type": "stream",
     "text": [
      "<class 'pandas.core.frame.DataFrame'>\n",
      "RangeIndex: 10546 entries, 0 to 10545\n",
      "Data columns (total 2 columns):\n",
      " #   Column   Non-Null Count  Dtype\n",
      "---  ------   --------------  -----\n",
      " 0   message  10546 non-null  bool \n",
      " 1   tweetid  10546 non-null  bool \n",
      "dtypes: bool(2)\n",
      "memory usage: 20.7 KB\n"
     ]
    }
   ],
   "source": [
    "test.isna().info()"
   ]
  },
  {
   "cell_type": "code",
   "execution_count": 15,
   "id": "6c026ab5",
   "metadata": {},
   "outputs": [],
   "source": [
    "# Part of Speech for modeling\n",
    "def POS(word):\n",
    "    pos_counts = Counter()\n",
    "    probable_part_of_speech = wordnet.synsets(word)\n",
    "    pos_counts[\"n\"] = len([i for i in probable_part_of_speech if i.pos()==\"n\"])\n",
    "    pos_counts[\"v\"] = len([i for i in probable_part_of_speech if i.pos()==\"v\"])\n",
    "    pos_counts[\"a\"] = len([i for i in probable_part_of_speech if i.pos()==\"a\"])\n",
    "    pos_counts[\"r\"] = len([i for i in probable_part_of_speech if i.pos()==\"r\"])\n",
    "    part_of_speech = pos_counts.most_common(1)[0][0]\n",
    "    return part_of_speech"
   ]
  },
  {
   "cell_type": "markdown",
   "id": "0cb4e5ad",
   "metadata": {},
   "source": [
    "**Extract feature extraction**"
   ]
  },
  {
   "cell_type": "markdown",
   "id": "03dc490f",
   "metadata": {},
   "source": [
    "The first feature we will extract is the sentiment of a tweet. We determine the sentiment of a tweet by using python's VADER library. This feature could be useful since we would expect tweets classified as `Anti` to have a more negative tone than tweets classified as `Pro`. We'll start by writing a function, (`sentiment_score`), that takes a text string as input and determines its sentiment, i.e. negative, positive or neutral. Since these tweets do not have a wide range when it comes to sentiment scores (rarely more than 0.4) we decided to classify all tweets with scores of less than -0.05 as negative, scores between -0.05 and 0.05 are classified as neutral and a score of more than 0.05 indicates a positive tweet."
   ]
  },
  {
   "cell_type": "code",
   "execution_count": 16,
   "id": "43b539b0",
   "metadata": {},
   "outputs": [],
   "source": [
    "# Function to extract sentiment\n",
    "def sentiment_score(text):\n",
    "    \"\"\" A function that determines the sentiment of a text string.\n",
    "\n",
    "        Parameters\n",
    "        ----------\n",
    "        text: Text string.\n",
    "\n",
    "        Returns\n",
    "        -------\n",
    "        sentiment:  String indicating the sentiment of the input string.\n",
    "    \"\"\"\n",
    "    \n",
    "    sid = SentimentIntensityAnalyzer()\n",
    "    s = sid.polarity_scores(text)['compound']\n",
    "    if s<-0.05:\n",
    "        sentiment='negative'\n",
    "    elif s>0.05:\n",
    "        sentiment='positive'\n",
    "    else:\n",
    "        sentiment='neutral'\n",
    "    \n",
    "    return sentiment"
   ]
  },
  {
   "cell_type": "markdown",
   "id": "adda60a3",
   "metadata": {},
   "source": [
    "Twitter handles could be a second useful feature. Sentiment will help us a lot with classifying classes like `Anti`, `Neutral` and `Pro`, but we would find it more difficult to classify `News` using these sentiments. Twitter handles could help the model distinguish between the `News` class and the other classes. We assume that tweets classified as `News` would probably have been extracted from news accounts and therefore have news related handles.  \n",
    "\n",
    "We now extract all **unique** Twitter handles found in tweets within the `News` class."
   ]
  },
  {
   "cell_type": "code",
   "execution_count": 17,
   "id": "93950065",
   "metadata": {},
   "outputs": [],
   "source": [
    "# Extract all unique news related handles into a list\n",
    "df = train.copy()\n",
    "df.sort_index(inplace=True)\n",
    "n_temp = [re.findall(r'@[\\w]+',df['message'].iloc[i]) for i,x in enumerate(df['sentiment']) if x==2]\n",
    "news = [x for x in n_temp if x!=[]]\n",
    "\n",
    "# Only keep the unique values inside the list\n",
    "news = sorted(list(set(itertools.chain.from_iterable(news))))"
   ]
  },
  {
   "cell_type": "code",
   "execution_count": 18,
   "id": "930d9e4c",
   "metadata": {},
   "outputs": [
    {
     "name": "stdout",
     "output_type": "stream",
     "text": [
      "First 5 entries: ['@02Cents0', '@100isNow', '@1306Chomley', '@1o5CleanEnergy', '@233liveOnline'] \n",
      "Last 5 entries: ['@yceek', '@yearsofliving', '@yicaichina', '@zsstevens', '@Ã']\n"
     ]
    }
   ],
   "source": [
    "print(f'First 5 entries: {news[:5]} \\nLast 5 entries: {news[-5:]}')"
   ]
  },
  {
   "cell_type": "markdown",
   "id": "b0a0d3d8",
   "metadata": {},
   "source": [
    "Looking at the first and last 5 entries inside our list we see our hunch was correct. We can see news channels like `@233liveOnline` and organizations like `@100isNow` (better known as \"The Solutions Project\"; who have made it clear that their goal is to radically transform how people understand climate change and the role we all can play to solve it. There are also handles from influential people like `@zsstevens` (Stewart Stevenson); former Scottish Minister for Environment and Climate Change who is currently still part of the Environment, Climate Change and Land Reform Committee for the Scottish Parliament.  \n",
    "\n",
    "We have now created our features and move on to cleaning the text data. \n"
   ]
  },
  {
   "cell_type": "code",
   "execution_count": null,
   "id": "10786705",
   "metadata": {},
   "outputs": [],
   "source": []
  },
  {
   "cell_type": "code",
   "execution_count": null,
   "id": "37e16a54",
   "metadata": {},
   "outputs": [],
   "source": []
  },
  {
   "cell_type": "markdown",
   "id": "c4744bef",
   "metadata": {},
   "source": [
    "### Remove Unnecessary Information on Message"
   ]
  },
  {
   "cell_type": "markdown",
   "id": "4d11dcdb",
   "metadata": {},
   "source": [
    "#### Contractions"
   ]
  },
  {
   "cell_type": "markdown",
   "id": "0bc3bec8",
   "metadata": {},
   "source": [
    "The `message` column contains some contracted words such as *can't* and *don't*. As part of the cleaning process these words will be replaced with their expanded words that do not contain any omission. We do this because we will need to tokenize the text later on. We assume that a model would have an easier time using tokens like `can` and `not` than `can` and `'t`. To help with this transformation, a dictionary (`contractions`) is created, that contain possible contractions and their corresponding full words."
   ]
  },
  {
   "cell_type": "code",
   "execution_count": 19,
   "id": "ec717885",
   "metadata": {},
   "outputs": [],
   "source": [
    "# Dictionary of contracted words\n",
    "contractions = {\n",
    "\"aren't\" : \"are not\",\n",
    "\"can't\" : \"cannot\",\n",
    "\"couldn't\" : \"could not\",\n",
    "\"didn't\" : \"did not\",\n",
    "\"doesn't\" : \"does not\",\n",
    "\"don't\" : \"do not\",\n",
    "\"hadn't\" : \"had not\",\n",
    "\"hasn't\" : \"has not\",\n",
    "\"haven't\" : \"have not\",\n",
    "\"he'd\" : \"he would\",\n",
    "\"he'll\" : \"he will\",\n",
    "\"he's\" : \"he is\",\n",
    "\"i'd\" : \"I would\",\n",
    "\"i'd\" : \"I had\",\n",
    "\"i'll\" : \"I will\",\n",
    "\"i'm\" : \"I am\",\n",
    "\"isn't\" : \"is not\",\n",
    "\"it's\" : \"it is\",\n",
    "\"it'll\":\"it will\",\n",
    "\"i've\" : \"I have\",\n",
    "\"let's\" : \"let us\",\n",
    "\"mightn't\" : \"might not\",\n",
    "\"mustn't\" : \"must not\",\n",
    "\"shan't\" : \"shall not\",\n",
    "\"she'd\" : \"she would\",\n",
    "\"she'll\" : \"she will\",\n",
    "\"she's\" : \"she is\",\n",
    "\"shouldn't\" : \"should not\",\n",
    "\"that's\" : \"that is\",\n",
    "\"there's\" : \"there is\",\n",
    "\"they'd\" : \"they would\",\n",
    "\"they'll\" : \"they will\",\n",
    "\"they're\" : \"they are\",\n",
    "\"they've\" : \"they have\",\n",
    "\"wasn't\": \"was not\",\n",
    "\"we'd\" : \"we would\",\n",
    "\"we're\" : \"we are\",\n",
    "\"weren't\" : \"were not\",\n",
    "\"we'll\":\"we will\",\n",
    "\"we've\" : \"we have\",\n",
    "\"what'll\" : \"what will\",\n",
    "\"what're\" : \"what are\",\n",
    "\"what's\" : \"what is\",\n",
    "\"what've\" : \"what have\",\n",
    "\"where's\" : \"where is\",\n",
    "\"who'd\" : \"who would\",\n",
    "\"who'll\" : \"who will\",\n",
    "\"who's\" : \"who is\",\n",
    "\"who've\" : \"who have\",\n",
    "\"won't\" : \"will not\",\n",
    "\"wouldn't\" : \"would not\",\n",
    "\"you'd\" : \"you would\",\n",
    "\"you'll\" : \"you will\",\n",
    "\"you're\" : \"you are\",\n",
    "\"you've\" : \"you have\",\n",
    "\"'re\": \" are\",\n",
    "}"
   ]
  },
  {
   "cell_type": "markdown",
   "id": "14f1ccb7",
   "metadata": {},
   "source": [
    "Now let's replace the contracted words by their expanded alternatives."
   ]
  },
  {
   "cell_type": "code",
   "execution_count": 20,
   "id": "349b3d5d",
   "metadata": {},
   "outputs": [],
   "source": [
    "# Replace contracted words with full word\n",
    "df['message'] = [' '.join([contractions[w.lower()] if w.lower() in contractions.keys() else w for w in raw.split()]) \n",
    "                       for raw in df['message']]"
   ]
  },
  {
   "cell_type": "markdown",
   "id": "84546b85",
   "metadata": {},
   "source": [
    "#### Lowercase"
   ]
  },
  {
   "cell_type": "markdown",
   "id": "8f20de2a",
   "metadata": {},
   "source": [
    "To help our model, we will be converting all text to lowercase. We work with lower cased data to remove the noise from capitalised words. This is due to the computer seeing uppercased words as different from lower cased words. If this transformation is not applied we run the risk of the model possibly classifying cases like `Snowball` and `snowball` differently. By transforming we help the model understand that those two words are in fact the same."
   ]
  },
  {
   "cell_type": "code",
   "execution_count": 21,
   "id": "603f1af6",
   "metadata": {},
   "outputs": [],
   "source": [
    "# Lower case all words to remove noise from Capital words. Capital words may be seen as different from lower case words\n",
    "df['message'] = df['message'].str.lower()\n"
   ]
  },
  {
   "cell_type": "markdown",
   "id": "33c35f61",
   "metadata": {},
   "source": [
    "#### Encoding"
   ]
  },
  {
   "cell_type": "markdown",
   "id": "d02d2865",
   "metadata": {},
   "source": [
    "Tweet data can also include bad unicode. For example, where a person wants so say `José Florés` or use a `(—)`, it ends up being `JosÃ© Florés` or `â€”` instead. These issues can make it hard for the model to process the data. There is a package in python that takes care of these issues for us. The ftfy(fixed this for you) package takes all the bad unicode and outputs the good unicode. So let's let the package fix these problems for us."
   ]
  },
  {
   "cell_type": "code",
   "execution_count": 22,
   "id": "df245238",
   "metadata": {},
   "outputs": [],
   "source": [
    "df['message'] = df['message'].apply(lambda x: fix_text(x))\n"
   ]
  },
  {
   "cell_type": "markdown",
   "id": "b02a5641",
   "metadata": {},
   "source": [
    "#### Emojis"
   ]
  },
  {
   "cell_type": "markdown",
   "id": "fc84de9a",
   "metadata": {},
   "source": [
    "The `message` column may also contain emojis, ex. 👨🏽‍💻. As we can see, alone they're just symbols and don't have a word association to them. This makes them hard to interpret and also makes them useless to our model. But emojis could potentially be useful in the modeling process. So instead of removing them, we'll be replacing them with the word that describes them."
   ]
  },
  {
   "cell_type": "code",
   "execution_count": 23,
   "id": "4dba4a73",
   "metadata": {},
   "outputs": [],
   "source": [
    "# Replace emojis with their word meaning\n",
    "df['message'] = df['message'].apply(lambda x: emoji.demojize(x))"
   ]
  },
  {
   "cell_type": "markdown",
   "id": "83470f0a",
   "metadata": {},
   "source": [
    "#### Shortened words/Slang"
   ]
  },
  {
   "cell_type": "markdown",
   "id": "311d48f6",
   "metadata": {},
   "source": [
    "With tweets data a lot of shortened words like *abt* are used instead of the full words *about*. This can make it difficult for the model to process these words. We will replace the shortened words with their corresponding full word. To help with this transformation, a dictionary, (`short`), of possible shortened words and their corresponding full words is given below."
   ]
  },
  {
   "cell_type": "code",
   "execution_count": 24,
   "id": "b246baae",
   "metadata": {},
   "outputs": [],
   "source": [
    "# Replace shortened words with full words\n",
    "short = {' BD ': ' Big Deal ',\n",
    " ' abt ':' about ',\n",
    " ' ab ': ' about ',\n",
    " ' fav ': ' favourite ',\n",
    " ' fab ': ' fabulous ',\n",
    " ' smh ': ' shaking my head ',\n",
    " ' u ': ' you ',\n",
    " ' c ': ' see ',\n",
    " ' anon ': ' anonymous ',\n",
    " ' ac ': ' aircon ',\n",
    " ' a/c ': ' aircon ',\n",
    " ' yo ':' year old ',\n",
    " ' n ':' and ',\n",
    " ' nd ':' and ',\n",
    " ' 2 ': ' to ',\n",
    " ' w ': ' with ',\n",
    " ' w/o ': ' without ',\n",
    " ' r ': ' are ',\n",
    " ' rip ':' rest in peace ',\n",
    " ' 4 ' : ' for ',\n",
    "' BF ': ' Boyfriend ',\n",
    "' BRB ': ' Be Right Back ',\n",
    "' BTW ': ' By The Way ',\n",
    "' GF ': ' Girlfriend ',\n",
    "' HBD ': ' Happy Birthday ',\n",
    "' JK ': ' Just Kidding ',\n",
    "' K ':' Okay ',\n",
    "' LMK ': ' Let Me Know ',\n",
    "' LOL ': ' Laugh Out Loud ',\n",
    "' HA ':' laugh ',\n",
    "' MYOB ': ' Mind Your Own Business ',\n",
    "' NBD ': ' No Big Deal ',\n",
    "' NVM ': ' Nevermind ',\n",
    "' Obv ':' Obviously ',\n",
    "' Obvi ':' Obviously ',\n",
    "' OMG ': ' Oh My God ',\n",
    "' Pls ': ' Please ',\n",
    "' Plz ': ' Please ',\n",
    "' Q ': ' Question ', \n",
    "' QQ ': ' Quick Question ',\n",
    "' RLY ': ' Really ',\n",
    "' SRLSY ': ' Seriously ',\n",
    "' TMI ': ' Too Much Information ',\n",
    "' TY ': ' Thank You, ',\n",
    "' TYVM ': ' Thank You Very Much ',\n",
    "' YW ': ' You are Welcome ',\n",
    "' FOMO ': ' Fear Of Missing Out ',\n",
    "' FTFY ': ' Fixed This For You ',\n",
    "' FTW ': ' For The Win ',\n",
    "' FYA ': ' For Your Amusement ',\n",
    "' FYE ': ' For Your Entertainment ',\n",
    "' GTI ': ' Going Through It ',\n",
    "' HTH ': ' Here to Help ',\n",
    "' IRL ': ' In Real Life ',\n",
    "' ICYMI ': ' In Case You Missed It ',\n",
    "' ICYWW ': ' In Case You Were Wondering ',\n",
    "' NBC ': ' Nobody Cares Though ',\n",
    "' NTW ': ' Not To Worry ',\n",
    "' OTD ': ' Of The Day ',\n",
    "' OOTD ': ' Outfit Of The Day ',\n",
    "' QOTD ': ' Quote of the Day ',\n",
    "' FOTD ': ' Find Of the Day ',\n",
    "' POIDH ': ' Pictures Or It Did ntt Happen ',\n",
    "' YOLO ': ' You Only Live Once ',\n",
    "' AFAIK ': ' As Far As I Know ',\n",
    "' DGYF ': ' Dang Girl You Fine ',\n",
    "' FWIW ': ' For What It is Worth ',\n",
    "' IDC ': ' I Do not Care ',\n",
    "' IDK ': ' I Do not Know ',\n",
    "' IIRC ': ' If I Remember Correctly ',\n",
    "' IMHO ': ' In My Honest Opinion ',\n",
    "' IMO ': ' In My Opinion ',\n",
    "' Jelly ': ' Jealous ',\n",
    "' Jellz ': ' Jealous ',\n",
    "' JSYK ': ' Just So You Know ',\n",
    "' LMAO ': ' Laughing My Ass Off ',\n",
    "' LMFAO ': ' Laughing My Fucking Ass Off ',\n",
    "' NTS ': ' Note to Self ',\n",
    "' ROFL ': ' Rolling On the Floor Laughing ',\n",
    "' ROFLMAO ': ' Rolling On the Floor Laughing My Ass Off ',\n",
    "' SMH ': ' Shaking My Head ',\n",
    "' TBH ': ' To Be Honest ',\n",
    "' TL;DR ':  ' Too Long; Did not Read ',\n",
    "' TLDR ':  ' Too Long; Did not Read ',\n",
    "' YGTR ': ' You Got That Right ',\n",
    "' AYKMWTS ': ' Are You Kidding Me With This Shit ',\n",
    "' BAMF ': ' Bad Ass Mother Fucker ',\n",
    "' FFS ': ' For Fuck Sake ',\n",
    "' FML ': ' Fuck My Life ',\n",
    "' HYFR ': ' Hell Yeah Fucking Right ',\n",
    "' IDGAF ': ' I Do not Give A Fuck ',\n",
    "' NFW ': ' No Fucking Way ',\n",
    "' PITA ': ' Pain In The Ass ',\n",
    "' POS ': ' Piece of Shit ',\n",
    "' SOL ': ' Shit Outta Luck ',\n",
    "' STFU ': ' Shut the Fuck Up ',\n",
    "' TF ': ' The Fuck ',\n",
    "' WTF ': ' What The Fuck ',\n",
    "' BFN ': ' Bye For Now ',\n",
    "' CU ': ' See You ',\n",
    "' IC ': ' I see ',\n",
    "' CYL ': ' See You Later ',\n",
    "' GTG ': ' Got to Go ',\n",
    "' OMW ': ' On My Way ',\n",
    "' RN ': ' Right Now ',\n",
    "' TTYL ': ' Talk To You Later ',\n",
    "' TYT ': ' Take Your time ',\n",
    "' CC ': ' Carbon Copy ',\n",
    "' CX ': ' Correction ',\n",
    "' DM ': ' Direct Message ',\n",
    "' FB ': ' Facebook ',\n",
    "' FBF ': ' Flash-Back Friday ',\n",
    "' FF ': ' Follow Friday ',\n",
    "' HT ': ' Tipping my hat ',\n",
    "' H/T ': ' Tipping my hat ',\n",
    "' IG ': ' Instagram ',\n",
    "' Insta ': ' Instagram ',\n",
    "' MT ':' Modified Tweet ',\n",
    "' OH ': ' Overheard ',\n",
    "' PRT ': ' Partial Retweet ',\n",
    "' RT ': ' Retweet ',\n",
    "'rt ' : ' retweet ',\n",
    "' SO ':' Shout Out ',\n",
    "' S/O ': ' Shout Out ',\n",
    "' TBT ': ' Throw-Back Thursday ',\n",
    "' AWOL ': ' Away While Online ',\n",
    "' BFF ': ' Best Friend Forever ',\n",
    "' NSFW ': ' Not Safe For Work ',\n",
    "' OG ': ' Original Gangster ',\n",
    "' PSA ': ' Public Service Announcement ',\n",
    "' PDA ': ' Public Display of Affection '}\n",
    "\n",
    "short = dict((key.lower(), value.lower()) for key,value in short.items())"
   ]
  },
  {
   "cell_type": "markdown",
   "id": "89d1c725",
   "metadata": {},
   "source": [
    "Now let's replace the shortened words by their full alternatives."
   ]
  },
  {
   "cell_type": "code",
   "execution_count": 25,
   "id": "b1180dac",
   "metadata": {},
   "outputs": [],
   "source": [
    "# Replacing shortened words with full words\n",
    "for word in short.keys():\n",
    "    df['message'] = df['message'].apply(lambda x: re.sub(word,short[word],x))"
   ]
  },
  {
   "cell_type": "markdown",
   "id": "728ff4ba",
   "metadata": {},
   "source": [
    "#### Punctuation"
   ]
  },
  {
   "cell_type": "markdown",
   "id": "4b852f42",
   "metadata": {},
   "source": [
    "Other than with sentiment analysis, where some punctuation is useful, punctuations, symbols and numbers tend to be rendered useless in modeling. As they are not specific to certain classes, they add no explanatory power and can therefore be removed."
   ]
  },
  {
   "cell_type": "code",
   "execution_count": 26,
   "id": "7bfb49cb",
   "metadata": {},
   "outputs": [],
   "source": [
    "# Remove punctuation\n",
    "df['message'] = df['message'].apply(lambda x: re.sub(r\"[^A-Za-z ]*\",'',x))"
   ]
  },
  {
   "cell_type": "markdown",
   "id": "39269a65",
   "metadata": {},
   "source": [
    "#### Vowels repeated at least 3 times"
   ]
  },
  {
   "cell_type": "markdown",
   "id": "7ef4bcc5",
   "metadata": {},
   "source": [
    "It is not uncommon for people to stretch words when typing. For example, instead of using `cool` the word is stretched to `cooooool`. Words are of no use to the model in this form, so we wish to shrink them back to their appropriate size. We'll do this by removing any extra vowels that are repeated at least three times. Note that we are aware that words like `nooooo` should be reduced to only one vowel to result in `no`. The reason we reduce to two vowels is to reduce the probability of creating misspelled words that could mean something else in their transformed form. A good example would be `beeeee`. Where `bee` and `be` would mean two completely different things."
   ]
  },
  {
   "cell_type": "code",
   "execution_count": 27,
   "id": "667f8fdb",
   "metadata": {},
   "outputs": [],
   "source": [
    "# Remove vowels repeated at least 3 times ex. Coooool > Cool\n",
    "df['message'] = df['message'].apply(lambda x: re.sub(r'([aeiou])\\1+', r'\\1\\1', x))"
   ]
  },
  {
   "cell_type": "markdown",
   "id": "401f5575",
   "metadata": {},
   "source": [
    "#### Sequences indicating laughing"
   ]
  },
  {
   "cell_type": "markdown",
   "id": "6f72c85e",
   "metadata": {},
   "source": [
    "It is also very common for people to express laughter in different ways. A few of these ways are a sequence of repeated letters like `haha` or `lolol`. For these sequences to add more value to our model we'll change them to the word `laugh`, which the model can easily understand."
   ]
  },
  {
   "cell_type": "code",
   "execution_count": 28,
   "id": "94a2e25d",
   "metadata": {},
   "outputs": [],
   "source": [
    "# Replace sequence of 'h' and 'a', as well as 'lol' with 'laugh'\n",
    "df['message'] = df['message'].apply(lambda x: re.sub(r' ha([ha]) *', r'laugh', x))\n",
    "df['message'] = df['message'].apply(lambda x: re.sub(r' he([he]) *', r'laugh', x))\n",
    "df['message'] = df['message'].apply(lambda x: re.sub(r' lol([ol]) *', r'laugh', x))\n",
    "df['message'] = df['message'].apply(lambda x: re.sub(r' lo([o])*l ', r'laugh', x))"
   ]
  },
  {
   "cell_type": "code",
   "execution_count": 29,
   "id": "1708dd6d",
   "metadata": {},
   "outputs": [
    {
     "data": {
      "text/html": [
       "<div>\n",
       "<style scoped>\n",
       "    .dataframe tbody tr th:only-of-type {\n",
       "        vertical-align: middle;\n",
       "    }\n",
       "\n",
       "    .dataframe tbody tr th {\n",
       "        vertical-align: top;\n",
       "    }\n",
       "\n",
       "    .dataframe thead th {\n",
       "        text-align: right;\n",
       "    }\n",
       "</style>\n",
       "<table border=\"1\" class=\"dataframe\">\n",
       "  <thead>\n",
       "    <tr style=\"text-align: right;\">\n",
       "      <th></th>\n",
       "      <th>sentiment</th>\n",
       "      <th>message</th>\n",
       "      <th>tweetid</th>\n",
       "    </tr>\n",
       "  </thead>\n",
       "  <tbody>\n",
       "    <tr>\n",
       "      <th>0</th>\n",
       "      <td>1</td>\n",
       "      <td>polyscimajor epa chief does not think carbon d...</td>\n",
       "      <td>625221</td>\n",
       "    </tr>\n",
       "    <tr>\n",
       "      <th>1</th>\n",
       "      <td>1</td>\n",
       "      <td>it is not like we lack evidence of anthropogen...</td>\n",
       "      <td>126103</td>\n",
       "    </tr>\n",
       "    <tr>\n",
       "      <th>2</th>\n",
       "      <td>2</td>\n",
       "      <td>retweet rawstory researchers say we have thre...</td>\n",
       "      <td>698562</td>\n",
       "    </tr>\n",
       "    <tr>\n",
       "      <th>3</th>\n",
       "      <td>1</td>\n",
       "      <td>todayinmaker wired   was a pivotal year in the...</td>\n",
       "      <td>573736</td>\n",
       "    </tr>\n",
       "    <tr>\n",
       "      <th>4</th>\n",
       "      <td>1</td>\n",
       "      <td>retweet soynoviodetodas it is  and a racist s...</td>\n",
       "      <td>466954</td>\n",
       "    </tr>\n",
       "    <tr>\n",
       "      <th>...</th>\n",
       "      <td>...</td>\n",
       "      <td>...</td>\n",
       "      <td>...</td>\n",
       "    </tr>\n",
       "    <tr>\n",
       "      <th>15814</th>\n",
       "      <td>1</td>\n",
       "      <td>retweet ezlusztig they took down the material...</td>\n",
       "      <td>22001</td>\n",
       "    </tr>\n",
       "    <tr>\n",
       "      <th>15815</th>\n",
       "      <td>2</td>\n",
       "      <td>retweet washingtonpost how climate change cou...</td>\n",
       "      <td>17856</td>\n",
       "    </tr>\n",
       "    <tr>\n",
       "      <th>15816</th>\n",
       "      <td>0</td>\n",
       "      <td>notiven rt nytimesworld what does trump actual...</td>\n",
       "      <td>384248</td>\n",
       "    </tr>\n",
       "    <tr>\n",
       "      <th>15817</th>\n",
       "      <td>-1</td>\n",
       "      <td>retweet sarasmiles hey liberals the climate c...</td>\n",
       "      <td>819732</td>\n",
       "    </tr>\n",
       "    <tr>\n",
       "      <th>15818</th>\n",
       "      <td>0</td>\n",
       "      <td>retweet chetcannon kurteichenwalds climate ch...</td>\n",
       "      <td>806319</td>\n",
       "    </tr>\n",
       "  </tbody>\n",
       "</table>\n",
       "<p>15819 rows × 3 columns</p>\n",
       "</div>"
      ],
      "text/plain": [
       "       sentiment                                            message  tweetid\n",
       "0              1  polyscimajor epa chief does not think carbon d...   625221\n",
       "1              1  it is not like we lack evidence of anthropogen...   126103\n",
       "2              2   retweet rawstory researchers say we have thre...   698562\n",
       "3              1  todayinmaker wired   was a pivotal year in the...   573736\n",
       "4              1   retweet soynoviodetodas it is  and a racist s...   466954\n",
       "...          ...                                                ...      ...\n",
       "15814          1   retweet ezlusztig they took down the material...    22001\n",
       "15815          2   retweet washingtonpost how climate change cou...    17856\n",
       "15816          0  notiven rt nytimesworld what does trump actual...   384248\n",
       "15817         -1   retweet sarasmiles hey liberals the climate c...   819732\n",
       "15818          0   retweet chetcannon kurteichenwalds climate ch...   806319\n",
       "\n",
       "[15819 rows x 3 columns]"
      ]
     },
     "execution_count": 29,
     "metadata": {},
     "output_type": "execute_result"
    }
   ],
   "source": [
    "df"
   ]
  },
  {
   "cell_type": "code",
   "execution_count": null,
   "id": "0309e2ee",
   "metadata": {},
   "outputs": [],
   "source": []
  },
  {
   "cell_type": "code",
   "execution_count": 30,
   "id": "9cef3163",
   "metadata": {},
   "outputs": [],
   "source": [
    "def extractor(df):\n",
    "    # Extract hashtags\n",
    "    tweets = df['message']\n",
    "    df['hashtags'] = df.message. str.lower().str.findall(r'#.*?(?=\\s|$)')\n",
    "    htags = df['hashtags']\n",
    "    df['hashtags'] = htags.apply(lambda x: np.nan if len(x) == 0 else x)\n",
    "    \n",
    "    # Extract mentions\n",
    "    df['mentions'] = df.message. str.lower().str.findall(r'@\\w*')\n",
    "    mtags = df['mentions']\n",
    "    df['mentions'] = mtags.apply(lambda x: np.nan if len(x) == 0 else x)\n",
    "    \n",
    "    # Extract url\n",
    "    df['url'] = df.message. str.lower().str.findall(r'http\\S+|www.\\S+')\n",
    "    urltags = df['url']\n",
    "    df['url'] = urltags.apply(lambda x: np.nan if len(x) == 0 else x)\n",
    "    \n",
    "    return df"
   ]
  },
  {
   "cell_type": "code",
   "execution_count": 31,
   "id": "71d2a990",
   "metadata": {},
   "outputs": [
    {
     "data": {
      "text/html": [
       "<div>\n",
       "<style scoped>\n",
       "    .dataframe tbody tr th:only-of-type {\n",
       "        vertical-align: middle;\n",
       "    }\n",
       "\n",
       "    .dataframe tbody tr th {\n",
       "        vertical-align: top;\n",
       "    }\n",
       "\n",
       "    .dataframe thead th {\n",
       "        text-align: right;\n",
       "    }\n",
       "</style>\n",
       "<table border=\"1\" class=\"dataframe\">\n",
       "  <thead>\n",
       "    <tr style=\"text-align: right;\">\n",
       "      <th></th>\n",
       "      <th>sentiment</th>\n",
       "      <th>message</th>\n",
       "      <th>tweetid</th>\n",
       "      <th>hashtags</th>\n",
       "      <th>mentions</th>\n",
       "      <th>url</th>\n",
       "    </tr>\n",
       "  </thead>\n",
       "  <tbody>\n",
       "    <tr>\n",
       "      <th>0</th>\n",
       "      <td>1</td>\n",
       "      <td>polyscimajor epa chief does not think carbon d...</td>\n",
       "      <td>625221</td>\n",
       "      <td>NaN</td>\n",
       "      <td>NaN</td>\n",
       "      <td>[httpstcoyelvcefxkc]</td>\n",
       "    </tr>\n",
       "    <tr>\n",
       "      <th>1</th>\n",
       "      <td>1</td>\n",
       "      <td>it is not like we lack evidence of anthropogen...</td>\n",
       "      <td>126103</td>\n",
       "      <td>NaN</td>\n",
       "      <td>NaN</td>\n",
       "      <td>NaN</td>\n",
       "    </tr>\n",
       "    <tr>\n",
       "      <th>2</th>\n",
       "      <td>2</td>\n",
       "      <td>retweet rawstory researchers say we have thre...</td>\n",
       "      <td>698562</td>\n",
       "      <td>NaN</td>\n",
       "      <td>NaN</td>\n",
       "      <td>[httpstcowdtkdurf, httpstcozanpt]</td>\n",
       "    </tr>\n",
       "    <tr>\n",
       "      <th>3</th>\n",
       "      <td>1</td>\n",
       "      <td>todayinmaker wired   was a pivotal year in the...</td>\n",
       "      <td>573736</td>\n",
       "      <td>NaN</td>\n",
       "      <td>NaN</td>\n",
       "      <td>[httpstcowotxtlcd]</td>\n",
       "    </tr>\n",
       "    <tr>\n",
       "      <th>4</th>\n",
       "      <td>1</td>\n",
       "      <td>retweet soynoviodetodas it is  and a racist s...</td>\n",
       "      <td>466954</td>\n",
       "      <td>NaN</td>\n",
       "      <td>NaN</td>\n",
       "      <td>NaN</td>\n",
       "    </tr>\n",
       "    <tr>\n",
       "      <th>...</th>\n",
       "      <td>...</td>\n",
       "      <td>...</td>\n",
       "      <td>...</td>\n",
       "      <td>...</td>\n",
       "      <td>...</td>\n",
       "      <td>...</td>\n",
       "    </tr>\n",
       "    <tr>\n",
       "      <th>15814</th>\n",
       "      <td>1</td>\n",
       "      <td>retweet ezlusztig they took down the material...</td>\n",
       "      <td>22001</td>\n",
       "      <td>NaN</td>\n",
       "      <td>NaN</td>\n",
       "      <td>[https]</td>\n",
       "    </tr>\n",
       "    <tr>\n",
       "      <th>15815</th>\n",
       "      <td>2</td>\n",
       "      <td>retweet washingtonpost how climate change cou...</td>\n",
       "      <td>17856</td>\n",
       "      <td>NaN</td>\n",
       "      <td>NaN</td>\n",
       "      <td>[httpstcorpfgvbplq]</td>\n",
       "    </tr>\n",
       "    <tr>\n",
       "      <th>15816</th>\n",
       "      <td>0</td>\n",
       "      <td>notiven rt nytimesworld what does trump actual...</td>\n",
       "      <td>384248</td>\n",
       "      <td>NaN</td>\n",
       "      <td>NaN</td>\n",
       "      <td>[httpstcomp]</td>\n",
       "    </tr>\n",
       "    <tr>\n",
       "      <th>15817</th>\n",
       "      <td>-1</td>\n",
       "      <td>retweet sarasmiles hey liberals the climate c...</td>\n",
       "      <td>819732</td>\n",
       "      <td>NaN</td>\n",
       "      <td>NaN</td>\n",
       "      <td>NaN</td>\n",
       "    </tr>\n",
       "    <tr>\n",
       "      <th>15818</th>\n",
       "      <td>0</td>\n",
       "      <td>retweet chetcannon kurteichenwalds climate ch...</td>\n",
       "      <td>806319</td>\n",
       "      <td>NaN</td>\n",
       "      <td>NaN</td>\n",
       "      <td>[httpstcolpuufcxdq]</td>\n",
       "    </tr>\n",
       "  </tbody>\n",
       "</table>\n",
       "<p>15819 rows × 6 columns</p>\n",
       "</div>"
      ],
      "text/plain": [
       "       sentiment                                            message  tweetid  \\\n",
       "0              1  polyscimajor epa chief does not think carbon d...   625221   \n",
       "1              1  it is not like we lack evidence of anthropogen...   126103   \n",
       "2              2   retweet rawstory researchers say we have thre...   698562   \n",
       "3              1  todayinmaker wired   was a pivotal year in the...   573736   \n",
       "4              1   retweet soynoviodetodas it is  and a racist s...   466954   \n",
       "...          ...                                                ...      ...   \n",
       "15814          1   retweet ezlusztig they took down the material...    22001   \n",
       "15815          2   retweet washingtonpost how climate change cou...    17856   \n",
       "15816          0  notiven rt nytimesworld what does trump actual...   384248   \n",
       "15817         -1   retweet sarasmiles hey liberals the climate c...   819732   \n",
       "15818          0   retweet chetcannon kurteichenwalds climate ch...   806319   \n",
       "\n",
       "       hashtags  mentions                                url  \n",
       "0           NaN       NaN               [httpstcoyelvcefxkc]  \n",
       "1           NaN       NaN                                NaN  \n",
       "2           NaN       NaN  [httpstcowdtkdurf, httpstcozanpt]  \n",
       "3           NaN       NaN                 [httpstcowotxtlcd]  \n",
       "4           NaN       NaN                                NaN  \n",
       "...         ...       ...                                ...  \n",
       "15814       NaN       NaN                            [https]  \n",
       "15815       NaN       NaN                [httpstcorpfgvbplq]  \n",
       "15816       NaN       NaN                       [httpstcomp]  \n",
       "15817       NaN       NaN                                NaN  \n",
       "15818       NaN       NaN                [httpstcolpuufcxdq]  \n",
       "\n",
       "[15819 rows x 6 columns]"
      ]
     },
     "execution_count": 31,
     "metadata": {},
     "output_type": "execute_result"
    }
   ],
   "source": [
    "extractor(df)"
   ]
  },
  {
   "cell_type": "code",
   "execution_count": 32,
   "id": "57fcacba",
   "metadata": {},
   "outputs": [],
   "source": [
    "# Clean tweets\n",
    "def clean_tweets(df):\n",
    "    # tokenizing the tweets\n",
    "    clean_tweets = df['message'].apply(TweetTokenizer().tokenize)\n",
    "\n",
    "    # remove punctuation\n",
    "    clean_tweets = clean_tweets.apply(lambda x : [token for token in x if token not in string.punctuation])\n",
    "\n",
    "    # removing digits from the tweets\n",
    "    clean_tweets = clean_tweets.apply(lambda x: [token for token in x if token not in list(string.digits)])\n",
    "\n",
    "    # lastly we remove all one character tokens\n",
    "    clean_tweets = clean_tweets.apply(lambda x: [token for token in x if len(token) > 1])\n",
    "    \n",
    "    df['cleaned_tweets'] = clean_tweets\n",
    "    \n",
    "    return df['cleaned_tweets']"
   ]
  },
  {
   "cell_type": "code",
   "execution_count": 33,
   "id": "b9e879b5",
   "metadata": {},
   "outputs": [
    {
     "data": {
      "text/plain": [
       "0        [polyscimajor, epa, chief, does, not, think, c...\n",
       "1        [it, is, not, like, we, lack, evidence, of, an...\n",
       "2        [retweet, rawstory, researchers, say, we, have...\n",
       "3        [todayinmaker, wired, was, pivotal, year, in, ...\n",
       "4        [retweet, soynoviodetodas, it, is, and, racist...\n",
       "                               ...                        \n",
       "15814    [retweet, ezlusztig, they, took, down, the, ma...\n",
       "15815    [retweet, washingtonpost, how, climate, change...\n",
       "15816    [notiven, rt, nytimesworld, what, does, trump,...\n",
       "15817    [retweet, sarasmiles, hey, liberals, the, clim...\n",
       "15818    [retweet, chetcannon, kurteichenwalds, climate...\n",
       "Name: cleaned_tweets, Length: 15819, dtype: object"
      ]
     },
     "execution_count": 33,
     "metadata": {},
     "output_type": "execute_result"
    }
   ],
   "source": [
    "clean_tweets(df)"
   ]
  },
  {
   "cell_type": "code",
   "execution_count": 34,
   "id": "041e4636",
   "metadata": {},
   "outputs": [
    {
     "name": "stderr",
     "output_type": "stream",
     "text": [
      "[nltk_data] Downloading package stopwords to\n",
      "[nltk_data]     C:\\Users\\F5471621\\AppData\\Roaming\\nltk_data...\n",
      "[nltk_data]   Package stopwords is already up-to-date!\n"
     ]
    },
    {
     "data": {
      "text/html": [
       "<div>\n",
       "<style scoped>\n",
       "    .dataframe tbody tr th:only-of-type {\n",
       "        vertical-align: middle;\n",
       "    }\n",
       "\n",
       "    .dataframe tbody tr th {\n",
       "        vertical-align: top;\n",
       "    }\n",
       "\n",
       "    .dataframe thead th {\n",
       "        text-align: right;\n",
       "    }\n",
       "</style>\n",
       "<table border=\"1\" class=\"dataframe\">\n",
       "  <thead>\n",
       "    <tr style=\"text-align: right;\">\n",
       "      <th></th>\n",
       "      <th>sentiment</th>\n",
       "      <th>message</th>\n",
       "      <th>tweetid</th>\n",
       "      <th>hashtags</th>\n",
       "      <th>mentions</th>\n",
       "      <th>url</th>\n",
       "      <th>cleaned_tweets</th>\n",
       "      <th>no_stopwords</th>\n",
       "    </tr>\n",
       "  </thead>\n",
       "  <tbody>\n",
       "    <tr>\n",
       "      <th>0</th>\n",
       "      <td>1</td>\n",
       "      <td>polyscimajor epa chief does not think carbon d...</td>\n",
       "      <td>625221</td>\n",
       "      <td>NaN</td>\n",
       "      <td>NaN</td>\n",
       "      <td>[httpstcoyelvcefxkc]</td>\n",
       "      <td>[polyscimajor, epa, chief, does, not, think, c...</td>\n",
       "      <td>[polyscimajor, epa, chief, think, carbon, diox...</td>\n",
       "    </tr>\n",
       "    <tr>\n",
       "      <th>1</th>\n",
       "      <td>1</td>\n",
       "      <td>it is not like we lack evidence of anthropogen...</td>\n",
       "      <td>126103</td>\n",
       "      <td>NaN</td>\n",
       "      <td>NaN</td>\n",
       "      <td>NaN</td>\n",
       "      <td>[it, is, not, like, we, lack, evidence, of, an...</td>\n",
       "      <td>[like, lack, evidence, anthropogenic, global, ...</td>\n",
       "    </tr>\n",
       "    <tr>\n",
       "      <th>2</th>\n",
       "      <td>2</td>\n",
       "      <td>retweet rawstory researchers say we have thre...</td>\n",
       "      <td>698562</td>\n",
       "      <td>NaN</td>\n",
       "      <td>NaN</td>\n",
       "      <td>[httpstcowdtkdurf, httpstcozanpt]</td>\n",
       "      <td>[retweet, rawstory, researchers, say, we, have...</td>\n",
       "      <td>[retweet, rawstory, researchers, say, three, y...</td>\n",
       "    </tr>\n",
       "    <tr>\n",
       "      <th>3</th>\n",
       "      <td>1</td>\n",
       "      <td>todayinmaker wired   was a pivotal year in the...</td>\n",
       "      <td>573736</td>\n",
       "      <td>NaN</td>\n",
       "      <td>NaN</td>\n",
       "      <td>[httpstcowotxtlcd]</td>\n",
       "      <td>[todayinmaker, wired, was, pivotal, year, in, ...</td>\n",
       "      <td>[todayinmaker, wired, pivotal, year, war, clim...</td>\n",
       "    </tr>\n",
       "    <tr>\n",
       "      <th>4</th>\n",
       "      <td>1</td>\n",
       "      <td>retweet soynoviodetodas it is  and a racist s...</td>\n",
       "      <td>466954</td>\n",
       "      <td>NaN</td>\n",
       "      <td>NaN</td>\n",
       "      <td>NaN</td>\n",
       "      <td>[retweet, soynoviodetodas, it, is, and, racist...</td>\n",
       "      <td>[retweet, soynoviodetodas, racist, sexist, cli...</td>\n",
       "    </tr>\n",
       "  </tbody>\n",
       "</table>\n",
       "</div>"
      ],
      "text/plain": [
       "   sentiment                                            message  tweetid  \\\n",
       "0          1  polyscimajor epa chief does not think carbon d...   625221   \n",
       "1          1  it is not like we lack evidence of anthropogen...   126103   \n",
       "2          2   retweet rawstory researchers say we have thre...   698562   \n",
       "3          1  todayinmaker wired   was a pivotal year in the...   573736   \n",
       "4          1   retweet soynoviodetodas it is  and a racist s...   466954   \n",
       "\n",
       "   hashtags  mentions                                url  \\\n",
       "0       NaN       NaN               [httpstcoyelvcefxkc]   \n",
       "1       NaN       NaN                                NaN   \n",
       "2       NaN       NaN  [httpstcowdtkdurf, httpstcozanpt]   \n",
       "3       NaN       NaN                 [httpstcowotxtlcd]   \n",
       "4       NaN       NaN                                NaN   \n",
       "\n",
       "                                      cleaned_tweets  \\\n",
       "0  [polyscimajor, epa, chief, does, not, think, c...   \n",
       "1  [it, is, not, like, we, lack, evidence, of, an...   \n",
       "2  [retweet, rawstory, researchers, say, we, have...   \n",
       "3  [todayinmaker, wired, was, pivotal, year, in, ...   \n",
       "4  [retweet, soynoviodetodas, it, is, and, racist...   \n",
       "\n",
       "                                        no_stopwords  \n",
       "0  [polyscimajor, epa, chief, think, carbon, diox...  \n",
       "1  [like, lack, evidence, anthropogenic, global, ...  \n",
       "2  [retweet, rawstory, researchers, say, three, y...  \n",
       "3  [todayinmaker, wired, pivotal, year, war, clim...  \n",
       "4  [retweet, soynoviodetodas, racist, sexist, cli...  "
      ]
     },
     "execution_count": 34,
     "metadata": {},
     "output_type": "execute_result"
    }
   ],
   "source": [
    "#Removing Stopwords\n",
    "from nltk.corpus import stopwords\n",
    "nltk.download('stopwords')\n",
    "\n",
    "stop = stopwords.words('english')\n",
    "\n",
    "# Convert to lower case\n",
    "df['cleaned_tweets'] = df['cleaned_tweets'].apply(lambda x: [word.lower() for word in x])\n",
    "\n",
    "# Remove stopword\n",
    "df['no_stopwords'] = df['cleaned_tweets'].apply(lambda x: [item for item in x if item not in stop])\n",
    "\n",
    "df.head()"
   ]
  },
  {
   "cell_type": "code",
   "execution_count": 35,
   "id": "3e56587b",
   "metadata": {},
   "outputs": [],
   "source": [
    "#Most Frequent Words\n",
    "from collections import Counter\n",
    "cnt = Counter()\n",
    "for message in df['no_stopwords'].values:\n",
    "    for word in message:\n",
    "        cnt[word] += 1\n",
    "        "
   ]
  },
  {
   "cell_type": "code",
   "execution_count": 36,
   "id": "b7a3efbd",
   "metadata": {},
   "outputs": [],
   "source": [
    "#Map the sentiment class by name\n",
    "df['sent_labels']  = df['sentiment'].map({-1: 'Anti',0:'Neutral', 1:'Pro', 2:'News'})"
   ]
  },
  {
   "cell_type": "code",
   "execution_count": 37,
   "id": "3f172711",
   "metadata": {},
   "outputs": [],
   "source": [
    "#The length of each raw tweet\n",
    "df['text_length'] = df['message'].apply(lambda x: len(x))"
   ]
  },
  {
   "cell_type": "markdown",
   "id": "544fa9e4",
   "metadata": {},
   "source": [
    "**Separate Datframes of Tweets for each Sentiment**"
   ]
  },
  {
   "cell_type": "code",
   "execution_count": 38,
   "id": "66187db2",
   "metadata": {},
   "outputs": [
    {
     "data": {
      "text/html": [
       "<div>\n",
       "<style scoped>\n",
       "    .dataframe tbody tr th:only-of-type {\n",
       "        vertical-align: middle;\n",
       "    }\n",
       "\n",
       "    .dataframe tbody tr th {\n",
       "        vertical-align: top;\n",
       "    }\n",
       "\n",
       "    .dataframe thead th {\n",
       "        text-align: right;\n",
       "    }\n",
       "</style>\n",
       "<table border=\"1\" class=\"dataframe\">\n",
       "  <thead>\n",
       "    <tr style=\"text-align: right;\">\n",
       "      <th></th>\n",
       "      <th>sentiment</th>\n",
       "      <th>message</th>\n",
       "      <th>tweetid</th>\n",
       "      <th>hashtags</th>\n",
       "      <th>mentions</th>\n",
       "      <th>url</th>\n",
       "      <th>cleaned_tweets</th>\n",
       "      <th>no_stopwords</th>\n",
       "      <th>sent_labels</th>\n",
       "      <th>text_length</th>\n",
       "    </tr>\n",
       "  </thead>\n",
       "  <tbody>\n",
       "    <tr>\n",
       "      <th>19</th>\n",
       "      <td>0</td>\n",
       "      <td>calum tweets about reunitingish with the cast ...</td>\n",
       "      <td>547924</td>\n",
       "      <td>NaN</td>\n",
       "      <td>NaN</td>\n",
       "      <td>NaN</td>\n",
       "      <td>[calum, tweets, about, reunitingish, with, the...</td>\n",
       "      <td>[calum, tweets, reunitingish, cast, sees, repl...</td>\n",
       "      <td>Neutral</td>\n",
       "      <td>137</td>\n",
       "    </tr>\n",
       "    <tr>\n",
       "      <th>22</th>\n",
       "      <td>0</td>\n",
       "      <td>we also met this guy he let us in on some trut...</td>\n",
       "      <td>67545</td>\n",
       "      <td>NaN</td>\n",
       "      <td>NaN</td>\n",
       "      <td>[httpstcoqyomcmzaj]</td>\n",
       "      <td>[we, also, met, this, guy, he, let, us, in, on...</td>\n",
       "      <td>[also, met, guy, let, us, truth, climate, chan...</td>\n",
       "      <td>Neutral</td>\n",
       "      <td>114</td>\n",
       "    </tr>\n",
       "    <tr>\n",
       "      <th>30</th>\n",
       "      <td>0</td>\n",
       "      <td>jnpftw are these the same scientists that deno...</td>\n",
       "      <td>365051</td>\n",
       "      <td>NaN</td>\n",
       "      <td>NaN</td>\n",
       "      <td>NaN</td>\n",
       "      <td>[jnpftw, are, these, the, same, scientists, th...</td>\n",
       "      <td>[jnpftw, scientists, denounce, climate, change...</td>\n",
       "      <td>Neutral</td>\n",
       "      <td>84</td>\n",
       "    </tr>\n",
       "    <tr>\n",
       "      <th>39</th>\n",
       "      <td>0</td>\n",
       "      <td>we ve dealt with simple issues like climate ch...</td>\n",
       "      <td>403368</td>\n",
       "      <td>NaN</td>\n",
       "      <td>NaN</td>\n",
       "      <td>NaN</td>\n",
       "      <td>[we, ve, dealt, with, simple, issues, like, cl...</td>\n",
       "      <td>[dealt, simple, issues, like, climate, change,...</td>\n",
       "      <td>Neutral</td>\n",
       "      <td>110</td>\n",
       "    </tr>\n",
       "    <tr>\n",
       "      <th>43</th>\n",
       "      <td>0</td>\n",
       "      <td>retweet andrewsharp win probability is bullsh...</td>\n",
       "      <td>326916</td>\n",
       "      <td>NaN</td>\n",
       "      <td>NaN</td>\n",
       "      <td>NaN</td>\n",
       "      <td>[retweet, andrewsharp, win, probability, is, b...</td>\n",
       "      <td>[retweet, andrewsharp, win, probability, bulls...</td>\n",
       "      <td>Neutral</td>\n",
       "      <td>124</td>\n",
       "    </tr>\n",
       "  </tbody>\n",
       "</table>\n",
       "</div>"
      ],
      "text/plain": [
       "    sentiment                                            message  tweetid  \\\n",
       "19          0  calum tweets about reunitingish with the cast ...   547924   \n",
       "22          0  we also met this guy he let us in on some trut...    67545   \n",
       "30          0  jnpftw are these the same scientists that deno...   365051   \n",
       "39          0  we ve dealt with simple issues like climate ch...   403368   \n",
       "43          0   retweet andrewsharp win probability is bullsh...   326916   \n",
       "\n",
       "    hashtags  mentions                  url  \\\n",
       "19       NaN       NaN                  NaN   \n",
       "22       NaN       NaN  [httpstcoqyomcmzaj]   \n",
       "30       NaN       NaN                  NaN   \n",
       "39       NaN       NaN                  NaN   \n",
       "43       NaN       NaN                  NaN   \n",
       "\n",
       "                                       cleaned_tweets  \\\n",
       "19  [calum, tweets, about, reunitingish, with, the...   \n",
       "22  [we, also, met, this, guy, he, let, us, in, on...   \n",
       "30  [jnpftw, are, these, the, same, scientists, th...   \n",
       "39  [we, ve, dealt, with, simple, issues, like, cl...   \n",
       "43  [retweet, andrewsharp, win, probability, is, b...   \n",
       "\n",
       "                                         no_stopwords sent_labels  text_length  \n",
       "19  [calum, tweets, reunitingish, cast, sees, repl...     Neutral          137  \n",
       "22  [also, met, guy, let, us, truth, climate, chan...     Neutral          114  \n",
       "30  [jnpftw, scientists, denounce, climate, change...     Neutral           84  \n",
       "39  [dealt, simple, issues, like, climate, change,...     Neutral          110  \n",
       "43  [retweet, andrewsharp, win, probability, bulls...     Neutral          124  "
      ]
     },
     "execution_count": 38,
     "metadata": {},
     "output_type": "execute_result"
    }
   ],
   "source": [
    "# Dataframe for neutral tweets\n",
    "neutral_df = df[df['sentiment'] == 0]\n",
    "neutral_df.head()"
   ]
  },
  {
   "cell_type": "code",
   "execution_count": 39,
   "id": "47adbef8",
   "metadata": {},
   "outputs": [
    {
     "data": {
      "text/html": [
       "<div>\n",
       "<style scoped>\n",
       "    .dataframe tbody tr th:only-of-type {\n",
       "        vertical-align: middle;\n",
       "    }\n",
       "\n",
       "    .dataframe tbody tr th {\n",
       "        vertical-align: top;\n",
       "    }\n",
       "\n",
       "    .dataframe thead th {\n",
       "        text-align: right;\n",
       "    }\n",
       "</style>\n",
       "<table border=\"1\" class=\"dataframe\">\n",
       "  <thead>\n",
       "    <tr style=\"text-align: right;\">\n",
       "      <th></th>\n",
       "      <th>sentiment</th>\n",
       "      <th>message</th>\n",
       "      <th>tweetid</th>\n",
       "      <th>hashtags</th>\n",
       "      <th>mentions</th>\n",
       "      <th>url</th>\n",
       "      <th>cleaned_tweets</th>\n",
       "      <th>no_stopwords</th>\n",
       "      <th>sent_labels</th>\n",
       "      <th>text_length</th>\n",
       "    </tr>\n",
       "  </thead>\n",
       "  <tbody>\n",
       "    <tr>\n",
       "      <th>0</th>\n",
       "      <td>1</td>\n",
       "      <td>polyscimajor epa chief does not think carbon d...</td>\n",
       "      <td>625221</td>\n",
       "      <td>NaN</td>\n",
       "      <td>NaN</td>\n",
       "      <td>[httpstcoyelvcefxkc]</td>\n",
       "      <td>[polyscimajor, epa, chief, does, not, think, c...</td>\n",
       "      <td>[polyscimajor, epa, chief, think, carbon, diox...</td>\n",
       "      <td>Pro</td>\n",
       "      <td>130</td>\n",
       "    </tr>\n",
       "    <tr>\n",
       "      <th>1</th>\n",
       "      <td>1</td>\n",
       "      <td>it is not like we lack evidence of anthropogen...</td>\n",
       "      <td>126103</td>\n",
       "      <td>NaN</td>\n",
       "      <td>NaN</td>\n",
       "      <td>NaN</td>\n",
       "      <td>[it, is, not, like, we, lack, evidence, of, an...</td>\n",
       "      <td>[like, lack, evidence, anthropogenic, global, ...</td>\n",
       "      <td>Pro</td>\n",
       "      <td>63</td>\n",
       "    </tr>\n",
       "    <tr>\n",
       "      <th>3</th>\n",
       "      <td>1</td>\n",
       "      <td>todayinmaker wired   was a pivotal year in the...</td>\n",
       "      <td>573736</td>\n",
       "      <td>NaN</td>\n",
       "      <td>NaN</td>\n",
       "      <td>[httpstcowotxtlcd]</td>\n",
       "      <td>[todayinmaker, wired, was, pivotal, year, in, ...</td>\n",
       "      <td>[todayinmaker, wired, pivotal, year, war, clim...</td>\n",
       "      <td>Pro</td>\n",
       "      <td>85</td>\n",
       "    </tr>\n",
       "    <tr>\n",
       "      <th>4</th>\n",
       "      <td>1</td>\n",
       "      <td>retweet soynoviodetodas it is  and a racist s...</td>\n",
       "      <td>466954</td>\n",
       "      <td>NaN</td>\n",
       "      <td>NaN</td>\n",
       "      <td>NaN</td>\n",
       "      <td>[retweet, soynoviodetodas, it, is, and, racist...</td>\n",
       "      <td>[retweet, soynoviodetodas, racist, sexist, cli...</td>\n",
       "      <td>Pro</td>\n",
       "      <td>118</td>\n",
       "    </tr>\n",
       "    <tr>\n",
       "      <th>5</th>\n",
       "      <td>1</td>\n",
       "      <td>worth a read whether you do or do not believe ...</td>\n",
       "      <td>425577</td>\n",
       "      <td>NaN</td>\n",
       "      <td>NaN</td>\n",
       "      <td>[httpstcogglzvnyjun, httpstcoafemahj]</td>\n",
       "      <td>[worth, read, whether, you, do, or, do, not, b...</td>\n",
       "      <td>[worth, read, whether, believe, climate, chang...</td>\n",
       "      <td>Pro</td>\n",
       "      <td>98</td>\n",
       "    </tr>\n",
       "  </tbody>\n",
       "</table>\n",
       "</div>"
      ],
      "text/plain": [
       "   sentiment                                            message  tweetid  \\\n",
       "0          1  polyscimajor epa chief does not think carbon d...   625221   \n",
       "1          1  it is not like we lack evidence of anthropogen...   126103   \n",
       "3          1  todayinmaker wired   was a pivotal year in the...   573736   \n",
       "4          1   retweet soynoviodetodas it is  and a racist s...   466954   \n",
       "5          1  worth a read whether you do or do not believe ...   425577   \n",
       "\n",
       "   hashtags  mentions                                    url  \\\n",
       "0       NaN       NaN                   [httpstcoyelvcefxkc]   \n",
       "1       NaN       NaN                                    NaN   \n",
       "3       NaN       NaN                     [httpstcowotxtlcd]   \n",
       "4       NaN       NaN                                    NaN   \n",
       "5       NaN       NaN  [httpstcogglzvnyjun, httpstcoafemahj]   \n",
       "\n",
       "                                      cleaned_tweets  \\\n",
       "0  [polyscimajor, epa, chief, does, not, think, c...   \n",
       "1  [it, is, not, like, we, lack, evidence, of, an...   \n",
       "3  [todayinmaker, wired, was, pivotal, year, in, ...   \n",
       "4  [retweet, soynoviodetodas, it, is, and, racist...   \n",
       "5  [worth, read, whether, you, do, or, do, not, b...   \n",
       "\n",
       "                                        no_stopwords sent_labels  text_length  \n",
       "0  [polyscimajor, epa, chief, think, carbon, diox...         Pro          130  \n",
       "1  [like, lack, evidence, anthropogenic, global, ...         Pro           63  \n",
       "3  [todayinmaker, wired, pivotal, year, war, clim...         Pro           85  \n",
       "4  [retweet, soynoviodetodas, racist, sexist, cli...         Pro          118  \n",
       "5  [worth, read, whether, believe, climate, chang...         Pro           98  "
      ]
     },
     "execution_count": 39,
     "metadata": {},
     "output_type": "execute_result"
    }
   ],
   "source": [
    "# Dataframe for pro tweets\n",
    "pro_df = df[df['sentiment'] == 1]\n",
    "pro_df.head()"
   ]
  },
  {
   "cell_type": "code",
   "execution_count": 40,
   "id": "e998c353",
   "metadata": {},
   "outputs": [
    {
     "data": {
      "text/html": [
       "<div>\n",
       "<style scoped>\n",
       "    .dataframe tbody tr th:only-of-type {\n",
       "        vertical-align: middle;\n",
       "    }\n",
       "\n",
       "    .dataframe tbody tr th {\n",
       "        vertical-align: top;\n",
       "    }\n",
       "\n",
       "    .dataframe thead th {\n",
       "        text-align: right;\n",
       "    }\n",
       "</style>\n",
       "<table border=\"1\" class=\"dataframe\">\n",
       "  <thead>\n",
       "    <tr style=\"text-align: right;\">\n",
       "      <th></th>\n",
       "      <th>sentiment</th>\n",
       "      <th>message</th>\n",
       "      <th>tweetid</th>\n",
       "      <th>hashtags</th>\n",
       "      <th>mentions</th>\n",
       "      <th>url</th>\n",
       "      <th>cleaned_tweets</th>\n",
       "      <th>no_stopwords</th>\n",
       "      <th>sent_labels</th>\n",
       "      <th>text_length</th>\n",
       "    </tr>\n",
       "  </thead>\n",
       "  <tbody>\n",
       "    <tr>\n",
       "      <th>28</th>\n",
       "      <td>-1</td>\n",
       "      <td>sally kohns latest evidence of climate change ...</td>\n",
       "      <td>355491</td>\n",
       "      <td>NaN</td>\n",
       "      <td>NaN</td>\n",
       "      <td>[httpstcomhkzoglvt]</td>\n",
       "      <td>[sally, kohns, latest, evidence, of, climate, ...</td>\n",
       "      <td>[sally, kohns, latest, evidence, climate, chan...</td>\n",
       "      <td>Anti</td>\n",
       "      <td>135</td>\n",
       "    </tr>\n",
       "    <tr>\n",
       "      <th>46</th>\n",
       "      <td>-1</td>\n",
       "      <td>realdonaldtrump carbon tax is a globalist idea...</td>\n",
       "      <td>61141</td>\n",
       "      <td>NaN</td>\n",
       "      <td>NaN</td>\n",
       "      <td>NaN</td>\n",
       "      <td>[realdonaldtrump, carbon, tax, is, globalist, ...</td>\n",
       "      <td>[realdonaldtrump, carbon, tax, globalist, idea...</td>\n",
       "      <td>Anti</td>\n",
       "      <td>133</td>\n",
       "    </tr>\n",
       "    <tr>\n",
       "      <th>48</th>\n",
       "      <td>-1</td>\n",
       "      <td>retweet stevesgoddard we had winds close to  ...</td>\n",
       "      <td>719523</td>\n",
       "      <td>NaN</td>\n",
       "      <td>NaN</td>\n",
       "      <td>NaN</td>\n",
       "      <td>[retweet, stevesgoddard, we, had, winds, close...</td>\n",
       "      <td>[retweet, stevesgoddard, winds, close, mph, ar...</td>\n",
       "      <td>Anti</td>\n",
       "      <td>133</td>\n",
       "    </tr>\n",
       "    <tr>\n",
       "      <th>56</th>\n",
       "      <td>-1</td>\n",
       "      <td>misslizzynj laughing my ass off facewithtearso...</td>\n",
       "      <td>911385</td>\n",
       "      <td>NaN</td>\n",
       "      <td>NaN</td>\n",
       "      <td>NaN</td>\n",
       "      <td>[misslizzynj, laughing, my, ass, off, facewith...</td>\n",
       "      <td>[misslizzynj, laughing, ass, facewithtearsofjo...</td>\n",
       "      <td>Anti</td>\n",
       "      <td>150</td>\n",
       "    </tr>\n",
       "    <tr>\n",
       "      <th>57</th>\n",
       "      <td>-1</td>\n",
       "      <td>retweet dawndawn this is one of arnold schwar...</td>\n",
       "      <td>768263</td>\n",
       "      <td>NaN</td>\n",
       "      <td>NaN</td>\n",
       "      <td>NaN</td>\n",
       "      <td>[retweet, dawndawn, this, is, one, of, arnold,...</td>\n",
       "      <td>[retweet, dawndawn, one, arnold, schwarzenegge...</td>\n",
       "      <td>Anti</td>\n",
       "      <td>132</td>\n",
       "    </tr>\n",
       "  </tbody>\n",
       "</table>\n",
       "</div>"
      ],
      "text/plain": [
       "    sentiment                                            message  tweetid  \\\n",
       "28         -1  sally kohns latest evidence of climate change ...   355491   \n",
       "46         -1  realdonaldtrump carbon tax is a globalist idea...    61141   \n",
       "48         -1   retweet stevesgoddard we had winds close to  ...   719523   \n",
       "56         -1  misslizzynj laughing my ass off facewithtearso...   911385   \n",
       "57         -1   retweet dawndawn this is one of arnold schwar...   768263   \n",
       "\n",
       "    hashtags  mentions                  url  \\\n",
       "28       NaN       NaN  [httpstcomhkzoglvt]   \n",
       "46       NaN       NaN                  NaN   \n",
       "48       NaN       NaN                  NaN   \n",
       "56       NaN       NaN                  NaN   \n",
       "57       NaN       NaN                  NaN   \n",
       "\n",
       "                                       cleaned_tweets  \\\n",
       "28  [sally, kohns, latest, evidence, of, climate, ...   \n",
       "46  [realdonaldtrump, carbon, tax, is, globalist, ...   \n",
       "48  [retweet, stevesgoddard, we, had, winds, close...   \n",
       "56  [misslizzynj, laughing, my, ass, off, facewith...   \n",
       "57  [retweet, dawndawn, this, is, one, of, arnold,...   \n",
       "\n",
       "                                         no_stopwords sent_labels  text_length  \n",
       "28  [sally, kohns, latest, evidence, climate, chan...        Anti          135  \n",
       "46  [realdonaldtrump, carbon, tax, globalist, idea...        Anti          133  \n",
       "48  [retweet, stevesgoddard, winds, close, mph, ar...        Anti          133  \n",
       "56  [misslizzynj, laughing, ass, facewithtearsofjo...        Anti          150  \n",
       "57  [retweet, dawndawn, one, arnold, schwarzenegge...        Anti          132  "
      ]
     },
     "execution_count": 40,
     "metadata": {},
     "output_type": "execute_result"
    }
   ],
   "source": [
    "# Dataframe for anti tweets\n",
    "anti_df = df[df['sentiment'] == -1]\n",
    "anti_df.head()"
   ]
  },
  {
   "cell_type": "code",
   "execution_count": 41,
   "id": "1007f970",
   "metadata": {},
   "outputs": [
    {
     "data": {
      "text/html": [
       "<div>\n",
       "<style scoped>\n",
       "    .dataframe tbody tr th:only-of-type {\n",
       "        vertical-align: middle;\n",
       "    }\n",
       "\n",
       "    .dataframe tbody tr th {\n",
       "        vertical-align: top;\n",
       "    }\n",
       "\n",
       "    .dataframe thead th {\n",
       "        text-align: right;\n",
       "    }\n",
       "</style>\n",
       "<table border=\"1\" class=\"dataframe\">\n",
       "  <thead>\n",
       "    <tr style=\"text-align: right;\">\n",
       "      <th></th>\n",
       "      <th>sentiment</th>\n",
       "      <th>message</th>\n",
       "      <th>tweetid</th>\n",
       "      <th>hashtags</th>\n",
       "      <th>mentions</th>\n",
       "      <th>url</th>\n",
       "      <th>cleaned_tweets</th>\n",
       "      <th>no_stopwords</th>\n",
       "      <th>sent_labels</th>\n",
       "      <th>text_length</th>\n",
       "    </tr>\n",
       "  </thead>\n",
       "  <tbody>\n",
       "    <tr>\n",
       "      <th>2</th>\n",
       "      <td>2</td>\n",
       "      <td>retweet rawstory researchers say we have thre...</td>\n",
       "      <td>698562</td>\n",
       "      <td>NaN</td>\n",
       "      <td>NaN</td>\n",
       "      <td>[httpstcowdtkdurf, httpstcozanpt]</td>\n",
       "      <td>[retweet, rawstory, researchers, say, we, have...</td>\n",
       "      <td>[retweet, rawstory, researchers, say, three, y...</td>\n",
       "      <td>News</td>\n",
       "      <td>129</td>\n",
       "    </tr>\n",
       "    <tr>\n",
       "      <th>12</th>\n",
       "      <td>2</td>\n",
       "      <td>retweet tveitdal we only have a  percent chan...</td>\n",
       "      <td>454673</td>\n",
       "      <td>NaN</td>\n",
       "      <td>NaN</td>\n",
       "      <td>[httpstcoxubtqnxhkk, httpstcoof]</td>\n",
       "      <td>[retweet, tveitdal, we, only, have, percent, c...</td>\n",
       "      <td>[retweet, tveitdal, percent, chance, avoiding,...</td>\n",
       "      <td>News</td>\n",
       "      <td>129</td>\n",
       "    </tr>\n",
       "    <tr>\n",
       "      <th>14</th>\n",
       "      <td>2</td>\n",
       "      <td>fossil fuel giant exxonmobil misled the public...</td>\n",
       "      <td>658092</td>\n",
       "      <td>NaN</td>\n",
       "      <td>NaN</td>\n",
       "      <td>[httpstcoofcwsuex]</td>\n",
       "      <td>[fossil, fuel, giant, exxonmobil, misled, the,...</td>\n",
       "      <td>[fossil, fuel, giant, exxonmobil, misled, publ...</td>\n",
       "      <td>News</td>\n",
       "      <td>111</td>\n",
       "    </tr>\n",
       "    <tr>\n",
       "      <th>26</th>\n",
       "      <td>2</td>\n",
       "      <td>bangladesh confronting climate change head on ...</td>\n",
       "      <td>365291</td>\n",
       "      <td>NaN</td>\n",
       "      <td>NaN</td>\n",
       "      <td>[httpstcomtqenbqdut, httpstcoitgkuxgefg]</td>\n",
       "      <td>[bangladesh, confronting, climate, change, hea...</td>\n",
       "      <td>[bangladesh, confronting, climate, change, hea...</td>\n",
       "      <td>News</td>\n",
       "      <td>83</td>\n",
       "    </tr>\n",
       "    <tr>\n",
       "      <th>32</th>\n",
       "      <td>2</td>\n",
       "      <td>retweet latimes atmospheric rivers fueled by ...</td>\n",
       "      <td>143471</td>\n",
       "      <td>NaN</td>\n",
       "      <td>NaN</td>\n",
       "      <td>[httpstcoplzbhluk, httpst]</td>\n",
       "      <td>[retweet, latimes, atmospheric, rivers, fueled...</td>\n",
       "      <td>[retweet, latimes, atmospheric, rivers, fueled...</td>\n",
       "      <td>News</td>\n",
       "      <td>133</td>\n",
       "    </tr>\n",
       "  </tbody>\n",
       "</table>\n",
       "</div>"
      ],
      "text/plain": [
       "    sentiment                                            message  tweetid  \\\n",
       "2           2   retweet rawstory researchers say we have thre...   698562   \n",
       "12          2   retweet tveitdal we only have a  percent chan...   454673   \n",
       "14          2  fossil fuel giant exxonmobil misled the public...   658092   \n",
       "26          2  bangladesh confronting climate change head on ...   365291   \n",
       "32          2   retweet latimes atmospheric rivers fueled by ...   143471   \n",
       "\n",
       "    hashtags  mentions                                       url  \\\n",
       "2        NaN       NaN         [httpstcowdtkdurf, httpstcozanpt]   \n",
       "12       NaN       NaN          [httpstcoxubtqnxhkk, httpstcoof]   \n",
       "14       NaN       NaN                        [httpstcoofcwsuex]   \n",
       "26       NaN       NaN  [httpstcomtqenbqdut, httpstcoitgkuxgefg]   \n",
       "32       NaN       NaN                [httpstcoplzbhluk, httpst]   \n",
       "\n",
       "                                       cleaned_tweets  \\\n",
       "2   [retweet, rawstory, researchers, say, we, have...   \n",
       "12  [retweet, tveitdal, we, only, have, percent, c...   \n",
       "14  [fossil, fuel, giant, exxonmobil, misled, the,...   \n",
       "26  [bangladesh, confronting, climate, change, hea...   \n",
       "32  [retweet, latimes, atmospheric, rivers, fueled...   \n",
       "\n",
       "                                         no_stopwords sent_labels  text_length  \n",
       "2   [retweet, rawstory, researchers, say, three, y...        News          129  \n",
       "12  [retweet, tveitdal, percent, chance, avoiding,...        News          129  \n",
       "14  [fossil, fuel, giant, exxonmobil, misled, publ...        News          111  \n",
       "26  [bangladesh, confronting, climate, change, hea...        News           83  \n",
       "32  [retweet, latimes, atmospheric, rivers, fueled...        News          133  "
      ]
     },
     "execution_count": 41,
     "metadata": {},
     "output_type": "execute_result"
    }
   ],
   "source": [
    "# Dataframe for news tweets\n",
    "news_df = df[df['sentiment'] == 2]\n",
    "news_df.head()"
   ]
  },
  {
   "cell_type": "markdown",
   "id": "fbe6f37a",
   "metadata": {},
   "source": [
    "## 5. Exploratory data analysis\n",
    "<a id='eda'></a>\n",
    "[Back to table of contents](#toc)"
   ]
  },
  {
   "cell_type": "markdown",
   "id": "332fa57b",
   "metadata": {},
   "source": [
    "Structure of Data\n",
    "\n",
    "In evaluating the structure of the data, we utilized the .shape method to see the number of rows and columns of the dataframe. The dataframe provided has 15819 rows and 10 rows"
   ]
  },
  {
   "cell_type": "code",
   "execution_count": 42,
   "id": "a3131751",
   "metadata": {},
   "outputs": [
    {
     "data": {
      "text/plain": [
       "(15819, 10)"
      ]
     },
     "execution_count": 42,
     "metadata": {},
     "output_type": "execute_result"
    }
   ],
   "source": [
    "# look at data statistics\n",
    "df.shape"
   ]
  },
  {
   "cell_type": "markdown",
   "id": "da03c5b0",
   "metadata": {},
   "source": [
    "The function dataframe. isnull(). sum(). sum() returns the number of missing values in the data set."
   ]
  },
  {
   "cell_type": "code",
   "execution_count": 43,
   "id": "88f7b93a",
   "metadata": {},
   "outputs": [
    {
     "data": {
      "text/plain": [
       "message    0\n",
       "tweetid    0\n",
       "dtype: int64"
      ]
     },
     "execution_count": 43,
     "metadata": {},
     "output_type": "execute_result"
    }
   ],
   "source": [
    "test.isnull().sum()"
   ]
  },
  {
   "cell_type": "markdown",
   "id": "a2b3b806",
   "metadata": {},
   "source": [
    "After checking the number of nulls, we then conclude that we have no null values\n"
   ]
  },
  {
   "cell_type": "code",
   "execution_count": 44,
   "id": "d0affb83",
   "metadata": {},
   "outputs": [
    {
     "data": {
      "text/plain": [
       "sentiment    0\n",
       "message      0\n",
       "tweetid      0\n",
       "dtype: int64"
      ]
     },
     "execution_count": 44,
     "metadata": {},
     "output_type": "execute_result"
    }
   ],
   "source": [
    "train.isnull().sum()"
   ]
  },
  {
   "cell_type": "markdown",
   "id": "e5aaff77",
   "metadata": {},
   "source": [
    "Test Description!"
   ]
  },
  {
   "cell_type": "markdown",
   "id": "f18edee4",
   "metadata": {},
   "source": [
    "The describe() method returns description of the data in the DataFrame. If the DataFrame contains numerical data, the description contains these information for each column: count - The number of not-empty values. mean - The average (mean) value. std - The standard deviation."
   ]
  },
  {
   "cell_type": "code",
   "execution_count": 45,
   "id": "182dde12",
   "metadata": {},
   "outputs": [
    {
     "data": {
      "text/html": [
       "<div>\n",
       "<style scoped>\n",
       "    .dataframe tbody tr th:only-of-type {\n",
       "        vertical-align: middle;\n",
       "    }\n",
       "\n",
       "    .dataframe tbody tr th {\n",
       "        vertical-align: top;\n",
       "    }\n",
       "\n",
       "    .dataframe thead th {\n",
       "        text-align: right;\n",
       "    }\n",
       "</style>\n",
       "<table border=\"1\" class=\"dataframe\">\n",
       "  <thead>\n",
       "    <tr style=\"text-align: right;\">\n",
       "      <th></th>\n",
       "      <th>tweetid</th>\n",
       "    </tr>\n",
       "  </thead>\n",
       "  <tbody>\n",
       "    <tr>\n",
       "      <th>count</th>\n",
       "      <td>10546.000000</td>\n",
       "    </tr>\n",
       "    <tr>\n",
       "      <th>mean</th>\n",
       "      <td>496899.936943</td>\n",
       "    </tr>\n",
       "    <tr>\n",
       "      <th>std</th>\n",
       "      <td>288115.677148</td>\n",
       "    </tr>\n",
       "    <tr>\n",
       "      <th>min</th>\n",
       "      <td>231.000000</td>\n",
       "    </tr>\n",
       "    <tr>\n",
       "      <th>25%</th>\n",
       "      <td>246162.500000</td>\n",
       "    </tr>\n",
       "    <tr>\n",
       "      <th>50%</th>\n",
       "      <td>495923.000000</td>\n",
       "    </tr>\n",
       "    <tr>\n",
       "      <th>75%</th>\n",
       "      <td>742250.000000</td>\n",
       "    </tr>\n",
       "    <tr>\n",
       "      <th>max</th>\n",
       "      <td>999983.000000</td>\n",
       "    </tr>\n",
       "  </tbody>\n",
       "</table>\n",
       "</div>"
      ],
      "text/plain": [
       "             tweetid\n",
       "count   10546.000000\n",
       "mean   496899.936943\n",
       "std    288115.677148\n",
       "min       231.000000\n",
       "25%    246162.500000\n",
       "50%    495923.000000\n",
       "75%    742250.000000\n",
       "max    999983.000000"
      ]
     },
     "execution_count": 45,
     "metadata": {},
     "output_type": "execute_result"
    }
   ],
   "source": [
    "test.describe()"
   ]
  },
  {
   "cell_type": "markdown",
   "id": "2d631dbe",
   "metadata": {},
   "source": [
    "Train Description!"
   ]
  },
  {
   "cell_type": "code",
   "execution_count": 46,
   "id": "ee81af59",
   "metadata": {},
   "outputs": [
    {
     "data": {
      "text/html": [
       "<div>\n",
       "<style scoped>\n",
       "    .dataframe tbody tr th:only-of-type {\n",
       "        vertical-align: middle;\n",
       "    }\n",
       "\n",
       "    .dataframe tbody tr th {\n",
       "        vertical-align: top;\n",
       "    }\n",
       "\n",
       "    .dataframe thead th {\n",
       "        text-align: right;\n",
       "    }\n",
       "</style>\n",
       "<table border=\"1\" class=\"dataframe\">\n",
       "  <thead>\n",
       "    <tr style=\"text-align: right;\">\n",
       "      <th></th>\n",
       "      <th>sentiment</th>\n",
       "      <th>tweetid</th>\n",
       "    </tr>\n",
       "  </thead>\n",
       "  <tbody>\n",
       "    <tr>\n",
       "      <th>count</th>\n",
       "      <td>15819.000000</td>\n",
       "      <td>15819.000000</td>\n",
       "    </tr>\n",
       "    <tr>\n",
       "      <th>mean</th>\n",
       "      <td>0.917504</td>\n",
       "      <td>501719.433656</td>\n",
       "    </tr>\n",
       "    <tr>\n",
       "      <th>std</th>\n",
       "      <td>0.836537</td>\n",
       "      <td>289045.983132</td>\n",
       "    </tr>\n",
       "    <tr>\n",
       "      <th>min</th>\n",
       "      <td>-1.000000</td>\n",
       "      <td>6.000000</td>\n",
       "    </tr>\n",
       "    <tr>\n",
       "      <th>25%</th>\n",
       "      <td>1.000000</td>\n",
       "      <td>253207.500000</td>\n",
       "    </tr>\n",
       "    <tr>\n",
       "      <th>50%</th>\n",
       "      <td>1.000000</td>\n",
       "      <td>502291.000000</td>\n",
       "    </tr>\n",
       "    <tr>\n",
       "      <th>75%</th>\n",
       "      <td>1.000000</td>\n",
       "      <td>753769.000000</td>\n",
       "    </tr>\n",
       "    <tr>\n",
       "      <th>max</th>\n",
       "      <td>2.000000</td>\n",
       "      <td>999888.000000</td>\n",
       "    </tr>\n",
       "  </tbody>\n",
       "</table>\n",
       "</div>"
      ],
      "text/plain": [
       "          sentiment        tweetid\n",
       "count  15819.000000   15819.000000\n",
       "mean       0.917504  501719.433656\n",
       "std        0.836537  289045.983132\n",
       "min       -1.000000       6.000000\n",
       "25%        1.000000  253207.500000\n",
       "50%        1.000000  502291.000000\n",
       "75%        1.000000  753769.000000\n",
       "max        2.000000  999888.000000"
      ]
     },
     "execution_count": 46,
     "metadata": {},
     "output_type": "execute_result"
    }
   ],
   "source": [
    "train.describe()"
   ]
  },
  {
   "cell_type": "markdown",
   "id": "0507a532",
   "metadata": {},
   "source": [
    "lets check how a sample tweet look like"
   ]
  },
  {
   "cell_type": "markdown",
   "id": "da1a9e3f",
   "metadata": {},
   "source": [
    "Counts of words in each category"
   ]
  },
  {
   "cell_type": "markdown",
   "id": "d9fab587",
   "metadata": {},
   "source": [
    "property DataFrame. iloc. Purely integer-location based indexing for selection by position. . iloc[] is primarily integer position based (from 0 to length-1 of the axis), but may also be used with a boolean array."
   ]
  },
  {
   "cell_type": "code",
   "execution_count": 47,
   "id": "7cd5afc5",
   "metadata": {},
   "outputs": [
    {
     "name": "stdout",
     "output_type": "stream",
     "text": [
      " retweet soynoviodetodas it is  and a racist sexist climate change denying bigot is leading in the polls electionnight\n"
     ]
    }
   ],
   "source": [
    "# Print a Sample tweet\n",
    "tweet = df.iloc[4,1]\n",
    "print(tweet)"
   ]
  },
  {
   "cell_type": "markdown",
   "id": "28f90f3f",
   "metadata": {},
   "source": [
    "The len() function returns the number of items in an object. When the object is a string, the len() function returns the number of characters in the string.\n",
    "\n",
    "The sum() function returns a number, the sum of all items in an iterable."
   ]
  },
  {
   "cell_type": "code",
   "execution_count": 48,
   "id": "2f1ae0cf",
   "metadata": {},
   "outputs": [
    {
     "name": "stdout",
     "output_type": "stream",
     "text": [
      "15819\n",
      "0\n"
     ]
    }
   ],
   "source": [
    "# Checking whether a character is white-space character or not\n",
    "print(len(df['message']))\n",
    "print(sum(df['message'].apply(lambda x: x.isspace())))"
   ]
  },
  {
   "cell_type": "code",
   "execution_count": 49,
   "id": "a500e7d5",
   "metadata": {},
   "outputs": [
    {
     "name": "stdout",
     "output_type": "stream",
     "text": [
      "Requirement already satisfied: langdetect in c:\\users\\f5471621\\anaconda3\\lib\\site-packages (1.0.9)\n",
      "Requirement already satisfied: six in c:\\users\\f5471621\\anaconda3\\lib\\site-packages (from langdetect) (1.16.0)\n"
     ]
    }
   ],
   "source": [
    "!pip install langdetect"
   ]
  },
  {
   "cell_type": "code",
   "execution_count": 50,
   "id": "130eb608",
   "metadata": {},
   "outputs": [
    {
     "data": {
      "image/png": "[encoded data removed]",
      "text/plain": [
       "<Figure size 432x288 with 1 Axes>"
      ]
     },
     "metadata": {
      "needs_background": "light"
     },
     "output_type": "display_data"
    }
   ],
   "source": [
    "df.sentiment.value_counts().plot(kind='bar')\n",
    "plt.title('Number of observations in a train dataset')\n",
    "plt.show()"
   ]
  },
  {
   "cell_type": "markdown",
   "id": "ee654418",
   "metadata": {},
   "source": [
    "The graph above shows an imbalance of texts"
   ]
  },
  {
   "cell_type": "markdown",
   "id": "4d685d19",
   "metadata": {},
   "source": [
    "Bar graphs are the pictorial representation of data (generally grouped), in the form of vertical or horizontal rectangular bars, where the length of bars are proportional to the measure of data."
   ]
  },
  {
   "cell_type": "code",
   "execution_count": 51,
   "id": "08845a97",
   "metadata": {},
   "outputs": [
    {
     "data": {
      "image/png": "[encoded data removed]",
      "text/plain": [
       "<Figure size 432x288 with 1 Axes>"
      ]
     },
     "metadata": {
      "needs_background": "light"
     },
     "output_type": "display_data"
    }
   ],
   "source": [
    "sns.countplot(x='sentiment',data=df,palette='rocket')\n",
    "plt.show()"
   ]
  },
  {
   "cell_type": "markdown",
   "id": "217301f0",
   "metadata": {},
   "source": [
    "A count plot can be thought of as a histogram across a categorical, instead of quantitative, variable"
   ]
  },
  {
   "cell_type": "markdown",
   "id": "2ec1e5fd",
   "metadata": {},
   "source": [
    "Check the distribution of data"
   ]
  },
  {
   "cell_type": "code",
   "execution_count": 52,
   "id": "b24510f9",
   "metadata": {},
   "outputs": [
    {
     "data": {
      "image/png": "[encoded data removed]",
      "text/plain": [
       "<Figure size 432x288 with 1 Axes>"
      ]
     },
     "metadata": {},
     "output_type": "display_data"
    }
   ],
   "source": [
    "#Making copy of train dataset\n",
    "train_df = df.copy()\n",
    "# Labeling the target\n",
    "train_df['sentiment'] = [['Negative', 'Neutral', 'Positive', 'News'][x+1] for x in train_df['sentiment']]\n",
    "\n",
    "# checking the numerical distribution\n",
    "values = train_df['sentiment'].value_counts()/train_df.shape[0]\n",
    "labels = (train_df['sentiment'].value_counts()/train_df.shape[0]).index\n",
    "colors = ['yellow', 'green', 'blue', 'grey']\n",
    "plt.pie(x=values, labels=labels, autopct='%1.1f%%', startangle=90, explode= (0.04, 0, 0, 0), colors=colors)\n",
    "plt.title('Percentage distribution of labels')\n",
    "plt.show()"
   ]
  },
  {
   "cell_type": "markdown",
   "id": "5a6d8ac8",
   "metadata": {},
   "source": [
    "A pie chart is a circle that is divided into areas, or slices. Each slice represents the count or percentage of the observations of a level for the variable. Pie charts are often used in business."
   ]
  },
  {
   "cell_type": "markdown",
   "id": "93554534",
   "metadata": {},
   "source": [
    "Plot list of common words"
   ]
  },
  {
   "cell_type": "code",
   "execution_count": 53,
   "id": "073537b5",
   "metadata": {},
   "outputs": [
    {
     "data": {
      "image/png": "[encoded data removed]",
      "text/plain": [
       "<Figure size 1080x504 with 1 Axes>"
      ]
     },
     "metadata": {
      "needs_background": "light"
     },
     "output_type": "display_data"
    }
   ],
   "source": [
    "#convert the test to numerical values \n",
    "from sklearn.feature_extraction.text import CountVectorizer\n",
    "cv = CountVectorizer(stop_words = 'english')\n",
    "words = cv.fit_transform(train_df.message)\n",
    "\n",
    "sum_words = words.sum(axis=0)\n",
    "#create a frequency of most occuring words\n",
    "words_freq = [(word, sum_words[0, i]) for word, i in cv.vocabulary_.items()]\n",
    "words_freq = sorted(words_freq, key = lambda x: x[1], reverse = True)\n",
    "#create a dataframe of the words and frequency \n",
    "frequency = pd.DataFrame(words_freq, columns=['word', 'freq'])\n",
    "\n",
    "frequency.head(30).plot(x='word', y='freq', kind='bar', figsize=(15, 7), color = '#440154')\n",
    "plt.title(\"Train data : Most Common Occuring Words - Top 30\",size=15)\n",
    "plt.show()"
   ]
  },
  {
   "cell_type": "markdown",
   "id": "e7f487f5",
   "metadata": {},
   "source": [
    "We can see we used \"climate\" and \"change\" more than twice other words, followed by \"global\" and \"warning\", then \"trump\" while others are almost the same."
   ]
  },
  {
   "cell_type": "markdown",
   "id": "1bd2376b",
   "metadata": {},
   "source": [
    "Countvectorizer makes it easy for text data to be used directly in machine learning and deep learning models such as text classification."
   ]
  },
  {
   "cell_type": "markdown",
   "id": "3e049f66",
   "metadata": {},
   "source": [
    "Below we are displaying density's plot we will be using the Matplotlib library and create a list of all numerical features to visualise these features at the same time."
   ]
  },
  {
   "cell_type": "code",
   "execution_count": 54,
   "id": "93581331",
   "metadata": {},
   "outputs": [
    {
     "data": {
      "image/png": "[encoded data removed]",
      "text/plain": [
       "<Figure size 720x720 with 6 Axes>"
      ]
     },
     "metadata": {
      "needs_background": "light"
     },
     "output_type": "display_data"
    }
   ],
   "source": [
    "train[\"sentiment\"].plot(kind='density', subplots=True, layout=(3, 2), sharex=False, figsize=(10, 10));"
   ]
  },
  {
   "cell_type": "markdown",
   "id": "bf80476e",
   "metadata": {},
   "source": [
    "### HASHTAGS"
   ]
  },
  {
   "cell_type": "code",
   "execution_count": 55,
   "id": "eb38c94c",
   "metadata": {},
   "outputs": [
    {
     "data": {
      "image/png": "[encoded data removed]",
      "text/plain": [
       "<Figure size 720x720 with 6 Axes>"
      ]
     },
     "metadata": {
      "needs_background": "light"
     },
     "output_type": "display_data"
    }
   ],
   "source": [
    "df['tweetid'].plot(kind='density', subplots=True, layout=(3, 2), sharex=False, figsize=(10, 10));"
   ]
  },
  {
   "cell_type": "code",
   "execution_count": 56,
   "id": "636e8f47",
   "metadata": {},
   "outputs": [
    {
     "data": {
      "image/png": "[encoded data removed]",
      "text/plain": [
       "<Figure size 720x720 with 6 Axes>"
      ]
     },
     "metadata": {
      "needs_background": "light"
     },
     "output_type": "display_data"
    }
   ],
   "source": [
    "df[\"text_length\"].plot(kind='density', subplots=True, layout=(3, 2), sharex=False, figsize=(10, 10));"
   ]
  },
  {
   "cell_type": "code",
   "execution_count": null,
   "id": "d71b5823",
   "metadata": {},
   "outputs": [],
   "source": []
  },
  {
   "cell_type": "code",
   "execution_count": 57,
   "id": "224007e8",
   "metadata": {},
   "outputs": [
    {
     "data": {
      "image/png": "[encoded data removed]",
      "text/plain": [
       "<Figure size 432x288 with 1 Axes>"
      ]
     },
     "metadata": {
      "needs_background": "light"
     },
     "output_type": "display_data"
    }
   ],
   "source": [
    "sns.boxplot(x='sentiment', data=df);"
   ]
  },
  {
   "cell_type": "code",
   "execution_count": 58,
   "id": "27a6e555",
   "metadata": {},
   "outputs": [
    {
     "data": {
      "image/png": "[encoded data removed]",
      "text/plain": [
       "<Figure size 432x288 with 1 Axes>"
      ]
     },
     "metadata": {
      "needs_background": "light"
     },
     "output_type": "display_data"
    }
   ],
   "source": [
    "sns.boxplot(x='tweetid', data=df);"
   ]
  },
  {
   "cell_type": "code",
   "execution_count": 59,
   "id": "b28b1245",
   "metadata": {},
   "outputs": [
    {
     "data": {
      "image/png": "[encoded data removed]",
      "text/plain": [
       "<Figure size 432x288 with 1 Axes>"
      ]
     },
     "metadata": {
      "needs_background": "light"
     },
     "output_type": "display_data"
    }
   ],
   "source": [
    "sns.boxplot(x='text_length', data=df);"
   ]
  },
  {
   "cell_type": "code",
   "execution_count": 60,
   "id": "fa6f28c7",
   "metadata": {},
   "outputs": [
    {
     "data": {
      "image/png": "[encoded data removed]",
      "text/plain": [
       "<Figure size 432x288 with 1 Axes>"
      ]
     },
     "metadata": {
      "needs_background": "light"
     },
     "output_type": "display_data"
    }
   ],
   "source": [
    "sns.violinplot(x='sentiment', data=train);"
   ]
  },
  {
   "cell_type": "code",
   "execution_count": 61,
   "id": "56e11525",
   "metadata": {},
   "outputs": [
    {
     "data": {
      "image/png": "[encoded data removed]",
      "text/plain": [
       "<Figure size 432x288 with 1 Axes>"
      ]
     },
     "metadata": {
      "needs_background": "light"
     },
     "output_type": "display_data"
    }
   ],
   "source": [
    "sns.violinplot(x='tweetid', data=train);"
   ]
  },
  {
   "cell_type": "code",
   "execution_count": 62,
   "id": "839b0bf4",
   "metadata": {},
   "outputs": [
    {
     "data": {
      "image/png": "[encoded data removed]",
      "text/plain": [
       "<Figure size 1080x1080 with 2 Axes>"
      ]
     },
     "metadata": {
      "needs_background": "light"
     },
     "output_type": "display_data"
    }
   ],
   "source": [
    "cols = 3\n",
    "rows = 3\n",
    "num_cols = train.select_dtypes(exclude='object').columns\n",
    "fig = plt.figure( figsize=(cols*5, rows*5))\n",
    "for i, col in enumerate(num_cols):\n",
    "    \n",
    "    ax=fig.add_subplot(rows,cols,i+1)\n",
    "    \n",
    "    sns.histplot(x = train[col], ax = ax)\n",
    "    \n",
    "fig.tight_layout()  \n",
    "plt.show()"
   ]
  },
  {
   "cell_type": "code",
   "execution_count": 63,
   "id": "e327b1cb",
   "metadata": {},
   "outputs": [
    {
     "data": {
      "text/plain": [
       "<AxesSubplot:xlabel='sentiment', ylabel='Count'>"
      ]
     },
     "execution_count": 63,
     "metadata": {},
     "output_type": "execute_result"
    },
    {
     "data": {
      "image/png": "[encoded data removed]",
      "text/plain": [
       "<Figure size 432x288 with 1 Axes>"
      ]
     },
     "metadata": {
      "needs_background": "light"
     },
     "output_type": "display_data"
    }
   ],
   "source": [
    "sns.histplot(x='sentiment', data=train, kde=True)"
   ]
  },
  {
   "cell_type": "code",
   "execution_count": 64,
   "id": "1b1db76d",
   "metadata": {},
   "outputs": [
    {
     "data": {
      "text/plain": [
       "<AxesSubplot:xlabel='tweetid', ylabel='Count'>"
      ]
     },
     "execution_count": 64,
     "metadata": {},
     "output_type": "execute_result"
    },
    {
     "data": {
      "image/png": "[encoded data removed]",
      "text/plain": [
       "<Figure size 432x288 with 1 Axes>"
      ]
     },
     "metadata": {
      "needs_background": "light"
     },
     "output_type": "display_data"
    }
   ],
   "source": [
    "sns.histplot(x='tweetid', data=train, kde=True)"
   ]
  },
  {
   "cell_type": "code",
   "execution_count": 65,
   "id": "19d3d00b",
   "metadata": {},
   "outputs": [
    {
     "data": {
      "image/png": "[encoded data removed]",
      "text/plain": [
       "<Figure size 432x288 with 1 Axes>"
      ]
     },
     "metadata": {
      "needs_background": "light"
     },
     "output_type": "display_data"
    }
   ],
   "source": [
    "sns.stripplot(x=train[\"sentiment\"]);"
   ]
  },
  {
   "cell_type": "code",
   "execution_count": 66,
   "id": "c41821aa",
   "metadata": {},
   "outputs": [
    {
     "data": {
      "text/plain": [
       "<AxesSubplot:xlabel='tweetid', ylabel='sentiment'>"
      ]
     },
     "execution_count": 66,
     "metadata": {},
     "output_type": "execute_result"
    },
    {
     "data": {
      "image/png": "[encoded data removed]",
      "text/plain": [
       "<Figure size 432x288 with 2 Axes>"
      ]
     },
     "metadata": {
      "needs_background": "light"
     },
     "output_type": "display_data"
    }
   ],
   "source": [
    "sns.heatmap(pd.crosstab(train['sentiment'], train['tweetid']))"
   ]
  },
  {
   "cell_type": "markdown",
   "id": "2643114f",
   "metadata": {},
   "source": [
    "Even though we removed the hastags but we would want to include them in the EDA since they are common use texts in twitter"
   ]
  },
  {
   "cell_type": "code",
   "execution_count": 49,
   "id": "d3712e1c",
   "metadata": {},
   "outputs": [],
   "source": [
    "#EXTRACT HASTAGS\n",
    "def hashtag_extact(tweets):\n",
    "    hashtags=[]\n",
    "    #loop words in the tweet\n",
    "    for tweet in tweets:\n",
    "        ht=re.findall(r\"#(\\w+)\",tweet)\n",
    "        hashtags.append(ht)\n",
    "    return hashtags"
   ]
  },
  {
   "cell_type": "markdown",
   "id": "03d16ba1",
   "metadata": {},
   "source": [
    "Now we extract the hashtags from each of the four sentiment classes"
   ]
  },
  {
   "cell_type": "code",
   "execution_count": null,
   "id": "7928d9a2",
   "metadata": {},
   "outputs": [],
   "source": []
  },
  {
   "cell_type": "code",
   "execution_count": null,
   "id": "2d7342a0",
   "metadata": {},
   "outputs": [],
   "source": []
  },
  {
   "cell_type": "markdown",
   "id": "ed9b579d",
   "metadata": {},
   "source": [
    "From the train data we sport the null values from hashtags, mention and url"
   ]
  },
  {
   "cell_type": "code",
   "execution_count": null,
   "id": "c0a95298",
   "metadata": {},
   "outputs": [],
   "source": []
  },
  {
   "cell_type": "markdown",
   "id": "1d392ab8",
   "metadata": {},
   "source": [
    "\n",
    "\n",
    "\n",
    "COUNT OF TEXTS IN EACH CATEGORY"
   ]
  },
  {
   "cell_type": "code",
   "execution_count": 69,
   "id": "1d5d9848",
   "metadata": {},
   "outputs": [
    {
     "name": "stdout",
     "output_type": "stream",
     "text": [
      "IN TRAIN SET...\n"
     ]
    },
    {
     "data": {
      "text/html": [
       "<style type=\"text/css\">\n",
       "#T_ec2d5_row0_col0 {\n",
       "  background-color: #796eb2;\n",
       "  color: #f1f1f1;\n",
       "}\n",
       "#T_ec2d5_row0_col1, #T_ec2d5_row1_col0 {\n",
       "  background-color: #3f007d;\n",
       "  color: #f1f1f1;\n",
       "}\n",
       "#T_ec2d5_row1_col1 {\n",
       "  background-color: #c9c9e2;\n",
       "  color: #000000;\n",
       "}\n",
       "#T_ec2d5_row2_col0 {\n",
       "  background-color: #c6c7e1;\n",
       "  color: #000000;\n",
       "}\n",
       "#T_ec2d5_row2_col1 {\n",
       "  background-color: #eceaf3;\n",
       "  color: #000000;\n",
       "}\n",
       "#T_ec2d5_row3_col0, #T_ec2d5_row3_col1 {\n",
       "  background-color: #fcfbfd;\n",
       "  color: #000000;\n",
       "}\n",
       "</style>\n",
       "<table id=\"T_ec2d5_\">\n",
       "  <thead>\n",
       "    <tr>\n",
       "      <th class=\"blank level0\" >&nbsp;</th>\n",
       "      <th class=\"col_heading level0 col0\" >sentiment</th>\n",
       "      <th class=\"col_heading level0 col1\" >cleaned_tweets</th>\n",
       "    </tr>\n",
       "  </thead>\n",
       "  <tbody>\n",
       "    <tr>\n",
       "      <th id=\"T_ec2d5_level0_row0\" class=\"row_heading level0 row0\" >2</th>\n",
       "      <td id=\"T_ec2d5_row0_col0\" class=\"data row0 col0\" >1</td>\n",
       "      <td id=\"T_ec2d5_row0_col1\" class=\"data row0 col1\" >8530</td>\n",
       "    </tr>\n",
       "    <tr>\n",
       "      <th id=\"T_ec2d5_level0_row1\" class=\"row_heading level0 row1\" >3</th>\n",
       "      <td id=\"T_ec2d5_row1_col0\" class=\"data row1 col0\" >2</td>\n",
       "      <td id=\"T_ec2d5_row1_col1\" class=\"data row1 col1\" >3640</td>\n",
       "    </tr>\n",
       "    <tr>\n",
       "      <th id=\"T_ec2d5_level0_row2\" class=\"row_heading level0 row2\" >1</th>\n",
       "      <td id=\"T_ec2d5_row2_col0\" class=\"data row2 col0\" >0</td>\n",
       "      <td id=\"T_ec2d5_row2_col1\" class=\"data row2 col1\" >2353</td>\n",
       "    </tr>\n",
       "    <tr>\n",
       "      <th id=\"T_ec2d5_level0_row3\" class=\"row_heading level0 row3\" >0</th>\n",
       "      <td id=\"T_ec2d5_row3_col0\" class=\"data row3 col0\" >-1</td>\n",
       "      <td id=\"T_ec2d5_row3_col1\" class=\"data row3 col1\" >1296</td>\n",
       "    </tr>\n",
       "  </tbody>\n",
       "</table>\n"
      ],
      "text/plain": [
       "<pandas.io.formats.style.Styler at 0x2fa624e2160>"
      ]
     },
     "execution_count": 69,
     "metadata": {},
     "output_type": "execute_result"
    }
   ],
   "source": [
    "print(\"IN TRAIN SET...\")\n",
    "temp1 = df.groupby('sentiment').count()['cleaned_tweets'].reset_index().sort_values(by='cleaned_tweets',ascending=False)\n",
    "temp1.style.background_gradient(cmap='Purples')"
   ]
  },
  {
   "cell_type": "markdown",
   "id": "bf603391",
   "metadata": {},
   "source": [
    "### -----"
   ]
  },
  {
   "cell_type": "code",
   "execution_count": null,
   "id": "22e619dc",
   "metadata": {},
   "outputs": [],
   "source": [
    "# Calculating plot values\n",
    "a = news_df['sentiment'].count()\n",
    "b = anti_df['sentiment'].count()\n",
    "c = neutral_df['sentiment'].count()\n",
    "d = pro_df['sentiment'].count()\n",
    "print(f\"news: {a}\")\n",
    "print(f\"anti: {b}\")\n",
    "print(f\"neutral: {c}\")\n",
    "print(f\"pro: {d}\")"
   ]
  },
  {
   "cell_type": "code",
   "execution_count": null,
   "id": "80974830",
   "metadata": {},
   "outputs": [],
   "source": [
    "# creating the dataset\n",
    "\n",
    "courses = [\"Pro\", \"News\", \"Neutral\", \"Anti\"]\n",
    "values = [8530, 3640, 2353, 1296]\n",
    "  \n",
    "fig = plt.figure(figsize = (10, 5))\n",
    " \n",
    "# creating the bar plot\n",
    "plt.bar(courses, values,\n",
    "        width = 0.4)\n",
    " \n",
    "plt.xlabel(\"sentiment\")\n",
    "plt.ylabel(\"num of sentiment\")\n",
    "plt.title('Sentiments',fontweight='bold')\n",
    "plt.show()"
   ]
  },
  {
   "cell_type": "markdown",
   "id": "5c354c05",
   "metadata": {},
   "source": [
    "Looking at the bar graph above:\n",
    "* In descending order Pro, News, Neutral, Anti\n",
    "* Most tweets are pro climate change, which are more than double all the other sentiments \n",
    "* Tweets about news on climate change are the second highest\n",
    "* 3rd highest tweets are neutral\n",
    "* 4th and last tweets are anti-climate change"
   ]
  },
  {
   "cell_type": "code",
   "execution_count": null,
   "id": "03503f7e",
   "metadata": {},
   "outputs": [],
   "source": [
    "# Define Label\n",
    "labels= [\"Pro\", \"News\", \"Neutral\", \"Anti\"]\n",
    "\n",
    "colors=['blue', 'yellow', 'green', 'red']\n",
    "\n",
    "# Define Data Coordinates\n",
    "sizes= np.array([8530, 3640, 2353, 1296])\n",
    "\n",
    "# Define plot size\n",
    "plt.figure(figsize=(6,6))\n",
    "\n",
    "# Plot, Explosion Value\n",
    "plt.pie(sizes,labels=labels, colors=colors, startangle=90, shadow=True,explode=(0.1, 0.1, 0.1, 0.1), autopct='%1.2f%%')\n",
    "\n",
    "# Define legend\n",
    "plt.legend()\n",
    "\n",
    "# Add title\n",
    "plt.title('Climate change', fontweight='bold')\n",
    "\n",
    "plt.axis('equal')\n",
    "\n",
    "# Display\n",
    "plt.show()"
   ]
  },
  {
   "cell_type": "markdown",
   "id": "5c6c6faa",
   "metadata": {},
   "source": [
    "Looking at the above pie chart:\n",
    "* We see that pro tweets make up the majority with 53.92%\n",
    "* Followed by news 23.01%, neutral 14.87% and lastly 8.19%"
   ]
  },
  {
   "cell_type": "code",
   "execution_count": 51,
   "id": "2c7c7eb8",
   "metadata": {},
   "outputs": [
    {
     "name": "stdout",
     "output_type": "stream",
     "text": [
      "kurtosis\n",
      "1.3780209493662259\n",
      "-0.21216096570679843\n",
      "3.131003424734134\n",
      "-0.2775377054567816\n"
     ]
    }
   ],
   "source": [
    "# Checking for outliers\n",
    "aa = anti_df[\"text_length\"].kurtosis()\n",
    "bb = neutral_df[\"text_length\"].kurtosis()\n",
    "cc = pro_df[\"text_length\"].kurtosis()\n",
    "dd = news_df[\"text_length\"].kurtosis()\n",
    "\n",
    "print(f\"kurtosis\\n{aa}\\n{bb}\\n{cc}\\n{dd}\")"
   ]
  },
  {
   "cell_type": "markdown",
   "id": "986c7ee9",
   "metadata": {},
   "source": [
    "Looking at the above calculations:\n",
    "* No outliers in all text_length columns from the 4 tables above\n",
    "* Thus we can use the mean"
   ]
  },
  {
   "cell_type": "code",
   "execution_count": 52,
   "id": "d25cf352",
   "metadata": {},
   "outputs": [
    {
     "name": "stdout",
     "output_type": "stream",
     "text": [
      "text_sum\n",
      "anti_climate_change: 153401\n",
      "neutral_climate_change: 250213\n",
      "news_climate_change: 406556\n",
      "pro_climate_change:1051535\n",
      " \n",
      "text_average\n",
      "anti_climate_change: 118.36496913580247\n",
      "neutral_climate_change: 106.33786655333617\n",
      "news_climate_change: 111.6912087912088\n",
      "pro_climate_change:123.2749120750293\n"
     ]
    }
   ],
   "source": [
    "# Calculating average word length\n",
    "f = anti_df[\"text_length\"].mean()\n",
    "ff = neutral_df[\"text_length\"].mean()\n",
    "fff = news_df[\"text_length\"].mean()\n",
    "ffff = pro_df[\"text_length\"].mean()\n",
    "\n",
    "# Calculating average word length\n",
    "k = anti_df[\"text_length\"].sum()\n",
    "kk = neutral_df[\"text_length\"].sum()\n",
    "kkk = news_df[\"text_length\"].sum()\n",
    "kkkk = pro_df[\"text_length\"].sum()\n",
    "\n",
    "\n",
    "\n",
    "print(f\"text_sum\\nanti_climate_change: {k}\\nneutral_climate_change: {kk}\\nnews_climate_change: {kkk}\\npro_climate_change:{kkkk}\")\n",
    "print(\" \")\n",
    "print(f\"text_average\\nanti_climate_change: {f}\\nneutral_climate_change: {ff}\\nnews_climate_change: {fff}\\npro_climate_change:{ffff}\")"
   ]
  },
  {
   "cell_type": "markdown",
   "id": "a9061da5",
   "metadata": {},
   "source": [
    "Looking at the above calculations:\n",
    "* In terms of pure magnitude of words:\n",
    "    * Pro tweets are still the largest, followed by news, neutral and lastly the least amount with anti\n",
    "* In terms of average words:\n",
    "    * Pro tweets still lead by approximately 101, followed by anti approximately (98), then neutral (88), an lastly news (83)\n",
    "    * but anti tweets are now second\n",
    "    * this indicates people who are pro climate change and those who are anti climate change are more interested in\n",
    "    climate change\n",
    "    * This makes as pro people want to convince whereas anti people want to disproof it"
   ]
  },
  {
   "cell_type": "markdown",
   "id": "5af385ee",
   "metadata": {},
   "source": [
    "## 6. Splitting the data\n",
    "<a id='split'></a>\n",
    "[Back to table of contents](#toc)"
   ]
  },
  {
   "cell_type": "code",
   "execution_count": null,
   "id": "ea635df3",
   "metadata": {},
   "outputs": [],
   "source": []
  },
  {
   "cell_type": "markdown",
   "id": "784ddf12",
   "metadata": {},
   "source": [
    "## 7. Feature extraction\n",
    "<a id='vect'></a>\n",
    "[Back to table of contents](#toc)"
   ]
  },
  {
   "cell_type": "code",
   "execution_count": null,
   "id": "8e13d8f4",
   "metadata": {},
   "outputs": [],
   "source": []
  },
  {
   "cell_type": "markdown",
   "id": "3065d211",
   "metadata": {},
   "source": [
    "## 8. Model training\n",
    "<a id='train'></a>\n",
    "[Back to table of contents](#toc)"
   ]
  },
  {
   "cell_type": "code",
   "execution_count": null,
   "id": "cca989fb",
   "metadata": {},
   "outputs": [],
   "source": []
  }
 ],
 "metadata": {
  "kernelspec": {
   "display_name": "Python 3",
   "language": "python",
   "name": "python3"
  },
  "language_info": {
   "codemirror_mode": {
    "name": "ipython",
    "version": 3
   },
   "file_extension": ".py",
   "mimetype": "text/x-python",
   "name": "python",
   "nbconvert_exporter": "python",
   "pygments_lexer": "ipython3",
   "version": "3.8.8"
  }
 },
 "nbformat": 4,
 "nbformat_minor": 5
}
